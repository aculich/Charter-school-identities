{
 "cells": [
  {
   "cell_type": "code",
   "execution_count": 1,
   "metadata": {},
   "outputs": [],
   "source": [
    "#!/usr/bin/env python\n",
    "# -*- coding: UTF-8"
   ]
  },
  {
   "cell_type": "markdown",
   "metadata": {},
   "source": [
    "# Parsing & Categorizing HTML from `wget` run!"
   ]
  },
  {
   "cell_type": "markdown",
   "metadata": {},
   "source": [
    "## Initializing"
   ]
  },
  {
   "cell_type": "code",
   "execution_count": 2,
   "metadata": {},
   "outputs": [],
   "source": [
    "# import necessary libraries\n",
    "import os, re # for navigating file trees and working with strings\n",
    "import csv # for reading in CSV files\n",
    "from glob import glob # for finding files within nested folders\n",
    "import json, pickle # For saving a loading dictionaries, etc. from file with JSON and pickle formats\n",
    "from datetime import datetime # For timestamping files\n",
    "import sys # For working with user input\n",
    "from nltk.stem.porter import PorterStemmer # an approximate method of stemming words\n",
    "stemmer = PorterStemmer()\n",
    "from nltk import word_tokenize, sent_tokenize # widely used text tokenizer\n",
    "import urllib, urllib.request # for testing pages\n",
    "\n",
    "# Import parser\n",
    "from bs4 import BeautifulSoup # BS reads and parses even poorly/unreliably coded HTML \n",
    "from bs4.element import Comment # helps with detecting inline/junk tags when parsing with BS\n",
    "import lxml # for fast HTML parsing with BS\n",
    "bsparser = \"lxml\"\n"
   ]
  },
  {
   "cell_type": "code",
   "execution_count": 3,
   "metadata": {},
   "outputs": [
    {
     "data": {
      "text/plain": [
       "'\\n# Set parser for BeautifulSoup to use depending on whether code is running in notebook or not \\n# (notebooks don\\'t have faster lxml parser installed)\\nif notebook:\\n    bsparser = \"html.parser\"\\nelse:\\n    bsparser = \"lxml\"\\n'"
      ]
     },
     "execution_count": 3,
     "metadata": {},
     "output_type": "execute_result"
    }
   ],
   "source": [
    "# ### Set script options\n",
    "\n",
    "Debug = True # Set to \"True\" for extra progress reports while algorithms run\n",
    "notebook = True # Use different file paths depending on whether files are being accessed from shell (False) or within a Jupyter notebook (True)\n",
    "usefile = True # Set to \"True\" if loading from file a dicts_list to add to. Confirms with user input first!\n",
    "\n",
    "if notebook:\n",
    "    usefile = False # Prompting user for input file is only useful in command-line\n",
    "\n",
    "inline_tags = [\"b\", \"big\", \"i\", \"small\", \"tt\", \"abbr\", \"acronym\", \"cite\", \"dfn\",\n",
    "               \"em\", \"kbd\", \"strong\", \"samp\", \"var\", \"bdo\", \"map\", \"object\", \"q\",\n",
    "               \"span\", \"sub\", \"sup\"] # this list helps with eliminating junk tags when parsing HTML\n",
    "\n",
    "\"\"\"\n",
    "# Set parser for BeautifulSoup to use depending on whether code is running in notebook or not \n",
    "# (notebooks don't have faster lxml parser installed)\n",
    "if notebook:\n",
    "    bsparser = \"html.parser\"\n",
    "else:\n",
    "    bsparser = \"lxml\"\n",
    "\"\"\""
   ]
  },
  {
   "cell_type": "code",
   "execution_count": 4,
   "metadata": {},
   "outputs": [],
   "source": [
    "# ### Set directories\n",
    "\n",
    "if notebook:\n",
    "    dir_prefix = \"/home/jovyan/work/\"\n",
    "else:\n",
    "    dir_prefix = \"/vol_b/data/\"\n",
    "    \n",
    "wget_dataloc = dir_prefix + \"wget/parll_wget/\" #data location for schools downloaded with wget in parallel\n",
    "micro_sample13 = dir_prefix + \"Charter-school-identities/data/micro-sample13_coded.csv\" #data location for random micro-sample of 300 US charter schools\n",
    "full_schooldata = dir_prefix + \"Charter-school-identities/data/charter_URLs_2014.csv\" #data location for 2014 population of US charter schools\n",
    "save_dir = dir_prefix + \"Charter-school-identities/data/\"\n",
    "\n",
    "example_page = \"https://westlakecharter.com/about/\"\n",
    "example_schoolname = \"TWENTY-FIRST_CENTURY_NM\"\n",
    "example_folder = wget_dataloc + \"TWENTY-FIRST_CENTURY_NM/\"\n",
    "example_file = dir_prefix + \"wget/example_file.html\" #example_folder + \"21stcenturypa.com/wp/default?page_id=27.tmp.html\""
   ]
  },
  {
   "cell_type": "code",
   "execution_count": 5,
   "metadata": {},
   "outputs": [],
   "source": [
    "# Set input file, if any\n",
    "if usefile and not notebook:\n",
    "    print(\"\\nWould you like to load from file a list of dictionaries to add to? (Y/N)\")\n",
    "    answer = input()\n",
    "    if answer == \"Y\":\n",
    "        print(\"Please indicate file path for dictionary list file.\")\n",
    "        answer2 = input()\n",
    "        if os.path.exists(answer2):\n",
    "            input_file = answer2\n",
    "            usefile = True\n",
    "        else:\n",
    "            print(\"Invalid file path. Aborting script.\")\n",
    "            sys.exit()\n",
    "\n",
    "    elif answer == \"N\":\n",
    "        print(\"OK! This script will create a new file for this list of dictionaries.\")\n",
    "        usefile = False\n",
    "    \n",
    "    else:\n",
    "        print(\"Response not interpretable. Aborting script.\")\n",
    "        sys.exit()"
   ]
  },
  {
   "cell_type": "code",
   "execution_count": 6,
   "metadata": {},
   "outputs": [],
   "source": [
    "# ### Set parsing keywords\n",
    "\n",
    "keywords = ['values', 'academics', 'skills', 'purpose',\n",
    "                       'direction', 'mission', 'vision', 'vision', 'mission', 'our purpose',\n",
    "                       'our ideals', 'ideals', 'our cause', 'curriculum','curricular',\n",
    "                       'method', 'pedagogy', 'pedagogical', 'approach', 'model', 'system',\n",
    "                       'structure','philosophy', 'philosophical', 'beliefs', 'believe',\n",
    "                       'principles', 'creed', 'credo', 'values','moral', 'history', 'our story',\n",
    "                       'the story', 'school story', 'background', 'founding', 'founded',\n",
    "                       'established','establishment', 'our school began', 'we began',\n",
    "                       'doors opened', 'school opened', 'about us', 'our school', 'who we are',\n",
    "                       'our identity', 'profile', 'highlights']\n",
    "\n",
    "mission_keywords = ['mission','vision', 'vision:', 'mission:', 'our purpose', 'our ideals', 'ideals:', 'our cause', 'cause:', 'goals', 'objective']\n",
    "curriculum_keywords = ['curriculum', 'curricular', 'program', 'method', 'pedagogy', 'pedagogical', 'approach', 'model', 'system', 'structure']\n",
    "philosophy_keywords = ['philosophy', 'philosophical', 'beliefs', 'believe', 'principles', 'creed', 'credo', 'value',  'moral']\n",
    "history_keywords = ['history', 'story','our story', 'the story', 'school story', 'background', 'founding', 'founded', 'established', 'establishment', 'our school began', 'we began', 'doors opened', 'school opened']\n",
    "about_keywords =  ['about us', 'our school', 'who we are', 'overview', 'general information', 'our identity', 'profile', 'highlights']\n",
    "\n",
    "mission_keywords = set(stemmer.stem(word) for word in mission_keywords)\n",
    "curriculum_keywords = set(stemmer.stem(word) for word in curriculum_keywords)\n",
    "philosophy_keywords = set(stemmer.stem(word) for word in philosophy_keywords)\n",
    "history_keywords = set(stemmer.stem(word) for word in history_keywords)\n",
    "about_keywords =  set(stemmer.stem(word) for word in about_keywords)\n"
   ]
  },
  {
   "cell_type": "code",
   "execution_count": 7,
   "metadata": {},
   "outputs": [],
   "source": [
    "# ### Define (non-parsing) helper functions\n",
    "\n",
    "def get_vars(data):\n",
    "    \"\"\"Defines variable names based on the data source called.\"\"\"\n",
    "    \n",
    "    if data==full_schooldata:\n",
    "        URL_variable = \"TRUE_URL\"\n",
    "        NAME_variable = \"SCH_NAME\"\n",
    "        ADDR_variable = \"ADDRESS\"\n",
    "    \n",
    "    elif data==micro_sample13:\n",
    "        URL_variable = \"URL\"\n",
    "        NAME_variable = \"SCHNAM\"\n",
    "        ADDR_variable = \"ADDRESS\"\n",
    "    \n",
    "    else:\n",
    "        try:\n",
    "            print(\"Error processing variables from data file \" + str(data) + \"!\")\n",
    "        except Exception as e:\n",
    "            print(e)\n",
    "            print(\"ERROR: No data source established!\\n\")\n",
    "    \n",
    "    return(URL_variable,NAME_variable,ADDR_variable)\n",
    "\n",
    "\n",
    "def tag_visible(element):\n",
    "    \"\"\"Returns false if a web element has a non-visible tag, \n",
    "    i.e. one site visitors wouldn't actually read--and thus one we don't want to parse\"\"\"\n",
    "    \n",
    "    if element.parent.name in ['style', 'script', 'head', 'title', 'meta', '[document]']:\n",
    "        return False\n",
    "    if isinstance(element, Comment):\n",
    "        return False\n",
    "    return True\n",
    "\n",
    "\n",
    "def webtext_from_files(datalocation):\n",
    "    \"\"\"Concatenate and return a single string from all webtext (with .txt format) in datalocation\"\"\"\n",
    "    \n",
    "    string = \"\"\n",
    "    for root, dirs, files in os.walk(datalocation):\n",
    "        for file in files:\n",
    "            if file.endswith(\".txt\"):\n",
    "                fileloc = open(datalocation+file, \"r\")\n",
    "                string = string + (fileloc.read())\n",
    "    return string\n",
    "\n",
    "\n",
    "def remove_spaces(file_path):\n",
    "    \"\"\"Remove spaces from text file at file_path\"\"\"\n",
    "    \n",
    "    words = [x for x in open(file_path).read().split() if x != \"\"]\n",
    "    text = \"\"\n",
    "    for word in words:\n",
    "        text += word + \" \"\n",
    "    return text\n",
    "\n",
    "\n",
    "def save_to_file(dicts_list, file, mode):\n",
    "    \"\"\"Saves dicts_list to file using JSON or pickle format (whichever was specified).\"\"\"\n",
    "    \n",
    "    file = str(file)\n",
    "    \n",
    "    try:\n",
    "        if mode==\"JSON\":\n",
    "            if not file.endswith(\".json\"):\n",
    "                file += \".json\"\n",
    "            with open(file, 'wb') as outfile:\n",
    "                json.dump(dicts_list, outfile)\n",
    "            #pickle.dump(dicts_list, outfile)\n",
    "                print(dicts_list + \" successfully saved to \" + file + \"in JSON format!\\n\")\n",
    "\n",
    "        elif mode==\"pickle\":\n",
    "            if not file.endswith(\".pickle\"):\n",
    "                file += \".pickle\"\n",
    "            with open(file, 'wb') as outfile:\n",
    "                pickle.dump(dicts_list, outfile)\n",
    "                print(dicts_list + \" successfully saved to \" + file + \" in pickle format!\\n\")\n",
    "\n",
    "        else:\n",
    "            print(\"ERROR! Save failed due to improper arguments. These are: file, object to be saved, and file format to save in.\\n\\\n",
    "                  Specify either 'JSON' or 'pickle' as third argument ('mode' or file format) when calling this function.\")\n",
    "    \n",
    "    except Exception as e:\n",
    "        print(e)\n",
    "    \n",
    "\n",
    "def load_file(file):\n",
    "    \"\"\"Loads dicts_list (or whatever) from file, using either JSON or pickle format. \n",
    "    The created object should be assigned when called.\"\"\"\n",
    "    \n",
    "    file = str(file)\n",
    "    \n",
    "    with open(file,'rb') as infile:\n",
    "        if file.endswith(\".json\"):\n",
    "            var = json.load(infile)\n",
    "        if file.endswith(\".pickle\"):\n",
    "            var = pickle.load(infile)\n",
    "        print(file + \" successfully loaded!\\n\")\n",
    "    return var\n"
   ]
  },
  {
   "cell_type": "code",
   "execution_count": 8,
   "metadata": {
    "scrolled": true
   },
   "outputs": [
    {
     "name": "stdout",
     "output_type": "stream",
     "text": [
      "['', 'Contact Us: 2680 Mabry Dr. 95835 (916) 567-5760 | admin@westlakecharter.com', 'Staff Login', 'About', 'Administration & Support Staff  Employment Opportunities  Business Services  Admission & Enrollment Information  Supply Donations  Hot Lunch Payments  Hot Lunch Menu', 'Board', 'Board Policies  Board Committees  Board Documents', 'WCS', 'Infinite Campus Login  School Dismissal Manager  Ways to Westlake', 'Teachers  BASE  WAVE', 'Meetings  Contact Us  Volunteer Opportunities  Volunteer Hours  Log Volunteer Hours  Spirit Store', 'Calendars', '17/18 School Calendar  18/19 School Calendar', 'About', 'About  Aimee Wells  2013-09-18T18:36:35+00:00', 'About Westlake Charter Schools  Key School Features', 'International Focus  Thematic Curriculum  Artistic Development  Foreign Language Instruction  School-Wide Enrichment Model', 'Core Values', 'Respect  Excellence  Responsibility  Reflective  Global Perspective  Stewardship  Perseverance  Inquisitive  Joyful Learning  Gratitude', 'Calendars, Schedules, Handbooks and More', 'Family Handbook  2017/18 School Calendar  2017/18 Bell Schedule  WCS Charter  Strategic Plan', 'Westlake Charter School is a K-8th grade public elementary school created by parents and educators in Natomas. We opened our doors in 2005 and continue to grow serving more and more students each year. WCS’s primary mission is to demonstrate what is possible when school and community collaborate to create inspiring adults with the academic and social-emotional readiness to lead as Global Citizens.  Westlake Charter School students are EXPLORERS! Our curriculum focuses on diversity and appreciation of different cultures, while promoting academic excellence and foreign language acquisition. We offer various specialty classes to all of our students including Art, Physical Education, and Spanish. Our middle school program focuses on Math, Science and Technology and is executed through the use of technology. Westlake Charter School has small class sizes of approximately 22-24 students in K-3rd grade and 29 students in 4th-8th grade.  First time visitors to Westlake Charter School often remark, “What a warm and inviting school!” Creating a school that is caring and open is absolutely critical in working successfully with our children and families. Students who feel safe, secure, and appreciated gain a love of learning and will be successful scholars.  Westlake Charter School’s professional staff is relentless in seeking and trying research-based best practices that engage every student. Our lessons are hands-on and differentiated to meet the diverse needs of all students. Our teachers display a never-ending commitment to improving their own expertise. Furthermore, we would not be as successful without the support and involvement of our parents. Our parent group is outstanding in helping us achieve our goals by volunteering their time in class, fundraising for our unique programs, and providing endless words of encouragement and support. Our school team is second to none!', 'Recent', 'Westlake Weekly – December 15, 2017  December 15th, 2017', 'Westlake Weekly – December 8, 2017  December 8th, 2017', 'Westlake Weekly – December 1, 2017  December 1st, 2017', 'Westlake Weekly – November 17, 2017  November 17th, 2017', 'Westlake Weekly – November 9, 2017  November 9th, 2017', 'Westlake Weekly – November 3, 2017  November 3rd, 2017', 'Contact Info', '2680 Mabry Dr. 95835  Phone: (916) 567-5760  Fax: (916) 567-5769  Email: admin@westlakecharter.com', 'Copyright 2015 Westlake Charter | All Rights Reserved | Contact Us', ''] \n",
      "\n",
      " ['Contact Us: 2680 Mabry Dr. 95835 (916) 567-5760', '|', 'admin@westlakecharter.com', 'Staff Login', 'About', 'Administration & Support Staff', 'Employment Opportunities', 'Business Services', 'Admission & Enrollment Information', 'Supply Donations', 'Hot Lunch Payments', 'Hot Lunch Menu', 'Board', 'Board Policies', 'Board Committees', 'Board Documents', 'WCS', 'Infinite Campus Login', 'School Dismissal Manager', 'Ways to Westlake', 'Teachers', 'BASE', 'WAVE', 'Meetings', 'Contact Us', 'Volunteer Opportunities', 'Volunteer Hours', 'Log Volunteer Hours', 'Spirit Store', 'Calendars', '17/18 School Calendar', '18/19 School Calendar', 'About', 'About', 'Aimee Wells', '2013-09-18T18:36:35+00:00', 'About Westlake Charter Schools', 'Key School Features', 'International Focus', 'Thematic Curriculum', 'Artistic Development', 'Foreign Language Instruction', 'School-Wide Enrichment Model', 'Core Values', 'Respect', 'Excellence', 'Responsibility', 'Reflective', 'Global Perspective', 'Stewardship', 'Perseverance', 'Inquisitive', 'Joyful Learning', 'Gratitude', 'Calendars, Schedules, Handbooks and More', 'Family Handbook', '2017/18 School Calendar', '2017/18 Bell Schedule', 'WCS Charter', 'Strategic Plan', 'Westlake Charter School is a K-8th grade public elementary school created by parents and educators in Natomas. We opened our doors in 2005 and continue to grow serving more and more students each year. WCS’s primary mission is to demonstrate what is possible when school and community collaborate to create inspiring adults with the academic and social-emotional readiness to lead as Global Citizens.', 'Westlake Charter School students are EXPLORERS! Our curriculum focuses on diversity and appreciation of different cultures, while promoting academic excellence and foreign language acquisition. We offer various specialty classes to all of our students including Art, Physical Education, and Spanish. Our middle school program focuses on Math, Science and Technology and is executed through the use of technology. Westlake Charter School has small class sizes of approximately 22-24 students in K-3rd grade and 29 students in 4th-8th grade.', 'First time visitors to Westlake Charter School often remark, “What a warm and inviting school!” Creating a school that is caring and open is absolutely critical in working successfully with our children and families. Students who feel safe, secure, and appreciated gain a love of learning and will be successful scholars.', 'Westlake Charter School’s professional staff is relentless in seeking and trying research-based best practices that engage every student. Our lessons are hands-on and differentiated to meet the diverse needs of all students. Our teachers display a never-ending commitment to improving their own expertise. Furthermore, we would not be as successful without the support and involvement of our parents. Our parent group is outstanding in helping us achieve our goals by volunteering their time in class, fundraising for our unique programs, and providing endless words of encouragement and support. Our school team is second to none!', 'Recent', 'Westlake Weekly – December 15, 2017', 'December 15th, 2017', 'Westlake Weekly – December 8, 2017', 'December 8th, 2017', 'Westlake Weekly – December 1, 2017', 'December 1st, 2017', 'Westlake Weekly – November 17, 2017', 'November 17th, 2017', 'Westlake Weekly – November 9, 2017', 'November 9th, 2017', 'Westlake Weekly – November 3, 2017', 'November 3rd, 2017', 'Contact Info', '2680 Mabry Dr. 95835', 'Phone: (916) 567-5760', 'Fax: (916) 567-5769', 'Email: ', 'admin@westlakecharter.com', 'Copyright 2015 Westlake Charter | All Rights Reserved | ', 'Contact Us']\n"
     ]
    }
   ],
   "source": [
    "# ### Compare parsing by newlines vs. by HTML tags\n",
    "\n",
    "def parseurl_by_newlines(urlstring):\n",
    "    \"\"\"Uses BS to parse HTML from a given URL and looks for three newlines to separate chunks of text.\"\"\"\n",
    "    \n",
    "    # Read HTML from a given url:\n",
    "    with urllib.request.urlopen(urlstring) as url:\n",
    "        s = url.read()\n",
    "    \n",
    "    # Parse raw text from website body:\n",
    "    soup = BeautifulSoup(s, bsparser)\n",
    "    texts = soup.findAll(text=True)\n",
    "    visible_texts = filter(tag_visible, texts)  \n",
    "    webtext = u\" \".join(t.strip() for t in visible_texts)\n",
    "    \n",
    "    return re.split(r'\\s{3,}', webtext)\n",
    "\n",
    "\n",
    "def parseurl_by_tags(urlstring):\n",
    "    \"\"\"Cleans HTML by removing inline tags, ripping out non-visible tags, \n",
    "    replacing paragraph tags with a random string, and finally using this to separate HTML into chunks.\n",
    "    Reads in HTML from the web using a given website address, urlstring.\"\"\"\n",
    "    \n",
    "    with urllib.request.urlopen(urlstring) as url:\n",
    "        HTML_page = url.read()\n",
    "\n",
    "    random_string = \"\".join(map(chr, os.urandom(75))) # Create random string for tag delimiter\n",
    "    soup = BeautifulSoup(HTML_page, bsparser)\n",
    "    \n",
    "    [s.extract() for s in soup(['style', 'script', 'head', 'title', 'meta', '[document]'])] # Remove non-visible tags\n",
    "    for it in inline_tags:\n",
    "        [s.extract() for s in soup(\"</\" + it + \">\")] # Remove inline tags\n",
    "    \n",
    "    visible_text = soup.getText(random_string).replace(\"\\n\", \"\") # Replace \"p\" tags with random string, eliminate newlines\n",
    "    visible_text = list(elem.replace(\"\\t\",\"\") for elem in visible_text.split(random_string)) # Split text into list using random string while eliminating tabs\n",
    "    visible_text = list(filter(lambda vt: vt.split() != [], visible_text)) # Eliminate empty elements\n",
    "    # Consider joining list elements together with newline in between by prepending with: \"\\n\".join\n",
    "    \n",
    "    return(visible_text)\n",
    "\n",
    "\n",
    "# Text chunking accuracy of parsing by tags is superior to parsing by newlines:\n",
    "# Compare each of these with the browser-displayed content of example_page:\n",
    "if Debug:\n",
    "    print(parseurl_by_newlines(example_page),\"\\n\\n\",parseurl_by_tags(example_page))\n",
    "    "
   ]
  },
  {
   "cell_type": "code",
   "execution_count": 9,
   "metadata": {},
   "outputs": [],
   "source": [
    "# ### Define parsing helper functions\n",
    "\n",
    "def parsefile_by_tags(HTML_file):\n",
    "    \n",
    "    \"\"\"Cleans HTML by removing inline tags, ripping out non-visible tags, \n",
    "    replacing paragraph tags with a random string, and finally using this to separate HTML into chunks.\n",
    "    Reads in HTML from storage using a given filename, HTML_file.\"\"\"\n",
    "\n",
    "    random_string = \"\".join(map(chr, os.urandom(75))) # Create random string for tag delimiter\n",
    "    soup = BeautifulSoup(open(HTML_file), bsparser)\n",
    "    \n",
    "    [s.extract() for s in soup(['style', 'script', 'head', 'title', 'meta', '[document]'])] # Remove non-visible tags\n",
    "    for it in inline_tags:\n",
    "        [s.extract() for s in soup(\"</\" + it + \">\")] # Remove inline tags\n",
    "    \n",
    "    visible_text = soup.getText(random_string).replace(\"\\n\", \"\") # Replace \"p\" tags with random string, eliminate newlines\n",
    "    visible_text = list(elem.replace(\"\\t\",\"\") for elem in visible_text.split(random_string)) # Split text into list using random string while eliminating tabs\n",
    "    visible_text = list(filter(lambda vt: vt.split() != [], visible_text)) # Eliminate empty elements\n",
    "    # Consider joining list elements together with newline in between by prepending with: \"\\n\".join\n",
    "\n",
    "    return(visible_text)\n"
   ]
  },
  {
   "cell_type": "code",
   "execution_count": 10,
   "metadata": {},
   "outputs": [
    {
     "name": "stdout",
     "output_type": "stream",
     "text": [
      "Output of parsefile_by_tags:\n",
      "\n",
      " ['About', 'Administration', 'Admissions', 'News', 'Charter School Information', 'Location', 'Frequently Asked Questions', 'Photos/Videos', 'School Facebook Page', 'Financial Reports', 'Nondiscrimination Policy', 'Academics', '5th Grade', '6th Grade', '7th Grade', '8th Grade', 'Associated Arts', 'Summer Reading >>', '5th Grade Reading List', '6th Grade Reading List', '7th Grade Reading List', '8th Grade Reading List', 'Parents', 'General Information', 'School Calendar >>', 'Download Calendar', 'PlusPortals', 'Before & After School Care', 'Forms >>', 'New Student Registration Packet', 'Free and Reduced Lunch', 'Student Handbook', 'School Uniform Order Form', 'School Supplies >>', '5th Grade', '6th Grade', '7th Grade', '8th Grade', 'Food Menu', 'PARCC', 'Inclement Weather Schedule', 'West Side Bus Routes', 'Athletics', 'Coach Contact Info', 'Athletics Schedule', 'Sports News', 'Sports Release', 'Physical Form', 'Student Athlete Contract', 'Student Athlete Grade Check', 'Committees', 'Parent Teacher Association >>', 'Contact Info', 'Agendas and Minutes', 'Governance Council >>', 'Contact Info', 'Agendas and Minutes', 'Foundation >>', 'Contact Info', 'Agendas and Minutes', 'Search', 'About', 'You are here:', 'Home', '/', 'About', 'About 21st Century', '21st Century is a charter middle school. We have been a school since 2000. We serve a diverse population of nearly 70 students per grade. All staff bring years of teaching experience into our classrooms, and many have worked together in other settings. We emphasize the core curriculum of Math, Science, Social Studies, and Language Arts, as well as learning experiences in the community, city, and state. Two Associated Arts courses are offered to each student every semester, including music and media programs.', 'History', '21st Century Public Academy was declared an official charter in 1999 by the Board of the Albuquerque Public Schools and State Department of Education. 40 6th grade students were permitted to enter the doors for the first time in September, 2000, making it officially the first charter middle school in Albuquerque, New Mexico. The school’s first 8th grade graduation was held in May, 2003.', 'The school was started by teachers who had worked together under a charter at Taylor Middle School: Art Silva, Math; Kitty Krivitzky, Science; Darlene Arias, Social Studies; Heather Sickenger, Language Arts. Donna Eldredge joined the team as a Special Ed teacher and principal.', '21st Century is still going strong to this day.', 'Mission', 'It is the mission of 21st Century Public Academy to continually search for positive learning experiences that enrich students and staff. Whenever possible, these lessons will take place in the arena in which they are practiced.', 'Vision', '21st Century Public Academy will provide experiences, situations, and opportunities for students to develop talents and to understand their role in the community. The body, mind, and spirit of each person will grow through lessons learned at school. Students will acquire a sense of personal responsibility, independence, and community interdependence.', 'School Hours', 'Regular School Hours:', '8:15-3:40 Monday, Tuesday, Thursday, Friday', '8:15-3:00 Wednesday', 'Students may not be dropped off prior to 8:00.', 'Recent News', '6th Grade OSI to the Petroglyphs', '(December 13, 2017)', 'Spelling Bee', '(December 8, 2017)', 'Science Bowl Competition', '(December 7, 2017)', 'Boys Basketball', '(November 21, 2017)', '5th Grade OSI to US Eagle Federal Credit Union', '(November 15, 2017)', 'New West Side Bus Routes for 21stCPA', '(November 3, 2017)', '21st Century Girl’s Basketball starts October 25', '(October 23, 2017)', '7th Grade OSI to El Rancho de las Golondrinas', '(October 11, 2017)', 'Girls Basketball Season', '(October 9, 2017)', 'Cross Country Photos', '(October 5, 2017)', '21st Century Public Academy – APS Charter Middle School', '4300 Cutler Ave NE', 'Albuquerque, NM 87110', 'Phone: (505)254-0280', 'Fax: (505)254-8507', 'Scroll to top'] \n",
      "\n",
      "\n"
     ]
    }
   ],
   "source": [
    "if Debug:\n",
    "    example_textlist = parsefile_by_tags(example_file)\n",
    "    print(\"Output of parsefile_by_tags:\\n\\n\", example_textlist, \"\\n\\n\")\n"
   ]
  },
  {
   "cell_type": "code",
   "execution_count": 11,
   "metadata": {},
   "outputs": [],
   "source": [
    "def filter_keywords_page(pagetext_list):\n",
    "    \n",
    "    \"\"\"Filters webtext of a given .html page, which is parsed and in list format, to only those strings \n",
    "    within pagetext_list containing an element (word or words) of a previously defined list of meaningful keywords.\"\"\"\n",
    "    \n",
    "    validcharacters = [' ', '.', '?']\n",
    "    filteredtext = []  \n",
    "    \n",
    "    for string in pagetext_list:\n",
    "        lowercasestring = string.lower()\n",
    "        for key in keywords:\n",
    "            if key in lowercasestring:\n",
    "                if key in lowercasestring.split(' '): #check that the word is the whole word not part of another one\n",
    "                    filteredtext.extend([string.lower()])\n",
    "\n",
    "    filteredtext = list(set(filteredtext))\n",
    "    finaltext = []\n",
    "    for x in filteredtext:\n",
    "        finaltext.append(x.replace('\\xa0', \" \")) # Clean up any remaining (non-readable) unicode\n",
    "    return finaltext\n"
   ]
  },
  {
   "cell_type": "code",
   "execution_count": 12,
   "metadata": {},
   "outputs": [
    {
     "name": "stdout",
     "output_type": "stream",
     "text": [
      "Output of filter_keywords_page:\n",
      "\n",
      " ['history', 'vision', 'it is the mission of 21st century public academy to continually search for positive learning experiences that enrich students and staff. whenever possible, these lessons will take place in the arena in which they are practiced.', 'mission', '21st century is a charter middle school. we have been a school since 2000. we serve a diverse population of nearly 70 students per grade. all staff bring years of teaching experience into our classrooms, and many have worked together in other settings. we emphasize the core curriculum of math, science, social studies, and language arts, as well as learning experiences in the community, city, and state. two associated arts courses are offered to each student every semester, including music and media programs.', 'academics'] \n",
      "\n",
      "\n"
     ]
    }
   ],
   "source": [
    "if Debug:\n",
    "    print(\"Output of filter_keywords_page:\\n\\n\", filter_keywords_page(example_textlist), \"\\n\\n\")\n"
   ]
  },
  {
   "cell_type": "code",
   "execution_count": 13,
   "metadata": {},
   "outputs": [],
   "source": [
    "def categorize_page(pagetext_list): \n",
    "    \n",
    "    \"\"\"Takes in a list of all the relevant (filtered) text from a given webpage. \n",
    "    Categorizes each block of text by scoring based on keyword count, using already-defined lists \n",
    "    of keywords per category--mission, philosophy, curriculum, history, and \"about\"/general self-description.\"\"\"\n",
    "    \n",
    "    mission_list = []\n",
    "    curriculum_list = []\n",
    "    philosophy_list = []\n",
    "    history_list = []\n",
    "    about_list = []\n",
    "    \n",
    "    for string in pagetext_list:\n",
    "        mission_score, curriculum_score, philosophy_score, history_score, about_score = 0, 0, 0, 0, 0\n",
    "        for word in mission_keywords:\n",
    "            mission_score+=string.count(word)\n",
    "            if 'mission' in string.lower():\n",
    "                mission_score = 2\n",
    "                \n",
    "        for word in curriculum_keywords:\n",
    "            curriculum_score+=string.count(word)\n",
    "            if 'curriculum' in string.lower():\n",
    "                curriculum_score = 2\n",
    "                \n",
    "        for word in philosophy_keywords:\n",
    "            philosophy_score+=string.count(word)\n",
    "            if 'philosophy' in string.lower() or 'value' in string.lower():\n",
    "                philosophy_score = 2\n",
    "        \n",
    "        for word in history_keywords:\n",
    "            history_score+=string.count(word)\n",
    "            if 'history' in string.lower():\n",
    "                history_score = 2\n",
    "        \n",
    "        for word in about_keywords:\n",
    "            about_score+=string.count(word)\n",
    "            if 'about us' in string.lower() or \"about-us\" in string.lower():\n",
    "                about_score = 2\n",
    "        \n",
    "        if mission_score>=2:\n",
    "            mission_list.append(string)\n",
    "        if curriculum_score>=2:\n",
    "            curriculum_list.append(string)\n",
    "        if philosophy_score>=2:\n",
    "            philosophy_list.append(string)\n",
    "        if history_score>=2:\n",
    "            history_list.append(string)\n",
    "        if about_score>=2:\n",
    "            about_list.append(string)\n",
    "        elif (mission_score + curriculum_score + philosophy_score + history_score + about_score >=2):\n",
    "            about_list.append(string)\n",
    "        \n",
    "    #return {'mission': mission_list, 'curriculum' : curriculum_list, 'philosophy': philosophy_list, 'history': history_list, 'about': about_list}\n",
    "    return mission_list, curriculum_list, philosophy_list, history_list, about_list\n"
   ]
  },
  {
   "cell_type": "code",
   "execution_count": 14,
   "metadata": {},
   "outputs": [
    {
     "name": "stdout",
     "output_type": "stream",
     "text": [
      "Output of categorize_page:\n",
      "\n",
      " (['Admissions', 'Mission', 'It is the mission of 21st Century Public Academy to continually search for positive learning experiences that enrich students and staff. Whenever possible, these lessons will take place in the arena in which they are practiced.'], ['21st Century is a charter middle school. We have been a school since 2000. We serve a diverse population of nearly 70 students per grade. All staff bring years of teaching experience into our classrooms, and many have worked together in other settings. We emphasize the core curriculum of Math, Science, Social Studies, and Language Arts, as well as learning experiences in the community, city, and state. Two Associated Arts courses are offered to each student every semester, including music and media programs.'], [], ['History'], ['Admissions', '21st Century is a charter middle school. We have been a school since 2000. We serve a diverse population of nearly 70 students per grade. All staff bring years of teaching experience into our classrooms, and many have worked together in other settings. We emphasize the core curriculum of Math, Science, Social Studies, and Language Arts, as well as learning experiences in the community, city, and state. Two Associated Arts courses are offered to each student every semester, including music and media programs.', 'History', 'Mission', 'It is the mission of 21st Century Public Academy to continually search for positive learning experiences that enrich students and staff. Whenever possible, these lessons will take place in the arena in which they are practiced.']) \n",
      "\n",
      "\n"
     ]
    }
   ],
   "source": [
    "if Debug:\n",
    "    print(\"Output of categorize_page:\\n\\n\", categorize_page(example_textlist), \"\\n\\n\")\n"
   ]
  },
  {
   "cell_type": "code",
   "execution_count": 37,
   "metadata": {},
   "outputs": [],
   "source": [
    "def find_best_categories(folder_path):\n",
    "    \n",
    "    \"\"\"Parse through all HTML files in foldername to find and save best pages for each category: \n",
    "    mission, curriculum, philosophy, history, about/general self-description.\"\"\"\n",
    "    \n",
    "    list_pages = [file for file in glob(folder_path + \"**\", recursive=True) if file.endswith(\".html\")] # Keep only HTML files\n",
    "    num_pages = len(list_pages)\n",
    "    max_page_score = (-1, -1)\n",
    "    \n",
    "    for i in range(num_pages):\n",
    "        page_text = parsefile_by_tags(list_pages[i])\n",
    "\n",
    "        if len(page_text) != 0:\n",
    "            page_score = dict_match(page_text, custom_dict) / len(page_text.split())\n",
    "            if page_score > max_page_score[0]:\n",
    "                max_page_score = (page_score, i)\n",
    "    max_text = open(filtered_file_format.format(max_page_score[1])).read()\n",
    "    \n",
    "    print(\"Page with the highest dictionary score:\\n\\n\" + max_text)\n",
    "    \n",
    "    return mission_page,curr_page,phil_page,hist_page,about_page"
   ]
  },
  {
   "cell_type": "code",
   "execution_count": 38,
   "metadata": {},
   "outputs": [
    {
     "ename": "NameError",
     "evalue": "name 'dict_match' is not defined",
     "output_type": "error",
     "traceback": [
      "\u001b[0;31m---------------------------------------------------------------------------\u001b[0m",
      "\u001b[0;31mNameError\u001b[0m                                 Traceback (most recent call last)",
      "\u001b[0;32m<ipython-input-38-f54ae2e9b15d>\u001b[0m in \u001b[0;36m<module>\u001b[0;34m()\u001b[0m\n\u001b[1;32m      1\u001b[0m \u001b[0;32mif\u001b[0m \u001b[0mDebug\u001b[0m\u001b[0;34m:\u001b[0m\u001b[0;34m\u001b[0m\u001b[0m\n\u001b[0;32m----> 2\u001b[0;31m     \u001b[0mprint\u001b[0m\u001b[0;34m(\u001b[0m\u001b[0;34m\"Output of find_best_categories:\\n\\n\"\u001b[0m\u001b[0;34m,\u001b[0m \u001b[0mfind_best_categories\u001b[0m\u001b[0;34m(\u001b[0m\u001b[0mexample_folder\u001b[0m\u001b[0;34m)\u001b[0m\u001b[0;34m,\u001b[0m \u001b[0;34m\"\\n\\n\"\u001b[0m \u001b[0;34m)\u001b[0m\u001b[0;34m\u001b[0m\u001b[0m\n\u001b[0m\u001b[1;32m      3\u001b[0m \u001b[0;34m\u001b[0m\u001b[0m\n",
      "\u001b[0;32m<ipython-input-37-f607d11d2736>\u001b[0m in \u001b[0;36mfind_best_categories\u001b[0;34m(folder_path)\u001b[0m\n\u001b[1;32m     12\u001b[0m \u001b[0;34m\u001b[0m\u001b[0m\n\u001b[1;32m     13\u001b[0m         \u001b[0;32mif\u001b[0m \u001b[0mlen\u001b[0m\u001b[0;34m(\u001b[0m\u001b[0mpage_text\u001b[0m\u001b[0;34m)\u001b[0m \u001b[0;34m!=\u001b[0m \u001b[0;36m0\u001b[0m\u001b[0;34m:\u001b[0m\u001b[0;34m\u001b[0m\u001b[0m\n\u001b[0;32m---> 14\u001b[0;31m             \u001b[0mpage_score\u001b[0m \u001b[0;34m=\u001b[0m \u001b[0mdict_match\u001b[0m\u001b[0;34m(\u001b[0m\u001b[0mpage_text\u001b[0m\u001b[0;34m,\u001b[0m \u001b[0mcustom_dict\u001b[0m\u001b[0;34m)\u001b[0m \u001b[0;34m/\u001b[0m \u001b[0mlen\u001b[0m\u001b[0;34m(\u001b[0m\u001b[0mpage_text\u001b[0m\u001b[0;34m.\u001b[0m\u001b[0msplit\u001b[0m\u001b[0;34m(\u001b[0m\u001b[0;34m)\u001b[0m\u001b[0;34m)\u001b[0m\u001b[0;34m\u001b[0m\u001b[0m\n\u001b[0m\u001b[1;32m     15\u001b[0m             \u001b[0;32mif\u001b[0m \u001b[0mpage_score\u001b[0m \u001b[0;34m>\u001b[0m \u001b[0mmax_page_score\u001b[0m\u001b[0;34m[\u001b[0m\u001b[0;36m0\u001b[0m\u001b[0;34m]\u001b[0m\u001b[0;34m:\u001b[0m\u001b[0;34m\u001b[0m\u001b[0m\n\u001b[1;32m     16\u001b[0m                 \u001b[0mmax_page_score\u001b[0m \u001b[0;34m=\u001b[0m \u001b[0;34m(\u001b[0m\u001b[0mpage_score\u001b[0m\u001b[0;34m,\u001b[0m \u001b[0mi\u001b[0m\u001b[0;34m)\u001b[0m\u001b[0;34m\u001b[0m\u001b[0m\n",
      "\u001b[0;31mNameError\u001b[0m: name 'dict_match' is not defined"
     ]
    }
   ],
   "source": [
    "if Debug:\n",
    "    print(\"Output of find_best_categories:\\n\\n\", find_best_categories(example_folder), \"\\n\\n\" )\n",
    "    "
   ]
  },
  {
   "cell_type": "code",
   "execution_count": 51,
   "metadata": {},
   "outputs": [
    {
     "data": {
      "text/plain": [
       "['/home/jovyan/work/wget/parll_wget/RICHLAND_TWO_CHARTER_HIGH_MB/']"
      ]
     },
     "execution_count": 51,
     "metadata": {},
     "output_type": "execute_result"
    }
   ],
   "source": [
    "glob(\"/home/jovyan/work/wget/parll_wget/RICHLAND_TWO_CHARTER_HIGH_MB/\" + \"**\", recursive=True)"
   ]
  },
  {
   "cell_type": "code",
   "execution_count": 52,
   "metadata": {},
   "outputs": [
    {
     "data": {
      "text/plain": [
       "[]"
      ]
     },
     "execution_count": 52,
     "metadata": {},
     "output_type": "execute_result"
    }
   ],
   "source": [
    "glob(\"/home/jovyan/work/wget/parll_wget/RICHLAND_TWO_CHARTER_HIGH_MB/\" + \"**\", recursive=True)"
   ]
  },
  {
   "cell_type": "code",
   "execution_count": 56,
   "metadata": {},
   "outputs": [
    {
     "name": "stdout",
     "output_type": "stream",
     "text": [
      "/home/jovyan/work/wget/parll_wget/TWENTY-FIRST_CENTURY_NM/\n",
      "/home/jovyan/work/wget/parll_wget/TWENTY-FIRST_CENTURY_NM/**\n",
      "\n",
      "['/home/jovyan/work/wget/parll_wget/TWENTY-FIRST_CENTURY_NM/', '/home/jovyan/work/wget/parll_wget/TWENTY-FIRST_CENTURY_NM/21stcenturypa.com', '/home/jovyan/work/wget/parll_wget/TWENTY-FIRST_CENTURY_NM/21stcenturypa.com/wp', '/home/jovyan/work/wget/parll_wget/TWENTY-FIRST_CENTURY_NM/21stcenturypa.com/wp/default?author=1.tmp.html', '/home/jovyan/work/wget/parll_wget/TWENTY-FIRST_CENTURY_NM/21stcenturypa.com/wp/default?paged=11.tmp.html', '/home/jovyan/work/wget/parll_wget/TWENTY-FIRST_CENTURY_NM/21stcenturypa.com/wp/default?p=1154.tmp.html', '/home/jovyan/work/wget/parll_wget/TWENTY-FIRST_CENTURY_NM/21stcenturypa.com/wp/default?p=1170.tmp.html', '/home/jovyan/work/wget/parll_wget/TWENTY-FIRST_CENTURY_NM/21stcenturypa.com/wp/default?p=1396.tmp.html', '/home/jovyan/work/wget/parll_wget/TWENTY-FIRST_CENTURY_NM/21stcenturypa.com/wp/default?paged=61.tmp.html', '/home/jovyan/work/wget/parll_wget/TWENTY-FIRST_CENTURY_NM/21stcenturypa.com/wp/default?page_id=2355.tmp.html', '/home/jovyan/work/wget/parll_wget/TWENTY-FIRST_CENTURY_NM/21stcenturypa.com/wp/default?p=1214.tmp.html', '/home/jovyan/work/wget/parll_wget/TWENTY-FIRST_CENTURY_NM/21stcenturypa.com/wp/default?p=3267.tmp.html', '/home/jovyan/work/wget/parll_wget/TWENTY-FIRST_CENTURY_NM/21stcenturypa.com/wp/default?attachment_id=596.tmp.html', '/home/jovyan/work/wget/parll_wget/TWENTY-FIRST_CENTURY_NM/21stcenturypa.com/wp/default?m=201412&paged=2.tmp.html', '/home/jovyan/work/wget/parll_wget/TWENTY-FIRST_CENTURY_NM/21stcenturypa.com/wp/default?m=201608.tmp.html', '/home/jovyan/work/wget/parll_wget/TWENTY-FIRST_CENTURY_NM/21stcenturypa.com/wp/default?p=2151.tmp.html', '/home/jovyan/work/wget/parll_wget/TWENTY-FIRST_CENTURY_NM/21stcenturypa.com/wp/default?p=2754.tmp.html', '/home/jovyan/work/wget/parll_wget/TWENTY-FIRST_CENTURY_NM/21stcenturypa.com/wp/default?page=5&paged=66.tmp.html', '/home/jovyan/work/wget/parll_wget/TWENTY-FIRST_CENTURY_NM/21stcenturypa.com/wp/default?attachment_id=635.tmp.html', '/home/jovyan/work/wget/parll_wget/TWENTY-FIRST_CENTURY_NM/21stcenturypa.com/wp/default?page_id=47.tmp.html', '/home/jovyan/work/wget/parll_wget/TWENTY-FIRST_CENTURY_NM/21stcenturypa.com/wp/default?p=3569.tmp.html', '/home/jovyan/work/wget/parll_wget/TWENTY-FIRST_CENTURY_NM/21stcenturypa.com/wp/default?cat=12&paged=10.tmp.html', '/home/jovyan/work/wget/parll_wget/TWENTY-FIRST_CENTURY_NM/21stcenturypa.com/wp/default?cat=4.tmp.html', '/home/jovyan/work/wget/parll_wget/TWENTY-FIRST_CENTURY_NM/21stcenturypa.com/wp/default?m=201503&paged=4.tmp.html', '/home/jovyan/work/wget/parll_wget/TWENTY-FIRST_CENTURY_NM/21stcenturypa.com/wp/default?p=2400.tmp.html', '/home/jovyan/work/wget/parll_wget/TWENTY-FIRST_CENTURY_NM/21stcenturypa.com/wp/default?p=3987.tmp.html', '/home/jovyan/work/wget/parll_wget/TWENTY-FIRST_CENTURY_NM/21stcenturypa.com/wp/default?page=65&paged=65.tmp.html', '/home/jovyan/work/wget/parll_wget/TWENTY-FIRST_CENTURY_NM/21stcenturypa.com/wp/default?attachment_id=976.tmp.html', '/home/jovyan/work/wget/parll_wget/TWENTY-FIRST_CENTURY_NM/21stcenturypa.com/wp/default?m=2015.tmp.html', '/home/jovyan/work/wget/parll_wget/TWENTY-FIRST_CENTURY_NM/21stcenturypa.com/wp/default?p=1302.tmp.html', '/home/jovyan/work/wget/parll_wget/TWENTY-FIRST_CENTURY_NM/21stcenturypa.com/wp/default?cat=5&paged=2.tmp.html', '/home/jovyan/work/wget/parll_wget/TWENTY-FIRST_CENTURY_NM/21stcenturypa.com/wp/default?p=1867.tmp.html', '/home/jovyan/work/wget/parll_wget/TWENTY-FIRST_CENTURY_NM/21stcenturypa.com/wp/default?page=64&paged=62.tmp.html', '/home/jovyan/work/wget/parll_wget/TWENTY-FIRST_CENTURY_NM/21stcenturypa.com/wp/default?p=374.tmp.html', '/home/jovyan/work/wget/parll_wget/TWENTY-FIRST_CENTURY_NM/21stcenturypa.com/wp/default?page=63.tmp.html', '/home/jovyan/work/wget/parll_wget/TWENTY-FIRST_CENTURY_NM/21stcenturypa.com/wp/default?page_id=2334&paged=8.tmp.html', '/home/jovyan/work/wget/parll_wget/TWENTY-FIRST_CENTURY_NM/21stcenturypa.com/wp/default?p=1242.tmp.html', '/home/jovyan/work/wget/parll_wget/TWENTY-FIRST_CENTURY_NM/21stcenturypa.com/wp/default?page=2&paged=3.tmp.html', '/home/jovyan/work/wget/parll_wget/TWENTY-FIRST_CENTURY_NM/21stcenturypa.com/wp/default?m=201707.tmp.html', '/home/jovyan/work/wget/parll_wget/TWENTY-FIRST_CENTURY_NM/21stcenturypa.com/wp/default?page_id=124.tmp.html', '/home/jovyan/work/wget/parll_wget/TWENTY-FIRST_CENTURY_NM/21stcenturypa.com/wp/default?page=2&paged=66.tmp.html', '/home/jovyan/work/wget/parll_wget/TWENTY-FIRST_CENTURY_NM/21stcenturypa.com/wp/default?cat=9&paged=28.tmp.html', '/home/jovyan/work/wget/parll_wget/TWENTY-FIRST_CENTURY_NM/21stcenturypa.com/wp/default?page=5&paged=2.tmp.html', '/home/jovyan/work/wget/parll_wget/TWENTY-FIRST_CENTURY_NM/21stcenturypa.com/wp/default?page_id=41.tmp.html', '/home/jovyan/work/wget/parll_wget/TWENTY-FIRST_CENTURY_NM/21stcenturypa.com/wp/default?attachment_id=692.tmp.html', '/home/jovyan/work/wget/parll_wget/TWENTY-FIRST_CENTURY_NM/21stcenturypa.com/wp/default?p=3199.tmp.html', '/home/jovyan/work/wget/parll_wget/TWENTY-FIRST_CENTURY_NM/21stcenturypa.com/wp/default?cat=12&paged=15.tmp.html', '/home/jovyan/work/wget/parll_wget/TWENTY-FIRST_CENTURY_NM/21stcenturypa.com/wp/default?p=982.tmp.html', '/home/jovyan/work/wget/parll_wget/TWENTY-FIRST_CENTURY_NM/21stcenturypa.com/wp/default?cat=13%2C9&paged=2.tmp.html', '/home/jovyan/work/wget/parll_wget/TWENTY-FIRST_CENTURY_NM/21stcenturypa.com/wp/default?attachment_id=592.tmp.html', '/home/jovyan/work/wget/parll_wget/TWENTY-FIRST_CENTURY_NM/21stcenturypa.com/wp/default?page=63&paged=64.tmp.html', '/home/jovyan/work/wget/parll_wget/TWENTY-FIRST_CENTURY_NM/21stcenturypa.com/wp/default?cat=12&paged=3.tmp.html', '/home/jovyan/work/wget/parll_wget/TWENTY-FIRST_CENTURY_NM/21stcenturypa.com/wp/default?attachment_id=670.tmp.html', '/home/jovyan/work/wget/parll_wget/TWENTY-FIRST_CENTURY_NM/21stcenturypa.com/wp/default?attachment_id=588.tmp.html', '/home/jovyan/work/wget/parll_wget/TWENTY-FIRST_CENTURY_NM/21stcenturypa.com/wp/default?author=1&paged=85.tmp.html', '/home/jovyan/work/wget/parll_wget/TWENTY-FIRST_CENTURY_NM/21stcenturypa.com/wp/default?page=3.tmp.html', '/home/jovyan/work/wget/parll_wget/TWENTY-FIRST_CENTURY_NM/21stcenturypa.com/wp/default?m=201406.tmp.html', '/home/jovyan/work/wget/parll_wget/TWENTY-FIRST_CENTURY_NM/21stcenturypa.com/wp/default?cat=8.tmp.html', '/home/jovyan/work/wget/parll_wget/TWENTY-FIRST_CENTURY_NM/21stcenturypa.com/wp/default?cat=5&paged=16.tmp.html', '/home/jovyan/work/wget/parll_wget/TWENTY-FIRST_CENTURY_NM/21stcenturypa.com/wp/default?m=2016&paged=18.tmp.html', '/home/jovyan/work/wget/parll_wget/TWENTY-FIRST_CENTURY_NM/21stcenturypa.com/wp/default?cat=12&paged=8.tmp.html', '/home/jovyan/work/wget/parll_wget/TWENTY-FIRST_CENTURY_NM/21stcenturypa.com/wp/default?p=2481.tmp.html', '/home/jovyan/work/wget/parll_wget/TWENTY-FIRST_CENTURY_NM/21stcenturypa.com/wp/default?page=67&paged=63.tmp.html', '/home/jovyan/work/wget/parll_wget/TWENTY-FIRST_CENTURY_NM/21stcenturypa.com/wp/default?p=4147.tmp.html', '/home/jovyan/work/wget/parll_wget/TWENTY-FIRST_CENTURY_NM/21stcenturypa.com/wp/default?m=201609&paged=5.tmp.html', '/home/jovyan/work/wget/parll_wget/TWENTY-FIRST_CENTURY_NM/21stcenturypa.com/wp/default?attachment_id=686.tmp.html', '/home/jovyan/work/wget/parll_wget/TWENTY-FIRST_CENTURY_NM/21stcenturypa.com/wp/default?p=2761.tmp.html', '/home/jovyan/work/wget/parll_wget/TWENTY-FIRST_CENTURY_NM/21stcenturypa.com/wp/default?m=201709.tmp.html', '/home/jovyan/work/wget/parll_wget/TWENTY-FIRST_CENTURY_NM/21stcenturypa.com/wp/default?page=66&paged=64.tmp.html', '/home/jovyan/work/wget/parll_wget/TWENTY-FIRST_CENTURY_NM/21stcenturypa.com/wp/default?attachment_id=673.tmp.html', '/home/jovyan/work/wget/parll_wget/TWENTY-FIRST_CENTURY_NM/21stcenturypa.com/wp/default?p=3989.tmp.html', '/home/jovyan/work/wget/parll_wget/TWENTY-FIRST_CENTURY_NM/21stcenturypa.com/wp/default?attachment_id=678.tmp.html', '/home/jovyan/work/wget/parll_wget/TWENTY-FIRST_CENTURY_NM/21stcenturypa.com/wp/default?p=2758.tmp.html', '/home/jovyan/work/wget/parll_wget/TWENTY-FIRST_CENTURY_NM/21stcenturypa.com/wp/default?m=201410&paged=4.tmp.html', '/home/jovyan/work/wget/parll_wget/TWENTY-FIRST_CENTURY_NM/21stcenturypa.com/wp/default?attachment_id=687.tmp.html', '/home/jovyan/work/wget/parll_wget/TWENTY-FIRST_CENTURY_NM/21stcenturypa.com/wp/default?p=391.tmp.html', '/home/jovyan/work/wget/parll_wget/TWENTY-FIRST_CENTURY_NM/21stcenturypa.com/wp/default?cat=8&paged=2.tmp.html', '/home/jovyan/work/wget/parll_wget/TWENTY-FIRST_CENTURY_NM/21stcenturypa.com/wp/default?p=2397.tmp.html', '/home/jovyan/work/wget/parll_wget/TWENTY-FIRST_CENTURY_NM/21stcenturypa.com/wp/default?cat=13%2C9&paged=5.tmp.html', '/home/jovyan/work/wget/parll_wget/TWENTY-FIRST_CENTURY_NM/21stcenturypa.com/wp/default?page=67&paged=66.tmp.html', '/home/jovyan/work/wget/parll_wget/TWENTY-FIRST_CENTURY_NM/21stcenturypa.com/wp/default?p=3796.tmp.html', '/home/jovyan/work/wget/parll_wget/TWENTY-FIRST_CENTURY_NM/21stcenturypa.com/wp/default?cat=5.tmp.html', '/home/jovyan/work/wget/parll_wget/TWENTY-FIRST_CENTURY_NM/21stcenturypa.com/wp/default?p=3348.tmp.html', '/home/jovyan/work/wget/parll_wget/TWENTY-FIRST_CENTURY_NM/21stcenturypa.com/wp/default?m=2014&paged=20.tmp.html', '/home/jovyan/work/wget/parll_wget/TWENTY-FIRST_CENTURY_NM/21stcenturypa.com/wp/default?cat=9&paged=27.tmp.html', '/home/jovyan/work/wget/parll_wget/TWENTY-FIRST_CENTURY_NM/21stcenturypa.com/wp/default?page=3&paged=63.tmp.html', '/home/jovyan/work/wget/parll_wget/TWENTY-FIRST_CENTURY_NM/21stcenturypa.com/wp/default?page=3&paged=66.tmp.html', '/home/jovyan/work/wget/parll_wget/TWENTY-FIRST_CENTURY_NM/21stcenturypa.com/wp/default?p=3669.tmp.html', '/home/jovyan/work/wget/parll_wget/TWENTY-FIRST_CENTURY_NM/21stcenturypa.com/wp/default?page=5&paged=4.tmp.html', '/home/jovyan/work/wget/parll_wget/TWENTY-FIRST_CENTURY_NM/21stcenturypa.com/wp/default?attachment_id=401.tmp.html', '/home/jovyan/work/wget/parll_wget/TWENTY-FIRST_CENTURY_NM/21stcenturypa.com/wp/default?m=201601&paged=2.tmp.html', '/home/jovyan/work/wget/parll_wget/TWENTY-FIRST_CENTURY_NM/21stcenturypa.com/wp/default?page=3&paged=67.tmp.html', '/home/jovyan/work/wget/parll_wget/TWENTY-FIRST_CENTURY_NM/21stcenturypa.com/wp/default?p=3727.tmp.html', '/home/jovyan/work/wget/parll_wget/TWENTY-FIRST_CENTURY_NM/21stcenturypa.com/wp/default?p=1223.tmp.html', '/home/jovyan/work/wget/parll_wget/TWENTY-FIRST_CENTURY_NM/21stcenturypa.com/wp/default?p=2599.tmp.html', '/home/jovyan/work/wget/parll_wget/TWENTY-FIRST_CENTURY_NM/21stcenturypa.com/wp/default?page=66.tmp.html', '/home/jovyan/work/wget/parll_wget/TWENTY-FIRST_CENTURY_NM/21stcenturypa.com/wp/default?p=2632.tmp.html', '/home/jovyan/work/wget/parll_wget/TWENTY-FIRST_CENTURY_NM/21stcenturypa.com/wp/default?attachment_id=668.tmp.html', '/home/jovyan/work/wget/parll_wget/TWENTY-FIRST_CENTURY_NM/21stcenturypa.com/wp/default?cat=5&paged=9.tmp.html', '/home/jovyan/work/wget/parll_wget/TWENTY-FIRST_CENTURY_NM/21stcenturypa.com/wp/default?page=65&paged=67.tmp.html', '/home/jovyan/work/wget/parll_wget/TWENTY-FIRST_CENTURY_NM/21stcenturypa.com/wp/default?p=2164.tmp.html', '/home/jovyan/work/wget/parll_wget/TWENTY-FIRST_CENTURY_NM/21stcenturypa.com/wp/default?page=8.tmp.html', '/home/jovyan/work/wget/parll_wget/TWENTY-FIRST_CENTURY_NM/21stcenturypa.com/wp/default?cat=1.tmp.html', '/home/jovyan/work/wget/parll_wget/TWENTY-FIRST_CENTURY_NM/21stcenturypa.com/wp/default?page=2&paged=2.tmp.html', '/home/jovyan/work/wget/parll_wget/TWENTY-FIRST_CENTURY_NM/21stcenturypa.com/wp/default?m=201404.tmp.html', '/home/jovyan/work/wget/parll_wget/TWENTY-FIRST_CENTURY_NM/21stcenturypa.com/wp/default?p=2159.tmp.html', '/home/jovyan/work/wget/parll_wget/TWENTY-FIRST_CENTURY_NM/21stcenturypa.com/wp/default?m=201505&paged=2.tmp.html', '/home/jovyan/work/wget/parll_wget/TWENTY-FIRST_CENTURY_NM/21stcenturypa.com/wp/default?p=3604.tmp.html', '/home/jovyan/work/wget/parll_wget/TWENTY-FIRST_CENTURY_NM/21stcenturypa.com/wp/default?p=3759.tmp.html', '/home/jovyan/work/wget/parll_wget/TWENTY-FIRST_CENTURY_NM/21stcenturypa.com/wp/default?attachment_id=647.tmp.html', '/home/jovyan/work/wget/parll_wget/TWENTY-FIRST_CENTURY_NM/21stcenturypa.com/wp/default?m=201702.tmp.html', '/home/jovyan/work/wget/parll_wget/TWENTY-FIRST_CENTURY_NM/21stcenturypa.com/wp/default?p=3355.tmp.html', '/home/jovyan/work/wget/parll_wget/TWENTY-FIRST_CENTURY_NM/21stcenturypa.com/wp/default?attachment_id=242.tmp.html', '/home/jovyan/work/wget/parll_wget/TWENTY-FIRST_CENTURY_NM/21stcenturypa.com/wp/default?p=2144.tmp.html', '/home/jovyan/work/wget/parll_wget/TWENTY-FIRST_CENTURY_NM/21stcenturypa.com/wp/default?attachment_id=646.tmp.html', '/home/jovyan/work/wget/parll_wget/TWENTY-FIRST_CENTURY_NM/21stcenturypa.com/wp/default?attachment_id=629.tmp.html', '/home/jovyan/work/wget/parll_wget/TWENTY-FIRST_CENTURY_NM/21stcenturypa.com/wp/default?p=3452.tmp.html', '/home/jovyan/work/wget/parll_wget/TWENTY-FIRST_CENTURY_NM/21stcenturypa.com/wp/default?page=64&paged=68.tmp.html', '/home/jovyan/work/wget/parll_wget/TWENTY-FIRST_CENTURY_NM/21stcenturypa.com/wp/default?p=3608.tmp.html', '/home/jovyan/work/wget/parll_wget/TWENTY-FIRST_CENTURY_NM/21stcenturypa.com/wp/default?p=1032.tmp.html', '/home/jovyan/work/wget/parll_wget/TWENTY-FIRST_CENTURY_NM/21stcenturypa.com/wp/default?p=2470.tmp.html', '/home/jovyan/work/wget/parll_wget/TWENTY-FIRST_CENTURY_NM/21stcenturypa.com/wp/default?m=2016&paged=2.tmp.html', '/home/jovyan/work/wget/parll_wget/TWENTY-FIRST_CENTURY_NM/21stcenturypa.com/wp/default?page_id=2334&paged=20.tmp.html', '/home/jovyan/work/wget/parll_wget/TWENTY-FIRST_CENTURY_NM/21stcenturypa.com/wp/default?p=349.tmp.html', '/home/jovyan/work/wget/parll_wget/TWENTY-FIRST_CENTURY_NM/21stcenturypa.com/wp/default?p=3261.tmp.html', '/home/jovyan/work/wget/parll_wget/TWENTY-FIRST_CENTURY_NM/21stcenturypa.com/wp/default?cat=5&paged=15.tmp.html', '/home/jovyan/work/wget/parll_wget/TWENTY-FIRST_CENTURY_NM/21stcenturypa.com/wp/default?p=4033.tmp.html', '/home/jovyan/work/wget/parll_wget/TWENTY-FIRST_CENTURY_NM/21stcenturypa.com/wp/default?author=1&paged=6.tmp.html', '/home/jovyan/work/wget/parll_wget/TWENTY-FIRST_CENTURY_NM/21stcenturypa.com/wp/default?m=201610.tmp.html', '/home/jovyan/work/wget/parll_wget/TWENTY-FIRST_CENTURY_NM/21stcenturypa.com/wp/default?page_id=118.tmp.html', '/home/jovyan/work/wget/parll_wget/TWENTY-FIRST_CENTURY_NM/21stcenturypa.com/wp/default?cat=5&paged=21.tmp.html', '/home/jovyan/work/wget/parll_wget/TWENTY-FIRST_CENTURY_NM/21stcenturypa.com/wp/default?attachment_id=625.tmp.html', '/home/jovyan/work/wget/parll_wget/TWENTY-FIRST_CENTURY_NM/21stcenturypa.com/wp/default?p=2156.tmp.html', '/home/jovyan/work/wget/parll_wget/TWENTY-FIRST_CENTURY_NM/21stcenturypa.com/wp/default?p=3376.tmp.html', '/home/jovyan/work/wget/parll_wget/TWENTY-FIRST_CENTURY_NM/21stcenturypa.com/wp/default?attachment_id=623.tmp.html', '/home/jovyan/work/wget/parll_wget/TWENTY-FIRST_CENTURY_NM/21stcenturypa.com/wp/default?p=162.tmp.html', '/home/jovyan/work/wget/parll_wget/TWENTY-FIRST_CENTURY_NM/21stcenturypa.com/wp/default?page=3&paged=65.tmp.html', '/home/jovyan/work/wget/parll_wget/TWENTY-FIRST_CENTURY_NM/21stcenturypa.com/wp/default?page=68&paged=67.tmp.html', '/home/jovyan/work/wget/parll_wget/TWENTY-FIRST_CENTURY_NM/21stcenturypa.com/wp/default?attachment_id=700.tmp.html', '/home/jovyan/work/wget/parll_wget/TWENTY-FIRST_CENTURY_NM/21stcenturypa.com/wp/default?m=201712.tmp.html', '/home/jovyan/work/wget/parll_wget/TWENTY-FIRST_CENTURY_NM/21stcenturypa.com/wp/default?p=2410.tmp.html', '/home/jovyan/work/wget/parll_wget/TWENTY-FIRST_CENTURY_NM/21stcenturypa.com/wp/default?cat=5&paged=19.tmp.html', '/home/jovyan/work/wget/parll_wget/TWENTY-FIRST_CENTURY_NM/21stcenturypa.com/wp/default?p=3979.tmp.html', '/home/jovyan/work/wget/parll_wget/TWENTY-FIRST_CENTURY_NM/21stcenturypa.com/wp/default?m=201412&paged=3.tmp.html', '/home/jovyan/work/wget/parll_wget/TWENTY-FIRST_CENTURY_NM/21stcenturypa.com/wp/default?page=5&paged=3.tmp.html', '/home/jovyan/work/wget/parll_wget/TWENTY-FIRST_CENTURY_NM/21stcenturypa.com/wp/default?p=152.tmp.html', '/home/jovyan/work/wget/parll_wget/TWENTY-FIRST_CENTURY_NM/21stcenturypa.com/wp/default?m=201601.tmp.html', '/home/jovyan/work/wget/parll_wget/TWENTY-FIRST_CENTURY_NM/21stcenturypa.com/wp/default?attachment_id=684.tmp.html', '/home/jovyan/work/wget/parll_wget/TWENTY-FIRST_CENTURY_NM/21stcenturypa.com/wp/default?p=3242.tmp.html', '/home/jovyan/work/wget/parll_wget/TWENTY-FIRST_CENTURY_NM/21stcenturypa.com/wp/default?m=201310.tmp.html', '/home/jovyan/work/wget/parll_wget/TWENTY-FIRST_CENTURY_NM/21stcenturypa.com/wp/default?p=1131.tmp.html', '/home/jovyan/work/wget/parll_wget/TWENTY-FIRST_CENTURY_NM/21stcenturypa.com/wp/default?p=1151.tmp.html', '/home/jovyan/work/wget/parll_wget/TWENTY-FIRST_CENTURY_NM/21stcenturypa.com/wp/default?attachment_id=590.tmp.html', '/home/jovyan/work/wget/parll_wget/TWENTY-FIRST_CENTURY_NM/21stcenturypa.com/wp/default?cat=5&paged=4.tmp.html', '/home/jovyan/work/wget/parll_wget/TWENTY-FIRST_CENTURY_NM/21stcenturypa.com/wp/default?p=3367.tmp.html', '/home/jovyan/work/wget/parll_wget/TWENTY-FIRST_CENTURY_NM/21stcenturypa.com/wp/default?p=1237.tmp.html', '/home/jovyan/work/wget/parll_wget/TWENTY-FIRST_CENTURY_NM/21stcenturypa.com/wp/default?p=4036.tmp.html', '/home/jovyan/work/wget/parll_wget/TWENTY-FIRST_CENTURY_NM/21stcenturypa.com/wp/default?p=478.tmp.html', '/home/jovyan/work/wget/parll_wget/TWENTY-FIRST_CENTURY_NM/21stcenturypa.com/wp/default?p=141.tmp.html', '/home/jovyan/work/wget/parll_wget/TWENTY-FIRST_CENTURY_NM/21stcenturypa.com/wp/default?cat=13,9.tmp.html', '/home/jovyan/work/wget/parll_wget/TWENTY-FIRST_CENTURY_NM/21stcenturypa.com/wp/default?cat=13%2C9&paged=25.tmp.html', '/home/jovyan/work/wget/parll_wget/TWENTY-FIRST_CENTURY_NM/21stcenturypa.com/wp/default?p=2663.tmp.html', '/home/jovyan/work/wget/parll_wget/TWENTY-FIRST_CENTURY_NM/21stcenturypa.com/wp/default?p=3161.tmp.html', '/home/jovyan/work/wget/parll_wget/TWENTY-FIRST_CENTURY_NM/21stcenturypa.com/wp/default?paged=66.tmp.html', '/home/jovyan/work/wget/parll_wget/TWENTY-FIRST_CENTURY_NM/21stcenturypa.com/wp/default?p=3511.tmp.html', '/home/jovyan/work/wget/parll_wget/TWENTY-FIRST_CENTURY_NM/21stcenturypa.com/wp/default?p=3839.tmp.html', '/home/jovyan/work/wget/parll_wget/TWENTY-FIRST_CENTURY_NM/21stcenturypa.com/wp/default?cat=2&paged=2.tmp.html', '/home/jovyan/work/wget/parll_wget/TWENTY-FIRST_CENTURY_NM/21stcenturypa.com/wp/default?p=1284.tmp.html', '/home/jovyan/work/wget/parll_wget/TWENTY-FIRST_CENTURY_NM/21stcenturypa.com/wp/default?page=5&paged=7.tmp.html', '/home/jovyan/work/wget/parll_wget/TWENTY-FIRST_CENTURY_NM/21stcenturypa.com/wp/default?p=923.tmp.html', '/home/jovyan/work/wget/parll_wget/TWENTY-FIRST_CENTURY_NM/21stcenturypa.com/wp/default?p=3416.tmp.html', '/home/jovyan/work/wget/parll_wget/TWENTY-FIRST_CENTURY_NM/21stcenturypa.com/wp/default?m=201706.tmp.html', '/home/jovyan/work/wget/parll_wget/TWENTY-FIRST_CENTURY_NM/21stcenturypa.com/wp/default?m=201610&paged=3.tmp.html', '/home/jovyan/work/wget/parll_wget/TWENTY-FIRST_CENTURY_NM/21stcenturypa.com/wp/default?p=3927.tmp.html', '/home/jovyan/work/wget/parll_wget/TWENTY-FIRST_CENTURY_NM/21stcenturypa.com/wp/default?page=5&paged=65.tmp.html', '/home/jovyan/work/wget/parll_wget/TWENTY-FIRST_CENTURY_NM/21stcenturypa.com/wp/default?m=201711&paged=2.tmp.html', '/home/jovyan/work/wget/parll_wget/TWENTY-FIRST_CENTURY_NM/21stcenturypa.com/wp/default?p=148.tmp.html', '/home/jovyan/work/wget/parll_wget/TWENTY-FIRST_CENTURY_NM/21stcenturypa.com/wp/default?m=2015&paged=20.tmp.html', '/home/jovyan/work/wget/parll_wget/TWENTY-FIRST_CENTURY_NM/21stcenturypa.com/wp/default?author=1&paged=3.tmp.html', '/home/jovyan/work/wget/parll_wget/TWENTY-FIRST_CENTURY_NM/21stcenturypa.com/wp/default?m=201701&paged=2.tmp.html', '/home/jovyan/work/wget/parll_wget/TWENTY-FIRST_CENTURY_NM/21stcenturypa.com/wp/default?m=201512.tmp.html', '/home/jovyan/work/wget/parll_wget/TWENTY-FIRST_CENTURY_NM/21stcenturypa.com/wp/default?p=2660.tmp.html', '/home/jovyan/work/wget/parll_wget/TWENTY-FIRST_CENTURY_NM/21stcenturypa.com/wp/default?p=515.tmp.html', '/home/jovyan/work/wget/parll_wget/TWENTY-FIRST_CENTURY_NM/21stcenturypa.com/wp/default?p=570.tmp.html', '/home/jovyan/work/wget/parll_wget/TWENTY-FIRST_CENTURY_NM/21stcenturypa.com/wp/default?m=201307.tmp.html', '/home/jovyan/work/wget/parll_wget/TWENTY-FIRST_CENTURY_NM/21stcenturypa.com/wp/default?cat=12&paged=9.tmp.html', '/home/jovyan/work/wget/parll_wget/TWENTY-FIRST_CENTURY_NM/21stcenturypa.com/wp/default?attachment_id=693.tmp.html', '/home/jovyan/work/wget/parll_wget/TWENTY-FIRST_CENTURY_NM/21stcenturypa.com/wp/default?m=201504.tmp.html', '/home/jovyan/work/wget/parll_wget/TWENTY-FIRST_CENTURY_NM/21stcenturypa.com/wp/default?p=362.tmp.html', '/home/jovyan/work/wget/parll_wget/TWENTY-FIRST_CENTURY_NM/21stcenturypa.com/wp/default?p=3630.tmp.html', '/home/jovyan/work/wget/parll_wget/TWENTY-FIRST_CENTURY_NM/21stcenturypa.com/wp/default?attachment_id=619.tmp.html', '/home/jovyan/work/wget/parll_wget/TWENTY-FIRST_CENTURY_NM/21stcenturypa.com/wp/default?m=2016&paged=19.tmp.html', '/home/jovyan/work/wget/parll_wget/TWENTY-FIRST_CENTURY_NM/21stcenturypa.com/wp/default?page_id=75.tmp.html', '/home/jovyan/work/wget/parll_wget/TWENTY-FIRST_CENTURY_NM/21stcenturypa.com/wp/default?attachment_id=657.tmp.html', '/home/jovyan/work/wget/parll_wget/TWENTY-FIRST_CENTURY_NM/21stcenturypa.com/wp/default?p=1453.tmp.html', '/home/jovyan/work/wget/parll_wget/TWENTY-FIRST_CENTURY_NM/21stcenturypa.com/wp/default?p=3904.tmp.html', '/home/jovyan/work/wget/parll_wget/TWENTY-FIRST_CENTURY_NM/21stcenturypa.com/wp/default?page_id=1199.tmp.html', '/home/jovyan/work/wget/parll_wget/TWENTY-FIRST_CENTURY_NM/21stcenturypa.com/wp/default?m=201703.tmp.html', '/home/jovyan/work/wget/parll_wget/TWENTY-FIRST_CENTURY_NM/21stcenturypa.com/wp/default?page=4&paged=6.tmp.html', '/home/jovyan/work/wget/parll_wget/TWENTY-FIRST_CENTURY_NM/21stcenturypa.com/wp/default?p=3681.tmp.html', '/home/jovyan/work/wget/parll_wget/TWENTY-FIRST_CENTURY_NM/21stcenturypa.com/wp/default?p=3977.tmp.html', '/home/jovyan/work/wget/parll_wget/TWENTY-FIRST_CENTURY_NM/21stcenturypa.com/wp/default?p=3610.tmp.html', '/home/jovyan/work/wget/parll_wget/TWENTY-FIRST_CENTURY_NM/21stcenturypa.com/wp/default?p=1201.tmp.html', '/home/jovyan/work/wget/parll_wget/TWENTY-FIRST_CENTURY_NM/21stcenturypa.com/wp/default?m=201608&paged=2.tmp.html', '/home/jovyan/work/wget/parll_wget/TWENTY-FIRST_CENTURY_NM/21stcenturypa.com/wp/default?m=201411&paged=4.tmp.html', '/home/jovyan/work/wget/parll_wget/TWENTY-FIRST_CENTURY_NM/21stcenturypa.com/wp/default?cat=13%2C9&paged=23.tmp.html', '/home/jovyan/work/wget/parll_wget/TWENTY-FIRST_CENTURY_NM/21stcenturypa.com/wp/default?p=103.tmp.html', '/home/jovyan/work/wget/parll_wget/TWENTY-FIRST_CENTURY_NM/21stcenturypa.com/wp/default?cat=12&paged=7.tmp.html', '/home/jovyan/work/wget/parll_wget/TWENTY-FIRST_CENTURY_NM/21stcenturypa.com/wp/default?page=4&paged=8.tmp.html', '/home/jovyan/work/wget/parll_wget/TWENTY-FIRST_CENTURY_NM/21stcenturypa.com/wp/default?page_id=39.tmp.html', '/home/jovyan/work/wget/parll_wget/TWENTY-FIRST_CENTURY_NM/21stcenturypa.com/wp/default?p=1144.tmp.html', '/home/jovyan/work/wget/parll_wget/TWENTY-FIRST_CENTURY_NM/21stcenturypa.com/wp/default?page=2&paged=6.tmp.html', '/home/jovyan/work/wget/parll_wget/TWENTY-FIRST_CENTURY_NM/21stcenturypa.com/wp/default?page=65&paged=68.tmp.html', '/home/jovyan/work/wget/parll_wget/TWENTY-FIRST_CENTURY_NM/21stcenturypa.com/wp/default?cat=9&paged=5.tmp.html', '/home/jovyan/work/wget/parll_wget/TWENTY-FIRST_CENTURY_NM/21stcenturypa.com/wp/default?cat=12&paged=2.tmp.html', '/home/jovyan/work/wget/parll_wget/TWENTY-FIRST_CENTURY_NM/21stcenturypa.com/wp/default?p=3394.tmp.html', '/home/jovyan/work/wget/parll_wget/TWENTY-FIRST_CENTURY_NM/21stcenturypa.com/wp/default?page=3&paged=64.tmp.html', '/home/jovyan/work/wget/parll_wget/TWENTY-FIRST_CENTURY_NM/21stcenturypa.com/wp/default?attachment_id=643.tmp.html', '/home/jovyan/work/wget/parll_wget/TWENTY-FIRST_CENTURY_NM/21stcenturypa.com/wp/default?page=68&paged=63.tmp.html', '/home/jovyan/work/wget/parll_wget/TWENTY-FIRST_CENTURY_NM/21stcenturypa.com/wp/default?p=704.tmp.html', '/home/jovyan/work/wget/parll_wget/TWENTY-FIRST_CENTURY_NM/21stcenturypa.com/wp/default?cat=8&paged=3.tmp.html', '/home/jovyan/work/wget/parll_wget/TWENTY-FIRST_CENTURY_NM/21stcenturypa.com/wp/default?p=3721.tmp.html', '/home/jovyan/work/wget/parll_wget/TWENTY-FIRST_CENTURY_NM/21stcenturypa.com/wp/default?attachment_id=662.tmp.html', '/home/jovyan/work/wget/parll_wget/TWENTY-FIRST_CENTURY_NM/21stcenturypa.com/wp/default?page=63&paged=65.tmp.html', '/home/jovyan/work/wget/parll_wget/TWENTY-FIRST_CENTURY_NM/21stcenturypa.com/wp/default?m=2013&paged=3.tmp.html', '/home/jovyan/work/wget/parll_wget/TWENTY-FIRST_CENTURY_NM/21stcenturypa.com/wp/default?page=4&paged=66.tmp.html', '/home/jovyan/work/wget/parll_wget/TWENTY-FIRST_CENTURY_NM/21stcenturypa.com/wp/default?attachment_id=667.tmp.html', '/home/jovyan/work/wget/parll_wget/TWENTY-FIRST_CENTURY_NM/21stcenturypa.com/wp/default?attachment_id=436.tmp.html', '/home/jovyan/work/wget/parll_wget/TWENTY-FIRST_CENTURY_NM/21stcenturypa.com/wp/default?p=246.tmp.html', '/home/jovyan/work/wget/parll_wget/TWENTY-FIRST_CENTURY_NM/21stcenturypa.com/wp/default?page=65.tmp.html', '/home/jovyan/work/wget/parll_wget/TWENTY-FIRST_CENTURY_NM/21stcenturypa.com/wp/default?p=1065.tmp.html', '/home/jovyan/work/wget/parll_wget/TWENTY-FIRST_CENTURY_NM/21stcenturypa.com/wp/default?p=3878.tmp.html', '/home/jovyan/work/wget/parll_wget/TWENTY-FIRST_CENTURY_NM/21stcenturypa.com/wp/default?p=3725.tmp.html', '/home/jovyan/work/wget/parll_wget/TWENTY-FIRST_CENTURY_NM/21stcenturypa.com/wp/default?page=68&paged=66.tmp.html', '/home/jovyan/work/wget/parll_wget/TWENTY-FIRST_CENTURY_NM/21stcenturypa.com/wp/default?p=3206.tmp.html', '/home/jovyan/work/wget/parll_wget/TWENTY-FIRST_CENTURY_NM/21stcenturypa.com/wp/default?attachment_id=261.tmp.html', '/home/jovyan/work/wget/parll_wget/TWENTY-FIRST_CENTURY_NM/21stcenturypa.com/wp/default?p=271.tmp.html', '/home/jovyan/work/wget/parll_wget/TWENTY-FIRST_CENTURY_NM/21stcenturypa.com/wp/default?attachment_id=583.tmp.html', '/home/jovyan/work/wget/parll_wget/TWENTY-FIRST_CENTURY_NM/21stcenturypa.com/wp/default?p=4059.tmp.html', '/home/jovyan/work/wget/parll_wget/TWENTY-FIRST_CENTURY_NM/21stcenturypa.com/wp/default?m=201411&paged=2.tmp.html', '/home/jovyan/work/wget/parll_wget/TWENTY-FIRST_CENTURY_NM/21stcenturypa.com/wp/default?p=3937.tmp.html', '/home/jovyan/work/wget/parll_wget/TWENTY-FIRST_CENTURY_NM/21stcenturypa.com/wp/default?p=4066.tmp.html', '/home/jovyan/work/wget/parll_wget/TWENTY-FIRST_CENTURY_NM/21stcenturypa.com/wp/default?attachment_id=644.tmp.html', '/home/jovyan/work/wget/parll_wget/TWENTY-FIRST_CENTURY_NM/21stcenturypa.com/wp/default?p=3967.tmp.html', '/home/jovyan/work/wget/parll_wget/TWENTY-FIRST_CENTURY_NM/21stcenturypa.com/wp/default?p=2414.tmp.html', '/home/jovyan/work/wget/parll_wget/TWENTY-FIRST_CENTURY_NM/21stcenturypa.com/wp/default?page=61.tmp.html', '/home/jovyan/work/wget/parll_wget/TWENTY-FIRST_CENTURY_NM/21stcenturypa.com/wp/default?p=702.tmp.html', '/home/jovyan/work/wget/parll_wget/TWENTY-FIRST_CENTURY_NM/21stcenturypa.com/wp/default?attachment_id=626.tmp.html', '/home/jovyan/work/wget/parll_wget/TWENTY-FIRST_CENTURY_NM/21stcenturypa.com/wp/default?m=201508.tmp.html', '/home/jovyan/work/wget/parll_wget/TWENTY-FIRST_CENTURY_NM/21stcenturypa.com/wp/default?cat=2&paged=6.tmp.html', '/home/jovyan/work/wget/parll_wget/TWENTY-FIRST_CENTURY_NM/21stcenturypa.com/wp/default?m=201708.tmp.html', '/home/jovyan/work/wget/parll_wget/TWENTY-FIRST_CENTURY_NM/21stcenturypa.com/wp/default?p=3159.tmp.html', '/home/jovyan/work/wget/parll_wget/TWENTY-FIRST_CENTURY_NM/21stcenturypa.com/wp/default?attachment_id=663.tmp.html', '/home/jovyan/work/wget/parll_wget/TWENTY-FIRST_CENTURY_NM/21stcenturypa.com/wp/default?page=66&paged=62.tmp.html', '/home/jovyan/work/wget/parll_wget/TWENTY-FIRST_CENTURY_NM/21stcenturypa.com/wp/default?p=3212.tmp.html', '/home/jovyan/work/wget/parll_wget/TWENTY-FIRST_CENTURY_NM/21stcenturypa.com/wp/default?m=2017&paged=21.tmp.html', '/home/jovyan/work/wget/parll_wget/TWENTY-FIRST_CENTURY_NM/21stcenturypa.com/wp/default?m=201606.tmp.html', '/home/jovyan/work/wget/parll_wget/TWENTY-FIRST_CENTURY_NM/21stcenturypa.com/wp/default?attachment_id=630.tmp.html', '/home/jovyan/work/wget/parll_wget/TWENTY-FIRST_CENTURY_NM/21stcenturypa.com/wp/default?attachment_id=639.tmp.html', '/home/jovyan/work/wget/parll_wget/TWENTY-FIRST_CENTURY_NM/21stcenturypa.com/wp/default?attachment_id=632.tmp.html', '/home/jovyan/work/wget/parll_wget/TWENTY-FIRST_CENTURY_NM/21stcenturypa.com/wp/default?page=2.tmp.html', '/home/jovyan/work/wget/parll_wget/TWENTY-FIRST_CENTURY_NM/21stcenturypa.com/wp/default?p=3858.tmp.html', '/home/jovyan/work/wget/parll_wget/TWENTY-FIRST_CENTURY_NM/21stcenturypa.com/wp/default?page_id=84.tmp.html', '/home/jovyan/work/wget/parll_wget/TWENTY-FIRST_CENTURY_NM/21stcenturypa.com/wp/default?m=201502&paged=2.tmp.html', '/home/jovyan/work/wget/parll_wget/TWENTY-FIRST_CENTURY_NM/21stcenturypa.com/wp/default?attachment_id=682.tmp.html', '/home/jovyan/work/wget/parll_wget/TWENTY-FIRST_CENTURY_NM/21stcenturypa.com/wp/default?p=1025.tmp.html', '/home/jovyan/work/wget/parll_wget/TWENTY-FIRST_CENTURY_NM/21stcenturypa.com/wp/default?p=3294.tmp.html', '/home/jovyan/work/wget/parll_wget/TWENTY-FIRST_CENTURY_NM/21stcenturypa.com/wp/default?m=201708&paged=2.tmp.html', '/home/jovyan/work/wget/parll_wget/TWENTY-FIRST_CENTURY_NM/21stcenturypa.com/wp/default?attachment_id=400.tmp.html', '/home/jovyan/work/wget/parll_wget/TWENTY-FIRST_CENTURY_NM/21stcenturypa.com/wp/default?attachment_id=694.tmp.html', '/home/jovyan/work/wget/parll_wget/TWENTY-FIRST_CENTURY_NM/21stcenturypa.com/wp/default?p=1870.tmp.html', '/home/jovyan/work/wget/parll_wget/TWENTY-FIRST_CENTURY_NM/21stcenturypa.com/wp/default?m=201705&paged=2.tmp.html', '/home/jovyan/work/wget/parll_wget/TWENTY-FIRST_CENTURY_NM/21stcenturypa.com/wp/default?attachment_id=587.tmp.html', '/home/jovyan/work/wget/parll_wget/TWENTY-FIRST_CENTURY_NM/21stcenturypa.com/wp/default?m=2017&paged=3.tmp.html', '/home/jovyan/work/wget/parll_wget/TWENTY-FIRST_CENTURY_NM/21stcenturypa.com/wp/default?page=65&paged=61.tmp.html', '/home/jovyan/work/wget/parll_wget/TWENTY-FIRST_CENTURY_NM/21stcenturypa.com/wp/default?p=612.tmp.html', '/home/jovyan/work/wget/parll_wget/TWENTY-FIRST_CENTURY_NM/21stcenturypa.com/wp/default?p=1190.tmp.html', '/home/jovyan/work/wget/parll_wget/TWENTY-FIRST_CENTURY_NM/21stcenturypa.com/wp/default?m=201305.tmp.html', '/home/jovyan/work/wget/parll_wget/TWENTY-FIRST_CENTURY_NM/21stcenturypa.com/wp/default?p=3331.tmp.html', '/home/jovyan/work/wget/parll_wget/TWENTY-FIRST_CENTURY_NM/21stcenturypa.com/wp/default?m=201707&paged=3.tmp.html', '/home/jovyan/work/wget/parll_wget/TWENTY-FIRST_CENTURY_NM/21stcenturypa.com/wp/default?p=1142.tmp.html', '/home/jovyan/work/wget/parll_wget/TWENTY-FIRST_CENTURY_NM/21stcenturypa.com/wp/default?p=1231.tmp.html', '/home/jovyan/work/wget/parll_wget/TWENTY-FIRST_CENTURY_NM/21stcenturypa.com/wp/default?p=2383.tmp.html', '/home/jovyan/work/wget/parll_wget/TWENTY-FIRST_CENTURY_NM/21stcenturypa.com/wp/default?m=201409&paged=3.tmp.html', '/home/jovyan/work/wget/parll_wget/TWENTY-FIRST_CENTURY_NM/21stcenturypa.com/wp/default?m=201311.tmp.html', '/home/jovyan/work/wget/parll_wget/TWENTY-FIRST_CENTURY_NM/21stcenturypa.com/wp/default?p=3373.tmp.html', '/home/jovyan/work/wget/parll_wget/TWENTY-FIRST_CENTURY_NM/21stcenturypa.com/wp/default?p=4063.tmp.html', '/home/jovyan/work/wget/parll_wget/TWENTY-FIRST_CENTURY_NM/21stcenturypa.com/wp/default?page_id=2433.tmp.html', '/home/jovyan/work/wget/parll_wget/TWENTY-FIRST_CENTURY_NM/21stcenturypa.com/wp/default?paged=59.tmp.html', '/home/jovyan/work/wget/parll_wget/TWENTY-FIRST_CENTURY_NM/21stcenturypa.com/wp/default?m=2015&paged=4.tmp.html', '/home/jovyan/work/wget/parll_wget/TWENTY-FIRST_CENTURY_NM/21stcenturypa.com/wp/default?paged=2.tmp.html', '/home/jovyan/work/wget/parll_wget/TWENTY-FIRST_CENTURY_NM/21stcenturypa.com/wp/default?p=980.tmp.html', '/home/jovyan/work/wget/parll_wget/TWENTY-FIRST_CENTURY_NM/21stcenturypa.com/wp/default?page=66&paged=67.tmp.html', '/home/jovyan/work/wget/parll_wget/TWENTY-FIRST_CENTURY_NM/21stcenturypa.com/wp/default?p=1039.tmp.html', '/home/jovyan/work/wget/parll_wget/TWENTY-FIRST_CENTURY_NM/21stcenturypa.com/wp/default?page_id=2334&paged=5.tmp.html', '/home/jovyan/work/wget/parll_wget/TWENTY-FIRST_CENTURY_NM/21stcenturypa.com/wp/default?cat=9&paged=2.tmp.html', '/home/jovyan/work/wget/parll_wget/TWENTY-FIRST_CENTURY_NM/21stcenturypa.com/wp/default?cat=6&paged=8.tmp.html', '/home/jovyan/work/wget/parll_wget/TWENTY-FIRST_CENTURY_NM/21stcenturypa.com/wp/default?p=1254.tmp.html', '/home/jovyan/work/wget/parll_wget/TWENTY-FIRST_CENTURY_NM/21stcenturypa.com/wp/default?page=3&paged=3.tmp.html', '/home/jovyan/work/wget/parll_wget/TWENTY-FIRST_CENTURY_NM/21stcenturypa.com/wp/default?page_id=2334&paged=18.tmp.html', '/home/jovyan/work/wget/parll_wget/TWENTY-FIRST_CENTURY_NM/21stcenturypa.com/wp/default?attachment_id=620.tmp.html', '/home/jovyan/work/wget/parll_wget/TWENTY-FIRST_CENTURY_NM/21stcenturypa.com/wp/default?p=1205.tmp.html', '/home/jovyan/work/wget/parll_wget/TWENTY-FIRST_CENTURY_NM/21stcenturypa.com/wp/default?p=137.tmp.html', '/home/jovyan/work/wget/parll_wget/TWENTY-FIRST_CENTURY_NM/21stcenturypa.com/wp/default?p=467.tmp.html', '/home/jovyan/work/wget/parll_wget/TWENTY-FIRST_CENTURY_NM/21stcenturypa.com/wp/default?p=967.tmp.html', '/home/jovyan/work/wget/parll_wget/TWENTY-FIRST_CENTURY_NM/21stcenturypa.com/wp/default?m=201501&paged=3.tmp.html', '/home/jovyan/work/wget/parll_wget/TWENTY-FIRST_CENTURY_NM/21stcenturypa.com/wp/default?page=68.tmp.html', '/home/jovyan/work/wget/parll_wget/TWENTY-FIRST_CENTURY_NM/21stcenturypa.com/wp/default?p=4343.tmp.html', '/home/jovyan/work/wget/parll_wget/TWENTY-FIRST_CENTURY_NM/21stcenturypa.com/wp/default?paged=64.tmp.html', '/home/jovyan/work/wget/parll_wget/TWENTY-FIRST_CENTURY_NM/21stcenturypa.com/wp/default?page=63&paged=67.tmp.html', '/home/jovyan/work/wget/parll_wget/TWENTY-FIRST_CENTURY_NM/21stcenturypa.com/wp/default?p=2587.tmp.html', '/home/jovyan/work/wget/parll_wget/TWENTY-FIRST_CENTURY_NM/21stcenturypa.com/wp/default?page=2&paged=65.tmp.html', '/home/jovyan/work/wget/parll_wget/TWENTY-FIRST_CENTURY_NM/21stcenturypa.com/wp/default?p=2389.tmp.html', '/home/jovyan/work/wget/parll_wget/TWENTY-FIRST_CENTURY_NM/21stcenturypa.com/wp/default?p=1180.tmp.html', '/home/jovyan/work/wget/parll_wget/TWENTY-FIRST_CENTURY_NM/21stcenturypa.com/wp/default?p=372.tmp.html', '/home/jovyan/work/wget/parll_wget/TWENTY-FIRST_CENTURY_NM/21stcenturypa.com/wp/default?p=997.tmp.html', '/home/jovyan/work/wget/parll_wget/TWENTY-FIRST_CENTURY_NM/21stcenturypa.com/wp/default?p=2803.tmp.html', '/home/jovyan/work/wget/parll_wget/TWENTY-FIRST_CENTURY_NM/21stcenturypa.com/wp/default?m=201503.tmp.html', '/home/jovyan/work/wget/parll_wget/TWENTY-FIRST_CENTURY_NM/21stcenturypa.com/wp/default?paged=62.tmp.html', '/home/jovyan/work/wget/parll_wget/TWENTY-FIRST_CENTURY_NM/21stcenturypa.com/wp/default?page=3&paged=6.tmp.html', '/home/jovyan/work/wget/parll_wget/TWENTY-FIRST_CENTURY_NM/21stcenturypa.com/wp/default?p=3810.tmp.html', '/home/jovyan/work/wget/parll_wget/TWENTY-FIRST_CENTURY_NM/21stcenturypa.com/wp/default?p=1246.tmp.html', '/home/jovyan/work/wget/parll_wget/TWENTY-FIRST_CENTURY_NM/21stcenturypa.com/wp/default?m=2014&paged=19.tmp.html', '/home/jovyan/work/wget/parll_wget/TWENTY-FIRST_CENTURY_NM/21stcenturypa.com/wp/default?page_id=2334&paged=6.tmp.html', '/home/jovyan/work/wget/parll_wget/TWENTY-FIRST_CENTURY_NM/21stcenturypa.com/wp/default?p=4024.tmp.html', '/home/jovyan/work/wget/parll_wget/TWENTY-FIRST_CENTURY_NM/21stcenturypa.com/wp/default?paged=8.tmp.html', '/home/jovyan/work/wget/parll_wget/TWENTY-FIRST_CENTURY_NM/21stcenturypa.com/wp/default?m=201507.tmp.html', '/home/jovyan/work/wget/parll_wget/TWENTY-FIRST_CENTURY_NM/21stcenturypa.com/wp/default?attachment_id=680.tmp.html', '/home/jovyan/work/wget/parll_wget/TWENTY-FIRST_CENTURY_NM/21stcenturypa.com/wp/default?attachment_id=582.tmp.html', '/home/jovyan/work/wget/parll_wget/TWENTY-FIRST_CENTURY_NM/21stcenturypa.com/wp/default?page_id=2442.tmp.html', '/home/jovyan/work/wget/parll_wget/TWENTY-FIRST_CENTURY_NM/21stcenturypa.com/wp/default?m=2017&paged=20.tmp.html', '/home/jovyan/work/wget/parll_wget/TWENTY-FIRST_CENTURY_NM/21stcenturypa.com/wp/default?p=965.tmp.html', '/home/jovyan/work/wget/parll_wget/TWENTY-FIRST_CENTURY_NM/21stcenturypa.com/wp/default?m=201410.tmp.html', '/home/jovyan/work/wget/parll_wget/TWENTY-FIRST_CENTURY_NM/21stcenturypa.com/wp/default?cat=2&paged=3.tmp.html', '/home/jovyan/work/wget/parll_wget/TWENTY-FIRST_CENTURY_NM/21stcenturypa.com/wp/default?p=4027.tmp.html', '/home/jovyan/work/wget/parll_wget/TWENTY-FIRST_CENTURY_NM/21stcenturypa.com/wp/default?page=62.tmp.html', '/home/jovyan/work/wget/parll_wget/TWENTY-FIRST_CENTURY_NM/21stcenturypa.com/wp/default?p=434.tmp.html', '/home/jovyan/work/wget/parll_wget/TWENTY-FIRST_CENTURY_NM/21stcenturypa.com/wp/default?attachment_id=649.tmp.html', '/home/jovyan/work/wget/parll_wget/TWENTY-FIRST_CENTURY_NM/21stcenturypa.com/wp/default?attachment_id=685.tmp.html', '/home/jovyan/work/wget/parll_wget/TWENTY-FIRST_CENTURY_NM/21stcenturypa.com/wp/default?p=283.tmp.html', '/home/jovyan/work/wget/parll_wget/TWENTY-FIRST_CENTURY_NM/21stcenturypa.com/wp/default?cat=7.tmp.html', '/home/jovyan/work/wget/parll_wget/TWENTY-FIRST_CENTURY_NM/21stcenturypa.com/wp/default?p=3563.tmp.html', '/home/jovyan/work/wget/parll_wget/TWENTY-FIRST_CENTURY_NM/21stcenturypa.com/wp/default?p=1037.tmp.html', '/home/jovyan/work/wget/parll_wget/TWENTY-FIRST_CENTURY_NM/21stcenturypa.com/wp/default?page=67&paged=61.tmp.html', '/home/jovyan/work/wget/parll_wget/TWENTY-FIRST_CENTURY_NM/21stcenturypa.com/wp/default?p=4270.tmp.html', '/home/jovyan/work/wget/parll_wget/TWENTY-FIRST_CENTURY_NM/21stcenturypa.com/wp/default?p=3183.tmp.html', '/home/jovyan/work/wget/parll_wget/TWENTY-FIRST_CENTURY_NM/21stcenturypa.com/wp/default?page=7&paged=67.tmp.html', '/home/jovyan/work/wget/parll_wget/TWENTY-FIRST_CENTURY_NM/21stcenturypa.com/wp/default?p=452.tmp.html', '/home/jovyan/work/wget/parll_wget/TWENTY-FIRST_CENTURY_NM/21stcenturypa.com/wp/default?attachment_id=660.tmp.html', '/home/jovyan/work/wget/parll_wget/TWENTY-FIRST_CENTURY_NM/21stcenturypa.com/wp/default?cat=5&paged=3.tmp.html', '/home/jovyan/work/wget/parll_wget/TWENTY-FIRST_CENTURY_NM/21stcenturypa.com/wp/default?p=843.tmp.html', '/home/jovyan/work/wget/parll_wget/TWENTY-FIRST_CENTURY_NM/21stcenturypa.com/wp/default?page=5&paged=8.tmp.html', '/home/jovyan/work/wget/parll_wget/TWENTY-FIRST_CENTURY_NM/21stcenturypa.com/wp/default?p=1282.tmp.html', '/home/jovyan/work/wget/parll_wget/TWENTY-FIRST_CENTURY_NM/21stcenturypa.com/wp/default?p=3313.tmp.html', '/home/jovyan/work/wget/parll_wget/TWENTY-FIRST_CENTURY_NM/21stcenturypa.com/wp/default?m=201609.tmp.html', '/home/jovyan/work/wget/parll_wget/TWENTY-FIRST_CENTURY_NM/21stcenturypa.com/wp/default?m=201705.tmp.html', '/home/jovyan/work/wget/parll_wget/TWENTY-FIRST_CENTURY_NM/21stcenturypa.com/wp/default?m=201605&paged=2.tmp.html', '/home/jovyan/work/wget/parll_wget/TWENTY-FIRST_CENTURY_NM/21stcenturypa.com/wp/default?p=3171.tmp.html', '/home/jovyan/work/wget/parll_wget/TWENTY-FIRST_CENTURY_NM/21stcenturypa.com/wp/default?p=733.tmp.html', '/home/jovyan/work/wget/parll_wget/TWENTY-FIRST_CENTURY_NM/21stcenturypa.com/wp/default?page=66&paged=65.tmp.html', '/home/jovyan/work/wget/parll_wget/TWENTY-FIRST_CENTURY_NM/21stcenturypa.com/wp/default?cat=5&paged=5.tmp.html', '/home/jovyan/work/wget/parll_wget/TWENTY-FIRST_CENTURY_NM/21stcenturypa.com/wp/default?m=201511&paged=2.tmp.html', '/home/jovyan/work/wget/parll_wget/TWENTY-FIRST_CENTURY_NM/21stcenturypa.com/wp/default?p=294.tmp.html', '/home/jovyan/work/wget/parll_wget/TWENTY-FIRST_CENTURY_NM/21stcenturypa.com/wp/default?m=201704.tmp.html', '/home/jovyan/work/wget/parll_wget/TWENTY-FIRST_CENTURY_NM/21stcenturypa.com/wp/default?p=3458.tmp.html', '/home/jovyan/work/wget/parll_wget/TWENTY-FIRST_CENTURY_NM/21stcenturypa.com/wp/default?page=3&paged=7.tmp.html', '/home/jovyan/work/wget/parll_wget/TWENTY-FIRST_CENTURY_NM/21stcenturypa.com/wp/default?cat=5&paged=8.tmp.html', '/home/jovyan/work/wget/parll_wget/TWENTY-FIRST_CENTURY_NM/21stcenturypa.com/wp/default?p=3953.tmp.html', '/home/jovyan/work/wget/parll_wget/TWENTY-FIRST_CENTURY_NM/21stcenturypa.com/wp/default?p=106.tmp.html', '/home/jovyan/work/wget/parll_wget/TWENTY-FIRST_CENTURY_NM/21stcenturypa.com/wp/default?p=577.tmp.html', '/home/jovyan/work/wget/parll_wget/TWENTY-FIRST_CENTURY_NM/21stcenturypa.com/wp/default?attachment_id=598.tmp.html', '/home/jovyan/work/wget/parll_wget/TWENTY-FIRST_CENTURY_NM/21stcenturypa.com/wp/default?p=3929.tmp.html', '/home/jovyan/work/wget/parll_wget/TWENTY-FIRST_CENTURY_NM/21stcenturypa.com/wp/default?cat=13%2C9&paged=9.tmp.html', '/home/jovyan/work/wget/parll_wget/TWENTY-FIRST_CENTURY_NM/21stcenturypa.com/wp/default?page=66&paged=68.tmp.html', '/home/jovyan/work/wget/parll_wget/TWENTY-FIRST_CENTURY_NM/21stcenturypa.com/wp/default?page_id=3971.tmp.html', '/home/jovyan/work/wget/parll_wget/TWENTY-FIRST_CENTURY_NM/21stcenturypa.com/wp/default?p=1027.tmp.html', '/home/jovyan/work/wget/parll_wget/TWENTY-FIRST_CENTURY_NM/21stcenturypa.com/wp/default?p=3861.tmp.html', '/home/jovyan/work/wget/parll_wget/TWENTY-FIRST_CENTURY_NM/21stcenturypa.com/wp/default?page=68&paged=62.tmp.html', '/home/jovyan/work/wget/parll_wget/TWENTY-FIRST_CENTURY_NM/21stcenturypa.com/wp/default?p=3567.tmp.html', '/home/jovyan/work/wget/parll_wget/TWENTY-FIRST_CENTURY_NM/21stcenturypa.com/wp/default?p=424.tmp.html', '/home/jovyan/work/wget/parll_wget/TWENTY-FIRST_CENTURY_NM/21stcenturypa.com/wp/default?page=67.tmp.html', '/home/jovyan/work/wget/parll_wget/TWENTY-FIRST_CENTURY_NM/21stcenturypa.com/wp/default?p=2725.tmp.html', '/home/jovyan/work/wget/parll_wget/TWENTY-FIRST_CENTURY_NM/21stcenturypa.com/wp/default?p=1308.tmp.html', '/home/jovyan/work/wget/parll_wget/TWENTY-FIRST_CENTURY_NM/21stcenturypa.com/wp/default?m=2016&paged=3.tmp.html', '/home/jovyan/work/wget/parll_wget/TWENTY-FIRST_CENTURY_NM/21stcenturypa.com/wp/default?cat=9&paged=6.tmp.html', '/home/jovyan/work/wget/parll_wget/TWENTY-FIRST_CENTURY_NM/21stcenturypa.com/wp/default?page_id=190.tmp.html', '/home/jovyan/work/wget/parll_wget/TWENTY-FIRST_CENTURY_NM/21stcenturypa.com/wp/default?paged=5.tmp.html', '/home/jovyan/work/wget/parll_wget/TWENTY-FIRST_CENTURY_NM/21stcenturypa.com/wp/default?p=2808.tmp.html', '/home/jovyan/work/wget/parll_wget/TWENTY-FIRST_CENTURY_NM/21stcenturypa.com/wp/default?p=1394.tmp.html', '/home/jovyan/work/wget/parll_wget/TWENTY-FIRST_CENTURY_NM/21stcenturypa.com/wp/default?page=7.tmp.html', '/home/jovyan/work/wget/parll_wget/TWENTY-FIRST_CENTURY_NM/21stcenturypa.com/wp/default?page=7&paged=68.tmp.html', '/home/jovyan/work/wget/parll_wget/TWENTY-FIRST_CENTURY_NM/21stcenturypa.com/wp/default?p=3322.tmp.html', '/home/jovyan/work/wget/parll_wget/TWENTY-FIRST_CENTURY_NM/21stcenturypa.com/wp/default?p=3872.tmp.html', '/home/jovyan/work/wget/parll_wget/TWENTY-FIRST_CENTURY_NM/21stcenturypa.com/wp/default?page_id=2334.tmp.html', '/home/jovyan/work/wget/parll_wget/TWENTY-FIRST_CENTURY_NM/21stcenturypa.com/wp/default?m=2013&paged=2.tmp.html', '/home/jovyan/work/wget/parll_wget/TWENTY-FIRST_CENTURY_NM/21stcenturypa.com/wp/default?cat=11&paged=2.tmp.html', '/home/jovyan/work/wget/parll_wget/TWENTY-FIRST_CENTURY_NM/21stcenturypa.com/wp/default?m=201605.tmp.html', '/home/jovyan/work/wget/parll_wget/TWENTY-FIRST_CENTURY_NM/21stcenturypa.com/wp/default?attachment_id=633.tmp.html', '/home/jovyan/work/wget/parll_wget/TWENTY-FIRST_CENTURY_NM/21stcenturypa.com/wp/default?page=4&paged=68.tmp.html', '/home/jovyan/work/wget/parll_wget/TWENTY-FIRST_CENTURY_NM/21stcenturypa.com/wp/default?m=201602&paged=2.tmp.html', '/home/jovyan/work/wget/parll_wget/TWENTY-FIRST_CENTURY_NM/21stcenturypa.com/wp/default?page=4&paged=67.tmp.html', '/home/jovyan/work/wget/parll_wget/TWENTY-FIRST_CENTURY_NM/21stcenturypa.com/wp/default?attachment_id=696.tmp.html', '/home/jovyan/work/wget/parll_wget/TWENTY-FIRST_CENTURY_NM/21stcenturypa.com/wp/default?p=3783.tmp.html', '/home/jovyan/work/wget/parll_wget/TWENTY-FIRST_CENTURY_NM/21stcenturypa.com/wp/default?page=64&paged=67.tmp.html', '/home/jovyan/work/wget/parll_wget/TWENTY-FIRST_CENTURY_NM/21stcenturypa.com/wp/default?p=2710.tmp.html', '/home/jovyan/work/wget/parll_wget/TWENTY-FIRST_CENTURY_NM/21stcenturypa.com/wp/default?p=3911.tmp.html', '/home/jovyan/work/wget/parll_wget/TWENTY-FIRST_CENTURY_NM/21stcenturypa.com/wp/default?cat=12&paged=11.tmp.html', '/home/jovyan/work/wget/parll_wget/TWENTY-FIRST_CENTURY_NM/21stcenturypa.com/wp/default?cat=5&paged=17.tmp.html', '/home/jovyan/work/wget/parll_wget/TWENTY-FIRST_CENTURY_NM/21stcenturypa.com/wp/default?p=3801.tmp.html', '/home/jovyan/work/wget/parll_wget/TWENTY-FIRST_CENTURY_NM/21stcenturypa.com/wp/default?m=201707&paged=2.tmp.html', '/home/jovyan/work/wget/parll_wget/TWENTY-FIRST_CENTURY_NM/21stcenturypa.com/wp/default?attachment_id=636.tmp.html', '/home/jovyan/work/wget/parll_wget/TWENTY-FIRST_CENTURY_NM/21stcenturypa.com/wp/default?m=201411.tmp.html', '/home/jovyan/work/wget/parll_wget/TWENTY-FIRST_CENTURY_NM/21stcenturypa.com/wp/default?page=2&paged=63.tmp.html', '/home/jovyan/work/wget/parll_wget/TWENTY-FIRST_CENTURY_NM/21stcenturypa.com/wp/default?attachment_id=658.tmp.html', '/home/jovyan/work/wget/parll_wget/TWENTY-FIRST_CENTURY_NM/21stcenturypa.com/wp/default?p=3824.tmp.html', '/home/jovyan/work/wget/parll_wget/TWENTY-FIRST_CENTURY_NM/21stcenturypa.com/wp/default?author=1&paged=80.tmp.html', '/home/jovyan/work/wget/parll_wget/TWENTY-FIRST_CENTURY_NM/21stcenturypa.com/wp/default?cat=2&paged=7.tmp.html', '/home/jovyan/work/wget/parll_wget/TWENTY-FIRST_CENTURY_NM/21stcenturypa.com/wp/default?p=3561.tmp.html', '/home/jovyan/work/wget/parll_wget/TWENTY-FIRST_CENTURY_NM/21stcenturypa.com/wp/default?attachment_id=640.tmp.html', '/home/jovyan/work/wget/parll_wget/TWENTY-FIRST_CENTURY_NM/21stcenturypa.com/wp/default?page_id=4149.tmp.html', '/home/jovyan/work/wget/parll_wget/TWENTY-FIRST_CENTURY_NM/21stcenturypa.com/wp/default?p=437.tmp.html', '/home/jovyan/work/wget/parll_wget/TWENTY-FIRST_CENTURY_NM/21stcenturypa.com/wp/default?attachment_id=627.tmp.html', '/home/jovyan/work/wget/parll_wget/TWENTY-FIRST_CENTURY_NM/21stcenturypa.com/wp/default?p=3350.tmp.html', '/home/jovyan/work/wget/parll_wget/TWENTY-FIRST_CENTURY_NM/21stcenturypa.com/wp/default?m=201403.tmp.html', '/home/jovyan/work/wget/parll_wget/TWENTY-FIRST_CENTURY_NM/21stcenturypa.com/wp/default?page_id=2334&paged=2.tmp.html', '/home/jovyan/work/wget/parll_wget/TWENTY-FIRST_CENTURY_NM/21stcenturypa.com/wp/default?m=201409&paged=2.tmp.html', '/home/jovyan/work/wget/parll_wget/TWENTY-FIRST_CENTURY_NM/21stcenturypa.com/wp/default?p=3319.tmp.html', '/home/jovyan/work/wget/parll_wget/TWENTY-FIRST_CENTURY_NM/21stcenturypa.com/wp/default?paged=63.tmp.html', '/home/jovyan/work/wget/parll_wget/TWENTY-FIRST_CENTURY_NM/21stcenturypa.com/wp/default?attachment_id=405.tmp.html', '/home/jovyan/work/wget/parll_wget/TWENTY-FIRST_CENTURY_NM/21stcenturypa.com/wp/default?m=201503&paged=3.tmp.html', '/home/jovyan/work/wget/parll_wget/TWENTY-FIRST_CENTURY_NM/21stcenturypa.com/wp/default?p=3328.tmp.html', '/home/jovyan/work/wget/parll_wget/TWENTY-FIRST_CENTURY_NM/21stcenturypa.com/wp/default?page=66&paged=66.tmp.html', '/home/jovyan/work/wget/parll_wget/TWENTY-FIRST_CENTURY_NM/21stcenturypa.com/wp/default?page=6&paged=8.tmp.html', '/home/jovyan/work/wget/parll_wget/TWENTY-FIRST_CENTURY_NM/21stcenturypa.com/wp/default?p=1123.tmp.html', '/home/jovyan/work/wget/parll_wget/TWENTY-FIRST_CENTURY_NM/21stcenturypa.com/wp/default?page_id=2334&paged=7.tmp.html', '/home/jovyan/work/wget/parll_wget/TWENTY-FIRST_CENTURY_NM/21stcenturypa.com/wp/default?s=.tmp.html', '/home/jovyan/work/wget/parll_wget/TWENTY-FIRST_CENTURY_NM/21stcenturypa.com/wp/default?author=1&paged=86.tmp.html', '/home/jovyan/work/wget/parll_wget/TWENTY-FIRST_CENTURY_NM/21stcenturypa.com/wp/default?page=2&paged=8.tmp.html', '/home/jovyan/work/wget/parll_wget/TWENTY-FIRST_CENTURY_NM/21stcenturypa.com/wp/default?attachment_id=399.tmp.html', '/home/jovyan/work/wget/parll_wget/TWENTY-FIRST_CENTURY_NM/21stcenturypa.com/wp/default?m=201509&paged=2.tmp.html', '/home/jovyan/work/wget/parll_wget/TWENTY-FIRST_CENTURY_NM/21stcenturypa.com/wp/default?m=201609&paged=3.tmp.html', '/home/jovyan/work/wget/parll_wget/TWENTY-FIRST_CENTURY_NM/21stcenturypa.com/wp/default?page=6&paged=4.tmp.html', '/home/jovyan/work/wget/parll_wget/TWENTY-FIRST_CENTURY_NM/21stcenturypa.com/wp/default?m=201505.tmp.html', '/home/jovyan/work/wget/parll_wget/TWENTY-FIRST_CENTURY_NM/21stcenturypa.com/wp/default?m=2017&paged=5.tmp.html', '/home/jovyan/work/wget/parll_wget/TWENTY-FIRST_CENTURY_NM/21stcenturypa.com/wp/default?cat=13%2C9&paged=29.tmp.html', '/home/jovyan/work/wget/parll_wget/TWENTY-FIRST_CENTURY_NM/21stcenturypa.com/wp/default?p=775.tmp.html', '/home/jovyan/work/wget/parll_wget/TWENTY-FIRST_CENTURY_NM/21stcenturypa.com/wp/default?p=846.tmp.html', '/home/jovyan/work/wget/parll_wget/TWENTY-FIRST_CENTURY_NM/21stcenturypa.com/wp/default?m=2013.tmp.html', '/home/jovyan/work/wget/parll_wget/TWENTY-FIRST_CENTURY_NM/21stcenturypa.com/wp/default?m=201506.tmp.html', '/home/jovyan/work/wget/parll_wget/TWENTY-FIRST_CENTURY_NM/21stcenturypa.com/wp/default?p=146.tmp.html', '/home/jovyan/work/wget/parll_wget/TWENTY-FIRST_CENTURY_NM/21stcenturypa.com/wp/default?p=2731.tmp.html', '/home/jovyan/work/wget/parll_wget/TWENTY-FIRST_CENTURY_NM/21stcenturypa.com/wp/default?attachment_id=676.tmp.html', '/home/jovyan/work/wget/parll_wget/TWENTY-FIRST_CENTURY_NM/21stcenturypa.com/wp/default?cat=7&paged=2.tmp.html', '/home/jovyan/work/wget/parll_wget/TWENTY-FIRST_CENTURY_NM/21stcenturypa.com/wp/default?m=2015&paged=21.tmp.html', '/home/jovyan/work/wget/parll_wget/TWENTY-FIRST_CENTURY_NM/21stcenturypa.com/wp/default?page=4.tmp.html', '/home/jovyan/work/wget/parll_wget/TWENTY-FIRST_CENTURY_NM/21stcenturypa.com/wp/default?p=3430.tmp.html', '/home/jovyan/work/wget/parll_wget/TWENTY-FIRST_CENTURY_NM/21stcenturypa.com/wp/default?page=4&paged=5.tmp.html', '/home/jovyan/work/wget/parll_wget/TWENTY-FIRST_CENTURY_NM/21stcenturypa.com/wp/default?p=771.tmp.html', '/home/jovyan/work/wget/parll_wget/TWENTY-FIRST_CENTURY_NM/21stcenturypa.com/wp/default?m=201501.tmp.html', '/home/jovyan/work/wget/parll_wget/TWENTY-FIRST_CENTURY_NM/21stcenturypa.com/wp/default?page=2&paged=68.tmp.html', '/home/jovyan/work/wget/parll_wget/TWENTY-FIRST_CENTURY_NM/21stcenturypa.com/wp/default?p=3525.tmp.html', '/home/jovyan/work/wget/parll_wget/TWENTY-FIRST_CENTURY_NM/21stcenturypa.com/wp/default?m=201602&paged=3.tmp.html', '/home/jovyan/work/wget/parll_wget/TWENTY-FIRST_CENTURY_NM/21stcenturypa.com/wp/default?page=65&paged=63.tmp.html', '/home/jovyan/work/wget/parll_wget/TWENTY-FIRST_CENTURY_NM/21stcenturypa.com/wp/default?p=109.tmp.html', '/home/jovyan/work/wget/parll_wget/TWENTY-FIRST_CENTURY_NM/21stcenturypa.com/wp/default?m=201308.tmp.html', '/home/jovyan/work/wget/parll_wget/TWENTY-FIRST_CENTURY_NM/21stcenturypa.com/wp/default?cat=9&paged=3.tmp.html', '/home/jovyan/work/wget/parll_wget/TWENTY-FIRST_CENTURY_NM/21stcenturypa.com/wp/default?p=3173.tmp.html', '/home/jovyan/work/wget/parll_wget/TWENTY-FIRST_CENTURY_NM/21stcenturypa.com/wp/default?cat=13.tmp.html', '/home/jovyan/work/wget/parll_wget/TWENTY-FIRST_CENTURY_NM/21stcenturypa.com/wp/default?page_id=2334&paged=15.tmp.html', '/home/jovyan/work/wget/parll_wget/TWENTY-FIRST_CENTURY_NM/21stcenturypa.com/wp/default?p=3418.tmp.html', '/home/jovyan/work/wget/parll_wget/TWENTY-FIRST_CENTURY_NM/21stcenturypa.com/wp/default?attachment_id=641.tmp.html', '/home/jovyan/work/wget/parll_wget/TWENTY-FIRST_CENTURY_NM/21stcenturypa.com/wp/default?cat=12&paged=4.tmp.html', '/home/jovyan/work/wget/parll_wget/TWENTY-FIRST_CENTURY_NM/21stcenturypa.com/wp/default?p=3365.tmp.html', '/home/jovyan/work/wget/parll_wget/TWENTY-FIRST_CENTURY_NM/21stcenturypa.com/wp/default?p=2707.tmp.html', '/home/jovyan/work/wget/parll_wget/TWENTY-FIRST_CENTURY_NM/21stcenturypa.com/wp/default?m=2017&paged=19.tmp.html', '/home/jovyan/work/wget/parll_wget/TWENTY-FIRST_CENTURY_NM/21stcenturypa.com/wp/default?attachment_id=241.tmp.html', '/home/jovyan/work/wget/parll_wget/TWENTY-FIRST_CENTURY_NM/21stcenturypa.com/wp/default?p=3895.tmp.html', '/home/jovyan/work/wget/parll_wget/TWENTY-FIRST_CENTURY_NM/21stcenturypa.com/wp/default?attachment_id=584.tmp.html', '/home/jovyan/work/wget/parll_wget/TWENTY-FIRST_CENTURY_NM/21stcenturypa.com/wp/default?p=2704.tmp.html', '/home/jovyan/work/wget/parll_wget/TWENTY-FIRST_CENTURY_NM/21stcenturypa.com/wp/default?p=3628.tmp.html', '/home/jovyan/work/wget/parll_wget/TWENTY-FIRST_CENTURY_NM/21stcenturypa.com/wp/default?m=2015&paged=5.tmp.html', '/home/jovyan/work/wget/parll_wget/TWENTY-FIRST_CENTURY_NM/21stcenturypa.com/wp/default?p=3665.tmp.html', '/home/jovyan/work/wget/parll_wget/TWENTY-FIRST_CENTURY_NM/21stcenturypa.com/wp/default?m=201610&paged=2.tmp.html', '/home/jovyan/work/wget/parll_wget/TWENTY-FIRST_CENTURY_NM/21stcenturypa.com/wp/default?m=2014&paged=4.tmp.html', '/home/jovyan/work/wget/parll_wget/TWENTY-FIRST_CENTURY_NM/21stcenturypa.com/wp/default?cat=13%2C9&paged=3.tmp.html', '/home/jovyan/work/wget/parll_wget/TWENTY-FIRST_CENTURY_NM/21stcenturypa.com/wp/default?p=2607.tmp.html', '/home/jovyan/work/wget/parll_wget/TWENTY-FIRST_CENTURY_NM/21stcenturypa.com/wp/default?p=3993.tmp.html', '/home/jovyan/work/wget/parll_wget/TWENTY-FIRST_CENTURY_NM/21stcenturypa.com/wp/default?p=244.tmp.html', '/home/jovyan/work/wget/parll_wget/TWENTY-FIRST_CENTURY_NM/21stcenturypa.com/wp/default?page=64.tmp.html', '/home/jovyan/work/wget/parll_wget/TWENTY-FIRST_CENTURY_NM/21stcenturypa.com/wp/default?p=3230.tmp.html', '/home/jovyan/work/wget/parll_wget/TWENTY-FIRST_CENTURY_NM/21stcenturypa.com/wp/default?p=555.tmp.html', '/home/jovyan/work/wget/parll_wget/TWENTY-FIRST_CENTURY_NM/21stcenturypa.com/wp/default?m=201412.tmp.html', '/home/jovyan/work/wget/parll_wget/TWENTY-FIRST_CENTURY_NM/21stcenturypa.com/wp/default?m=201511&paged=3.tmp.html', '/home/jovyan/work/wget/parll_wget/TWENTY-FIRST_CENTURY_NM/21stcenturypa.com/wp/default?m=2014&paged=21.tmp.html', '/home/jovyan/work/wget/parll_wget/TWENTY-FIRST_CENTURY_NM/21stcenturypa.com/wp/default?p=3698.tmp.html', '/home/jovyan/work/wget/parll_wget/TWENTY-FIRST_CENTURY_NM/21stcenturypa.com/wp/default?p=4015.tmp.html', '/home/jovyan/work/wget/parll_wget/TWENTY-FIRST_CENTURY_NM/21stcenturypa.com/wp/default?p=150.tmp.html', '/home/jovyan/work/wget/parll_wget/TWENTY-FIRST_CENTURY_NM/21stcenturypa.com/wp/default?attachment_id=585.tmp.html', '/home/jovyan/work/wget/parll_wget/TWENTY-FIRST_CENTURY_NM/21stcenturypa.com/wp/default?p=553.tmp.html', '/home/jovyan/work/wget/parll_wget/TWENTY-FIRST_CENTURY_NM/21stcenturypa.com/wp/default?paged=67.tmp.html', '/home/jovyan/work/wget/parll_wget/TWENTY-FIRST_CENTURY_NM/21stcenturypa.com/wp/default?page=64&paged=63.tmp.html', '/home/jovyan/work/wget/parll_wget/TWENTY-FIRST_CENTURY_NM/21stcenturypa.com/wp/default?p=1248.tmp.html', '/home/jovyan/work/wget/parll_wget/TWENTY-FIRST_CENTURY_NM/21stcenturypa.com/wp/default?page=7&paged=6.tmp.html', '/home/jovyan/work/wget/parll_wget/TWENTY-FIRST_CENTURY_NM/21stcenturypa.com/wp/default?page_id=37.tmp.html', '/home/jovyan/work/wget/parll_wget/TWENTY-FIRST_CENTURY_NM/21stcenturypa.com/wp/default?cat=12&paged=5.tmp.html', '/home/jovyan/work/wget/parll_wget/TWENTY-FIRST_CENTURY_NM/21stcenturypa.com/wp/default?attachment_id=679.tmp.html', '/home/jovyan/work/wget/parll_wget/TWENTY-FIRST_CENTURY_NM/21stcenturypa.com/wp/default?page=68&paged=64.tmp.html', '/home/jovyan/work/wget/parll_wget/TWENTY-FIRST_CENTURY_NM/21stcenturypa.com/wp/default?attachment_id=263.tmp.html', '/home/jovyan/work/wget/parll_wget/TWENTY-FIRST_CENTURY_NM/21stcenturypa.com/wp/default?m=201710&paged=2.tmp.html', '/home/jovyan/work/wget/parll_wget/TWENTY-FIRST_CENTURY_NM/21stcenturypa.com/wp/default?cat=9.tmp.html', '/home/jovyan/work/wget/parll_wget/TWENTY-FIRST_CENTURY_NM/21stcenturypa.com/wp/default?page=6&paged=5.tmp.html', '/home/jovyan/work/wget/parll_wget/TWENTY-FIRST_CENTURY_NM/21stcenturypa.com/wp/default?p=4101.tmp.html', '/home/jovyan/work/wget/parll_wget/TWENTY-FIRST_CENTURY_NM/21stcenturypa.com/wp/default?cat=6&paged=5.tmp.html', '/home/jovyan/work/wget/parll_wget/TWENTY-FIRST_CENTURY_NM/21stcenturypa.com/wp/default?cat=5&paged=18.tmp.html', '/home/jovyan/work/wget/parll_wget/TWENTY-FIRST_CENTURY_NM/21stcenturypa.com/wp/default?page_id=60.tmp.html', '/home/jovyan/work/wget/parll_wget/TWENTY-FIRST_CENTURY_NM/21stcenturypa.com/wp/default?p=581.tmp.html', '/home/jovyan/work/wget/parll_wget/TWENTY-FIRST_CENTURY_NM/21stcenturypa.com/wp/default?p=1872.tmp.html', '/home/jovyan/work/wget/parll_wget/TWENTY-FIRST_CENTURY_NM/21stcenturypa.com/wp/default?page_id=113.tmp.html', '/home/jovyan/work/wget/parll_wget/TWENTY-FIRST_CENTURY_NM/21stcenturypa.com/wp/default?m=201602.tmp.html', '/home/jovyan/work/wget/parll_wget/TWENTY-FIRST_CENTURY_NM/21stcenturypa.com/wp/default?p=3357.tmp.html', '/home/jovyan/work/wget/parll_wget/TWENTY-FIRST_CENTURY_NM/21stcenturypa.com/wp/default?p=351.tmp.html', '/home/jovyan/work/wget/parll_wget/TWENTY-FIRST_CENTURY_NM/21stcenturypa.com/wp/default?page=64&paged=66.tmp.html', '/home/jovyan/work/wget/parll_wget/TWENTY-FIRST_CENTURY_NM/21stcenturypa.com/wp/default?p=1178.tmp.html', '/home/jovyan/work/wget/parll_wget/TWENTY-FIRST_CENTURY_NM/21stcenturypa.com/wp/default?p=513.tmp.html', '/home/jovyan/work/wget/parll_wget/TWENTY-FIRST_CENTURY_NM/21stcenturypa.com/wp/default?page=2&paged=7.tmp.html', '/home/jovyan/work/wget/parll_wget/TWENTY-FIRST_CENTURY_NM/21stcenturypa.com/wp/default?m=201301.tmp.html', '/home/jovyan/work/wget/parll_wget/TWENTY-FIRST_CENTURY_NM/21stcenturypa.com/wp/default?m=201504&paged=3.tmp.html', '/home/jovyan/work/wget/parll_wget/TWENTY-FIRST_CENTURY_NM/21stcenturypa.com/wp/default?p=4051.tmp.html', '/home/jovyan/work/wget/parll_wget/TWENTY-FIRST_CENTURY_NM/21stcenturypa.com/wp/default?p=2609.tmp.html', '/home/jovyan/work/wget/parll_wget/TWENTY-FIRST_CENTURY_NM/21stcenturypa.com/wp/default?page=67&paged=65.tmp.html', '/home/jovyan/work/wget/parll_wget/TWENTY-FIRST_CENTURY_NM/21stcenturypa.com/wp/default?p=3371.tmp.html', '/home/jovyan/work/wget/parll_wget/TWENTY-FIRST_CENTURY_NM/21stcenturypa.com/wp/default?p=548.tmp.html', '/home/jovyan/work/wget/parll_wget/TWENTY-FIRST_CENTURY_NM/21stcenturypa.com/wp/default?m=201312.tmp.html', '/home/jovyan/work/wget/parll_wget/TWENTY-FIRST_CENTURY_NM/21stcenturypa.com/wp/default?p=984.tmp.html', '/home/jovyan/work/wget/parll_wget/TWENTY-FIRST_CENTURY_NM/21stcenturypa.com/wp/default?page=7&paged=8.tmp.html', '/home/jovyan/work/wget/parll_wget/TWENTY-FIRST_CENTURY_NM/21stcenturypa.com/wp/default?cat=9&paged=4.tmp.html', '/home/jovyan/work/wget/parll_wget/TWENTY-FIRST_CENTURY_NM/21stcenturypa.com/wp/default?p=3798.tmp.html', '/home/jovyan/work/wget/parll_wget/TWENTY-FIRST_CENTURY_NM/21stcenturypa.com/wp/default?cat=2&paged=4.tmp.html', '/home/jovyan/work/wget/parll_wget/TWENTY-FIRST_CENTURY_NM/21stcenturypa.com/wp/default?p=3920.tmp.html', '/home/jovyan/work/wget/parll_wget/TWENTY-FIRST_CENTURY_NM/21stcenturypa.com/wp/default?m=201408&paged=2.tmp.html', '/home/jovyan/work/wget/parll_wget/TWENTY-FIRST_CENTURY_NM/21stcenturypa.com/wp/default?page=7&paged=9.tmp.html', '/home/jovyan/work/wget/parll_wget/TWENTY-FIRST_CENTURY_NM/21stcenturypa.com/wp/default?m=2016&paged=5.tmp.html', '/home/jovyan/work/wget/parll_wget/TWENTY-FIRST_CENTURY_NM/21stcenturypa.com/wp/default?p=3426.tmp.html', '/home/jovyan/work/wget/parll_wget/TWENTY-FIRST_CENTURY_NM/21stcenturypa.com/wp/default?p=3202.tmp.html', '/home/jovyan/work/wget/parll_wget/TWENTY-FIRST_CENTURY_NM/21stcenturypa.com/wp/default?p=4112.tmp.html', '/home/jovyan/work/wget/parll_wget/TWENTY-FIRST_CENTURY_NM/21stcenturypa.com/wp/default?attachment_id=661.tmp.html', '/home/jovyan/work/wget/parll_wget/TWENTY-FIRST_CENTURY_NM/21stcenturypa.com/wp/default?page=3&paged=2.tmp.html', '/home/jovyan/work/wget/parll_wget/TWENTY-FIRST_CENTURY_NM/21stcenturypa.com/wp/default?page=5&paged=6.tmp.html', '/home/jovyan/work/wget/parll_wget/TWENTY-FIRST_CENTURY_NM/21stcenturypa.com/wp/default?p=357.tmp.html', '/home/jovyan/work/wget/parll_wget/TWENTY-FIRST_CENTURY_NM/21stcenturypa.com/wp/default?m=201503&paged=2.tmp.html', '/home/jovyan/work/wget/parll_wget/TWENTY-FIRST_CENTURY_NM/21stcenturypa.com/wp/default?m=201611&paged=2.tmp.html', '/home/jovyan/work/wget/parll_wget/TWENTY-FIRST_CENTURY_NM/21stcenturypa.com/wp/default?page=67&paged=67.tmp.html', '/home/jovyan/work/wget/parll_wget/TWENTY-FIRST_CENTURY_NM/21stcenturypa.com/wp/default?m=201611.tmp.html', '/home/jovyan/work/wget/parll_wget/TWENTY-FIRST_CENTURY_NM/21stcenturypa.com/wp/default?m=201609&paged=4.tmp.html', '/home/jovyan/work/wget/parll_wget/TWENTY-FIRST_CENTURY_NM/21stcenturypa.com/wp/default?author=1&paged=81.tmp.html', '/home/jovyan/work/wget/parll_wget/TWENTY-FIRST_CENTURY_NM/21stcenturypa.com/wp/default?page=65&paged=62.tmp.html', '/home/jovyan/work/wget/parll_wget/TWENTY-FIRST_CENTURY_NM/21stcenturypa.com/wp/default?page=5&paged=5.tmp.html', '/home/jovyan/work/wget/parll_wget/TWENTY-FIRST_CENTURY_NM/21stcenturypa.com/wp/default?page=63&paged=62.tmp.html', '/home/jovyan/work/wget/parll_wget/TWENTY-FIRST_CENTURY_NM/21stcenturypa.com/wp/default?p=2653.tmp.html', '/home/jovyan/work/wget/parll_wget/TWENTY-FIRST_CENTURY_NM/21stcenturypa.com/wp/default?cat=13%2C9&paged=27.tmp.html', '/home/jovyan/work/wget/parll_wget/TWENTY-FIRST_CENTURY_NM/21stcenturypa.com/wp/default?p=614.tmp.html', '/home/jovyan/work/wget/parll_wget/TWENTY-FIRST_CENTURY_NM/21stcenturypa.com/wp/default?p=4173.tmp.html', '/home/jovyan/work/wget/parll_wget/TWENTY-FIRST_CENTURY_NM/21stcenturypa.com/wp/default?p=3196.tmp.html', '/home/jovyan/work/wget/parll_wget/TWENTY-FIRST_CENTURY_NM/21stcenturypa.com/wp/default?p=579.tmp.html', '/home/jovyan/work/wget/parll_wget/TWENTY-FIRST_CENTURY_NM/21stcenturypa.com/wp/default?page=65&paged=66.tmp.html', '/home/jovyan/work/wget/parll_wget/TWENTY-FIRST_CENTURY_NM/21stcenturypa.com/wp/default?attachment_id=593.tmp.html', '/home/jovyan/work/wget/parll_wget/TWENTY-FIRST_CENTURY_NM/21stcenturypa.com/wp/default?p=4171.tmp.html', '/home/jovyan/work/wget/parll_wget/TWENTY-FIRST_CENTURY_NM/21stcenturypa.com/wp/default?p=3396.tmp.html', '/home/jovyan/work/wget/parll_wget/TWENTY-FIRST_CENTURY_NM/21stcenturypa.com/wp/default?page=68&paged=68.tmp.html', '/home/jovyan/work/wget/parll_wget/TWENTY-FIRST_CENTURY_NM/21stcenturypa.com/wp/default?attachment_id=599.tmp.html', '/home/jovyan/work/wget/parll_wget/TWENTY-FIRST_CENTURY_NM/21stcenturypa.com/wp/default?p=3540.tmp.html', '/home/jovyan/work/wget/parll_wget/TWENTY-FIRST_CENTURY_NM/21stcenturypa.com/wp/default?p=4061.tmp.html', '/home/jovyan/work/wget/parll_wget/TWENTY-FIRST_CENTURY_NM/21stcenturypa.com/wp/default?p=1126.tmp.html', '/home/jovyan/work/wget/parll_wget/TWENTY-FIRST_CENTURY_NM/21stcenturypa.com/wp/default?p=3923.tmp.html', '/home/jovyan/work/wget/parll_wget/TWENTY-FIRST_CENTURY_NM/21stcenturypa.com/wp/default?p=840.tmp.html', '/home/jovyan/work/wget/parll_wget/TWENTY-FIRST_CENTURY_NM/21stcenturypa.com/wp/default?p=1165.tmp.html', '/home/jovyan/work/wget/parll_wget/TWENTY-FIRST_CENTURY_NM/21stcenturypa.com/wp/default?attachment_id=681.tmp.html', '/home/jovyan/work/wget/parll_wget/TWENTY-FIRST_CENTURY_NM/21stcenturypa.com/wp/default?p=3939.tmp.html', '/home/jovyan/work/wget/parll_wget/TWENTY-FIRST_CENTURY_NM/21stcenturypa.com/wp/default?cat=13%2C9&paged=4.tmp.html', '/home/jovyan/work/wget/parll_wget/TWENTY-FIRST_CENTURY_NM/21stcenturypa.com/wp/default?m=201604&paged=2.tmp.html', '/home/jovyan/work/wget/parll_wget/TWENTY-FIRST_CENTURY_NM/21stcenturypa.com/wp/default?cat=13%2C9&paged=8.tmp.html', '/home/jovyan/work/wget/parll_wget/TWENTY-FIRST_CENTURY_NM/21stcenturypa.com/wp/default?m=201306.tmp.html', '/home/jovyan/work/wget/parll_wget/TWENTY-FIRST_CENTURY_NM/21stcenturypa.com/wp/default?paged=3.tmp.html', '/home/jovyan/work/wget/parll_wget/TWENTY-FIRST_CENTURY_NM/21stcenturypa.com/wp/default?page_id=116.tmp.html', '/home/jovyan/work/wget/parll_wget/TWENTY-FIRST_CENTURY_NM/21stcenturypa.com/wp/default?p=688.tmp.html', '/home/jovyan/work/wget/parll_wget/TWENTY-FIRST_CENTURY_NM/21stcenturypa.com/wp/default?page_id=2334&paged=4.tmp.html', '/home/jovyan/work/wget/parll_wget/TWENTY-FIRST_CENTURY_NM/21stcenturypa.com/wp/default?p=2746.tmp.html', '/home/jovyan/work/wget/parll_wget/TWENTY-FIRST_CENTURY_NM/21stcenturypa.com/wp/default?p=3991.tmp.html', '/home/jovyan/work/wget/parll_wget/TWENTY-FIRST_CENTURY_NM/21stcenturypa.com/wp/default?p=3352.tmp.html', '/home/jovyan/work/wget/parll_wget/TWENTY-FIRST_CENTURY_NM/21stcenturypa.com/wp/default?p=3683.tmp.html', '/home/jovyan/work/wget/parll_wget/TWENTY-FIRST_CENTURY_NM/21stcenturypa.com/wp/default?attachment_id=672.tmp.html', '/home/jovyan/work/wget/parll_wget/TWENTY-FIRST_CENTURY_NM/21stcenturypa.com/wp/default?m=201510&paged=2.tmp.html', '/home/jovyan/work/wget/parll_wget/TWENTY-FIRST_CENTURY_NM/21stcenturypa.com/wp/default?p=2148.tmp.html', '/home/jovyan/work/wget/parll_wget/TWENTY-FIRST_CENTURY_NM/21stcenturypa.com/wp/default?m=2014&paged=5.tmp.html', '/home/jovyan/work/wget/parll_wget/TWENTY-FIRST_CENTURY_NM/21stcenturypa.com/wp/default?p=2570.tmp.html', '/home/jovyan/work/wget/parll_wget/TWENTY-FIRST_CENTURY_NM/21stcenturypa.com/wp/default?m=201603.tmp.html', '/home/jovyan/work/wget/parll_wget/TWENTY-FIRST_CENTURY_NM/21stcenturypa.com/wp/default?p=4083.tmp.html', '/home/jovyan/work/wget/parll_wget/TWENTY-FIRST_CENTURY_NM/21stcenturypa.com/wp/default?attachment_id=675.tmp.html', '/home/jovyan/work/wget/parll_wget/TWENTY-FIRST_CENTURY_NM/21stcenturypa.com/wp/default?page=2&paged=64.tmp.html', '/home/jovyan/work/wget/parll_wget/TWENTY-FIRST_CENTURY_NM/21stcenturypa.com/wp/default?p=999.tmp.html', '/home/jovyan/work/wget/parll_wget/TWENTY-FIRST_CENTURY_NM/21stcenturypa.com/wp/default?page=9.tmp.html', '/home/jovyan/work/wget/parll_wget/TWENTY-FIRST_CENTURY_NM/21stcenturypa.com/wp/default?p=2595.tmp.html', '/home/jovyan/work/wget/parll_wget/TWENTY-FIRST_CENTURY_NM/21stcenturypa.com/wp/default?m=2016&paged=20.tmp.html', '/home/jovyan/work/wget/parll_wget/TWENTY-FIRST_CENTURY_NM/21stcenturypa.com/wp/default?m=201501&paged=2.tmp.html', '/home/jovyan/work/wget/parll_wget/TWENTY-FIRST_CENTURY_NM/21stcenturypa.com/wp/default?p=458.tmp.html', '/home/jovyan/work/wget/parll_wget/TWENTY-FIRST_CENTURY_NM/21stcenturypa.com/wp/default?cat=12.tmp.html', '/home/jovyan/work/wget/parll_wget/TWENTY-FIRST_CENTURY_NM/21stcenturypa.com/wp/default?page=2&paged=4.tmp.html', '/home/jovyan/work/wget/parll_wget/TWENTY-FIRST_CENTURY_NM/21stcenturypa.com/wp/default?paged=68.tmp.html', '/home/jovyan/work/wget/parll_wget/TWENTY-FIRST_CENTURY_NM/21stcenturypa.com/wp/default?p=299.tmp.html', '/home/jovyan/work/wget/parll_wget/TWENTY-FIRST_CENTURY_NM/21stcenturypa.com/wp/default?attachment_id=674.tmp.html', '/home/jovyan/work/wget/parll_wget/TWENTY-FIRST_CENTURY_NM/21stcenturypa.com/wp/default?p=4078.tmp.html', '/home/jovyan/work/wget/parll_wget/TWENTY-FIRST_CENTURY_NM/21stcenturypa.com/wp/default?attachment_id=628.tmp.html', '/home/jovyan/work/wget/parll_wget/TWENTY-FIRST_CENTURY_NM/21stcenturypa.com/wp/default?attachment_id=695.tmp.html', '/home/jovyan/work/wget/parll_wget/TWENTY-FIRST_CENTURY_NM/21stcenturypa.com/wp/default?cat=9&paged=25.tmp.html', '/home/jovyan/work/wget/parll_wget/TWENTY-FIRST_CENTURY_NM/21stcenturypa.com/wp/default?m=201509.tmp.html', '/home/jovyan/work/wget/parll_wget/TWENTY-FIRST_CENTURY_NM/21stcenturypa.com/wp/default?m=201408.tmp.html', '/home/jovyan/work/wget/parll_wget/TWENTY-FIRST_CENTURY_NM/21stcenturypa.com/wp/default?m=2017&paged=4.tmp.html', '/home/jovyan/work/wget/parll_wget/TWENTY-FIRST_CENTURY_NM/21stcenturypa.com/wp/default?p=3191.tmp.html', '/home/jovyan/work/wget/parll_wget/TWENTY-FIRST_CENTURY_NM/21stcenturypa.com/wp/default?page=7&paged=5.tmp.html', '/home/jovyan/work/wget/parll_wget/TWENTY-FIRST_CENTURY_NM/21stcenturypa.com/wp/default?p=1208.tmp.html', '/home/jovyan/work/wget/parll_wget/TWENTY-FIRST_CENTURY_NM/21stcenturypa.com/wp/default?attachment_id=398.tmp.html', '/home/jovyan/work/wget/parll_wget/TWENTY-FIRST_CENTURY_NM/21stcenturypa.com/wp/default?p=98.tmp.html', '/home/jovyan/work/wget/parll_wget/TWENTY-FIRST_CENTURY_NM/21stcenturypa.com/wp/default?cat=11.tmp.html', '/home/jovyan/work/wget/parll_wget/TWENTY-FIRST_CENTURY_NM/21stcenturypa.com/wp/default?m=201401.tmp.html', '/home/jovyan/work/wget/parll_wget/TWENTY-FIRST_CENTURY_NM/21stcenturypa.com/wp/default?p=335.tmp.html', '/home/jovyan/work/wget/parll_wget/TWENTY-FIRST_CENTURY_NM/21stcenturypa.com/wp/default?attachment_id=648.tmp.html', '/home/jovyan/work/wget/parll_wget/TWENTY-FIRST_CENTURY_NM/21stcenturypa.com/wp/default?p=848.tmp.html', '/home/jovyan/work/wget/parll_wget/TWENTY-FIRST_CENTURY_NM/21stcenturypa.com/wp/default?p=653.tmp.html', '/home/jovyan/work/wget/parll_wget/TWENTY-FIRST_CENTURY_NM/21stcenturypa.com/wp/default?m=2017.tmp.html', '/home/jovyan/work/wget/parll_wget/TWENTY-FIRST_CENTURY_NM/21stcenturypa.com/wp/default?cat=6&paged=9.tmp.html', '/home/jovyan/work/wget/parll_wget/TWENTY-FIRST_CENTURY_NM/21stcenturypa.com/wp/default?p=3663.tmp.html', '/home/jovyan/work/wget/parll_wget/TWENTY-FIRST_CENTURY_NM/21stcenturypa.com/wp/default?page=68&paged=65.tmp.html', '/home/jovyan/work/wget/parll_wget/TWENTY-FIRST_CENTURY_NM/21stcenturypa.com/wp/default?p=969.tmp.html', '/home/jovyan/work/wget/parll_wget/TWENTY-FIRST_CENTURY_NM/21stcenturypa.com/wp/default?page=3&paged=9.tmp.html', '/home/jovyan/work/wget/parll_wget/TWENTY-FIRST_CENTURY_NM/21stcenturypa.com/wp/default?cat=9&paged=24.tmp.html', '/home/jovyan/work/wget/parll_wget/TWENTY-FIRST_CENTURY_NM/21stcenturypa.com/wp/default?page=66&paged=63.tmp.html', '/home/jovyan/work/wget/parll_wget/TWENTY-FIRST_CENTURY_NM/21stcenturypa.com/wp/default?attachment_id=651.tmp.html', '/home/jovyan/work/wget/parll_wget/TWENTY-FIRST_CENTURY_NM/21stcenturypa.com/wp/default?m=201303.tmp.html', '/home/jovyan/work/wget/parll_wget/TWENTY-FIRST_CENTURY_NM/21stcenturypa.com/wp/default?p=139.tmp.html', '/home/jovyan/work/wget/parll_wget/TWENTY-FIRST_CENTURY_NM/21stcenturypa.com/wp/default?m=201505&paged=3.tmp.html', '/home/jovyan/work/wget/parll_wget/TWENTY-FIRST_CENTURY_NM/21stcenturypa.com/wp/default?paged=60.tmp.html', '/home/jovyan/work/wget/parll_wget/TWENTY-FIRST_CENTURY_NM/21stcenturypa.com/wp/default?p=154.tmp.html', '/home/jovyan/work/wget/parll_wget/TWENTY-FIRST_CENTURY_NM/21stcenturypa.com/wp/default?attachment_id=1035.tmp.html', '/home/jovyan/work/wget/parll_wget/TWENTY-FIRST_CENTURY_NM/21stcenturypa.com/wp/default?p=1030.tmp.html', '/home/jovyan/work/wget/parll_wget/TWENTY-FIRST_CENTURY_NM/21stcenturypa.com/wp/default?p=3719.tmp.html', '/home/jovyan/work/wget/parll_wget/TWENTY-FIRST_CENTURY_NM/21stcenturypa.com/wp/default?page=6&paged=7.tmp.html', '/home/jovyan/work/wget/parll_wget/TWENTY-FIRST_CENTURY_NM/21stcenturypa.com/wp/default?m=201410&paged=5.tmp.html', '/home/jovyan/work/wget/parll_wget/TWENTY-FIRST_CENTURY_NM/21stcenturypa.com/wp/default?page=4&paged=7.tmp.html', '/home/jovyan/work/wget/parll_wget/TWENTY-FIRST_CENTURY_NM/21stcenturypa.com/wp/default?cat=2.tmp.html', '/home/jovyan/work/wget/parll_wget/TWENTY-FIRST_CENTURY_NM/21stcenturypa.com/wp/default?cat=6.tmp.html', '/home/jovyan/work/wget/parll_wget/TWENTY-FIRST_CENTURY_NM/21stcenturypa.com/wp/default?p=972.tmp.html', '/home/jovyan/work/wget/parll_wget/TWENTY-FIRST_CENTURY_NM/21stcenturypa.com/wp/default?p=1219.tmp.html', '/home/jovyan/work/wget/parll_wget/TWENTY-FIRST_CENTURY_NM/21stcenturypa.com/wp/default?cat=8&paged=5.tmp.html', '/home/jovyan/work/wget/parll_wget/TWENTY-FIRST_CENTURY_NM/21stcenturypa.com/wp/default?p=3392.tmp.html', '/home/jovyan/work/wget/parll_wget/TWENTY-FIRST_CENTURY_NM/21stcenturypa.com/wp/default?page=4&paged=3.tmp.html', '/home/jovyan/work/wget/parll_wget/TWENTY-FIRST_CENTURY_NM/21stcenturypa.com/wp/default?p=3813.tmp.html', '/home/jovyan/work/wget/parll_wget/TWENTY-FIRST_CENTURY_NM/21stcenturypa.com/wp/default?m=2015&paged=22.tmp.html', '/home/jovyan/work/wget/parll_wget/TWENTY-FIRST_CENTURY_NM/21stcenturypa.com/wp/default?cat=9&paged=26.tmp.html', '/home/jovyan/work/wget/parll_wget/TWENTY-FIRST_CENTURY_NM/21stcenturypa.com/wp/default?attachment_id=652.tmp.html', '/home/jovyan/work/wget/parll_wget/TWENTY-FIRST_CENTURY_NM/21stcenturypa.com/wp/default?page=63&paged=61.tmp.html', '/home/jovyan/work/wget/parll_wget/TWENTY-FIRST_CENTURY_NM/21stcenturypa.com/wp/default?p=2604.tmp.html', '/home/jovyan/work/wget/parll_wget/TWENTY-FIRST_CENTURY_NM/21stcenturypa.com/wp/default?cat=13&paged=2.tmp.html', '/home/jovyan/work/wget/parll_wget/TWENTY-FIRST_CENTURY_NM/21stcenturypa.com/wp/default?attachment_id=666.tmp.html', '/home/jovyan/work/wget/parll_wget/TWENTY-FIRST_CENTURY_NM/21stcenturypa.com/wp/default?cat=13%2C9&paged=28.tmp.html', '/home/jovyan/work/wget/parll_wget/TWENTY-FIRST_CENTURY_NM/21stcenturypa.com/wp/default?page=67&paged=64.tmp.html', '/home/jovyan/work/wget/parll_wget/TWENTY-FIRST_CENTURY_NM/21stcenturypa.com/wp/default?m=2017&paged=2.tmp.html', '/home/jovyan/work/wget/parll_wget/TWENTY-FIRST_CENTURY_NM/21stcenturypa.com/wp/default?page=6&paged=68.tmp.html', '/home/jovyan/work/wget/parll_wget/TWENTY-FIRST_CENTURY_NM/21stcenturypa.com/wp/default?p=3786.tmp.html', '/home/jovyan/work/wget/parll_wget/TWENTY-FIRST_CENTURY_NM/21stcenturypa.com/wp/default?m=201505&paged=4.tmp.html', '/home/jovyan/work/wget/parll_wget/TWENTY-FIRST_CENTURY_NM/21stcenturypa.com/wp/default?p=2728.tmp.html', '/home/jovyan/work/wget/parll_wget/TWENTY-FIRST_CENTURY_NM/21stcenturypa.com/wp/default?m=201510.tmp.html', '/home/jovyan/work/wget/parll_wget/TWENTY-FIRST_CENTURY_NM/21stcenturypa.com/wp/default?page_id=2334&paged=9.tmp.html', '/home/jovyan/work/wget/parll_wget/TWENTY-FIRST_CENTURY_NM/21stcenturypa.com/wp/default?p=1387.tmp.html', '/home/jovyan/work/wget/parll_wget/TWENTY-FIRST_CENTURY_NM/21stcenturypa.com/wp/default?cat=9&paged=7.tmp.html', '/home/jovyan/work/wget/parll_wget/TWENTY-FIRST_CENTURY_NM/21stcenturypa.com/wp/default?p=3647.tmp.html', '/home/jovyan/work/wget/parll_wget/TWENTY-FIRST_CENTURY_NM/21stcenturypa.com/wp/default?page=4&paged=2.tmp.html', '/home/jovyan/work/wget/parll_wget/TWENTY-FIRST_CENTURY_NM/21stcenturypa.com/wp/default?cat=6&paged=4.tmp.html', '/home/jovyan/work/wget/parll_wget/TWENTY-FIRST_CENTURY_NM/21stcenturypa.com/wp/default?p=3711.tmp.html', '/home/jovyan/work/wget/parll_wget/TWENTY-FIRST_CENTURY_NM/21stcenturypa.com/wp/default?attachment_id=624.tmp.html', '/home/jovyan/work/wget/parll_wget/TWENTY-FIRST_CENTURY_NM/21stcenturypa.com/wp/default?m=201502.tmp.html', '/home/jovyan/work/wget/parll_wget/TWENTY-FIRST_CENTURY_NM/21stcenturypa.com/wp/default?p=1390.tmp.html', '/home/jovyan/work/wget/parll_wget/TWENTY-FIRST_CENTURY_NM/21stcenturypa.com/wp/default?m=2016&paged=4.tmp.html', '/home/jovyan/work/wget/parll_wget/TWENTY-FIRST_CENTURY_NM/21stcenturypa.com/wp/default?page_id=2334&paged=17.tmp.html', '/home/jovyan/work/wget/parll_wget/TWENTY-FIRST_CENTURY_NM/21stcenturypa.com/wp/default?page=64&paged=65.tmp.html', '/home/jovyan/work/wget/parll_wget/TWENTY-FIRST_CENTURY_NM/21stcenturypa.com/wp/default?attachment_id=665.tmp.html', '/home/jovyan/work/wget/parll_wget/TWENTY-FIRST_CENTURY_NM/21stcenturypa.com/wp/default?paged=10.tmp.html', '/home/jovyan/work/wget/parll_wget/TWENTY-FIRST_CENTURY_NM/21stcenturypa.com/wp/default?page=4&paged=65.tmp.html', '/home/jovyan/work/wget/parll_wget/TWENTY-FIRST_CENTURY_NM/21stcenturypa.com/wp/default?p=3336.tmp.html', '/home/jovyan/work/wget/parll_wget/TWENTY-FIRST_CENTURY_NM/21stcenturypa.com/wp/default?cat=2&paged=5.tmp.html', '/home/jovyan/work/wget/parll_wget/TWENTY-FIRST_CENTURY_NM/21stcenturypa.com/wp/default?m=201405.tmp.html', '/home/jovyan/work/wget/parll_wget/TWENTY-FIRST_CENTURY_NM/21stcenturypa.com/wp/default?p=4142.tmp.html', '/home/jovyan/work/wget/parll_wget/TWENTY-FIRST_CENTURY_NM/21stcenturypa.com/wp/default?attachment_id=1149.tmp.html', '/home/jovyan/work/wget/parll_wget/TWENTY-FIRST_CENTURY_NM/21stcenturypa.com/wp/default?m=201708&paged=3.tmp.html', '/home/jovyan/work/wget/parll_wget/TWENTY-FIRST_CENTURY_NM/21stcenturypa.com/wp/default?p=3828.tmp.html', '/home/jovyan/work/wget/parll_wget/TWENTY-FIRST_CENTURY_NM/21stcenturypa.com/wp/default?attachment_id=637.tmp.html', '/home/jovyan/work/wget/parll_wget/TWENTY-FIRST_CENTURY_NM/21stcenturypa.com/wp/default?p=992.tmp.html', '/home/jovyan/work/wget/parll_wget/TWENTY-FIRST_CENTURY_NM/21stcenturypa.com/wp/default?author=1&paged=4.tmp.html', '/home/jovyan/work/wget/parll_wget/TWENTY-FIRST_CENTURY_NM/21stcenturypa.com/wp/default?m=201409.tmp.html', '/home/jovyan/work/wget/parll_wget/TWENTY-FIRST_CENTURY_NM/21stcenturypa.com/wp/default?attachment_id=634.tmp.html', '/home/jovyan/work/wget/parll_wget/TWENTY-FIRST_CENTURY_NM/21stcenturypa.com/wp/default?p=3263.tmp.html', '/home/jovyan/work/wget/parll_wget/TWENTY-FIRST_CENTURY_NM/21stcenturypa.com/wp/default?attachment_id=664.tmp.html', '/home/jovyan/work/wget/parll_wget/TWENTY-FIRST_CENTURY_NM/21stcenturypa.com/wp/default?p=3571.tmp.html', '/home/jovyan/work/wget/parll_wget/TWENTY-FIRST_CENTURY_NM/21stcenturypa.com/wp/default?p=3909.tmp.html', '/home/jovyan/work/wget/parll_wget/TWENTY-FIRST_CENTURY_NM/21stcenturypa.com/wp/default?p=617.tmp.html', '/home/jovyan/work/wget/parll_wget/TWENTY-FIRST_CENTURY_NM/21stcenturypa.com/wp/default?p=727.tmp.html', '/home/jovyan/work/wget/parll_wget/TWENTY-FIRST_CENTURY_NM/21stcenturypa.com/wp/default?p=2167.tmp.html', '/home/jovyan/work/wget/parll_wget/TWENTY-FIRST_CENTURY_NM/21stcenturypa.com/wp/default?p=1210.tmp.html', '/home/jovyan/work/wget/parll_wget/TWENTY-FIRST_CENTURY_NM/21stcenturypa.com/wp/default?p=2810.tmp.html', '/home/jovyan/work/wget/parll_wget/TWENTY-FIRST_CENTURY_NM/21stcenturypa.com/wp/default?attachment_id=656.tmp.html', '/home/jovyan/work/wget/parll_wget/TWENTY-FIRST_CENTURY_NM/21stcenturypa.com/wp/default?p=156.tmp.html', '/home/jovyan/work/wget/parll_wget/TWENTY-FIRST_CENTURY_NM/21stcenturypa.com/wp/default?p=412.tmp.html', '/home/jovyan/work/wget/parll_wget/TWENTY-FIRST_CENTURY_NM/21stcenturypa.com/wp/default?page=3&paged=5.tmp.html', '/home/jovyan/work/wget/parll_wget/TWENTY-FIRST_CENTURY_NM/21stcenturypa.com/wp/default?p=3223.tmp.html', '/home/jovyan/work/wget/parll_wget/TWENTY-FIRST_CENTURY_NM/21stcenturypa.com/wp/default?author=1&paged=84.tmp.html', '/home/jovyan/work/wget/parll_wget/TWENTY-FIRST_CENTURY_NM/21stcenturypa.com/wp/default?m=201711.tmp.html', '/home/jovyan/work/wget/parll_wget/TWENTY-FIRST_CENTURY_NM/21stcenturypa.com/wp/default?attachment_id=406.tmp.html', '/home/jovyan/work/wget/parll_wget/TWENTY-FIRST_CENTURY_NM/21stcenturypa.com/wp/default?p=3964.tmp.html', '/home/jovyan/work/wget/parll_wget/TWENTY-FIRST_CENTURY_NM/21stcenturypa.com/wp/default?page=2&paged=5.tmp.html', '/home/jovyan/work/wget/parll_wget/TWENTY-FIRST_CENTURY_NM/21stcenturypa.com/wp/default?p=414.tmp.html', '/home/jovyan/work/wget/parll_wget/TWENTY-FIRST_CENTURY_NM/21stcenturypa.com/wp/default?attachment_id=669.tmp.html', '/home/jovyan/work/wget/parll_wget/TWENTY-FIRST_CENTURY_NM/21stcenturypa.com/wp/default?m=201710&paged=3.tmp.html', '/home/jovyan/work/wget/parll_wget/TWENTY-FIRST_CENTURY_NM/21stcenturypa.com/wp/default?attachment_id=677.tmp.html', '/home/jovyan/work/wget/parll_wget/TWENTY-FIRST_CENTURY_NM/21stcenturypa.com/wp/default?page=2&paged=67.tmp.html', '/home/jovyan/work/wget/parll_wget/TWENTY-FIRST_CENTURY_NM/21stcenturypa.com/wp/default?p=441.tmp.html', '/home/jovyan/work/wget/parll_wget/TWENTY-FIRST_CENTURY_NM/21stcenturypa.com/wp/default?m=2014&paged=2.tmp.html', '/home/jovyan/work/wget/parll_wget/TWENTY-FIRST_CENTURY_NM/21stcenturypa.com/wp/default?cat=5&paged=20.tmp.html', '/home/jovyan/work/wget/parll_wget/TWENTY-FIRST_CENTURY_NM/21stcenturypa.com/wp/default?m=2016.tmp.html', '/home/jovyan/work/wget/parll_wget/TWENTY-FIRST_CENTURY_NM/21stcenturypa.com/wp/default?page_id=68.tmp.html', '/home/jovyan/work/wget/parll_wget/TWENTY-FIRST_CENTURY_NM/21stcenturypa.com/wp/default?p=4096.tmp.html', '/home/jovyan/work/wget/parll_wget/TWENTY-FIRST_CENTURY_NM/21stcenturypa.com/wp/default?paged=65.tmp.html', '/home/jovyan/work/wget/parll_wget/TWENTY-FIRST_CENTURY_NM/21stcenturypa.com/wp/default?p=2665.tmp.html', '/home/jovyan/work/wget/parll_wget/TWENTY-FIRST_CENTURY_NM/21stcenturypa.com/wp/default?author=1&paged=9.tmp.html', '/home/jovyan/work/wget/parll_wget/TWENTY-FIRST_CENTURY_NM/21stcenturypa.com/wp/default?author=1&paged=5.tmp.html', '/home/jovyan/work/wget/parll_wget/TWENTY-FIRST_CENTURY_NM/21stcenturypa.com/wp/default?author=1&paged=79.tmp.html', '/home/jovyan/work/wget/parll_wget/TWENTY-FIRST_CENTURY_NM/21stcenturypa.com/wp/default?p=3291.tmp.html', '/home/jovyan/work/wget/parll_wget/TWENTY-FIRST_CENTURY_NM/21stcenturypa.com/wp/default?page_id=43.tmp.html', '/home/jovyan/work/wget/parll_wget/TWENTY-FIRST_CENTURY_NM/21stcenturypa.com/wp/default?p=3974.tmp.html', '/home/jovyan/work/wget/parll_wget/TWENTY-FIRST_CENTURY_NM/21stcenturypa.com/wp/default?m=201710.tmp.html', '/home/jovyan/work/wget/parll_wget/TWENTY-FIRST_CENTURY_NM/21stcenturypa.com/wp/default?p=475.tmp.html', '/home/jovyan/work/wget/parll_wget/TWENTY-FIRST_CENTURY_NM/21stcenturypa.com/wp/default?attachment_id=631.tmp.html', '/home/jovyan/work/wget/parll_wget/TWENTY-FIRST_CENTURY_NM/21stcenturypa.com/wp/default?page=6&paged=67.tmp.html', '/home/jovyan/work/wget/parll_wget/TWENTY-FIRST_CENTURY_NM/21stcenturypa.com/wp/default?cat=13%2C9&paged=24.tmp.html', '/home/jovyan/work/wget/parll_wget/TWENTY-FIRST_CENTURY_NM/21stcenturypa.com/wp/default?cat=5&paged=6.tmp.html', '/home/jovyan/work/wget/parll_wget/TWENTY-FIRST_CENTURY_NM/21stcenturypa.com/wp/default?p=1172.tmp.html', '/home/jovyan/work/wget/parll_wget/TWENTY-FIRST_CENTURY_NM/21stcenturypa.com/wp/default?p=3529.tmp.html', '/home/jovyan/work/wget/parll_wget/TWENTY-FIRST_CENTURY_NM/21stcenturypa.com/wp/default?p=1147.tmp.html', '/home/jovyan/work/wget/parll_wget/TWENTY-FIRST_CENTURY_NM/21stcenturypa.com/wp/default?cat=12&paged=13.tmp.html', '/home/jovyan/work/wget/parll_wget/TWENTY-FIRST_CENTURY_NM/21stcenturypa.com/wp/default?page=5&paged=67.tmp.html', '/home/jovyan/work/wget/parll_wget/TWENTY-FIRST_CENTURY_NM/21stcenturypa.com/wp/default?author=1&paged=83.tmp.html', '/home/jovyan/work/wget/parll_wget/TWENTY-FIRST_CENTURY_NM/21stcenturypa.com/wp/default?author=1&paged=8.tmp.html', '/home/jovyan/work/wget/parll_wget/TWENTY-FIRST_CENTURY_NM/21stcenturypa.com/wp/default?p=4057.tmp.html', '/home/jovyan/work/wget/parll_wget/TWENTY-FIRST_CENTURY_NM/21stcenturypa.com/wp/default?p=988.tmp.html', '/home/jovyan/work/wget/parll_wget/TWENTY-FIRST_CENTURY_NM/21stcenturypa.com/wp/default?p=3625.tmp.html', '/home/jovyan/work/wget/parll_wget/TWENTY-FIRST_CENTURY_NM/21stcenturypa.com/wp/default?p=889.tmp.html', '/home/jovyan/work/wget/parll_wget/TWENTY-FIRST_CENTURY_NM/21stcenturypa.com/wp/default?paged=6.tmp.html', '/home/jovyan/work/wget/parll_wget/TWENTY-FIRST_CENTURY_NM/21stcenturypa.com/wp/default?attachment_id=589.tmp.html', '/home/jovyan/work/wget/parll_wget/TWENTY-FIRST_CENTURY_NM/21stcenturypa.com/wp/default?page=5&paged=68.tmp.html', '/home/jovyan/work/wget/parll_wget/TWENTY-FIRST_CENTURY_NM/21stcenturypa.com/wp/default?p=1042.tmp.html', '/home/jovyan/work/wget/parll_wget/TWENTY-FIRST_CENTURY_NM/21stcenturypa.com/wp/default?attachment_id=650.tmp.html', '/home/jovyan/work/wget/parll_wget/TWENTY-FIRST_CENTURY_NM/21stcenturypa.com/wp/default?page_id=91.tmp.html', '/home/jovyan/work/wget/parll_wget/TWENTY-FIRST_CENTURY_NM/21stcenturypa.com/wp/default?p=3653.tmp.html', '/home/jovyan/work/wget/parll_wget/TWENTY-FIRST_CENTURY_NM/21stcenturypa.com/wp/default?cat=10.tmp.html', '/home/jovyan/work/wget/parll_wget/TWENTY-FIRST_CENTURY_NM/21stcenturypa.com/wp/default?p=2466.tmp.html', '/home/jovyan/work/wget/parll_wget/TWENTY-FIRST_CENTURY_NM/21stcenturypa.com/wp/default?p=3369.tmp.html', '/home/jovyan/work/wget/parll_wget/TWENTY-FIRST_CENTURY_NM/21stcenturypa.com/wp/default?m=201410&paged=2.tmp.html', '/home/jovyan/work/wget/parll_wget/TWENTY-FIRST_CENTURY_NM/21stcenturypa.com/wp/default?p=4359.tmp.html', '/home/jovyan/work/wget/parll_wget/TWENTY-FIRST_CENTURY_NM/21stcenturypa.com/wp/default?attachment_id=659.tmp.html', '/home/jovyan/work/wget/parll_wget/TWENTY-FIRST_CENTURY_NM/21stcenturypa.com/wp/default?cat=13%2C9&paged=6.tmp.html', '/home/jovyan/work/wget/parll_wget/TWENTY-FIRST_CENTURY_NM/21stcenturypa.com/wp/default?page=65&paged=64.tmp.html', '/home/jovyan/work/wget/parll_wget/TWENTY-FIRST_CENTURY_NM/21stcenturypa.com/wp/default?p=3600.tmp.html', '/home/jovyan/work/wget/parll_wget/TWENTY-FIRST_CENTURY_NM/21stcenturypa.com/wp/default?cat=5&paged=7.tmp.html', '/home/jovyan/work/wget/parll_wget/TWENTY-FIRST_CENTURY_NM/21stcenturypa.com/wp/default?p=3345.tmp.html', '/home/jovyan/work/wget/parll_wget/TWENTY-FIRST_CENTURY_NM/21stcenturypa.com/wp/default?p=3960.tmp.html', '/home/jovyan/work/wget/parll_wget/TWENTY-FIRST_CENTURY_NM/21stcenturypa.com/wp/default?p=3440.tmp.html', '/home/jovyan/work/wget/parll_wget/TWENTY-FIRST_CENTURY_NM/21stcenturypa.com/wp/default?p=3918.tmp.html', '/home/jovyan/work/wget/parll_wget/TWENTY-FIRST_CENTURY_NM/21stcenturypa.com/wp/default?page=4&paged=4.tmp.html', '/home/jovyan/work/wget/parll_wget/TWENTY-FIRST_CENTURY_NM/21stcenturypa.com/wp/default?p=994.tmp.html', '/home/jovyan/work/wget/parll_wget/TWENTY-FIRST_CENTURY_NM/21stcenturypa.com/wp/default?p=1428.tmp.html', '/home/jovyan/work/wget/parll_wget/TWENTY-FIRST_CENTURY_NM/21stcenturypa.com/wp/default?p=3958.tmp.html', '/home/jovyan/work/wget/parll_wget/TWENTY-FIRST_CENTURY_NM/21stcenturypa.com/wp/default?cat=6&paged=2.tmp.html', '/home/jovyan/work/wget/parll_wget/TWENTY-FIRST_CENTURY_NM/21stcenturypa.com/wp/default?p=990.tmp.html', '/home/jovyan/work/wget/parll_wget/TWENTY-FIRST_CENTURY_NM/21stcenturypa.com/wp/default?cat=8&paged=4.tmp.html', '/home/jovyan/work/wget/parll_wget/TWENTY-FIRST_CENTURY_NM/21stcenturypa.com/wp/default?paged=9.tmp.html', '/home/jovyan/work/wget/parll_wget/TWENTY-FIRST_CENTURY_NM/21stcenturypa.com/wp/default?p=164.tmp.html', '/home/jovyan/work/wget/parll_wget/TWENTY-FIRST_CENTURY_NM/21stcenturypa.com/wp/default?p=3649.tmp.html', '/home/jovyan/work/wget/parll_wget/TWENTY-FIRST_CENTURY_NM/21stcenturypa.com/wp/default?p=1425.tmp.html', '/home/jovyan/work/wget/parll_wget/TWENTY-FIRST_CENTURY_NM/21stcenturypa.com/wp/default?page=5.tmp.html', '/home/jovyan/work/wget/parll_wget/TWENTY-FIRST_CENTURY_NM/21stcenturypa.com/wp/default?page_id=2334&paged=3.tmp.html', '/home/jovyan/work/wget/parll_wget/TWENTY-FIRST_CENTURY_NM/21stcenturypa.com/wp/default?p=3270.tmp.html', '/home/jovyan/work/wget/parll_wget/TWENTY-FIRST_CENTURY_NM/21stcenturypa.com/wp/default?attachment_id=407.tmp.html', '/home/jovyan/work/wget/parll_wget/TWENTY-FIRST_CENTURY_NM/21stcenturypa.com/wp/default?m=201703&paged=3.tmp.html', '/home/jovyan/work/wget/parll_wget/TWENTY-FIRST_CENTURY_NM/21stcenturypa.com/wp/default?p=3695.tmp.html', '/home/jovyan/work/wget/parll_wget/TWENTY-FIRST_CENTURY_NM/21stcenturypa.com/wp/default?m=201604.tmp.html', '/home/jovyan/work/wget/parll_wget/TWENTY-FIRST_CENTURY_NM/21stcenturypa.com/wp/default?p=1120.tmp.html', '/home/jovyan/work/wget/parll_wget/TWENTY-FIRST_CENTURY_NM/21stcenturypa.com/wp/default?p=3830.tmp.html', '/home/jovyan/work/wget/parll_wget/TWENTY-FIRST_CENTURY_NM/21stcenturypa.com/wp/default?p=158.tmp.html', '/home/jovyan/work/wget/parll_wget/TWENTY-FIRST_CENTURY_NM/21stcenturypa.com/wp/default?p=3935.tmp.html', '/home/jovyan/work/wget/parll_wget/TWENTY-FIRST_CENTURY_NM/21stcenturypa.com/wp/default?author=1&paged=2.tmp.html', '/home/jovyan/work/wget/parll_wget/TWENTY-FIRST_CENTURY_NM/21stcenturypa.com/wp/default?m=201703&paged=2.tmp.html', '/home/jovyan/work/wget/parll_wget/TWENTY-FIRST_CENTURY_NM/21stcenturypa.com/wp/default.tmp.html', '/home/jovyan/work/wget/parll_wget/TWENTY-FIRST_CENTURY_NM/21stcenturypa.com/wp/default?attachment_id=699.tmp.html', '/home/jovyan/work/wget/parll_wget/TWENTY-FIRST_CENTURY_NM/21stcenturypa.com/wp/default?paged=4.tmp.html', '/home/jovyan/work/wget/parll_wget/TWENTY-FIRST_CENTURY_NM/21stcenturypa.com/wp/default?p=2392.tmp.html', '/home/jovyan/work/wget/parll_wget/TWENTY-FIRST_CENTURY_NM/21stcenturypa.com/wp/default?page_id=2334&paged=19.tmp.html', '/home/jovyan/work/wget/parll_wget/TWENTY-FIRST_CENTURY_NM/21stcenturypa.com/wp/default?m=201701.tmp.html', '/home/jovyan/work/wget/parll_wget/TWENTY-FIRST_CENTURY_NM/21stcenturypa.com/wp/default?author=1&paged=7.tmp.html', '/home/jovyan/work/wget/parll_wget/TWENTY-FIRST_CENTURY_NM/21stcenturypa.com/wp/default?p=3969.tmp.html', '/home/jovyan/work/wget/parll_wget/TWENTY-FIRST_CENTURY_NM/21stcenturypa.com/wp/default?cat=12&paged=14.tmp.html', '/home/jovyan/work/wget/parll_wget/TWENTY-FIRST_CENTURY_NM/21stcenturypa.com/wp/default?m=2015&paged=2.tmp.html', '/home/jovyan/work/wget/parll_wget/TWENTY-FIRST_CENTURY_NM/21stcenturypa.com/wp/default?page=3&paged=8.tmp.html', '/home/jovyan/work/wget/parll_wget/TWENTY-FIRST_CENTURY_NM/21stcenturypa.com/wp/default?cat=13%2C9&paged=7.tmp.html', '/home/jovyan/work/wget/parll_wget/TWENTY-FIRST_CENTURY_NM/21stcenturypa.com/wp/default?attachment_id=683.tmp.html', '/home/jovyan/work/wget/parll_wget/TWENTY-FIRST_CENTURY_NM/21stcenturypa.com/wp/default?cat=13%2C9&paged=26.tmp.html', '/home/jovyan/work/wget/parll_wget/TWENTY-FIRST_CENTURY_NM/21stcenturypa.com/wp/default?p=1192.tmp.html', '/home/jovyan/work/wget/parll_wget/TWENTY-FIRST_CENTURY_NM/21stcenturypa.com/wp/default?m=201702&paged=2.tmp.html', '/home/jovyan/work/wget/parll_wget/TWENTY-FIRST_CENTURY_NM/21stcenturypa.com/wp/default?p=1203.tmp.html', '/home/jovyan/work/wget/parll_wget/TWENTY-FIRST_CENTURY_NM/21stcenturypa.com/wp/default?p=3400.tmp.html', '/home/jovyan/work/wget/parll_wget/TWENTY-FIRST_CENTURY_NM/21stcenturypa.com/wp/default?p=2597.tmp.html', '/home/jovyan/work/wget/parll_wget/TWENTY-FIRST_CENTURY_NM/21stcenturypa.com/wp/default?p=3527.tmp.html', '/home/jovyan/work/wget/parll_wget/TWENTY-FIRST_CENTURY_NM/21stcenturypa.com/wp/default?page=6.tmp.html', '/home/jovyan/work/wget/parll_wget/TWENTY-FIRST_CENTURY_NM/21stcenturypa.com/wp/default?p=3598.tmp.html', '/home/jovyan/work/wget/parll_wget/TWENTY-FIRST_CENTURY_NM/21stcenturypa.com/wp/default?m=2014.tmp.html', '/home/jovyan/work/wget/parll_wget/TWENTY-FIRST_CENTURY_NM/21stcenturypa.com/wp/default?p=3781.tmp.html', '/home/jovyan/work/wget/parll_wget/TWENTY-FIRST_CENTURY_NM/21stcenturypa.com/wp/default?attachment_id=671.tmp.html', '/home/jovyan/work/wget/parll_wget/TWENTY-FIRST_CENTURY_NM/21stcenturypa.com/wp/default?page_id=2334&paged=16.tmp.html', '/home/jovyan/work/wget/parll_wget/TWENTY-FIRST_CENTURY_NM/21stcenturypa.com/wp/default?cat=12&paged=6.tmp.html', '/home/jovyan/work/wget/parll_wget/TWENTY-FIRST_CENTURY_NM/21stcenturypa.com/wp/default?p=1138.tmp.html', '/home/jovyan/work/wget/parll_wget/TWENTY-FIRST_CENTURY_NM/21stcenturypa.com/wp/default?attachment_id=621.tmp.html', '/home/jovyan/work/wget/parll_wget/TWENTY-FIRST_CENTURY_NM/21stcenturypa.com/wp/default?m=201405&paged=2.tmp.html', '/home/jovyan/work/wget/parll_wget/TWENTY-FIRST_CENTURY_NM/21stcenturypa.com/wp/default?m=201504&paged=2.tmp.html', '/home/jovyan/work/wget/parll_wget/TWENTY-FIRST_CENTURY_NM/21stcenturypa.com/wp/default?page_id=2334&paged=21.tmp.html', '/home/jovyan/work/wget/parll_wget/TWENTY-FIRST_CENTURY_NM/21stcenturypa.com/wp/default?p=3612.tmp.html', '/home/jovyan/work/wget/parll_wget/TWENTY-FIRST_CENTURY_NM/21stcenturypa.com/wp/default?attachment_id=240.tmp.html', '/home/jovyan/work/wget/parll_wget/TWENTY-FIRST_CENTURY_NM/21stcenturypa.com/wp/default?p=3806.tmp.html', '/home/jovyan/work/wget/parll_wget/TWENTY-FIRST_CENTURY_NM/21stcenturypa.com/wp/default?p=428.tmp.html', '/home/jovyan/work/wget/parll_wget/TWENTY-FIRST_CENTURY_NM/21stcenturypa.com/wp/default?p=3595.tmp.html', '/home/jovyan/work/wget/parll_wget/TWENTY-FIRST_CENTURY_NM/21stcenturypa.com/wp/default?p=3914.tmp.html', '/home/jovyan/work/wget/parll_wget/TWENTY-FIRST_CENTURY_NM/21stcenturypa.com/wp/default?attachment_id=262.tmp.html', '/home/jovyan/work/wget/parll_wget/TWENTY-FIRST_CENTURY_NM/21stcenturypa.com/wp/default?cat=12&paged=12.tmp.html', '/home/jovyan/work/wget/parll_wget/TWENTY-FIRST_CENTURY_NM/21stcenturypa.com/wp/default?attachment_id=645.tmp.html', '/home/jovyan/work/wget/parll_wget/TWENTY-FIRST_CENTURY_NM/21stcenturypa.com/wp/default?attachment_id=622.tmp.html', '/home/jovyan/work/wget/parll_wget/TWENTY-FIRST_CENTURY_NM/21stcenturypa.com/wp/default?m=201410&paged=3.tmp.html', '/home/jovyan/work/wget/parll_wget/TWENTY-FIRST_CENTURY_NM/21stcenturypa.com/wp/default?attachment_id=642.tmp.html', '/home/jovyan/work/wget/parll_wget/TWENTY-FIRST_CENTURY_NM/21stcenturypa.com/wp/default?cat=6&paged=3.tmp.html', '/home/jovyan/work/wget/parll_wget/TWENTY-FIRST_CENTURY_NM/21stcenturypa.com/wp/default?p=291.tmp.html', '/home/jovyan/work/wget/parll_wget/TWENTY-FIRST_CENTURY_NM/21stcenturypa.com/wp/default?page=67&paged=62.tmp.html', '/home/jovyan/work/wget/parll_wget/TWENTY-FIRST_CENTURY_NM/21stcenturypa.com/wp/default?page=3&paged=4.tmp.html', '/home/jovyan/work/wget/parll_wget/TWENTY-FIRST_CENTURY_NM/21stcenturypa.com/wp/default?author=1&paged=82.tmp.html', '/home/jovyan/work/wget/parll_wget/TWENTY-FIRST_CENTURY_NM/21stcenturypa.com/wp/default?m=201411&paged=3.tmp.html', '/home/jovyan/work/wget/parll_wget/TWENTY-FIRST_CENTURY_NM/21stcenturypa.com/wp/default?p=3686.tmp.html', '/home/jovyan/work/wget/parll_wget/TWENTY-FIRST_CENTURY_NM/21stcenturypa.com/wp/default?attachment_id=638.tmp.html', '/home/jovyan/work/wget/parll_wget/TWENTY-FIRST_CENTURY_NM/21stcenturypa.com/wp/default?p=575.tmp.html', '/home/jovyan/work/wget/parll_wget/TWENTY-FIRST_CENTURY_NM/21stcenturypa.com/wp/default?p=1128.tmp.html', '/home/jovyan/work/wget/parll_wget/TWENTY-FIRST_CENTURY_NM/21stcenturypa.com/wp/default?p=1422.tmp.html', '/home/jovyan/work/wget/parll_wget/TWENTY-FIRST_CENTURY_NM/21stcenturypa.com/wp/default?p=3660.tmp.html', '/home/jovyan/work/wget/parll_wget/TWENTY-FIRST_CENTURY_NM/21stcenturypa.com/wp/default?m=2015&paged=3.tmp.html', '/home/jovyan/work/wget/parll_wget/TWENTY-FIRST_CENTURY_NM/21stcenturypa.com/wp/default?m=201511.tmp.html', '/home/jovyan/work/wget/parll_wget/TWENTY-FIRST_CENTURY_NM/21stcenturypa.com/wp/default?page_id=2311.tmp.html', '/home/jovyan/work/wget/parll_wget/TWENTY-FIRST_CENTURY_NM/21stcenturypa.com/wp/default?p=1251.tmp.html', '/home/jovyan/work/wget/parll_wget/TWENTY-FIRST_CENTURY_NM/21stcenturypa.com/wp/default?attachment_id=595.tmp.html', '/home/jovyan/work/wget/parll_wget/TWENTY-FIRST_CENTURY_NM/21stcenturypa.com/wp/default?attachment_id=697.tmp.html', '/home/jovyan/work/wget/parll_wget/TWENTY-FIRST_CENTURY_NM/21stcenturypa.com/wp/default?p=707.tmp.html', '/home/jovyan/work/wget/parll_wget/TWENTY-FIRST_CENTURY_NM/21stcenturypa.com/wp/default?m=201304.tmp.html', '/home/jovyan/work/wget/parll_wget/TWENTY-FIRST_CENTURY_NM/21stcenturypa.com/wp/default?p=410.tmp.html', '/home/jovyan/work/wget/parll_wget/TWENTY-FIRST_CENTURY_NM/21stcenturypa.com/wp/default?page=3&paged=68.tmp.html', '/home/jovyan/work/wget/parll_wget/TWENTY-FIRST_CENTURY_NM/21stcenturypa.com/wp/default?p=4072.tmp.html', '/home/jovyan/work/wget/parll_wget/TWENTY-FIRST_CENTURY_NM/21stcenturypa.com/wp/default?page=67&paged=68.tmp.html', '/home/jovyan/work/wget/parll_wget/TWENTY-FIRST_CENTURY_NM/21stcenturypa.com/wp/default?m=201712&paged=2.tmp.html', '/home/jovyan/work/wget/parll_wget/TWENTY-FIRST_CENTURY_NM/21stcenturypa.com/wp/default?m=201407.tmp.html', '/home/jovyan/work/wget/parll_wget/TWENTY-FIRST_CENTURY_NM/21stcenturypa.com/wp/default?m=2014&paged=3.tmp.html', '/home/jovyan/work/wget/parll_wget/TWENTY-FIRST_CENTURY_NM/21stcenturypa.com/wp/default?p=1447.tmp.html', '/home/jovyan/work/wget/parll_wget/TWENTY-FIRST_CENTURY_NM/21stcenturypa.com/wp/default?m=201402.tmp.html', '/home/jovyan/work/wget/parll_wget/TWENTY-FIRST_CENTURY_NM/21stcenturypa.com/wp/default?m=201609&paged=2.tmp.html', '/home/jovyan/work/wget/parll_wget/TWENTY-FIRST_CENTURY_NM/21stcenturypa.com/wp/default?attachment_id=586.tmp.html', '/home/jovyan/work/wget/parll_wget/TWENTY-FIRST_CENTURY_NM/21stcenturypa.com/wp/default?p=1212.tmp.html', '/home/jovyan/work/wget/parll_wget/TWENTY-FIRST_CENTURY_NM/21stcenturypa.com/wp/default?paged=7.tmp.html', '/home/jovyan/work/wget/parll_wget/TWENTY-FIRST_CENTURY_NM/21stcenturypa.com/wp/default?cat=6&paged=7.tmp.html', '/home/jovyan/work/wget/parll_wget/TWENTY-FIRST_CENTURY_NM/21stcenturypa.com/wp/default?p=1239.tmp.html', '/home/jovyan/work/wget/parll_wget/TWENTY-FIRST_CENTURY_NM/21stcenturypa.com/wp/default?p=1092.tmp.html', '/home/jovyan/work/wget/parll_wget/TWENTY-FIRST_CENTURY_NM/21stcenturypa.com/wp/default?m=2017&paged=22.tmp.html', '/home/jovyan/work/wget/parll_wget/TWENTY-FIRST_CENTURY_NM/21stcenturypa.com/wp/default?m=201612.tmp.html', '/home/jovyan/work/wget/parll_wget/TWENTY-FIRST_CENTURY_NM/21stcenturypa.com/wp/default?page=5&paged=9.tmp.html']\n"
     ]
    }
   ],
   "source": [
    "print(example_folder)\n",
    "print(example_folder + \"**\")\n",
    "print()\n",
    "print(glob(example_folder + \"**\", recursive=True))"
   ]
  },
  {
   "cell_type": "code",
   "execution_count": 44,
   "metadata": {},
   "outputs": [],
   "source": [
    "def parse_school(school_dict, school_name, school_address, school_URL, datalocation, parsed, itervar, numschools):\n",
    "    \n",
    "    \"\"\"This core function parses webtext for a given school, using helper functions to run analyses and then saving multiple outputs to school_dict:\n",
    "    full (partially cleaned) webtext, by parsing webtext of each .html file (removing inline tags, etc.) within school's folder, via parsefile_by_tags();\n",
    "    filtered webtext, by keeping only those parsed text elements containing a keyword in previously defined keywords list, via filter_keywords_page();\n",
    "    parsed webtext, having removed overlapping headers/footers common to multiple pages, via remove_overlaps();\n",
    "    all text associated with specific categories by filtering webtext according to keywords for \n",
    "    mission, curriculum, philosophy, history, and about/general self-description, via categorize_page(); and\n",
    "    contents of those individual pages best matching each of these categories, via find_best_categories.\"\"\"\n",
    "    \n",
    "    itervar+=1\n",
    "    print(\"Parsing \" + str(school_name) + \", which is school #\" + str(itervar) + \" of \" + str(numschools) + \"...\")\n",
    "    \n",
    "    school_dict['mission'],school_dict['curriculum'],school_dict['philosophy'],school_dict['history'],school_dict['about'] = \"\",\"\",\"\",\"\",\"\"\n",
    "    school_dict[\"webtext\"], school_dict[\"filtered_text\"], school_dict[\"duplicate_flag\"], school_dict[\"parse_error_flag\"] = [], [], 0, 0\n",
    "    \n",
    "    folder_name = re.sub(\" \",\"_\",(school_name+\" \"+school_address[-8:-6]))\n",
    "    school_folder = datalocation + folder_name + \"/\"\n",
    "    \n",
    "    if school_URL not in parsed: #check if this URL has already been parsed. If so, skip this school to avoid duplication bias\n",
    "        parsed.append(school_URL)\n",
    "        \n",
    "        try:\n",
    "            for file in glob(school_folder + \"**\", recursive=True):\n",
    "                if Debug:\n",
    "                    print(\"Testing from within file for loop!\")\n",
    "                    print(file)\n",
    "                if file.endswith(\".html\"):\n",
    "                    # Parse file only if it contains HTML. This is easy: wget gave the \".html\" file extension to appropriate files when downloading (`--adjust-extension` option)\n",
    "                    #if bool(BeautifulSoup(open(fname), bsparser).find())==True: # More inefficient way to check if file contains HTML, for data not downloaded by wget\n",
    "                    if Debug:\n",
    "                        print(\"    Parsing HTML in \" + str(file) + \"...\")\n",
    "                    try:                    \n",
    "                        parsed_pagetext = parsefile_by_tags(file) # Parse page text (filter too?)\n",
    "                        if Debug:\n",
    "                            print(\"      Successfully parsed page text by tags!\")\n",
    "                        school_dict[\"webtext\"].extend(parsed_pagetext) # Add new parsed text to long list\n",
    "\n",
    "                        mission_text,curr_text,phil_text,hist_text,about_text = \"\",\"\",\"\",\"\",\"\" # Initialize new additions to school's categories\n",
    "                        mission_text,curr_text,phil_text,hist_text,about_text = categorize_page(parsed_pagetext) # Parse page text into the five categories\n",
    "                        school_dict['mission'].append(mission_text) # Add new text to categories for school\n",
    "                        school_dict['curriculum'].append(curr_text)\n",
    "                        school_dict['philosophy'].append(phil_text)\n",
    "                        school_dict['history'].append(hist_text)\n",
    "                        school_dict['about'].append(about_text)\n",
    "\n",
    "                        school_dict[\"filtered_text\"].extend(filter_keywords_page(parsed_pagetext)) # Filter parsed file using keywords list\n",
    "\n",
    "                        if Debug:\n",
    "                            print(\"      Successfully parsed & categorized file...\\n\\n\")\n",
    "                        \n",
    "                        continue\n",
    "\n",
    "                    except Exception as e:\n",
    "                        if Debug:\n",
    "                            print(\"      ERROR! Failed to parse & categorize file...\")\n",
    "                            print(\"      \",e)\n",
    "                            continue\n",
    "                        else:\n",
    "                            continue\n",
    "            \n",
    "            print(\"SUCCESS! Parsed and categorized website text for \" + str(school_name) + \"...\\n\\n\")\n",
    "            return\n",
    "\n",
    "        except Exception as e:\n",
    "            print(\"    ERROR! Failed to parse & categorize webtext of \" + str(school_name))\n",
    "            print(\"    \",e)\n",
    "            school_dict[\"parse_error_flag\"] = 1\n",
    "    \n",
    "    else:\n",
    "        print(\"DUPLICATE URL DETECTED. Skipping \" + str(school_name) + \"...\\n\\n\")\n",
    "        school_dict[\"duplicate_flag\"] = 1\n",
    "        return\n"
   ]
  },
  {
   "cell_type": "code",
   "execution_count": 49,
   "metadata": {},
   "outputs": [],
   "source": [
    "# ### Preparing data to be parsed\n",
    "\n",
    "itervar = 0 # initialize iterator that counts number of schools already parsed\n",
    "parsed = [] # initialize list of URLs that have already been parsed\n",
    "dicts_list = [] # initialize list of dictionaries to hold school data\n",
    "\n",
    "# If input_file was defined by user input in beginning of script, use that to load list of dictionaries. We'll add to it!\n",
    "if usefile:\n",
    "    dicts_list = load_file(input_file)\n",
    "    data_loc = full_schooldata # If loading data, assume we're running on full charter population\n",
    "\n",
    "else:\n",
    "    # set charter school data file and corresponding varnames:\n",
    "    if Debug:\n",
    "        data_loc = micro_sample13 # Run on micro-sample first, for debugging purposes\n",
    "    else:\n",
    "        data_loc = full_schooldata # Run at scale using URL list of full charter population\n",
    "        \n",
    "    # Create dict list from CSV on file, with one dict per school\n",
    "    with open(data_loc, 'r', encoding = 'Latin1') as csvfile: # open data file\n",
    "        reader = csv.DictReader(csvfile) # create a reader\n",
    "        for row in reader: # loop through rows\n",
    "            dicts_list.append(row) # append each row to the list\n",
    "        \n",
    "URL_var,NAME_var,ADDR_var = get_vars(data_loc) # get varnames depending on data source\n",
    "        \n",
    "# Note on data structures: each row, dicts_list[i] is a dictionary with keys as column name and value as info.\n",
    "# This will be translated into pandas data frame once (rather messy) website text is parsed into consistent variables"
   ]
  },
  {
   "cell_type": "code",
   "execution_count": 50,
   "metadata": {},
   "outputs": [
    {
     "name": "stdout",
     "output_type": "stream",
     "text": [
      "Parsing RICHLAND TWO CHARTER HIGH, which is school #1 of 300...\n",
      "Testing from within file for loop!\n",
      "/home/jovyan/work/wget/parll_wget/RICHLAND_TWO_CHARTER_HIGH_MB/\n",
      "SUCCESS! Parsed and categorized website text for RICHLAND TWO CHARTER HIGH...\n",
      "\n",
      "\n"
     ]
    }
   ],
   "source": [
    "# ### Run parsing algorithm on schools\n",
    "\n",
    "test_dicts = dicts_list[:1] # Limit number of schools to analyze, in order to refine methods\n",
    "\n",
    "if Debug:\n",
    "    for school in test_dicts:\n",
    "        parse_school(school, school[NAME_var], school[ADDR_var], school[URL_var], wget_dataloc, parsed, itervar, len(dicts_list))\n",
    "        \n",
    "else:\n",
    "    for school in dicts_list:\n",
    "        parse_school(school, school[NAME_var], school[ADDR_var], school[URL_var], wget_dataloc, parsed, itervar, len(dicts_list))"
   ]
  },
  {
   "cell_type": "code",
   "execution_count": 36,
   "metadata": {
    "scrolled": true
   },
   "outputs": [
    {
     "name": "stdout",
     "output_type": "stream",
     "text": [
      "OrderedDict([('MS_ID', '1'), ('LEANM', 'RICHLAND 02'), ('SEARCH', 'RICHLAND TWO CHARTER HIGH 750 OLD CLEMSON RD, COLUMBIA, SC'), ('CER_NAME', 'Richland Two Charter High School'), ('URL', 'https://www.richland2.org/charterhigh/'), ('ADDRESS', '750 OLD CLEMSON RD, COLUMBIA, SC'), ('CUSTOM_ID', 'SC600'), ('LEVEL', '3'), ('YEAR_OPEN_CER', '2010'), ('CER_MS_2012', 'Flexible schedule allows students to work and explore different careers while receiving their high school diploma.'), ('SURVYEAR', '2013'), ('NCESSCH', '4.50E+11'), ('FIPST', '45'), ('LEAID', '4503390'), ('SCHNO', '1554'), ('STID', '4002'), ('SEASCH', '600'), ('SCHNAM', 'RICHLAND TWO CHARTER HIGH'), ('PHONE', '8034191348'), ('MSTREE', '750 OLD CLEMSON ROAD'), ('MCITY', 'COLUMBIA'), ('MSTATE', 'SC'), ('MZIP', '29229'), ('MZIP4', '0'), ('LSTREE', '750 OLD CLEMSON RD'), ('LCITY', 'COLUMBIA'), ('LSTATE', 'SC'), ('LZIP', '29229'), ('LZIP4', '0'), ('TYPE', '1'), ('STATUS', '1'), ('UNION', '0'), ('ULOCAL', '21'), ('LATCOD', '34.1231'), ('LONCOD', '-80.8626'), ('CONUM', '45079'), ('CONAME', 'RICHLAND COUNTY'), ('CDCODE', '4502'), ('BIES', '2'), ('RECONSTY', 'N'), ('RECONSTF', '2'), ('SMEMPUP', '2'), ('ISMEMPUP', 'PS'), ('SFTEPUP', '2'), ('ISFTEPUP', 'PS'), ('SFLE', '2'), ('ISFLE', 'PS'), ('SPFEMALE', '2'), ('ISPFEMALE', 'PS'), ('SPWHITE', '2'), ('ISPWHITE', 'PS'), ('SPELM', '2'), ('ISPELM', 'PS'), ('FTE', '1'), ('GSLO', '9'), ('GSHI', '12'), ('PKOFFRD', '2'), ('KGOFFRD', '2'), ('G01OFFRD', '2'), ('G02OFFRD', '2'), ('G03OFFRD', '2'), ('G04OFFRD', '2'), ('G05OFFRD', '2'), ('G06OFFRD', '2'), ('G07OFFRD', '2'), ('G08OFFRD', '2'), ('G09OFFRD', '1'), ('G10OFFRD', '1'), ('G11OFFRD', '1'), ('G12OFFRD', '1'), ('UGOFFRD', '2'), ('TITLEISTAT', '6'), ('TITLEI', '2'), ('STITLI', 'N'), ('MAGNET', '2'), ('CHARTR', '1'), ('SHARED', '2'), ('FRELCH', '12'), ('REDLCH', '4'), ('TOTFRL', '16'), ('PK', '-2'), ('AMPKM', '-2'), ('AMPKF', '-2'), ('ASPKM', '-2'), ('ASPKF', '-2'), ('HIPKM', '-2'), ('HIPKF', '-2'), ('BLPKM', '-2'), ('BLPKF', '-2'), ('WHPKM', '-2'), ('WHPKF', '-2'), ('HPPKM', '-2'), ('HPPKF', '-2'), ('TRPKM', '-2'), ('TRPKF', '-2'), ('KG', '-2'), ('AMKGM', '-2'), ('AMKGF', '-2'), ('ASKGM', '-2'), ('ASKGF', '-2'), ('HIKGM', '-2'), ('HIKGF', '-2'), ('BLKGM', '-2'), ('BLKGF', '-2'), ('WHKGM', '-2'), ('WHKGF', '-2'), ('HPKGM', '-2'), ('HPKGF', '-2'), ('TRKGM', '-2'), ('TRKGF', '-2'), ('G01', '-2'), ('AM01M', '-2'), ('AM01F', '-2'), ('AS01M', '-2'), ('AS01F', '-2'), ('HI01M', '-2'), ('HI01F', '-2'), ('BL01M', '-2'), ('BL01F', '-2'), ('WH01M', '-2'), ('WH01F', '-2'), ('HP01M', '-2'), ('HP01F', '-2'), ('TR01M', '-2'), ('TR01F', '-2'), ('G02', '-2'), ('AM02M', '-2'), ('AM02F', '-2'), ('AS02M', '-2'), ('AS02F', '-2'), ('HI02M', '-2'), ('HI02F', '-2'), ('BL02M', '-2'), ('BL02F', '-2'), ('WH02M', '-2'), ('WH02F', '-2'), ('HP02M', '-2'), ('HP02F', '-2'), ('TR02M', '-2'), ('TR02F', '-2'), ('G03', '-2'), ('AM03M', '-2'), ('AM03F', '-2'), ('AS03M', '-2'), ('AS03F', '-2'), ('HI03M', '-2'), ('HI03F', '-2'), ('BL03M', '-2'), ('BL03F', '-2'), ('WH03M', '-2'), ('WH03F', '-2'), ('HP03M', '-2'), ('HP03F', '-2'), ('TR03M', '-2'), ('TR03F', '-2'), ('G04', '-2'), ('AM04M', '-2'), ('AM04F', '-2'), ('AS04M', '-2'), ('AS04F', '-2'), ('HI04M', '-2'), ('HI04F', '-2'), ('BL04M', '-2'), ('BL04F', '-2'), ('WH04M', '-2'), ('WH04F', '-2'), ('HP04M', '-2'), ('HP04F', '-2'), ('TR04M', '-2'), ('TR04F', '-2'), ('G05', '-2'), ('AM05M', '-2'), ('AM05F', '-2'), ('AS05M', '-2'), ('AS05F', '-2'), ('HI05M', '-2'), ('HI05F', '-2'), ('BL05M', '-2'), ('BL05F', '-2'), ('WH05M', '-2'), ('WH05F', '-2'), ('HP05M', '-2'), ('HP05F', '-2'), ('TR05M', '-2'), ('TR05F', '-2'), ('G06', '-2'), ('AM06M', '-2'), ('AM06F', '-2'), ('AS06M', '-2'), ('AS06F', '-2'), ('HI06M', '-2'), ('HI06F', '-2'), ('BL06M', '-2'), ('BL06F', '-2'), ('WH06M', '-2'), ('WH06F', '-2'), ('HP06M', '-2'), ('HP06F', '-2'), ('TR06M', '-2'), ('TR06F', '-2'), ('G07', '-2'), ('AM07M', '-2'), ('AM07F', '-2'), ('AS07M', '-2'), ('AS07F', '-2'), ('HI07M', '-2'), ('HI07F', '-2'), ('BL07M', '-2'), ('BL07F', '-2'), ('WH07M', '-2'), ('WH07F', '-2'), ('HP07M', '-2'), ('HP07F', '-2'), ('TR07M', '-2'), ('TR07F', '-2'), ('G08', '-2'), ('AM08M', '-2'), ('AM08F', '-2'), ('AS08M', '-2'), ('AS08F', '-2'), ('HI08M', '-2'), ('HI08F', '-2'), ('BL08M', '-2'), ('BL08F', '-2'), ('WH08M', '-2'), ('WH08F', '-2'), ('HP08M', '-2'), ('HP08F', '-2'), ('TR08M', '-2'), ('TR08F', '-2'), ('G09', '3'), ('AM09M', '0'), ('AM09F', '0'), ('AS09M', '0'), ('AS09F', '0'), ('HI09M', '0'), ('HI09F', '0'), ('BL09M', '1'), ('BL09F', '1'), ('WH09M', '0'), ('WH09F', '1'), ('HP09M', '0'), ('HP09F', '0'), ('TR09M', '0'), ('TR09F', '0'), ('G10', '7'), ('AM10M', '0'), ('AM10F', '0'), ('AS10M', '0'), ('AS10F', '1'), ('HI10M', '1'), ('HI10F', '0'), ('BL10M', '1'), ('BL10F', '3'), ('WH10M', '1'), ('WH10F', '0'), ('HP10M', '0'), ('HP10F', '0'), ('TR10M', '0'), ('TR10F', '0'), ('G11', '28'), ('AM11M', '0'), ('AM11F', '0'), ('AS11M', '0'), ('AS11F', '0'), ('HI11M', '0'), ('HI11F', '1'), ('BL11M', '7'), ('BL11F', '9'), ('WH11M', '3'), ('WH11F', '6'), ('HP11M', '0'), ('HP11F', '0'), ('TR11M', '0'), ('TR11F', '2'), ('G12', '31'), ('AM12M', '0'), ('AM12F', '0'), ('AS12M', '0'), ('AS12F', '0'), ('HI12M', '0'), ('HI12F', '3'), ('BL12M', '7'), ('BL12F', '10'), ('WH12M', '4'), ('WH12F', '6'), ('HP12M', '0'), ('HP12F', '0'), ('TR12M', '1'), ('TR12F', '0'), ('UG', '-2'), ('AMUGM', '-2'), ('AMUGF', '-2'), ('ASUGM', '-2'), ('ASUGF', '-2'), ('HIUGM', '-2'), ('HIUGF', '-2'), ('BLUGM', '-2'), ('BLUGF', '-2'), ('WHUGM', '-2'), ('WHUGF', '-2'), ('HPUGM', '-2'), ('HPUGF', '-2'), ('TRUGM', '-2'), ('TRUGF', '-2'), ('MEMBER', '69'), ('AM', '0'), ('AMALM', '0'), ('AMALF', '0'), ('ASIAN', '1'), ('ASALM', '0'), ('ASALF', '1'), ('HISP', '5'), ('HIALM', '1'), ('HIALF', '4'), ('BLACK', '39'), ('BLALM', '16'), ('BLALF', '23'), ('WHITE', '21'), ('WHALM', '8'), ('WHALF', '13'), ('PACIFIC', '0'), ('HPALM', '0'), ('HPALF', '0'), ('TR', '3'), ('TRALM', '1'), ('TRALF', '2'), ('TOTETH', '69'), ('VIRTUALSTAT', 'VIRTUALNO'), ('NSLPSTATUS', 'M'), ('CHARTAUTH1', '4002'), ('CHARTAUTH2', 'M'), ('Q1 data and technology (e.g., \"data-driven instruction\", \"iPads\")', 'yes'), ('Q2 code of conduct (i.e., behavioral expectations, \"respect\", school discipline, learning contracts)', 'no'), ('Q3 adherence to state standards (i.e., Common Core, state-wide learning objectives)', 'no'), ('Q4 social justice/ addressing disadvantage (e.g., achievement gaps, inequality/discrimination due to race, income, etc.)', 'no'), ('Q5 emphasizes specific racial/ethnic/cultural group or heritage (e.g., immigrants)', 'no'), ('Q6 performance on standardized tests (i.e., school-wide average scores on state tests)', 'no'), ('Q7 description of students as poor, at-risk, or vulnerable', 'no'), ('Q8 personalized, individualized, or differentiated instruction', 'yes'), ('Q9 preparing students for college (\"college-bound\"), careers, or the job market', 'no'), ('Q10 resources such as legal, health, employment, or social services', 'no'), ('Q11 pedagogical emphasis on drill & memory, lectures, or exams', 'no'), ('Q12 curricular emphasis on \"core subjects\"/\"basics\" of math, reading, or essential facts', 'no'), (\"Q13 students' capacity to think in critical/independent/reasoned/skeptical ways\", 'no'), ('Q14 social skill with peers, including conflict resolution, building close bonds, or collaboration', 'no'), ('Q15 pedagogical emphasis on projects, problem-solving, or open inquiry', 'no'), ('Q16 a \"holistic\", \"well-rounded\", \"whole-child\", and/or \"student-centered\" approach to learning', 'no'), (\"Q17 role in learning process of students' prior knowledge, backgrounds, perspectives, or consciousness\", 'no'), ('Q18 curricular emphasis on the arts (e.g., painting, dance), music, and/or nature (e.g., gardening)', 'no'), ('Q19 a safe, trusting, loving, or nurturing learning environment/climate', 'no'), ('Q20 students as \"creative\", \"imaginative\", \"passionate\", or \"playful\"', 'no'), (\"Q21 students' learning experiences (e.g., discovery, exploration, joy, sense of meaning)\", 'no'), ('Q22 students as \"autonomous\", \"self-directed\", or \"contributors to democracy\"', 'no'), ('Q23 rejection of test-based learning as \"conformist\", \"mechanical\", or producing \"drones\"', 'no'), ('Q24 curricular emphasis on multi-culturalism, international communities, or \"global citizenship\"', 'no'), ('Q25 use of \"multiple assessments\" to gauge learning (i.e., not just academic tests)', 'no'), ('Q26 emphasis on academic rigor, challenge, achievement, or expectations', 'no'), ('Q27 students as \"citizens\", \"patriots\", or \"leaders\"', 'yes'), ('Q28 students as \"responsible\", \"determined\", or \"confident\" ', 'no'), ('Q29 a long-term, nonspecific goal of graduating students prepared for, e.g., the \"world\", \"future\", \"maturity\", or \"life\" ', 'no'), ('Q30 the variety of programs and learning resources offered (i.e., not just math & reading, not just teachers)', 'yes'), ('Q31 the role played by parental and community involvement (i.e., \"It takes a village\")', 'no'), (\"Q32 teachers' meetings, collaboration, professional development\", 'no'), ('mission', ''), ('curriculum', ''), ('philosophy', ''), ('history', ''), ('about', ''), ('mission_best', ''), ('curriculum_best', ''), ('philosophy_best', ''), ('history_best', ''), ('about_best', ''), ('webtext', []), ('filtered_text', []), ('duplicate_flag', 0), ('parse_error_flag', 0)])\n"
     ]
    }
   ],
   "source": [
    "# Check out results:\n",
    "if Debug:\n",
    "    print(test_dicts[0])\n",
    "else:\n",
    "    print(dicts_list[0])\n",
    "    "
   ]
  },
  {
   "cell_type": "code",
   "execution_count": null,
   "metadata": {},
   "outputs": [],
   "source": [
    "# Save output:\n",
    "if Debug:\n",
    "    dictfile = \"testing_dicts_\" + str(datetime.today())\n",
    "    save_to_file(test_dicts, save_dir+dictfile, \"JSON\")\n",
    "else:\n",
    "    dictfile = \"school_dicts_\" + str(datetime.today())\n",
    "    save_to_file(dicts_list, save_dir+dictfile, \"JSON\")\n"
   ]
  }
 ],
 "metadata": {
  "kernelspec": {
   "display_name": "Python 3",
   "language": "python",
   "name": "python3"
  },
  "language_info": {
   "codemirror_mode": {
    "name": "ipython",
    "version": 3
   },
   "file_extension": ".py",
   "mimetype": "text/x-python",
   "name": "python",
   "nbconvert_exporter": "python",
   "pygments_lexer": "ipython3",
   "version": "3.6.2"
  }
 },
 "nbformat": 4,
 "nbformat_minor": 2
}
