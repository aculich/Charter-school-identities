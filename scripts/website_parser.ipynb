{
 "cells": [
  {
   "cell_type": "code",
   "execution_count": 21,
   "metadata": {},
   "outputs": [],
   "source": [
    "#!/usr/bin/env python\n",
    "# -*- coding: UTF-8"
   ]
  },
  {
   "cell_type": "markdown",
   "metadata": {},
   "source": [
    "# Parsing HTML from `wget` run!"
   ]
  },
  {
   "cell_type": "markdown",
   "metadata": {},
   "source": [
    "## Initializing"
   ]
  },
  {
   "cell_type": "code",
   "execution_count": 86,
   "metadata": {},
   "outputs": [],
   "source": [
    "#import necessary libraries\n",
    "import os, re #for navigating file trees and working with strings\n",
    "import csv #for reading in CSV files\n",
    "from glob import glob #for finding files within nested folders\n",
    "from nltk.stem.porter import PorterStemmer # an approximate method of stemming words\n",
    "stemmer = PorterStemmer()\n",
    "from nltk import word_tokenize, sent_tokenize # widely used text tokenizer\n",
    "import urllib, urllib.request #for testing pages\n",
    "\n",
    "#Import parser\n",
    "from bs4 import BeautifulSoup #BS reads and parses even poorly/unreliably coded HTML \n",
    "from bs4.element import Comment #helps with detecting inline/junk tags when parsing with BS\n",
    "import lxml #for fast HTML parsing with BS\n",
    "\n",
    "inline_tags = [\"b\", \"big\", \"i\", \"small\", \"tt\", \"abbr\", \"acronym\", \"cite\", \"dfn\",\n",
    "               \"em\", \"kbd\", \"strong\", \"samp\", \"var\", \"bdo\", \"map\", \"object\", \"q\",\n",
    "               \"span\", \"sub\", \"sup\"] #this list helps with eliminating junk tags when parsing HTML"
   ]
  },
  {
   "cell_type": "code",
   "execution_count": 59,
   "metadata": {},
   "outputs": [],
   "source": [
    "#set directories and parsing keywords\n",
    "wget_dataloc = \"/vol_b/data/wget/parll_wget/\" #data location for schools downloaded with wget in parallel\n",
    "micro_sample13 = \"/vol_b/data/Charter-school-identities/data/micro-sample13_coded.csv\" #data location for random micro-sample of 300 US charter schools\n",
    "full_schooldata = \"/vol_b/data/Charter-school-identities/data/charter_URLs_2014.csv\" #data location for 2014 population of US charter schools\n",
    "\n",
    "example_page = \"https://westlakecharter.com/about/\"\n",
    "\n",
    "keywords = ['values', 'academics', 'skills', 'purpose',\n",
    "                       'direction', 'mission', 'vision', 'vision', 'mission', 'our purpose',\n",
    "                       'our ideals', 'ideals', 'our cause', 'curriculum','curricular',\n",
    "                       'method', 'pedagogy', 'pedagogical', 'approach', 'model', 'system',\n",
    "                       'structure','philosophy', 'philosophical', 'beliefs', 'believe',\n",
    "                       'principles', 'creed', 'credo', 'values','moral', 'history', 'our story',\n",
    "                       'the story', 'school story', 'background', 'founding', 'founded',\n",
    "                       'established','establishment', 'our school began', 'we began',\n",
    "                       'doors opened', 'school opened', 'about us', 'our school', 'who we are',\n",
    "                       'our identity', 'profile', 'highlights']\n",
    "\n",
    "mission_keywords = ['mission',' vision ', 'vision:', 'mission:', 'our purpose', 'our ideals', 'ideals:', 'our cause', 'cause:', 'goals', 'objective']\n",
    "curriculum_keywords = ['curriculum', 'curricular', 'program', 'method', 'pedagogy', 'pedagogical', 'approach', 'model', 'system', 'structure']\n",
    "philosophy_keywords = ['philosophy', 'philosophical', 'beliefs', 'believe', 'principles', 'creed', 'credo', 'value',  'moral']\n",
    "history_keywords = ['history', 'story','our story', 'the story', 'school story', 'background', 'founding', 'founded', 'established', 'establishment', 'our school began', 'we began', 'doors opened', 'school opened']\n",
    "about_keywords =  ['about us', 'our school', 'who we are', 'overview', 'general information', 'our identity', 'profile', 'highlights']\n",
    "\n",
    "mission_keywords = set(stemmer.stem(word) for word in mission_keywords)\n",
    "curriculum_keywords = set(stemmer.stem(word) for word in curriculum_keywords)\n",
    "philosophy_keywords = set(stemmer.stem(word) for word in philosophy_keywords)\n",
    "history_keywords = set(stemmer.stem(word) for word in history_keywords)\n",
    "about_keywords =  set(stemmer.stem(word) for word in self_keywords)"
   ]
  },
  {
   "cell_type": "code",
   "execution_count": 159,
   "metadata": {},
   "outputs": [],
   "source": [
    "# ### Define helper functions\n",
    "def get_vars(data):\n",
    "    \"\"\"Defines variable names based on the data source called.\"\"\"\n",
    "    \n",
    "    if data==full_schooldata:\n",
    "        URL_variable = \"TRUE_URL\"\n",
    "        NAME_variable = \"SCH_NAME\"\n",
    "        ADDR_variable = \"ADDRESS\"\n",
    "    \n",
    "    elif data==micro_sample13:\n",
    "        URL_variable = \"URL\"\n",
    "        NAME_variable = \"SCHNAM\"\n",
    "        ADDR_variable = \"ADDRESS\"\n",
    "    \n",
    "    else:\n",
    "        try:\n",
    "            print(\"Error processing variables from data file \" + str(data) + \"!\")\n",
    "        except Exception as e:\n",
    "            print(e)\n",
    "            print(\"ERROR: No data source established!\\n\")\n",
    "    \n",
    "    return(URL_variable,NAME_variable,ADDR_variable)\n",
    "\n",
    "\n",
    "def tag_visible(element):\n",
    "    \"\"\"Returns false if a web element has a non-visible tag, \n",
    "    i.e. one we wouldn't read and thus don't want to parse\"\"\"\n",
    "    \n",
    "    if element.parent.name in ['style', 'script', 'head', 'title', 'meta', '[document]']:\n",
    "        return False\n",
    "    if isinstance(element, Comment):\n",
    "        return False\n",
    "    return True\n",
    "\n",
    "\n",
    "\n",
    "def filterwebsite(string):\n",
    "    stringList = re.split(r'\\s{3,}', string)\n",
    "    validcharacters = [' ', '.', '?']\n",
    "    filteredtext = []  \n",
    "    \n",
    "    for string in stringList:\n",
    "        lowercasestring = string.lower()\n",
    "        for key in keywords:\n",
    "            if key in lowercasestring:\n",
    "                if key in lowercasestring.split(' '): #check that the word is the whole word not part of another one\n",
    "                    filteredtext.extend([string.lower()])\n",
    "\n",
    "    filteredtext = list(set(filteredtext))\n",
    "    finaltext = []\n",
    "    for x in filteredtext:\n",
    "        finaltext.append(x.replace('\\xa0', \" \"))\n",
    "    return finaltext\n",
    "\n",
    "\n",
    "def webtext_from_files(datalocation):\n",
    "    \"\"\"Load webtext from text files in local storage.\"\"\"\n",
    "    \n",
    "    string = \"\"\n",
    "    for root, dirs, files in os.walk(datalocation):\n",
    "        for file in files:\n",
    "            if file.endswith(\".txt\"):\n",
    "                fileloc = open(datalocation+file, \"r\")\n",
    "                string = string + (fileloc.read())\n",
    "    return string"
   ]
  },
  {
   "cell_type": "code",
   "execution_count": 166,
   "metadata": {},
   "outputs": [],
   "source": [
    "# ### Define and compare parsing approaches\n",
    "\n",
    "def parse_by_newlines(urlstring):\n",
    "    \"\"\"Uses BS to parse HTML from a given URL and looks for three newlines to separate chunks of text.\"\"\"\n",
    "    \n",
    "    # Read HTML from a given url:\n",
    "    with urllib.request.urlopen(urlstring) as url:\n",
    "        s = url.read()\n",
    "    \n",
    "    # Parse raw text from website body:\n",
    "    soup = BeautifulSoup(s, \"html.parser\")\n",
    "    texts = soup.findAll(text=True)\n",
    "    visible_texts = filter(tag_visible, texts)  \n",
    "    webtext = u\" \".join(t.strip() for t in visible_texts)\n",
    "    \n",
    "    return re.split(r'\\s{3,}', webtext)\n",
    "\n",
    "\n",
    "def parse_by_tags(urlstring):\n",
    "    \"\"\"This function cleans HTML by removing inline tags, ripping out non-visible tags, \n",
    "    replacing paragraph tags with a random string, and finally using this to separate HTML into chunks.\"\"\"\n",
    "    \n",
    "    with urllib.request.urlopen(urlstring) as url:\n",
    "        HTML_page = url.read()\n",
    "\n",
    "    random_string = \"\".join(map(chr, os.urandom(75))) # Create random string for tag delimiter\n",
    "    soup = BeautifulSoup(HTML_page, \"html.parser\")\n",
    "    \n",
    "    [s.extract() for s in soup(['style', 'script', 'head', 'title', 'meta', '[document]'])] # Remove non-visible tags\n",
    "    for it in inline_tags:\n",
    "        [s.extract() for s in soup(\"</\" + it + \">\")] # Remove inline tags\n",
    "    \n",
    "    visible_text = soup.getText(random_string).replace(\"\\n\", \"\") # Replace \"p\" tags with random string, eliminate newlines\n",
    "    visible_text = list(elem.replace(\"\\t\",\"\") for elem in visible_text.split(random_string)) # Split text into list using random string while eliminating tabs\n",
    "    visible_text = list(filter(lambda vt: vt.split() != [], visible_text)) # Eliminate empty elements\n",
    "    # Consider joining list elements together with newline by prepending with: \"\\n\".join\n",
    "    \n",
    "    return(visible_text)"
   ]
  },
  {
   "cell_type": "code",
   "execution_count": 169,
   "metadata": {
    "scrolled": true
   },
   "outputs": [
    {
     "name": "stdout",
     "output_type": "stream",
     "text": [
      "['', 'Contact Us: 2680 Mabry Dr. 95835 (916) 567-5760 | admin@westlakecharter.com', 'Staff Login', 'About', 'Administration & Support Staff  Employment Opportunities  Business Services  Admission & Enrollment Information  Supply Donations  Hot Lunch Payments  Hot Lunch Menu', 'Board', 'Board Policies  Board Committees  Board Documents', 'WCS', 'Infinite Campus Login  School Dismissal Manager  Ways to Westlake', 'Teachers  BASE  WAVE', 'Meetings  Contact Us  Volunteer Opportunities  Volunteer Hours  Log Volunteer Hours  Spirit Store', 'Calendars', '17/18 School Calendar  18/19 School Calendar', 'About', 'About  Aimee Wells  2013-09-18T18:36:35+00:00', 'About Westlake Charter Schools  Key School Features', 'International Focus  Thematic Curriculum  Artistic Development  Foreign Language Instruction  School-Wide Enrichment Model', 'Core Values', 'Respect  Excellence  Responsibility  Reflective  Global Perspective  Stewardship  Perseverance  Inquisitive  Joyful Learning  Gratitude', 'Calendars, Schedules, Handbooks and More', 'Family Handbook  2017/18 School Calendar  2017/18 Bell Schedule  WCS Charter  Strategic Plan', 'Westlake Charter School is a K-8th grade public elementary school created by parents and educators in Natomas. We opened our doors in 2005 and continue to grow serving more and more students each year. WCS’s primary mission is to demonstrate what is possible when school and community collaborate to create inspiring adults with the academic and social-emotional readiness to lead as Global Citizens.  Westlake Charter School students are EXPLORERS! Our curriculum focuses on diversity and appreciation of different cultures, while promoting academic excellence and foreign language acquisition. We offer various specialty classes to all of our students including Art, Physical Education, and Spanish. Our middle school program focuses on Math, Science and Technology and is executed through the use of technology. Westlake Charter School has small class sizes of approximately 22-24 students in K-3rd grade and 29 students in 4th-8th grade.  First time visitors to Westlake Charter School often remark, “What a warm and inviting school!” Creating a school that is caring and open is absolutely critical in working successfully with our children and families. Students who feel safe, secure, and appreciated gain a love of learning and will be successful scholars.  Westlake Charter School’s professional staff is relentless in seeking and trying research-based best practices that engage every student. Our lessons are hands-on and differentiated to meet the diverse needs of all students. Our teachers display a never-ending commitment to improving their own expertise. Furthermore, we would not be as successful without the support and involvement of our parents. Our parent group is outstanding in helping us achieve our goals by volunteering their time in class, fundraising for our unique programs, and providing endless words of encouragement and support. Our school team is second to none!', 'Recent', 'Westlake Weekly – December 15, 2017  December 15th, 2017', 'Westlake Weekly – December 8, 2017  December 8th, 2017', 'Westlake Weekly – December 1, 2017  December 1st, 2017', 'Westlake Weekly – November 17, 2017  November 17th, 2017', 'Westlake Weekly – November 9, 2017  November 9th, 2017', 'Westlake Weekly – November 3, 2017  November 3rd, 2017', 'Contact Info', '2680 Mabry Dr. 95835  Phone: (916) 567-5760  Fax: (916) 567-5769  Email: admin@westlakecharter.com', 'Copyright 2015 Westlake Charter | All Rights Reserved | Contact Us', ''] \n",
      "\n",
      " ['Contact Us: 2680 Mabry Dr. 95835 (916) 567-5760', '|', 'admin@westlakecharter.com', 'Staff Login', 'About', 'Administration & Support Staff', 'Employment Opportunities', 'Business Services', 'Admission & Enrollment Information', 'Supply Donations', 'Hot Lunch Payments', 'Hot Lunch Menu', 'Board', 'Board Policies', 'Board Committees', 'Board Documents', 'WCS', 'Infinite Campus Login', 'School Dismissal Manager', 'Ways to Westlake', 'Teachers', 'BASE', 'WAVE', 'Meetings', 'Contact Us', 'Volunteer Opportunities', 'Volunteer Hours', 'Log Volunteer Hours', 'Spirit Store', 'Calendars', '17/18 School Calendar', '18/19 School Calendar', 'About', 'About', 'Aimee Wells', '2013-09-18T18:36:35+00:00', 'About Westlake Charter Schools', 'Key School Features', 'International Focus', 'Thematic Curriculum', 'Artistic Development', 'Foreign Language Instruction', 'School-Wide Enrichment Model', 'Core Values', 'Respect', 'Excellence', 'Responsibility', 'Reflective', 'Global Perspective', 'Stewardship', 'Perseverance', 'Inquisitive', 'Joyful Learning', 'Gratitude', 'Calendars, Schedules, Handbooks and More', 'Family Handbook', '2017/18 School Calendar', '2017/18 Bell Schedule', 'WCS Charter', 'Strategic Plan', 'Westlake Charter School is a K-8th grade public elementary school created by parents and educators in Natomas. We opened our doors in 2005 and continue to grow serving more and more students each year. WCS’s primary mission is to demonstrate what is possible when school and community collaborate to create inspiring adults with the academic and social-emotional readiness to lead as Global Citizens.', 'Westlake Charter School students are EXPLORERS! Our curriculum focuses on diversity and appreciation of different cultures, while promoting academic excellence and foreign language acquisition. We offer various specialty classes to all of our students including Art, Physical Education, and Spanish. Our middle school program focuses on Math, Science and Technology and is executed through the use of technology. Westlake Charter School has small class sizes of approximately 22-24 students in K-3rd grade and 29 students in 4th-8th grade.', 'First time visitors to Westlake Charter School often remark, “What a warm and inviting school!” Creating a school that is caring and open is absolutely critical in working successfully with our children and families. Students who feel safe, secure, and appreciated gain a love of learning and will be successful scholars.', 'Westlake Charter School’s professional staff is relentless in seeking and trying research-based best practices that engage every student. Our lessons are hands-on and differentiated to meet the diverse needs of all students. Our teachers display a never-ending commitment to improving their own expertise. Furthermore, we would not be as successful without the support and involvement of our parents. Our parent group is outstanding in helping us achieve our goals by volunteering their time in class, fundraising for our unique programs, and providing endless words of encouragement and support. Our school team is second to none!', 'Recent', 'Westlake Weekly – December 15, 2017', 'December 15th, 2017', 'Westlake Weekly – December 8, 2017', 'December 8th, 2017', 'Westlake Weekly – December 1, 2017', 'December 1st, 2017', 'Westlake Weekly – November 17, 2017', 'November 17th, 2017', 'Westlake Weekly – November 9, 2017', 'November 9th, 2017', 'Westlake Weekly – November 3, 2017', 'November 3rd, 2017', 'Contact Info', '2680 Mabry Dr. 95835', 'Phone: (916) 567-5760', 'Fax: (916) 567-5769', 'Email: ', 'admin@westlakecharter.com', 'Copyright 2015 Westlake Charter | All Rights Reserved | ', 'Contact Us']\n"
     ]
    }
   ],
   "source": [
    "# Parsing by tags has superior chunking accuracy:\n",
    "print(parse_by_newlines(example_page),\"\\n\\n\",parse_by_tags(example_page))"
   ]
  },
  {
   "cell_type": "code",
   "execution_count": 90,
   "metadata": {
    "collapsed": true
   },
   "outputs": [],
   "source": [
    "def score_and_categorize(pagetext_list): \n",
    "    \"\"\"Takes in a list of all the relevant (filtered) text from a given webpage. \n",
    "    Categorizes each block of text by scoring based on keyword count, using already-defined lists \n",
    "    of keywords per category--mission, philosophy, curriculum, history, and about/general self-description.\"\"\"\n",
    "    \n",
    "    mission_list = []\n",
    "    curriculum_list = []\n",
    "    philosophy_list = []\n",
    "    history_list = []\n",
    "    about_list = []\n",
    "    \n",
    "    for string in pagetext_list:\n",
    "        mission_score, curriculum_score, philosophy_score, history_score, about_score = 0, 0, 0, 0, 0\n",
    "        for word in mission_keywords:\n",
    "            mission_score+=string.count(word)\n",
    "            if 'mission' in string.lower():\n",
    "                mission_score = 2\n",
    "                \n",
    "        for word in curriculum_keywords:\n",
    "            curriculum_score+=string.count(word)\n",
    "            if 'curriculum' in string.lower():\n",
    "                curriculum_score = 2\n",
    "                \n",
    "        for word in philosophy_keywords:\n",
    "            philosophy_score+=string.count(word)\n",
    "            if 'philosophy' in string.lower() or 'value' in string.lower():\n",
    "                philosophy_score = 2\n",
    "        \n",
    "        for word in history_keywords:\n",
    "            history_score+=string.count(word)\n",
    "            if 'history' in string.lower():\n",
    "                history_score = 2\n",
    "        \n",
    "        for word in about_keywords:\n",
    "            self_score+=string.count(word)\n",
    "            if 'about us' in string.lower() or \"about-us\" in string.lower():\n",
    "                about_score = 2\n",
    "        \n",
    "        if mission_score>=2:\n",
    "            mission_list.append(string)\n",
    "        if curriculum_score>=2:\n",
    "            curriculum_list.append(string)\n",
    "        if philosophy_score>=2:\n",
    "            philosophy_list.append(string)\n",
    "        if history_score>=2:\n",
    "            history_list.append(string)\n",
    "        if about_score>=2:\n",
    "            about_list.append(string)\n",
    "        elif (mission_score + curriculum_score + philosophy_score + history_score + about_score >=2):\n",
    "            about_list.append(string)\n",
    "        \n",
    "    #return {'mission': mission_list, 'curriculum' : curriculum_list, 'philosophy': philosophy_list, 'history': history_list, 'about': about_list}\n",
    "    return mission_list, curriculum_list, philosophy_list, history_list, about_list\n"
   ]
  },
  {
   "cell_type": "code",
   "execution_count": null,
   "metadata": {},
   "outputs": [],
   "source": [
    "def score_school(school_dict, school_name, school_address, school_URL, datalocation, iter, numschools):\n",
    "    \"\"\"Description here\"\"\"\n",
    "    \n",
    "    iter+=1\n",
    "    print(\"Parsing \" + str(school_name) + \", which is school #\" + str(iter) + \" of \" + str(numschools) + \"...\")\n",
    "    \n",
    "    school_dict['mission'],school_dict['curriculum'],school_dict['philosophy'],school_dict['history'],school_dict['about'] = \"\",\"\",\"\",\"\",\"\"\n",
    "    school_dict['mission_best'],school_dict['curriculum_best'],school_dict['philosophy_best'],school_dict['history_best'],school_dict['about_best'] = \"\",\"\",\"\",\"\",\"\"\n",
    "    school_dict[\"webtext\"], school_dict[\"parsed_text\"], school_dict[\"duplicate_flag\"] = \"\", \"\", 0\n",
    "    \n",
    "    folder_name = re.sub(\" \",\"_\",(name+\" \"+address[-8:-6]))\n",
    "    school_folder = datalocation + folder_name + \"/\"\n",
    "    \n",
    "    if school_URL not in parsed: #check if this URL has already been parsed. If so, skip this school to avoid duplication bias\n",
    "        parsed+=school_URL\n",
    "        for file in glob(school_folder + \"*/\"+\"**\", recursive=True):\n",
    "            if file.endswith(\"html\"): #Parse file only if it contains HTML. This is easy: wget has already adjusted extensions appropriately for this\n",
    "            #if bool(BeautifulSoup(open(fname), \"html.parser\").find())==True: #More inefficient way to check if file contains HTML, for data not downloaded by wget\n",
    "                print(\"    Parsing HTML in \" + str(file) + \"...\")\n",
    "                try:\n",
    "                    #parse and filter page text here\n",
    "                    filtered_text = \n",
    "                    school_dict['mission'],school_dict['curriculum'],school_dict['philosophy'],school_dict['history'],school_dict['about'] += score_and_categorize(filtered_text)\n",
    "                except Exception as e:\n",
    "                    print(\"    \",e)\n",
    "                    print(\"    ERROR! No webtext gathered for \" + str(school_name))\n",
    "    \n",
    "    else:\n",
    "        print(\"DUPLICATE URL DETECTED. Skipping \" + str(school_name) + \"...\\n\\n\")\n",
    "        school_dict[\"duplicate_flag\"] = 1\n",
    "        return\n",
    "    \n",
    "    print(\"SUCCESS! Parsed and stored website text for \" + str(school_name) + \"...\\n\\n\")\n",
    "    return\n"
   ]
  },
  {
   "cell_type": "code",
   "execution_count": null,
   "metadata": {},
   "outputs": [],
   "source": [
    "# ### Preparing data to be parsed\n",
    "\n",
    "#set charter school data file and corresponding varnames\n",
    "#data_loc = full_schooldata #run at scale using URL list of full charter population\n",
    "data_loc = micro_sample13[:10] #run on micro-sample first, for debugging purposes\n",
    "URL_var,NAME_var,ADDR_var = get_vars(dataloc) #get varnames depending on data source\n",
    "\n",
    "itervar = 0 #initialize iterator that counts number of schools already parsed\n",
    "parsed = [] #initialize list of URLs that have already been parsed\n",
    "dicts_list = [] #initialize list of dictionaries to hold school data\n",
    "\n",
    "#Create dict list from CSV on file, with one dict per school\n",
    "with open(data_loc, 'r', encoding = 'Latin1') as csvfile: # open data file\n",
    "    reader = csv.DictReader(csvfile) # create a reader\n",
    "    for row in reader: # loop through rows\n",
    "        dicts_list.append(row) # append each row to the list\n",
    "        \n",
    "#Note on data structures: each row, dicts_list[i] is a dictionary with keys as column name and value as info.\n",
    "#This will be translated into pandas data frame once (rather messy) website text is parsed into consistent variables"
   ]
  },
  {
   "cell_type": "code",
   "execution_count": null,
   "metadata": {},
   "outputs": [],
   "source": [
    "for school in dicts_list:\n",
    "    score_school(school, school[NAME_var], school[ADDR_var], school[URL_var], data_loc, itervar, len(dicts_list))"
   ]
  },
  {
   "cell_type": "code",
   "execution_count": 92,
   "metadata": {
    "scrolled": true
   },
   "outputs": [
    {
     "data": {
      "text/plain": [
       "['westlake charter school is a k-8th grade public elementary school created by parents and educators in natomas. we opened our doors in 2005 and continue to grow serving more and more students each year. wcs’s primary mission is to demonstrate what is possible when school and community collaborate to create inspiring adults with the academic and social-emotional readiness to lead as global citizens.  westlake charter school students are explorers! our curriculum focuses on diversity and appreciation of different cultures, while promoting academic excellence and foreign language acquisition. we offer various specialty classes to all of our students including art, physical education, and spanish. our middle school program focuses on math, science and technology and is executed through the use of technology. westlake charter school has small class sizes of approximately 22-24 students in k-3rd grade and 29 students in 4th-8th grade.  first time visitors to westlake charter school often remark, “what a warm and inviting school!” creating a school that is caring and open is absolutely critical in working successfully with our children and families. students who feel safe, secure, and appreciated gain a love of learning and will be successful scholars.  westlake charter school’s professional staff is relentless in seeking and trying research-based best practices that engage every student. our lessons are hands-on and differentiated to meet the diverse needs of all students. our teachers display a never-ending commitment to improving their own expertise. furthermore, we would not be as successful without the support and involvement of our parents. our parent group is outstanding in helping us achieve our goals by volunteering their time in class, fundraising for our unique programs, and providing endless words of encouragement and support. our school team is second to none!',\n",
       " 'core values',\n",
       " 'respect  excellence  responsibility  reflective  global perspective  stewardship  perseverance  inquisitive  joyful learning  gratitude']"
      ]
     },
     "execution_count": 92,
     "metadata": {},
     "output_type": "execute_result"
    }
   ],
   "source": [
    "school_dict = score_and_categorize(westlakelist)\n",
    "school_dict['philosophy']"
   ]
  },
  {
   "cell_type": "markdown",
   "metadata": {},
   "source": []
  }
 ],
 "metadata": {
  "kernelspec": {
   "display_name": "Python 3",
   "language": "python",
   "name": "python3"
  },
  "language_info": {
   "codemirror_mode": {
    "name": "ipython",
    "version": 3
   },
   "file_extension": ".py",
   "mimetype": "text/x-python",
   "name": "python",
   "nbconvert_exporter": "python",
   "pygments_lexer": "ipython3",
   "version": "3.6.2"
  }
 },
 "nbformat": 4,
 "nbformat_minor": 2
}
