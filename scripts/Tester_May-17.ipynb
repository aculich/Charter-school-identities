{
 "cells": [
  {
   "cell_type": "markdown",
   "metadata": {},
   "source": [
    "## Importing packages"
   ]
  },
  {
   "cell_type": "code",
   "execution_count": null,
   "metadata": {
    "collapsed": true
   },
   "outputs": [],
   "source": [
    "'''# Record of additions to Jupyter docker's Python packages:\n",
    "pip install --upgrade pip\n",
    "pip install lxml\n",
    "pip install pyxDamerauLevenshtein'''"
   ]
  },
  {
   "cell_type": "code",
   "execution_count": 1,
   "metadata": {
    "collapsed": true
   },
   "outputs": [],
   "source": [
    "from bs4 import BeautifulSoup\n",
    "import pandas, csv, numpy as np\n",
    "import urllib, requests\n",
    "import os, os.path, re\n",
    "from glob import glob\n",
    "\n",
    "# for comparing strings in order to match elements between lists:\n",
    "from pyxdameraulevenshtein import normalized_damerau_levenshtein_distance as dldist\n",
    "from pyxdameraulevenshtein import normalized_damerau_levenshtein_distance_ndarray as dldistarray\n",
    "\n",
    "#from lxml import html, etree\n",
    "# from requests.auth import HTTPBasicAuth, HTTPDigestAuth\n",
    "# import nbimporter #need to pip install this\n",
    "# import EncapsulatedSchoolObject as school"
   ]
  },
  {
   "cell_type": "markdown",
   "metadata": {},
   "source": [
    "## Reading in data"
   ]
  },
  {
   "cell_type": "code",
   "execution_count": 2,
   "metadata": {
    "collapsed": true
   },
   "outputs": [],
   "source": [
    "sample = [] # make empty list to store the dictionaries in\n",
    "with open('../charter_URLs_Apr17.csv', 'r', encoding = 'Latin-1')\\\n",
    "as csvfile: # open file                      \n",
    "    reader = csv.DictReader(csvfile) # create a reader\n",
    "    for row in reader: # loop through rows\n",
    "        sample.append(row) # append each row to the list"
   ]
  },
  {
   "cell_type": "code",
   "execution_count": 3,
   "metadata": {
    "scrolled": true
   },
   "outputs": [
    {
     "name": "stdout",
     "output_type": "stream",
     "text": [
      "POLK STATE COLLEGE COLLEGIATE HIGH SCHOOL 3425 WINTER LK RD LAC1200, WINTER HAVEN, FL 33881 \n",
      " https://www.polk.edu/charter-high-schools/ \n",
      "\n",
      "dict_keys(['STABR', 'NCESSCH', 'ADDRESS', 'SCH_NAME', 'SEARCH', 'MANUAL_URL', 'OLD_URL'])\n"
     ]
    }
   ],
   "source": [
    "# Take a look at the first entry's contents and the variables list in our sample (a list of dictionaries)\n",
    "print(sample[1]['SEARCH'], \"\\n\", sample[1][\"OLD_URL\"], \"\\n\")\n",
    "print(sample[1].keys())"
   ]
  },
  {
   "cell_type": "code",
   "execution_count": null,
   "metadata": {
    "collapsed": true
   },
   "outputs": [],
   "source": [
    "'''# read in data\n",
    "df = pandas.read_excel('micro-sample_MANUAL_Apr17_rev3.xlsx')\n",
    "\n",
    "#get the values from the URL column (stored as list)\n",
    "links = df['URL'].values\n",
    "\n",
    "# Input test URL\n",
    "url = links[0]\n",
    "url\n",
    "'''"
   ]
  },
  {
   "cell_type": "code",
   "execution_count": 56,
   "metadata": {},
   "outputs": [
    {
     "name": "stdout",
     "output_type": "stream",
     "text": [
      "277\r\n"
     ]
    }
   ],
   "source": [
    "'''for i in $(find -maxdepth 1 -type d); do echo -n \"$i \"; find $i -type f | wc -l; done  | grep ' 1$'  | wc -l\n",
    "   55  find www.polk.edu/\n",
    "   56  find | head\n",
    "   57  find | head -n 100\n",
    "   58  find\n",
    "   59  find www.hustonacademy.com/\n",
    "   60  find www.hustonacademy.com/ -type d\n",
    "   61  find www.hustonacademy.com/ -maxdepth 1 -type d\n",
    "   62  find www.hustonacademy.com/ -maxdepth 0 -type d\n",
    "   63  find www.hustonacademy.com/ -maxdepth 1 -type d\n",
    "   64  find www.hustonacademy.com/ -maxdepth 2 -type d\n",
    "   65  find www.hustonacademy.com/ -maxdepth 3 -type d\n",
    "   66  find -maxdepth 1 -type d\n",
    "   67  l s-la\n",
    "   68  ls -la\n",
    "   69  for i in $(find -maxdepth 1 -type d); do echo -n \"$i \"; find $i -type f | wc -l; done  | grep ' 1$'  | wc -l\n",
    "   70  for i in $(find -maxdepth 1 -type d); do echo -n \"$i \"; find $i -type f | wc -l; done  | grep ' 1$'  \n",
    "   71  for i in $(find -maxdepth 1 -type d); do echo -n \"$i \"; find $i -type f | wc -l; done  | grep -v ' 1$'\n",
    "\n",
    "!find .  -maxdepth 1 -type d | wc -l\n",
    "\n",
    "!find /tmp  -maxdepth 1 -type d | wc -l'''"
   ]
  },
  {
   "cell_type": "markdown",
   "metadata": {},
   "source": [
    "## Parsing soup for ALL TEXT"
   ]
  },
  {
   "cell_type": "code",
   "execution_count": 9,
   "metadata": {
    "collapsed": true
   },
   "outputs": [],
   "source": [
    "# Use for-loop with HTML in directories to create list of tuples, where first element is school name\n",
    "# and second element is a list of strings, each string being the text extracted from each school's site. \n",
    "# Step 1: loop through directories\n",
    "# Step 2: locate HTML files\n",
    "# Step 3: use BS (or XPATH?) to extract text from HTML\n",
    "# Step 4: append the text to the dict(??)\n",
    "# Step 5: Use directory name as first element of tuple, text as second element"
   ]
  },
  {
   "cell_type": "code",
   "execution_count": 5,
   "metadata": {},
   "outputs": [
    {
     "data": {
      "text/plain": [
       "'/home/jovyan/work/Charter-school-identities/scripts'"
      ]
     },
     "execution_count": 5,
     "metadata": {},
     "output_type": "execute_result"
    }
   ],
   "source": [
    "os.getcwd()"
   ]
  },
  {
   "cell_type": "code",
   "execution_count": 6,
   "metadata": {
    "scrolled": false
   },
   "outputs": [
    {
     "name": "stdout",
     "output_type": "stream",
     "text": [
      "[<p>The mission of Acacia Middle Charter School is to provide a nurturing and challenging learning community to the greater Stockton area. Students will experience learning in ways that will allow them to both understand and improve their world. Our exceptional teachers inspire students to seek deep, meaningful understanding; to develop strong academic skills; and to become creative and independent thinkers. A rapidly changing global environment requires that Acacia students acquire knowledge and develop 21<sup>st</sup> century skills, while learning to define and solve problems creatively. Acacia Middle cultivates compassion, fairness, respect, and individuality within a community that celebrates diversity, authenticity, and service.</p>, <p>Acacia Middle embodies the following key assumptions in philosophy and daily practice:</p>, <p> </p>, <p> </p>, <p> </p>, <p><span style=\"font-size:14px;\"><strong>(209) 956-2182 Fax</strong></span></p>, <p>©Tri Valley Learning Corporation - All Rights Reserved </p>, <p>TVLC and the charter schools it operates, Livermore Valley Charter Preparatory High School, Livermore Valley Charter School, Acacia Elementary Charter School. and Acacia Middle Charter School have no affiliations, partnerships or sister-school relationships with any educational programs located in China. </p>, <p>This disclaimer is for the sole purpose of clarifying for the TVLC community and the general public at-large of the misinformation found or discovered on the internet or domestic and international websites. </p>, <p>TVLC does not sanction any use of its logos, likenesses, or intellectual property used or disseminated by non-licensed individuals or entities whether domestic or international.</p>]\n"
     ]
    }
   ],
   "source": [
    "testurl = \"https://acaciamiddle.org/about/our-mission-and-philosophy\"\n",
    "\n",
    "try:\n",
    "    testfile = \"/home/jovyan/work/mirror/acaciamiddle.org/about/our-mission-and-philosophy.html\"\n",
    "    testfolder = \"/home/jovyan/work/mirror/acaciamiddle.org/\"\n",
    "    soup = BeautifulSoup(open(testfile), \"lxml\")\n",
    "except:\n",
    "    html_page = urllib.request.urlopen(testurl)\n",
    "    soup = BeautifulSoup(html_page, \"lxml\")\n",
    "\n",
    "ptags = soup.find_all(\"p\")\n",
    "print(ptags)"
   ]
  },
  {
   "cell_type": "code",
   "execution_count": 82,
   "metadata": {
    "collapsed": true
   },
   "outputs": [],
   "source": [
    "'''# This gives only the VISIBLE text on the web page:\n",
    "\n",
    "from bs4.element import Comment\n",
    "data = soup.findAll(text=True) \n",
    "\n",
    "def visible(element):\n",
    "    if element.parent.name in ['style', 'script', '[document]', 'head', 'title', 'meta']:\n",
    "        return False\n",
    "    elif isinstance(element, Comment):\n",
    "        return False\n",
    "    return True\n",
    "\n",
    "# Alternative way of ripping out comments (line 3 of \"visible\" function above):\n",
    "# elif re.match('<!--.*-->', str(element.encode('utf-8'))):\n",
    "\n",
    "visible_texts = list(filter(visible, data))\n",
    "visible_texts'''"
   ]
  },
  {
   "cell_type": "code",
   "execution_count": 9,
   "metadata": {
    "collapsed": true
   },
   "outputs": [],
   "source": [
    "# For different ways of parsing the text, identify elements we know we DON'T want:\n",
    "junkName = ['style', 'script', '[document]', 'head', 'title', 'meta', 'a', 'label', 'footer']\n",
    "# And also elements we know we DO want:\n",
    "correctName = ['p', 'li', 'table', 'ul', 'ol', 'h1', 'h2', 'h3', 'h4', 'h5', 'h6', 'h7', 'h8', 'h9', 'h10']"
   ]
  },
  {
   "cell_type": "code",
   "execution_count": 11,
   "metadata": {
    "collapsed": true
   },
   "outputs": [],
   "source": [
    "def rip_text(fname, junkName_list):\n",
    "\n",
    "    '''This method of grabbing the visible text from a .html file first converts the HTML to a BeautifulSoup object, \n",
    "    then it rips out all script and style elements with tags identified through junkName_list. \n",
    "    It finishes by taking out the newlines and outputting a single string of all the visible text from the .html file.'''\n",
    "\n",
    "    soup = BeautifulSoup(open(fname), \"lxml\")\n",
    "\n",
    "    for script in soup(junkName_list):   # loop through every junk tag in soup\n",
    "        script.extract()    # rip out all script and style elements\n",
    "\n",
    "    ripped_text = soup.get_text() # get text\n",
    "    # print(ripped_text.encode('utf-8'))   # for checking work\n",
    "\n",
    "    # break into lines and remove leading and trailing space on each:\n",
    "    lines = (line.strip() for line in ripped_text.splitlines())\n",
    "    # break multi-headlines into a line each:\n",
    "    chunks = (phrase.strip() for line in lines for phrase in line.split(\"  \"))\n",
    "    # drop blank lines\n",
    "    ripped_textc = ' '.join(chunk for chunk in chunks if chunk)\n",
    "\n",
    "    print(\"\\n\", ripped_textc.encode('utf-8'))   # print output"
   ]
  },
  {
   "cell_type": "code",
   "execution_count": 12,
   "metadata": {
    "scrolled": true
   },
   "outputs": [
    {
     "name": "stdout",
     "output_type": "stream",
     "text": [
      "\n",
      " b'Main menu Our Mission and Philosophy English Our Mission: The mission of Acacia Middle Charter School is to provide a nurturing and challenging learning community to the greater Stockton area. Students will experience learning in ways that will allow them to both understand and improve their world.\\xc2\\xa0Our exceptional teachers inspire students to seek deep, meaningful understanding; to develop strong academic skills; and to become creative and independent thinkers. A rapidly changing global environment requires that Acacia students acquire knowledge and develop 21st century skills, while learning to define and solve problems creatively. Acacia Middle cultivates compassion, fairness, respect, and individuality within a community that celebrates diversity, authenticity, and service. Our Philosophy: Acacia Middle embodies the following key assumptions in philosophy and daily practice: learning is the young person\\xe2\\x80\\x99s pathway to personal growth school should be both challenging and joyous school is a community through which students, teachers, and parents develop trust, demonstrate cooperation, show respect, and acquire an understanding of the needs of others diversity brings quality and strength to our welcoming and inclusive school School Office - hablamos espa\\xc3\\xb1ol Acacia Middle Charter School 1605 E. March Ln Stockton, CA\\xc2\\xa0 95210 (209) 477-7014 Main Office (209) 956-2182 Fax Connect With Us \\xc2\\xa9Tri Valley Learning Corporation - All Rights Reserved TVLC and the charter schools it operates, Livermore Valley Charter Preparatory High School, Livermore Valley Charter School, Acacia Elementary Charter School. and Acacia Middle Charter School have no affiliations, partnerships or sister-school relationships with any educational programs located in China. This disclaimer is for the sole purpose of clarifying for the TVLC community and the general public at-large of the misinformation found or discovered on the internet or domestic and international websites. TVLC does not sanction any use of its logos, likenesses, or intellectual property used or disseminated by non-licensed individuals or entities whether domestic or international.'\n"
     ]
    }
   ],
   "source": [
    "rip_text(testfile, junkName)"
   ]
  },
  {
   "cell_type": "code",
   "execution_count": 13,
   "metadata": {
    "collapsed": true
   },
   "outputs": [],
   "source": [
    "def keep_text(fname, correctName_list):\n",
    "\n",
    "    '''This method of grabbing the visible text from a .html file first converts the HTML to a BeautifulSoup object, \n",
    "    then it keeps only those elements with tags identified through correctName_list. \n",
    "    It finishes by taking out the newlines and outputting a single string of all the visible text from the .html file.'''\n",
    "\n",
    "    soup = BeautifulSoup(open(fname), \"lxml\")\n",
    "\n",
    "    for script in soup:   # loop through every tag in the soup object\n",
    "        if script not in soup(correctName_list):\n",
    "            script.extract()    # keep only the good tags\n",
    "        \n",
    "    good_text = soup.get_text() # get text\n",
    "    # print(ripped_text.encode('utf-8'))   # for checking work\n",
    "\n",
    "    # break into lines and remove leading and trailing space on each:\n",
    "    lines = (line.strip() for line in good_text.splitlines())\n",
    "    # break multi-headlines into a line each:\n",
    "    chunks = (phrase.strip() for line in lines for phrase in line.split(\"  \"))\n",
    "    # drop blank lines\n",
    "    good_textc = ' '.join(chunk for chunk in chunks if chunk)\n",
    "\n",
    "    print(\"\\n\", good_textc.encode('utf-8'))   # print output"
   ]
  },
  {
   "cell_type": "code",
   "execution_count": 14,
   "metadata": {},
   "outputs": [
    {
     "name": "stdout",
     "output_type": "stream",
     "text": [
      "\n",
      " b'Our Mission and Philosophy | Acacia Middle Charter School <!--//--><![CDATA[//><!-- jQuery.extend(Drupal.settings, {\"basePath\":\"\\\\/\",\"pathPrefix\":\"\",\"ajaxPageState\":{\"theme\":\"lvcp\",\"theme_token\":\"Vg8IZ5kokc7eZAY3hPUqB-Td53PVSK-EF5s11P2_Jdg\",\"js\":{\"misc\\\\/jquery.js\":1,\"misc\\\\/jquery.once.js\":1,\"misc\\\\/drupal.js\":1,\"sites\\\\/all\\\\/libraries\\\\/colorbox\\\\/jquery.colorbox-min.js\":1,\"sites\\\\/all\\\\/modules\\\\/colorbox\\\\/js\\\\/colorbox.js\":1,\"sites\\\\/all\\\\/modules\\\\/colorbox\\\\/styles\\\\/default\\\\/colorbox_style.js\":1,\"sites\\\\/all\\\\/modules\\\\/field_group\\\\/field_group.js\":1,\"sites\\\\/all\\\\/themes\\\\/noodle\\\\/base\\\\/noodle.js\":1,\"sites\\\\/all\\\\/libraries\\\\/superfish\\\\/superfish.js\":1,\"sites\\\\/all\\\\/libraries\\\\/superfish\\\\/jquery.hoverIntent.minified.js\":1,\"sites\\\\/all\\\\/libraries\\\\/superfish\\\\/supersubs.js\":1,\"sites\\\\/all\\\\/modules\\\\/superfish\\\\/superfish.js\":1},\"css\":{\"modules\\\\/system\\\\/system.base.css\":1,\"modules\\\\/system\\\\/system.menus.css\":1,\"modules\\\\/system\\\\/system.messages.css\":1,\"modules\\\\/system\\\\/system.theme.css\":1,\"sites\\\\/all\\\\/modules\\\\/date\\\\/date_api\\\\/date.css\":1,\"modules\\\\/field\\\\/theme\\\\/field.css\":1,\"modules\\\\/node\\\\/node.css\":1,\"modules\\\\/search\\\\/search.css\":1,\"modules\\\\/user\\\\/user.css\":1,\"sites\\\\/all\\\\/modules\\\\/calendar\\\\/css\\\\/calendar_multiday.css\":1,\"sites\\\\/all\\\\/modules\\\\/views\\\\/css\\\\/views.css\":1,\"sites\\\\/all\\\\/modules\\\\/colorbox\\\\/styles\\\\/default\\\\/colorbox_style.css\":1,\"sites\\\\/all\\\\/modules\\\\/ctools\\\\/css\\\\/ctools.css\":1,\"sites\\\\/all\\\\/libraries\\\\/superfish\\\\/css\\\\/superfish.css\":1,\"sites\\\\/all\\\\/themes\\\\/noodle\\\\/base\\\\/reset.css\":1,\"sites\\\\/all\\\\/themes\\\\/noodle\\\\/base\\\\/base.css\":1,\"sites\\\\/all\\\\/themes\\\\/noodle\\\\/client\\\\/lvcp\\\\/style.css\":1}},\"colorbox\":{\"opacity\":\"0.85\",\"current\":\"{current} of {total}\",\"previous\":\"\\\\u00ab Prev\",\"next\":\"Next \\\\u00bb\",\"close\":\"Close\",\"maxWidth\":\"98%\",\"maxHeight\":\"98%\",\"fixed\":true,\"mobiledetect\":true,\"mobiledevicewidth\":\"480px\"},\"superfish\":[{\"id\":\"2\",\"sf\":{\"animation\":{\"opacity\":\"show\"},\"speed\":\"\\\\u0027fast\\\\u0027\",\"autoArrows\":false,\"dropShadows\":false,\"disableHI\":false},\"plugins\":{\"supposition\":false,\"bgiframe\":false,\"supersubs\":{\"minWidth\":\"12\",\"maxWidth\":\"27\",\"extraWidth\":1}}},{\"id\":\"1\",\"sf\":{\"animation\":{\"opacity\":\"show\"},\"speed\":\"\\\\u0027fast\\\\u0027\",\"autoArrows\":false,\"dropShadows\":false,\"disableHI\":false},\"plugins\":{\"supposition\":false,\"bgiframe\":false,\"supersubs\":{\"minWidth\":\"12\",\"maxWidth\":\"27\",\"extraWidth\":1}}}],\"field_group\":{\"div\":\"full\"}}); //--><!]]> Skip to main content EnglishEspa\\xc3\\xb1olStaffTech Support Main menu HomeAboutWelcomePrincipal\\'s MessageMission & PhilosophyOur TeamFAQsDirectionsSchool Wellness PolicyTitle III LEP PlanLCAPAcademicsMoby MaxMath 180Read 180Typing ClubCAASPP - California AssessmentStudent LifeStudent LifeCommunity ServiceFor ParentsSELPA UpdateSARCAttendance PolicyUniform PolicyPowerSchoolSchool Site CouncilVolunteer OpportunitiesFamily HandbookCommon CoreSchoolsLVCS (K-8)LVCPAECSSupport UsSupport OverviewPTCEmployer MatchingContact Us Our Mission and Philosophy Language English Our Mission: The mission of Acacia Middle Charter School is to provide a nurturing and challenging learning community to the greater Stockton area. Students will experience learning in ways that will allow them to both understand and improve their world.\\xc2\\xa0Our exceptional teachers inspire students to seek deep, meaningful understanding; to develop strong academic skills; and to become creative and independent thinkers. A rapidly changing global environment requires that Acacia students acquire knowledge and develop 21st century skills, while learning to define and solve problems creatively. Acacia Middle cultivates compassion, fairness, respect, and individuality within a community that celebrates diversity, authenticity, and service. Our Philosophy: Acacia Middle embodies the following key assumptions in philosophy and daily practice: learning is the young person\\xe2\\x80\\x99s pathway to personal growth school should be both challenging and joyous school is a community through which students, teachers, and parents develop trust, demonstrate cooperation, show respect, and acquire an understanding of the needs of others diversity brings quality and strength to our welcoming and inclusive school Espa\\xc3\\xb1ol School Office - hablamos espa\\xc3\\xb1ol Acacia Middle Charter School 1605 E. March Ln Stockton, CA\\xc2\\xa0 95210 (209) 477-7014 Main Office (209) 956-2182 Fax Connect With Us \\xc2\\xa9Tri Valley Learning Corporation - All Rights Reserved TVLC and the charter schools it operates, Livermore Valley Charter Preparatory High School, Livermore Valley Charter School, Acacia Elementary Charter School. and Acacia Middle Charter School have no affiliations, partnerships or sister-school relationships with any educational programs located in China. This disclaimer is for the sole purpose of clarifying for the TVLC community and the general public at-large of the misinformation found or discovered on the internet or domestic and international websites. TVLC does not sanction any use of its logos, likenesses, or intellectual property used or disseminated by non-licensed individuals or entities whether domestic or international.'\n"
     ]
    }
   ],
   "source": [
    "keep_text(testfile, correctName)"
   ]
  },
  {
   "cell_type": "code",
   "execution_count": 15,
   "metadata": {},
   "outputs": [
    {
     "data": {
      "text/plain": [
       "True"
      ]
     },
     "execution_count": 15,
     "metadata": {},
     "output_type": "execute_result"
    }
   ],
   "source": [
    "bool(BeautifulSoup(open(testfile), \"html.parser\").find())==True"
   ]
  },
  {
   "cell_type": "code",
   "execution_count": 64,
   "metadata": {},
   "outputs": [
    {
     "name": "stdout",
     "output_type": "stream",
     "text": [
      "276\n"
     ]
    },
    {
     "data": {
      "text/plain": [
       "['www.stcroixprep.org',\n",
       " 'www.kawaikini.com',\n",
       " 'www.confluenceacademy.com',\n",
       " 'www.shawanoschools.com',\n",
       " 'www.performanceacademies.com',\n",
       " 'www.sunvalleycharterschool.com',\n",
       " 'highlandfreeschool.org',\n",
       " 'www.janesville.k12.wi.us',\n",
       " 'www.aascalifornia.org',\n",
       " 'life.hartlake.org',\n",
       " 'evolutionacademy.org',\n",
       " 'www.bcclc.com',\n",
       " 'www.hustonacademy.com',\n",
       " 'www.mnohs.org',\n",
       " 'www.rivervalleyhigh.org',\n",
       " 'www.nycmcs.org',\n",
       " 'www.providencehall.com',\n",
       " 'excellenceboys.uncommonschools.org',\n",
       " 'www.spacharter.org',\n",
       " 'www.northwoodcs.org',\n",
       " 'ca01902906.schoolwires.net',\n",
       " 'www.lakecountryacademy.com',\n",
       " 'paintedrockacademy.com',\n",
       " 'innovationsacademy.org',\n",
       " 'www.sage-academy.org',\n",
       " 'www.newcastle.k12.ca.us',\n",
       " 'www.pvcics.org',\n",
       " 'bakercharters.org',\n",
       " 'www.wattslearningcenter.org',\n",
       " 'rvms.vail.k12.az.us',\n",
       " 'www.magellancharter.org',\n",
       " 'www.leadingedgeacademy.com',\n",
       " 'enlaceacademy.org',\n",
       " 'efcps.org',\n",
       " 'www.palcs.org',\n",
       " 'www.ivyprepacademy.org',\n",
       " 'responsiveed.com',\n",
       " 'www.minisacademy.org',\n",
       " 'www.kippmetroatlanta.org',\n",
       " 'www.classicalacademy.com',\n",
       " 'www.lockhurstelementary.com',\n",
       " 'www.iusd.net',\n",
       " 'www.husd.org',\n",
       " 'www.lawrenceacademy.net',\n",
       " 'www.siatech.org',\n",
       " 'www.cedartree-dc.org',\n",
       " 'gowan.craneschools.org',\n",
       " 'frederickclassicalcharterschool.org',\n",
       " 'www.sanger.k12.ca.us',\n",
       " 'compasscharters.org',\n",
       " 'girlsprep.org',\n",
       " 'east.riverside-academy.net',\n",
       " 'www.icanschools.org',\n",
       " 'www.cpdlf.org',\n",
       " 'www.asdnh.org',\n",
       " 'www.heightsprep.org',\n",
       " 'rcacs.org',\n",
       " 'www.whitepineacademy.com',\n",
       " 'www.pdc.k12.wi.us',\n",
       " 'tcatitans.org',\n",
       " 'www.boggsschool.org',\n",
       " 'www.compassmontessori.org',\n",
       " 'www.tapestryschool.org',\n",
       " 'www.mninternationalmiddleschool.org',\n",
       " 'www.mckeelelementary.com',\n",
       " 'www.bengamlaplantation.org',\n",
       " 'www.crossnoreschool.org',\n",
       " 'www.lifeskillscenters.com',\n",
       " 'www.corebutte.org',\n",
       " 'www.sdccs.org',\n",
       " 'aeetoledo.weebly.com',\n",
       " 'walatowahcs.org',\n",
       " 'vannuys.magnoliascience.org',\n",
       " 'www.tisataos.com',\n",
       " 'www.eagletoledo.com',\n",
       " 'www.bellecreekcs.org',\n",
       " 'www.tlca-cl.com',\n",
       " 'byrnes-ecsd-fl.schoolloop.com',\n",
       " 'unitycsfm.org',\n",
       " 'mcccs.manitowocpublicschools.org',\n",
       " 'www.relevantacademy.org',\n",
       " 'www.lacausa.org',\n",
       " 'cc.franklin-academy.org',\n",
       " 'phlearning.org',\n",
       " 'somersetsilverpalms.net',\n",
       " 'www.ladylibertyacademycs.org',\n",
       " 'www.waterfordmontessori.org',\n",
       " 'longleafschool.com',\n",
       " 'www.southpointehs.com',\n",
       " 'pieschools.info',\n",
       " 'www.richland2.org',\n",
       " 'www.evergladesprep.com',\n",
       " 'www.seedschooldc.org',\n",
       " 'www.mmcharter.org',\n",
       " 'www.basistucson.org',\n",
       " 'www.ncsota.org',\n",
       " 'mlane.campbellusd.org',\n",
       " 'westlakecharter.com',\n",
       " 'www.chicagoparkschool.org',\n",
       " 'leadershippreparatoryacademy.org',\n",
       " 'www.cityonahill.org',\n",
       " 'www.leonagroup.com',\n",
       " 'www.memphiscollegeprep.org',\n",
       " 'lighthouseacademyschool.org',\n",
       " 'www.ccaschool.net',\n",
       " 'www.lisanorth.org',\n",
       " 'www.e-institute.us',\n",
       " 'triowolfcreek.com',\n",
       " 'www.galschools.org',\n",
       " 'aspirepublicschools.org',\n",
       " 'www.edlinesites.net',\n",
       " 'westar.liberty.k12.az.us',\n",
       " 'acaciamiddle.org',\n",
       " 'www.coralacademy.org',\n",
       " 'www.willowcreekcharter.com',\n",
       " 'the-academies.com',\n",
       " 'www.fjacademy.com',\n",
       " 'www.grantleadership.com',\n",
       " 'crmontessori.org',\n",
       " 'www.jklschool.org',\n",
       " 'www.shiloh.k12.ca.us',\n",
       " 'www.sauvieislandacademy.org',\n",
       " 'jamaalearningcenter.org',\n",
       " 'www.summiths.com',\n",
       " 'dphms.democracyprep.org',\n",
       " 'firstlineschools.org',\n",
       " 'www.eastprep.org',\n",
       " 'discoveryprep.org',\n",
       " 'www.matchschool.org',\n",
       " 'www.simontechnology.org',\n",
       " 'detcomschools.org',\n",
       " 'www.urbanprep.org',\n",
       " 'www.lake.k12.fl.us',\n",
       " 'www.alphainternationalacademy.com',\n",
       " 'chandler.legacytraditional.org',\n",
       " 'cannonriverstemschool.org',\n",
       " 'www.monumentacademy.net',\n",
       " 'www.mycompassacademy.org',\n",
       " 'www.peakschool.org',\n",
       " 'www.goldenruledallas.org',\n",
       " 'www.bridgewateracademy.org',\n",
       " 'www.bayhaven.org',\n",
       " 'www.richardallenla.com',\n",
       " 'greendot.finalsite.com',\n",
       " 'www.corvian.org',\n",
       " 'www.putnamacademy.org',\n",
       " 'www.baltimorecityschools.org',\n",
       " 'hsshouston.org',\n",
       " 'www.ysacs.org',\n",
       " 'www.renaissancecharter.org',\n",
       " 'www.promiseacademycharter.org',\n",
       " 'www.hightechhigh.org',\n",
       " 'www.davidellisacademy.com',\n",
       " 'www.newheightscharter.org',\n",
       " 'laetx.org',\n",
       " 'www.caminonuevo.org',\n",
       " 'www.academycharterhs.org',\n",
       " 'kalo.org',\n",
       " 'www.zoelearningcenters.com',\n",
       " 'www.liveoakcharter.org',\n",
       " 'www.invictushigh.org',\n",
       " 'www.glasscityacademy.org',\n",
       " 'motthallcharterschool.org',\n",
       " 'rpes-susd-ca.schoolloop.com',\n",
       " 'www.pickerington.k12.oh.us',\n",
       " 'www.igenacademy.org',\n",
       " 'kipphouston.org',\n",
       " 'www.ferris.edu',\n",
       " 'www.k12northstar.org',\n",
       " 'www.montedelsol.org',\n",
       " 'www.rivercityscience.org',\n",
       " 'www.questpeoria.org',\n",
       " 'www.woodcharter.com',\n",
       " 'www.telesis-academy.org',\n",
       " 'www.portage.k12.wi.us',\n",
       " 'www.kippmemphis.org',\n",
       " 'www.texanscan.org',\n",
       " 'www.newworldprep.org',\n",
       " 'www.wpaces.org',\n",
       " 'www.palmettocharterschool.org',\n",
       " 'www.eagleridgeacademy.net',\n",
       " 'www.slacs-phila.org',\n",
       " 'www.theabowmanacademy.org',\n",
       " 'artsk12.org',\n",
       " 'www.intellischool.org',\n",
       " 'www.chandlerparkacademy.net',\n",
       " 'www.magonacademy.org',\n",
       " 'www.rapoportacademy.org',\n",
       " 'www.connectionsacademy.com',\n",
       " 'www.arcsj.org',\n",
       " 'www.northlakesacademy.org',\n",
       " 'www.interculturalacademy.com',\n",
       " 'www.noccs.org',\n",
       " 'www.aulchs.org',\n",
       " 'www.hilltowncharter.org',\n",
       " 'www.aceaofmidland.org',\n",
       " 'www.swprep.org',\n",
       " 'www.humespa.org',\n",
       " 'www.polk.edu',\n",
       " 'www.dlachampion.org',\n",
       " 'www.nhaschools.com',\n",
       " 'www.tapaprovidence.org',\n",
       " 'www.ntxca.org',\n",
       " 'www.camarillocharter.org',\n",
       " 'www.circlesofsuccess.org',\n",
       " 'www.kippreach.org',\n",
       " 'www.greenwoodscharter.org',\n",
       " 'summitacademies.org',\n",
       " 'www.alltribescharter.org',\n",
       " 'www.2kschool.com',\n",
       " 'www.valleycharterschool.org',\n",
       " 'www.fallbrookcpa.org',\n",
       " 'www.prestigeacademycs.org',\n",
       " 'ca.greendot.org',\n",
       " 'www.imaginecoolidge.com',\n",
       " 'www.irra.org',\n",
       " 'www.twodimensions.org',\n",
       " 'www.southbronxclassical.org',\n",
       " 'www.ames-slc.org',\n",
       " 'lasas.la.asa.schoolinsites.com',\n",
       " 'www.crossroadscharter.org',\n",
       " 'chechs.ccisd.net',\n",
       " 'artsacademyatscottsdale.com',\n",
       " 'www.vulturepeak.wickenburgschools.org',\n",
       " 'www.ideapublicschools.com',\n",
       " 'www.bcmcs.com',\n",
       " 'www.blracademy.org',\n",
       " 'www.lys.org',\n",
       " 'www.swschools.org',\n",
       " 'www.sequoiavillageschool.org',\n",
       " 'www.rosebudacademy.com',\n",
       " 'www.ccpcs.org',\n",
       " 'www.mhtigers.org',\n",
       " 'www.bayshoreprep.org',\n",
       " 'cityacademy.org',\n",
       " 'waa.arthuracademy.org',\n",
       " 'www.lakeview-academy.com',\n",
       " 'isucceed.insightschools.net',\n",
       " 'www.eelriverschool.net',\n",
       " 'www.focusacademytampa.org',\n",
       " 'www.glcps.org',\n",
       " 'nwtucson.legacytraditional.org',\n",
       " 'www.dce.k12.wi.us',\n",
       " 'www.nobleacademy.us',\n",
       " 'www.kippbayarea.org',\n",
       " 'dccchs.org',\n",
       " 'cms.springbranchisd.com',\n",
       " 'www.academyoftucson.com',\n",
       " 'www.fwsafe.com',\n",
       " 'kippsa.org',\n",
       " 'www.materacademy.com',\n",
       " 'guadalupecenters.org',\n",
       " 'arroyo.wesdschools.org',\n",
       " 'vangoghcs-lausd-ca.schoolloop.com',\n",
       " 'www.striveprep.org',\n",
       " 'www.marshallacademy.org',\n",
       " 'www.healthscienceschool.org',\n",
       " 'mmla.sabis.net',\n",
       " 'www.suncoastschool.org',\n",
       " 'www.bloomingtonprojectschool.org',\n",
       " 'www.teccs-jc.org',\n",
       " 'www.dcprep.org',\n",
       " 'www.appletonpublicmontessori.com',\n",
       " 'stamfordacademy.org',\n",
       " 'www.echo.charter.k12.mn.us',\n",
       " 'www.lawschoolbus.com',\n",
       " 'www.themanaacademy.org',\n",
       " 'www.thestemacademy.us',\n",
       " 'gillinghamcharterschool.org',\n",
       " 'www.lafayetteacademyno.org',\n",
       " 'www.valcharter.org',\n",
       " 'www.dignidad.org',\n",
       " 'schools.cvesd.org',\n",
       " 'www2.milwaukee.k12.wi.us',\n",
       " 'www.houstonisd.org',\n",
       " 'www.berkleymiddle.net']"
      ]
     },
     "execution_count": 64,
     "metadata": {},
     "output_type": "execute_result"
    }
   ],
   "source": [
    "folder_list = list(os.walk(data_loc))[0][1]\n",
    "print(len(folder_list))\n",
    "folder_list"
   ]
  },
  {
   "cell_type": "code",
   "execution_count": 49,
   "metadata": {},
   "outputs": [
    {
     "name": "stdout",
     "output_type": "stream",
     "text": [
      "0\n"
     ]
    },
    {
     "data": {
      "text/plain": [
       "[]"
      ]
     },
     "execution_count": 49,
     "metadata": {},
     "output_type": "execute_result"
    }
   ],
   "source": [
    "# TO DO: FIX\n",
    "# Point to where HTML has been captured\n",
    "data_loc = \"/home/jovyan/work/mirror/\"\n",
    "\n",
    "# Create list of all the folders we grabbed (not files)\n",
    "folder_list = []\n",
    "for elem in os.listdir(data_loc):\n",
    "    if os.path.isdir(elem):\n",
    "        folder_list.append(elem)\n",
    "\n",
    "print(len(folder_list))\n",
    "folder_list"
   ]
  },
  {
   "cell_type": "code",
   "execution_count": 19,
   "metadata": {},
   "outputs": [
    {
     "name": "stdout",
     "output_type": "stream",
     "text": [
      "280\n"
     ]
    },
    {
     "data": {
      "text/plain": [
       "['https://www.richland2.org/charterhigh/',\n",
       " 'https://www.polk.edu/lakeland-gateway-to-college-high-school/',\n",
       " 'https://www.nhaschools.com/schools/rivercity/Pages/default.aspx',\n",
       " 'https://www.nhaschools.com/schools/detroitenterprise',\n",
       " 'https://www.minisacademy.org',\n",
       " 'https://www.lys.org/services/lighthouse-community-school/',\n",
       " 'https://westlakecharter.com',\n",
       " 'https://vangoghcs-lausd-ca.schoolloop.com/',\n",
       " 'https://summitacademies.org/schools/dayton-high/',\n",
       " 'https://cms.springbranchisd.com/wais/',\n",
       " 'https://cityacademy.org/',\n",
       " 'https://cityacademy.org/',\n",
       " 'https://byrnes-ecsd-fl.schoolloop.com/',\n",
       " 'https://acaciamiddle.org/',\n",
       " 'http://www2.milwaukee.k12.wi.us/whittier/whittier.htm',\n",
       " 'http://www.zoelearningcenters.com',\n",
       " 'http://www.ywlcs.org/',\n",
       " 'http://www.yuba.net/',\n",
       " 'http://www.ysacs.org/',\n",
       " 'http://www.wpaces.org/',\n",
       " 'http://www.woodcharter.com/Granbury/',\n",
       " 'http://www.willowcreekcharter.com/',\n",
       " 'http://www.whitepineacademy.com/',\n",
       " 'http://www.westridgeacademycharter.com/',\n",
       " 'http://www.wattslearningcenter.org/',\n",
       " 'http://www.waterfordmontessori.org/',\n",
       " 'http://www.vulturepeak.wickenburgschools.org',\n",
       " 'http://www.vlcs.org/',\n",
       " 'http://www.valleycharterschool.org/',\n",
       " 'http://www.valcharter.org/',\n",
       " 'http://www.urbanprep.org/',\n",
       " 'http://www.tworiverscommunityschool.net/',\n",
       " 'http://www.tworiverscommunityschool.net/',\n",
       " 'http://www.twodimensions.org/',\n",
       " 'http://www.tlca-cl.com/',\n",
       " 'http://www.tisataos.com/',\n",
       " 'http://www.thestemacademy.us/index.html',\n",
       " 'http://www.themanaacademy.org/',\n",
       " 'http://www.thegreenschoolofbaltimore.org/',\n",
       " 'http://www.theabowmanacademy.org/',\n",
       " 'http://www.texanscan.org/schools-and-programs/dallas-ross-avenue/',\n",
       " 'http://www.telesis-academy.org/',\n",
       " 'http://www.teccs-jc.org/',\n",
       " 'http://www.tapestryschool.org/',\n",
       " 'http://www.tapaprovidence.org/',\n",
       " 'http://www.swschools.org/',\n",
       " 'http://www.swprep.org/',\n",
       " 'http://www.sunvalleycharterschool.com/',\n",
       " 'http://www.sunnywolfcharterschool.com/',\n",
       " 'http://www.suncoastschool.org/',\n",
       " 'http://www.summiths.com/',\n",
       " 'http://www.striveprep.org/school/strive-prep-smart-academy/',\n",
       " 'http://www.sthopeleadershipacademy.org/',\n",
       " 'http://www.stcroixprep.org/',\n",
       " 'http://www.spacharter.org/',\n",
       " 'http://www.southsideedu.org/',\n",
       " 'http://www.southpointehs.com/',\n",
       " 'http://www.southbronxclassical.org/',\n",
       " 'http://www.somersetdc.com/',\n",
       " 'http://www.somersetacademy.com/',\n",
       " 'http://www.slacs-phila.org/',\n",
       " 'http://www.shiloh.k12.ca.us/',\n",
       " 'http://www.shawanoschools.com/schools/leads/',\n",
       " 'http://www.sequoiavillageschool.org/',\n",
       " 'http://www.seedschooldc.org/',\n",
       " 'http://www.sdccs.org/',\n",
       " 'http://www.sauvieislandacademy.org/',\n",
       " 'http://www.sanger.k12.ca.us/',\n",
       " 'http://www.sage-academy.org/',\n",
       " 'http://www.rosebudacademy.com',\n",
       " 'http://www.rivervalleyhigh.org/',\n",
       " 'http://www.rivercityscience.org/',\n",
       " 'http://www.richardallenla.com/',\n",
       " 'http://www.renaissancecharter.org/',\n",
       " 'http://www.relevantacademy.org/',\n",
       " 'http://www.rapoportacademy.org/',\n",
       " 'http://www.questpeoria.org/',\n",
       " 'http://www.pvcics.org/',\n",
       " 'http://www.putnamacademy.org/',\n",
       " 'http://www.providencehall.com/',\n",
       " 'http://www.promiseacademycharter.org/pride/',\n",
       " 'http://www.prestigeacademycs.org/',\n",
       " 'http://www.portage.k12.wi.us/',\n",
       " 'http://www.pickerington.k12.oh.us/',\n",
       " 'http://www.performanceacademies.com/',\n",
       " 'http://www.peakschool.org/',\n",
       " 'http://www.pdc.k12.wi.us/mightyriver/',\n",
       " 'http://www.palmettocharterschool.org/',\n",
       " 'http://www.palcs.org/',\n",
       " 'http://www.nycmcs.org/',\n",
       " 'http://www.ntxca.org/vnews/display.v/SEC/South%20Campus',\n",
       " 'http://www.northwoodcs.org/',\n",
       " 'http://www.northlakesacademy.org/',\n",
       " 'http://www.noccs.org/',\n",
       " 'http://www.nobleacademy.us/',\n",
       " 'http://www.newworldprep.org/',\n",
       " 'http://www.newheightscharter.org/',\n",
       " 'http://www.newcastle.k12.ca.us/',\n",
       " 'http://www.ncsota.org/',\n",
       " 'http://www.mycompassacademy.org/',\n",
       " 'http://www.mycompassacademy.org/',\n",
       " 'http://www.monumentacademy.net/',\n",
       " 'http://www.montedelsol.org/',\n",
       " 'http://www.mnohs.org/',\n",
       " 'http://www.mmcharter.org/',\n",
       " 'http://www.memphiscollegeprep.org/',\n",
       " 'http://www.mckeelelementary.com/',\n",
       " 'http://www.materlakes.org/',\n",
       " 'http://www.materacademy.com/project/mater-brickell-preparatory-academy-k-8/',\n",
       " 'http://www.matchschool.org/',\n",
       " 'http://www.marshallacademy.org/',\n",
       " 'http://www.magonacademy.org/',\n",
       " 'http://www.magellancharter.org/',\n",
       " 'http://www.lockhurstelementary.com/',\n",
       " 'http://www.liveoakcharter.org/',\n",
       " 'http://www.lifeskillscenters.com/',\n",
       " 'http://www.leonagroup.com/',\n",
       " 'http://www.lawschoolbus.com/',\n",
       " 'http://www.lawrenceacademy.net/',\n",
       " 'http://www.lakeview-academy.com/',\n",
       " 'http://www.lakecountryacademy.com/',\n",
       " 'http://www.lafayetteacademyno.org/',\n",
       " 'http://www.ladylibertyacademycs.org/',\n",
       " 'http://www.lacausa.org/',\n",
       " 'http://www.kippreach.org/',\n",
       " 'http://www.kippmetroatlanta.org/kipp-ways-academy/',\n",
       " 'http://www.kippmetroatlanta.org/kipp-vision-primary/',\n",
       " 'http://www.kippmemphis.org/apps/pages/index.jsp?uREC_ID=242740&type=d',\n",
       " 'http://www.kippbayarea.org/schools/sjcollegiate/',\n",
       " 'http://www.kippbayarea.org/schools/sfcollegeprep/',\n",
       " 'http://www.kippbayarea.org/schools/heartwood/',\n",
       " 'http://www.kawaikini.com/',\n",
       " 'http://www.k12northstar.org/starofthenorth',\n",
       " 'http://www.k12northstar.org/chinook',\n",
       " 'http://www.jklschool.org/',\n",
       " 'http://www.irra.org/',\n",
       " 'http://www.invictushigh.org/',\n",
       " 'http://www.intellischool.org/',\n",
       " 'http://www.imaginecoolidge.com/',\n",
       " 'http://www.ideapublicschools.com/',\n",
       " 'http://www.icanschools.org/lake-erie-preparatory-school',\n",
       " 'http://www.hustonacademy.com/',\n",
       " 'http://www.husd.org/cooley',\n",
       " 'http://www.humespa.org/',\n",
       " 'http://www.houstonisd.org/Domain/22641',\n",
       " 'http://www.hilltowncharter.org/',\n",
       " 'http://www.hightechhigh.org/schools/HTHCV/',\n",
       " 'http://www.heightsprep.org/',\n",
       " 'http://www.greenwoodscharter.org/',\n",
       " 'http://www.grantleadership.com/',\n",
       " 'http://www.goldenruledallas.org/apps/pages/index.jsp?uREC_ID=88337&type=d&pREC_ID=178530&hideMenu=1',\n",
       " 'http://www.glcps.org/',\n",
       " 'http://www.glasscityacademy.org/',\n",
       " 'http://www.fwsafe.com/',\n",
       " 'http://www.focusacademytampa.org/',\n",
       " 'http://www.fjacademy.com/',\n",
       " 'http://www.fallbrookcpa.org/',\n",
       " 'http://www.evergladesprep.com/pages/Everglades_Preparatory_Academy',\n",
       " 'http://www.eelriverschool.net/',\n",
       " 'http://www.edlinesites.net/pages/Vantage_Point_Charter/',\n",
       " 'http://www.echo.charter.k12.mn.us/',\n",
       " 'http://www.eastprep.org/',\n",
       " 'http://www.eagletoledo.com/',\n",
       " 'http://www.eagleridgeacademy.net/',\n",
       " 'http://www.e-institute.us/locations/surprise/',\n",
       " 'http://www.e-institute.us/',\n",
       " 'http://www.dlachampion.org',\n",
       " 'http://www.dignidad.org/',\n",
       " 'http://www.dce.k12.wi.us/Domain/17',\n",
       " 'http://www.davidellisacademy.com/',\n",
       " 'http://www.crossroadscharter.org/',\n",
       " 'http://www.cpdlf.org/',\n",
       " 'http://www.corvian.org/',\n",
       " 'http://www.corebutte.org/',\n",
       " 'http://www.coralacademy.org/',\n",
       " 'http://www.connectionsacademy.com/nevada-virtual-school/',\n",
       " 'http://www.confluenceacademy.com/',\n",
       " 'http://www.compassmontessori.org/',\n",
       " 'http://www.classicalacademy.com/coastal/',\n",
       " 'http://www.circlesofsuccess.org/',\n",
       " 'http://www.chicagoparkschool.org/',\n",
       " 'http://www.chandlerparkacademy.net/index.php/schools/elementary-school.html',\n",
       " 'http://www.cedartree-dc.org/',\n",
       " 'http://www.ccpcs.org/',\n",
       " 'http://www.ccaschool.net',\n",
       " 'http://www.caminonuevo.org/',\n",
       " 'http://www.camarillocharter.org/',\n",
       " 'http://www.bridgewateracademy.org/',\n",
       " 'http://www.boggsschool.org/',\n",
       " 'http://www.blracademy.org/',\n",
       " 'http://www.bloomingtonprojectschool.org/',\n",
       " 'http://www.bhca.ws/',\n",
       " 'http://www.berkleymiddle.net',\n",
       " 'http://www.bengamlaplantation.org/',\n",
       " 'http://www.bellecreekcs.org/',\n",
       " 'http://www.bcmcs.com/',\n",
       " 'http://www.bcclc.com/',\n",
       " 'http://www.bayshoreprep.org/',\n",
       " 'http://www.basistucson.org/',\n",
       " 'http://www.baltimorecityschools.org/8',\n",
       " 'http://www.aulchs.org/',\n",
       " 'http://www.asdnh.org/',\n",
       " 'http://www.arcsj.org/communitycampus.html',\n",
       " 'http://www.appletonpublicmontessori.com/',\n",
       " 'http://www.ames-slc.org/',\n",
       " 'http://www.altavistacharterschools.org/',\n",
       " 'http://www.altavistacharterschools.org/',\n",
       " 'http://www.alphainternationalacademy.com/',\n",
       " 'http://www.alltribescharter.org/',\n",
       " 'http://www.aceaofmidland.org/',\n",
       " 'http://www.academyoftucson.com/middle-school/middle-school-home',\n",
       " 'http://www.academycharterhs.org/pages/mainpg',\n",
       " 'http://www.aascalifornia.org/',\n",
       " 'http://www.2kschool.com/',\n",
       " 'http://westar.liberty.k12.az.us/',\n",
       " 'http://walatowahcs.org/',\n",
       " 'http://waa.arthuracademy.org',\n",
       " 'http://vannuys.magnoliascience.org/',\n",
       " 'http://unitycsfm.org',\n",
       " 'http://triowolfcreek.com/',\n",
       " 'http://trinitysfc.org/',\n",
       " 'http://the-academies.com/Locations/Broadway-Academy/',\n",
       " 'http://tcatitans.org/',\n",
       " 'http://stamfordacademy.org/',\n",
       " 'http://somersetsilverpalms.net/',\n",
       " 'http://schools.cvesd.org/schools/arroyovista/Pages/default.aspx',\n",
       " 'http://rvms.vail.k12.az.us/',\n",
       " 'http://rpes-susd-ca.schoolloop.com/',\n",
       " 'http://responsiveed.com/premierpharrmcallen/',\n",
       " 'http://responsiveed.com/premiernewbraunfels/',\n",
       " 'http://responsiveed.com/huntsvilleclassical/',\n",
       " 'http://responsiveed.com/dallasclassical/',\n",
       " 'http://rcacs.org/',\n",
       " 'http://pieschools.info/SandRidgeCharterSchools.htm/',\n",
       " 'http://phlearning.org/',\n",
       " 'http://paintedrockacademy.com/',\n",
       " 'http://nwtucson.legacytraditional.org/',\n",
       " 'http://motthallcharterschool.org/',\n",
       " 'http://mmla.sabis.net/',\n",
       " 'http://mlane.campbellusd.org/',\n",
       " 'http://mcccs.manitowocpublicschools.org/',\n",
       " 'http://longleafschool.com/',\n",
       " 'http://life.hartlake.org/',\n",
       " 'http://leadershippreparatoryacademy.org/',\n",
       " \"http://lasas.la.asa.schoolinsites.com/?PageName='Contact'\",\n",
       " 'http://laetx.org',\n",
       " 'http://kippsa.org/our-schools/kipp-aspire-academy/',\n",
       " 'http://kipphouston.org/generations/',\n",
       " 'http://kalo.org/',\n",
       " 'http://jamaalearningcenter.org/',\n",
       " 'http://isucceed.insightschools.net/',\n",
       " 'http://innovationsacademy.org/',\n",
       " 'http://hsshouston.org/',\n",
       " 'http://highlandfreeschool.org/',\n",
       " 'http://greendot.finalsite.com/page.cfm?p=3860',\n",
       " 'http://gowan.craneschools.org/',\n",
       " 'http://girlsprep.org/',\n",
       " 'http://gillinghamcharterschool.org/',\n",
       " 'http://frederickclassicalcharterschool.org/',\n",
       " 'http://firstlineschools.org/joseph-s-clark-preparatory-high-school/',\n",
       " 'http://firstlineschools.org/arthur-ashe-charter-school/',\n",
       " 'http://evolutionacademy.org/',\n",
       " 'http://enlaceacademy.org/',\n",
       " 'http://efcps.org/our-schools/ascend/',\n",
       " 'http://east.riverside-academy.net/',\n",
       " 'http://east.riverside-academy.net/',\n",
       " 'http://dphms.democracyprep.org/',\n",
       " 'http://discoveryprep.org/',\n",
       " 'http://dccchs.org/',\n",
       " 'http://crmontessori.org/',\n",
       " 'http://chechs.ccisd.net/',\n",
       " 'http://chandler.legacytraditional.org/',\n",
       " 'http://cc.franklin-academy.org/',\n",
       " 'http://cannonriverstemschool.org/',\n",
       " 'http://ca.greendot.org/westside/',\n",
       " 'http://bakercharters.org/',\n",
       " 'http://aspirepublicschools.org/schools/regions/california-schools/aspire-vanguard-college-preparatory-academy',\n",
       " 'http://aspirepublicschools.org/schools/regions/california-schools/aspire-eres-academy',\n",
       " 'http://arroyo.wesdschools.org/',\n",
       " 'http://aeetoledo.weebly.com/']"
      ]
     },
     "execution_count": 19,
     "metadata": {},
     "output_type": "execute_result"
    }
   ],
   "source": [
    "URL_list = []\n",
    "for school in sample:\n",
    "    if school[\"MANUAL_URL\"] != '':\n",
    "        URL_list.append(school[\"MANUAL_URL\"])\n",
    "\n",
    "print(len(URL_list))\n",
    "URL_list    "
   ]
  },
  {
   "cell_type": "code",
   "execution_count": 65,
   "metadata": {
    "scrolled": true
   },
   "outputs": [
    {
     "data": {
      "text/plain": [
       "[]"
      ]
     },
     "execution_count": 65,
     "metadata": {},
     "output_type": "execute_result"
    }
   ],
   "source": [
    "list(set(folder_list).intersection(URL_list))"
   ]
  },
  {
   "cell_type": "code",
   "execution_count": 86,
   "metadata": {},
   "outputs": [
    {
     "ename": "ValueError",
     "evalue": "0.2962963 is not in list",
     "output_type": "error",
     "traceback": [
      "\u001b[0;31m---------------------------------------------------------------------------\u001b[0m",
      "\u001b[0;31mValueError\u001b[0m                                Traceback (most recent call last)",
      "\u001b[0;32m<ipython-input-86-09b5d63824bb>\u001b[0m in \u001b[0;36m<module>\u001b[0;34m()\u001b[0m\n\u001b[1;32m      1\u001b[0m \u001b[0;32mfor\u001b[0m \u001b[0mfolder\u001b[0m \u001b[0;32min\u001b[0m \u001b[0mfolder_list\u001b[0m\u001b[0;34m:\u001b[0m\u001b[0;34m\u001b[0m\u001b[0m\n\u001b[0;32m----> 2\u001b[0;31m     \u001b[0mprint\u001b[0m\u001b[0;34m(\u001b[0m\u001b[0mURL_list\u001b[0m\u001b[0;34m.\u001b[0m\u001b[0mindex\u001b[0m\u001b[0;34m(\u001b[0m\u001b[0mmin\u001b[0m\u001b[0;34m(\u001b[0m\u001b[0mdldistarray\u001b[0m\u001b[0;34m(\u001b[0m\u001b[0mfolder\u001b[0m\u001b[0;34m,\u001b[0m \u001b[0mnp\u001b[0m\u001b[0;34m.\u001b[0m\u001b[0marray\u001b[0m\u001b[0;34m(\u001b[0m\u001b[0mURL_list\u001b[0m\u001b[0;34m)\u001b[0m\u001b[0;34m)\u001b[0m\u001b[0;34m)\u001b[0m\u001b[0;34m)\u001b[0m\u001b[0;34m)\u001b[0m\u001b[0;34m\u001b[0m\u001b[0m\n\u001b[0m\u001b[1;32m      3\u001b[0m \u001b[0;31m#    URL_list.index(URL_list[index_of_above]\u001b[0m\u001b[0;34m\u001b[0m\u001b[0;34m\u001b[0m\u001b[0m\n",
      "\u001b[0;31mValueError\u001b[0m: 0.2962963 is not in list"
     ]
    }
   ],
   "source": [
    "for folder in folder_list:\n",
    "    print(URL_list.index(min(dldistarray(folder, np.array(URL_list)))))\n",
    "#    URL_list.index(URL_list[index_of_above]"
   ]
  },
  {
   "cell_type": "code",
   "execution_count": 173,
   "metadata": {},
   "outputs": [
    {
     "name": "stdout",
     "output_type": "stream",
     "text": [
      "Parsing HTML in /home/jovyan/work/mirror/acaciamiddle.org/project-based-learning.html...\n",
      "Parsing HTML in /home/jovyan/work/mirror/acaciamiddle.org/academics/moby-max.html...\n",
      "Parsing HTML in /home/jovyan/work/mirror/acaciamiddle.org/academics/caaspp-california-assessment.html...\n",
      "Parsing HTML in /home/jovyan/work/mirror/acaciamiddle.org/academics/typing-club.html...\n",
      "Parsing HTML in /home/jovyan/work/mirror/acaciamiddle.org/academics/read-180.html...\n",
      "Parsing HTML in /home/jovyan/work/mirror/acaciamiddle.org/academics/academic-program-overview.html...\n",
      "Parsing HTML in /home/jovyan/work/mirror/acaciamiddle.org/academics/math-180.html...\n",
      "Parsing HTML in /home/jovyan/work/mirror/acaciamiddle.org/student-life/community-service.html...\n",
      "Parsing HTML in /home/jovyan/work/mirror/acaciamiddle.org/student-life/student-life-overview.html...\n",
      "Parsing HTML in /home/jovyan/work/mirror/acaciamiddle.org/es/empleador-que-empareja.html...\n",
      "Parsing HTML in /home/jovyan/work/mirror/acaciamiddle.org/es/apoyo-acacia-elementary-charter-school.html...\n",
      "Parsing HTML in /home/jovyan/work/mirror/acaciamiddle.org/es/contacte-aecs.html...\n",
      "Parsing HTML in /home/jovyan/work/mirror/acaciamiddle.org/es/acerca/bienvenida-del-director.html...\n",
      "Parsing HTML in /home/jovyan/work/mirror/acaciamiddle.org/es/acerca/preguntas-más-frecuentes.html...\n",
      "Parsing HTML in /home/jovyan/work/mirror/acaciamiddle.org/es/acerca/nuestra-misión.html...\n",
      "Parsing HTML in /home/jovyan/work/mirror/acaciamiddle.org/es/acerca/nuestro-equipo.html...\n",
      "Parsing HTML in /home/jovyan/work/mirror/acaciamiddle.org/es/acerca/programas.html...\n",
      "Parsing HTML in /home/jovyan/work/mirror/acaciamiddle.org/es/resumen-de-la-vida-de-estudiante.html...\n",
      "Parsing HTML in /home/jovyan/work/mirror/acaciamiddle.org/es/gallery.xml...\n",
      "Parsing HTML in /home/jovyan/work/mirror/acaciamiddle.org/es/gallery.html...\n",
      "Parsing HTML in /home/jovyan/work/mirror/acaciamiddle.org/es/¡-bienvenido-acacia-community-charter-school.html...\n",
      "Parsing HTML in /home/jovyan/work/mirror/acaciamiddle.org/es/vida-estudiantil/servicio-la-comunidad.html...\n",
      "Parsing HTML in /home/jovyan/work/mirror/acaciamiddle.org/es/tags/community.html...\n",
      "Parsing HTML in /home/jovyan/work/mirror/acaciamiddle.org/es/tags/forum.html...\n",
      "Parsing HTML in /home/jovyan/work/mirror/acaciamiddle.org/es/tags/charter.html...\n",
      "Parsing HTML in /home/jovyan/work/mirror/acaciamiddle.org/es/tags/tk.html...\n",
      "Parsing HTML in /home/jovyan/work/mirror/acaciamiddle.org/es/tags/school.html...\n",
      "Parsing HTML in /home/jovyan/work/mirror/acaciamiddle.org/es/tags/kinder.html...\n",
      "Parsing HTML in /home/jovyan/work/mirror/acaciamiddle.org/es/tags/orientation.html...\n",
      "Parsing HTML in /home/jovyan/work/mirror/acaciamiddle.org/es/tags/uniform.html...\n",
      "Parsing HTML in /home/jovyan/work/mirror/acaciamiddle.org/es/tags/acacia.html...\n",
      "Parsing HTML in /home/jovyan/work/mirror/acaciamiddle.org/es/cuerpo-de-maestros-padres-ptc.html...\n",
      "Parsing HTML in /home/jovyan/work/mirror/acaciamiddle.org/es/node/304.html...\n",
      "Parsing HTML in /home/jovyan/work/mirror/acaciamiddle.org/es/node/16.html...\n",
      "Parsing HTML in /home/jovyan/work/mirror/acaciamiddle.org/es/node/382.html...\n",
      "Parsing HTML in /home/jovyan/work/mirror/acaciamiddle.org/es/stories/foro-uniforme.html...\n",
      "Parsing HTML in /home/jovyan/work/mirror/acaciamiddle.org/es/stories/el-martes-3-de-marzo-jornada-de-puertas-abiertas.html...\n",
      "Parsing HTML in /home/jovyan/work/mirror/acaciamiddle.org/es/stories/acacia-elemental-automatrícula.html...\n",
      "Parsing HTML in /home/jovyan/work/mirror/acaciamiddle.org/es/stories/nuevo-hogar-para-acacia-elementary-charter-school.html...\n",
      "Parsing HTML in /home/jovyan/work/mirror/acaciamiddle.org/es/stories/una-nueva-ubicación-para-la-escuela-elemental-acacia.html...\n",
      "Parsing HTML in /home/jovyan/work/mirror/acaciamiddle.org/es/stories/inscribirse-ahora.html...\n",
      "Parsing HTML in /home/jovyan/work/mirror/acaciamiddle.org/es/taxonomy/term/39/all/feed...\n",
      "Parsing HTML in /home/jovyan/work/mirror/acaciamiddle.org/es/taxonomy/term/43/all/feed...\n",
      "Parsing HTML in /home/jovyan/work/mirror/acaciamiddle.org/es/taxonomy/term/36/all/feed...\n",
      "Parsing HTML in /home/jovyan/work/mirror/acaciamiddle.org/es/taxonomy/term/37/all/feed...\n",
      "Parsing HTML in /home/jovyan/work/mirror/acaciamiddle.org/es/taxonomy/term/38/all/feed...\n",
      "Parsing HTML in /home/jovyan/work/mirror/acaciamiddle.org/es/taxonomy/term/42/all/feed...\n",
      "Parsing HTML in /home/jovyan/work/mirror/acaciamiddle.org/es/taxonomy/term/41/all/feed...\n",
      "Parsing HTML in /home/jovyan/work/mirror/acaciamiddle.org/es/taxonomy/term/35/all/feed...\n",
      "Parsing HTML in /home/jovyan/work/mirror/acaciamiddle.org/es/taxonomy/term/40/all/feed...\n",
      "Parsing HTML in /home/jovyan/work/mirror/acaciamiddle.org/es/stories.1.html...\n",
      "Parsing HTML in /home/jovyan/work/mirror/acaciamiddle.org/year-book-orders.html...\n",
      "Parsing HTML in /home/jovyan/work/mirror/acaciamiddle.org/gallery.xml.1...\n",
      "Parsing HTML in /home/jovyan/work/mirror/acaciamiddle.org/contact-us.html...\n",
      "Parsing HTML in /home/jovyan/work/mirror/acaciamiddle.org/sarc.html...\n",
      "Parsing HTML in /home/jovyan/work/mirror/acaciamiddle.org/volunteers-opportunities.html...\n",
      "Parsing HTML in /home/jovyan/work/mirror/acaciamiddle.org/es.1.html...\n",
      "Parsing HTML in /home/jovyan/work/mirror/acaciamiddle.org/student-clubs.html...\n",
      "Parsing HTML in /home/jovyan/work/mirror/acaciamiddle.org/gallery.xml/jaguar-memories...\n",
      "Parsing HTML in /home/jovyan/work/mirror/acaciamiddle.org/stories?page=1.html...\n",
      "Parsing HTML in /home/jovyan/work/mirror/acaciamiddle.org/lunch-menu.html...\n",
      "Parsing HTML in /home/jovyan/work/mirror/acaciamiddle.org/acerca-de/welcome-acacia-community-charter-school.html...\n",
      "Parsing HTML in /home/jovyan/work/mirror/acaciamiddle.org/gallery.1.html...\n",
      "Parsing HTML in /home/jovyan/work/mirror/acaciamiddle.org/powerschool.html...\n",
      "Parsing HTML in /home/jovyan/work/mirror/acaciamiddle.org/attendance-policy-0.html...\n",
      "Parsing HTML in /home/jovyan/work/mirror/acaciamiddle.org/family-handbook.html...\n",
      "Parsing HTML in /home/jovyan/work/mirror/acaciamiddle.org/gallery/jaguar-memories.html...\n",
      "Parsing HTML in /home/jovyan/work/mirror/acaciamiddle.org/gallery/jaguar-photo-gallery.html...\n",
      "Parsing HTML in /home/jovyan/work/mirror/acaciamiddle.org/common-core.html...\n",
      "Parsing HTML in /home/jovyan/work/mirror/acaciamiddle.org/jag-student-store.html...\n",
      "Parsing HTML in /home/jovyan/work/mirror/acaciamiddle.org/tags/community.html...\n",
      "Parsing HTML in /home/jovyan/work/mirror/acaciamiddle.org/tags/forum.html...\n",
      "Parsing HTML in /home/jovyan/work/mirror/acaciamiddle.org/tags/charter.html...\n",
      "Parsing HTML in /home/jovyan/work/mirror/acaciamiddle.org/tags/tk.html...\n",
      "Parsing HTML in /home/jovyan/work/mirror/acaciamiddle.org/tags/school.html...\n",
      "Parsing HTML in /home/jovyan/work/mirror/acaciamiddle.org/tags/kinder.html...\n",
      "Parsing HTML in /home/jovyan/work/mirror/acaciamiddle.org/tags/orientation.html...\n",
      "Parsing HTML in /home/jovyan/work/mirror/acaciamiddle.org/tags/uniform.html...\n",
      "Parsing HTML in /home/jovyan/work/mirror/acaciamiddle.org/tags/acacia.html...\n",
      "Parsing HTML in /home/jovyan/work/mirror/acaciamiddle.org/ptsg.html...\n",
      "Parsing HTML in /home/jovyan/work/mirror/acaciamiddle.org/uniform-policy.html...\n",
      "Parsing HTML in /home/jovyan/work/mirror/acaciamiddle.org/calendar.html...\n",
      "Parsing HTML in /home/jovyan/work/mirror/acaciamiddle.org/stories?page=3.html...\n",
      "Parsing HTML in /home/jovyan/work/mirror/acaciamiddle.org/tech-support.html...\n",
      "Parsing HTML in /home/jovyan/work/mirror/acaciamiddle.org/2016-2017-school-calendar.html...\n",
      "Parsing HTML in /home/jovyan/work/mirror/acaciamiddle.org/node/326.html...\n",
      "Parsing HTML in /home/jovyan/work/mirror/acaciamiddle.org/node/327.html...\n",
      "Parsing HTML in /home/jovyan/work/mirror/acaciamiddle.org/parents/selpa-update.html...\n",
      "Parsing HTML in /home/jovyan/work/mirror/acaciamiddle.org/stories?page=2.html...\n",
      "Parsing HTML in /home/jovyan/work/mirror/acaciamiddle.org/index.html...\n",
      "Parsing HTML in /home/jovyan/work/mirror/acaciamiddle.org/donate.html...\n",
      "Parsing HTML in /home/jovyan/work/mirror/acaciamiddle.org/ssc-agendasminutes.html...\n",
      "Parsing HTML in /home/jovyan/work/mirror/acaciamiddle.org/support-us/support-acacia-community-charter-school.html...\n",
      "Parsing HTML in /home/jovyan/work/mirror/acaciamiddle.org/support-us/employer-matching.html...\n",
      "Parsing HTML in /home/jovyan/work/mirror/acaciamiddle.org/stories/parent-tips-october.html...\n",
      "Parsing HTML in /home/jovyan/work/mirror/acaciamiddle.org/stories/acacia-spaghetti-feed-fundraiser.html...\n",
      "Parsing HTML in /home/jovyan/work/mirror/acaciamiddle.org/stories/ssc-meeting.html...\n",
      "Parsing HTML in /home/jovyan/work/mirror/acaciamiddle.org/stories/8th-grade-great-america-field-trip.html...\n",
      "Parsing HTML in /home/jovyan/work/mirror/acaciamiddle.org/stories/&quot;/ssl.gstatic.com/ui/v1/icons/mail/ellipsis.png&quot;.html...\n",
      "Parsing HTML in /home/jovyan/work/mirror/acaciamiddle.org/stories/wear-your-uniform-everyday.html...\n",
      "Parsing HTML in /home/jovyan/work/mirror/acaciamiddle.org/stories/aecs-5th-graders-visit-acacia-middle.html...\n",
      "Parsing HTML in /home/jovyan/work/mirror/acaciamiddle.org/stories/back-school-night.html...\n",
      "Parsing HTML in /home/jovyan/work/mirror/acaciamiddle.org/stories/labor-day-no-school.html...\n",
      "Parsing HTML in /home/jovyan/work/mirror/acaciamiddle.org/stories/amcs-ssc-meeting.html...\n",
      "Parsing HTML in /home/jovyan/work/mirror/acaciamiddle.org/stories/no-school-fall-break.html...\n",
      "Parsing HTML in /home/jovyan/work/mirror/acaciamiddle.org/stories/amcs-bbq-fundraiser.html...\n",
      "Parsing HTML in /home/jovyan/work/mirror/acaciamiddle.org/stories/amcs-scholastic-book-fair.html...\n",
      "Parsing HTML in /home/jovyan/work/mirror/acaciamiddle.org/stories/parents-survival-guide-online-safety.html...\n",
      "Parsing HTML in /home/jovyan/work/mirror/acaciamiddle.org/stories/school-attendance.html...\n",
      "Parsing HTML in /home/jovyan/work/mirror/acaciamiddle.org/stories/free-family-movie-night.html...\n",
      "Parsing HTML in /home/jovyan/work/mirror/acaciamiddle.org/stories/now-enrolling-2016-2017-school-year.html...\n",
      "Parsing HTML in /home/jovyan/work/mirror/acaciamiddle.org/stories/sign-our-online-petition.html...\n",
      "Parsing HTML in /home/jovyan/work/mirror/acaciamiddle.org/stories/message-acacia-middle-charter.html...\n",
      "Parsing HTML in /home/jovyan/work/mirror/acaciamiddle.org/stories/coffee-principal-1.html...\n",
      "Parsing HTML in /home/jovyan/work/mirror/acaciamiddle.org/stories/national-school-choice-week.html...\n",
      "Parsing HTML in /home/jovyan/work/mirror/acaciamiddle.org/stories/coffee-principal-0.html...\n",
      "Parsing HTML in /home/jovyan/work/mirror/acaciamiddle.org/stories/tvlc-board-agenda-62316.html...\n",
      "Parsing HTML in /home/jovyan/work/mirror/acaciamiddle.org/stories/sees-candy-fundraiser.html...\n",
      "Parsing HTML in /home/jovyan/work/mirror/acaciamiddle.org/stories/hot-chocolate-sale.html...\n",
      "Parsing HTML in /home/jovyan/work/mirror/acaciamiddle.org/stories/jag-student-store.html...\n",
      "Parsing HTML in /home/jovyan/work/mirror/acaciamiddle.org/stories/school-site-council-meeting.html...\n",
      "Parsing HTML in /home/jovyan/work/mirror/acaciamiddle.org/stories/mlk-day-no-school.html...\n",
      "Parsing HTML in /home/jovyan/work/mirror/acaciamiddle.org/stories/stockton-unified-school-district-authorize-acacia-schools.html...\n",
      "Parsing HTML in /home/jovyan/work/mirror/acaciamiddle.org/stories/parent-volunteer-application.html...\n",
      "Parsing HTML in /home/jovyan/work/mirror/acaciamiddle.org/stories/spring-break.html...\n",
      "Parsing HTML in /home/jovyan/work/mirror/acaciamiddle.org/stories/acacia-middle-featured-latino-times.html...\n",
      "Parsing HTML in /home/jovyan/work/mirror/acaciamiddle.org/stories/stockton-unified-school-district-agrees-consider-acacia-charter.html...\n",
      "Parsing HTML in /home/jovyan/work/mirror/acaciamiddle.org/stories/fall-bash.html...\n",
      "Parsing HTML in /home/jovyan/work/mirror/acaciamiddle.org/stories/coffee-principal.html...\n",
      "Parsing HTML in /home/jovyan/work/mirror/acaciamiddle.org/stories/family-literacy-night.html...\n",
      "Parsing HTML in /home/jovyan/work/mirror/acaciamiddle.org/stories/8th-grade-promotion-ceremony.html...\n",
      "Parsing HTML in /home/jovyan/work/mirror/acaciamiddle.org/stories/yearbooks-sale.html...\n",
      "Parsing HTML in /home/jovyan/work/mirror/acaciamiddle.org/stories/acacia-schools-spaghetti-feed-save-date.html...\n",
      "Parsing HTML in /home/jovyan/work/mirror/acaciamiddle.org/taxonomy/term/39/all/feed...\n",
      "Parsing HTML in /home/jovyan/work/mirror/acaciamiddle.org/taxonomy/term/43/all/feed...\n",
      "Parsing HTML in /home/jovyan/work/mirror/acaciamiddle.org/taxonomy/term/36/all/feed...\n",
      "Parsing HTML in /home/jovyan/work/mirror/acaciamiddle.org/taxonomy/term/37/all/feed...\n",
      "Parsing HTML in /home/jovyan/work/mirror/acaciamiddle.org/taxonomy/term/38/all/feed...\n",
      "Parsing HTML in /home/jovyan/work/mirror/acaciamiddle.org/taxonomy/term/42/all/feed...\n",
      "Parsing HTML in /home/jovyan/work/mirror/acaciamiddle.org/taxonomy/term/41/all/feed...\n",
      "Parsing HTML in /home/jovyan/work/mirror/acaciamiddle.org/taxonomy/term/35/all/feed...\n",
      "Parsing HTML in /home/jovyan/work/mirror/acaciamiddle.org/taxonomy/term/40/all/feed...\n",
      "Parsing HTML in /home/jovyan/work/mirror/acaciamiddle.org/about/principals-message.html...\n",
      "Parsing HTML in /home/jovyan/work/mirror/acaciamiddle.org/about/our-team.html...\n",
      "Parsing HTML in /home/jovyan/work/mirror/acaciamiddle.org/about/our-mission-and-philosophy.html...\n",
      "Parsing HTML in /home/jovyan/work/mirror/acaciamiddle.org/about/title-iii-lep-plan.html...\n",
      "Parsing HTML in /home/jovyan/work/mirror/acaciamiddle.org/about/school-wellness-policy.html...\n",
      "Parsing HTML in /home/jovyan/work/mirror/acaciamiddle.org/about/lcap.html...\n",
      "Parsing HTML in /home/jovyan/work/mirror/acaciamiddle.org/about/frequently-asked-questions.html...\n",
      "Parsing HTML in /home/jovyan/work/mirror/acaciamiddle.org/school-site-council.html...\n",
      "Parsing HTML in /home/jovyan/work/mirror/acaciamiddle.org/stories.1.html...\n",
      "Parsing HTML in /home/jovyan/work/mirror/acaciamiddle.org/free-reduced-meal-pricing-letter-2016-17.html...\n",
      "Parsing HTML in /home/jovyan/work/mirror/acaciamiddle.org/amcs-pto.html...\n",
      "Parsing HTML in /home/jovyan/work/mirror/acaciamiddle.org/about.1.html...\n"
     ]
    }
   ],
   "source": [
    "def parse_text(dictry, folder_name, URL_var): \n",
    "    \n",
    "    # Note: Need to sort folders (in data_location) and schools (in list_of_dicts) on SAME LIST of URLs!\n",
    "    # can index folder location to dictionary because dict[\"URL\"]=folder_name!\n",
    "    \n",
    "    folder_list = list(os.walk(data_loc))[0][1] # Create list of all the folders in data_location\n",
    "    \n",
    "    '''folder_list = [] # Faster, but doesn't work now\n",
    "    for elem in os.listdir(data_loc):\n",
    "        if os.path.isdir(elem):\n",
    "            folder_list.append(elem)'''\n",
    "    \n",
    "    for folder in folder_list:\n",
    "        print(\"\\nParsing this folder: \" + folder + \"...\")\n",
    "        \n",
    "        for fname in glob(folder + \"**\", recursive=True):\n",
    "            try:\n",
    "                if bool(BeautifulSoup(open(fname), \"html.parser\").find())==True:\n",
    "                    print(\"Parsing HTML in \" + fname + \"...\")\n",
    "                    soup = BeautifulSoup(open(fname), \"lxml\")\n",
    "                    dict[\"all_text\"] = rip_text(fname, junkName)\n",
    "            except:\n",
    "                pass\n",
    "        \n",
    "        \n",
    "        # look in each folder for .html, read in the text, sub ' for b' if needed at start string\n",
    "        # join together all the text strings, add that as value to school dict, analyze as before.\n",
    "        # keep out all sites with only ONE HTML file"
   ]
  },
  {
   "cell_type": "code",
   "execution_count": 43,
   "metadata": {
    "collapsed": true
   },
   "outputs": [],
   "source": [
    "os.defpath?"
   ]
  },
  {
   "cell_type": "code",
   "execution_count": null,
   "metadata": {
    "collapsed": true
   },
   "outputs": [],
   "source": [
    "parse_text(sample[0], , \"MANUAL_URL\")"
   ]
  },
  {
   "cell_type": "code",
   "execution_count": 77,
   "metadata": {
    "scrolled": false
   },
   "outputs": [
    {
     "name": "stdout",
     "output_type": "stream",
     "text": [
      "0.20000000298023224\n",
      "\n",
      " [ 0.2         0.33333334  0.42857143]\n",
      "\n",
      " 0.2\n"
     ]
    }
   ],
   "source": [
    "print(dldist('smtih', 'smith'))  # expected result: 0.2\n",
    "\n",
    "array = np.array(['test1', 'test12', 'test123'])\n",
    "print('\\n', dldistarray('test', array))  # expected result: [0.2, 0.33333334, 0.42857143]\n",
    "print('\\n', min(dldistarray('test', array)))"
   ]
  },
  {
   "cell_type": "markdown",
   "metadata": {},
   "source": [
    "## Parsing soup for keywords"
   ]
  },
  {
   "cell_type": "code",
   "execution_count": 7,
   "metadata": {
    "collapsed": true
   },
   "outputs": [],
   "source": [
    "# Define lists of keywords for each category of interest, used to group the text\n",
    "mission = ['mission',' vision ', 'vision:', 'mission:', 'our purpose', 'our ideals', 'ideals:', 'our cause', 'cause:', 'goals', 'objective']\n",
    "curriculum = ['curriculum', 'curricular', 'program', 'method', 'pedagogy', 'pedagogical', 'approach', 'model', 'system', 'structure']\n",
    "philosophy = ['philosophy', 'philosophical', 'beliefs', 'believe', 'principles', 'creed', 'credo', 'value',  'moral', 'Values']\n",
    "history = ['history', 'our story', 'the story', 'school story', 'background', 'founding', 'founded', 'established', 'establishment', 'our school began', 'we began', 'doors opened', 'school opened']\n",
    "general =  ['about us', 'our school', 'who we are', 'overview', 'general information', 'our identity', 'profile', 'highlights']\n",
    "\n",
    "keyValues = [mission, curriculum, philosophy, history, general]\n",
    "nodeParams = ['mission', 'curriculum', 'philosophy', 'history', 'general']"
   ]
  },
  {
   "cell_type": "code",
   "execution_count": 8,
   "metadata": {
    "collapsed": true
   },
   "outputs": [],
   "source": [
    "# This helper function creates a list of tags (with text) for a given keyWord:\n",
    "def findTags(soup, keyWord):\n",
    "    tagList = []\n",
    "        \n",
    "    for elem in soup(text=re.compile(keyWord)):\n",
    "        tagList.append(elem.parent)\n",
    "            \n",
    "    return tagList"
   ]
  },
  {
   "cell_type": "code",
   "execution_count": 9,
   "metadata": {},
   "outputs": [
    {
     "data": {
      "text/plain": [
       "[<p>The mission of Acacia Middle Charter School is to provide a nurturing and challenging learning community to the greater Stockton area. Students will experience learning in ways that will allow them to both understand and improve their world. Our exceptional teachers inspire students to seek deep, meaningful understanding; to develop strong academic skills; and to become creative and independent thinkers. A rapidly changing global environment requires that Acacia students acquire knowledge and develop 21<sup>st</sup> century skills, while learning to define and solve problems creatively. Acacia Middle cultivates compassion, fairness, respect, and individuality within a community that celebrates diversity, authenticity, and service.</p>]"
      ]
     },
     "execution_count": 9,
     "metadata": {},
     "output_type": "execute_result"
    }
   ],
   "source": [
    "mission_tags = findTags(soup, \"mission\")\n",
    "mission_tags"
   ]
  },
  {
   "cell_type": "markdown",
   "metadata": {},
   "source": [
    "## BETA/ FOR REFERENCE (mostly from this notebook)"
   ]
  },
  {
   "cell_type": "code",
   "execution_count": 22,
   "metadata": {
    "collapsed": true
   },
   "outputs": [],
   "source": [
    "## Create HTML soup\n",
    "# AKCAN'S VERSION:\n",
    "html_page = urllib.request.urlopen(url)\n",
    "soup = BeautifulSoup(html_page, \"lxml\")\n",
    "\n",
    "# THAO'S VERSION:\n",
    "html_page = requests.get(url, auth=HTTPDigestAuth('user', 'pass'), headers= {'User-Agent':\"Mozilla/5.0 (Macintosh; Intel Mac OS X 10_11_5) AppleWebKit/537.36 (KHTML, like Gecko) Chrome/56.0.2924.87 Safari/537.36\"})\n",
    "soup = BeautifulSoup(html_page.text, \"lxml\")"
   ]
  },
  {
   "cell_type": "code",
   "execution_count": 9,
   "metadata": {
    "scrolled": true
   },
   "outputs": [
    {
     "ename": "NameError",
     "evalue": "name 'school' is not defined",
     "output_type": "error",
     "traceback": [
      "\u001b[0;31m---------------------------------------------------------------------------\u001b[0m",
      "\u001b[0;31mNameError\u001b[0m                                 Traceback (most recent call last)",
      "\u001b[0;32m<ipython-input-9-036d8ea104a4>\u001b[0m in \u001b[0;36m<module>\u001b[0;34m()\u001b[0m\n\u001b[1;32m     23\u001b[0m     \u001b[1;31m#for i in range(5, 6):\u001b[0m\u001b[1;33m\u001b[0m\u001b[1;33m\u001b[0m\u001b[0m\n\u001b[1;32m     24\u001b[0m         \u001b[1;31m#testedLinks[links[i]] = school.WebsiteData(links[i], nodeParams, keyValues).createJsonNode()\u001b[0m\u001b[1;33m\u001b[0m\u001b[1;33m\u001b[0m\u001b[0m\n\u001b[0;32m---> 25\u001b[0;31m \u001b[0mtester\u001b[0m\u001b[1;33m(\u001b[0m\u001b[0mlinks\u001b[0m\u001b[1;33m,\u001b[0m \u001b[0mkeyValues\u001b[0m\u001b[1;33m,\u001b[0m \u001b[0mnodeParams\u001b[0m\u001b[1;33m)\u001b[0m\u001b[1;33m\u001b[0m\u001b[0m\n\u001b[0m",
      "\u001b[0;32m<ipython-input-9-036d8ea104a4>\u001b[0m in \u001b[0;36mtester\u001b[0;34m(links, keyValues, nodeParams)\u001b[0m\n\u001b[1;32m     20\u001b[0m \u001b[1;33m\u001b[0m\u001b[0m\n\u001b[1;32m     21\u001b[0m \u001b[1;32mdef\u001b[0m \u001b[0mtester\u001b[0m\u001b[1;33m(\u001b[0m\u001b[0mlinks\u001b[0m\u001b[1;33m,\u001b[0m \u001b[0mkeyValues\u001b[0m\u001b[1;33m,\u001b[0m \u001b[0mnodeParams\u001b[0m\u001b[1;33m)\u001b[0m\u001b[1;33m:\u001b[0m\u001b[1;33m\u001b[0m\u001b[0m\n\u001b[0;32m---> 22\u001b[0;31m     \u001b[0mtestedLinks\u001b[0m\u001b[1;33m[\u001b[0m\u001b[0mlinks\u001b[0m\u001b[1;33m[\u001b[0m\u001b[1;36m5\u001b[0m\u001b[1;33m]\u001b[0m\u001b[1;33m]\u001b[0m \u001b[1;33m=\u001b[0m \u001b[0mschool\u001b[0m\u001b[1;33m.\u001b[0m\u001b[0mWebsiteData\u001b[0m\u001b[1;33m(\u001b[0m\u001b[0mlinks\u001b[0m\u001b[1;33m[\u001b[0m\u001b[1;36m5\u001b[0m\u001b[1;33m]\u001b[0m\u001b[1;33m,\u001b[0m \u001b[0mnodeParams\u001b[0m\u001b[1;33m,\u001b[0m \u001b[0mkeyValues\u001b[0m\u001b[1;33m)\u001b[0m\u001b[1;33m.\u001b[0m\u001b[0mcreateJsonNode\u001b[0m\u001b[1;33m(\u001b[0m\u001b[1;33m)\u001b[0m\u001b[1;33m\u001b[0m\u001b[0m\n\u001b[0m\u001b[1;32m     23\u001b[0m     \u001b[1;31m#for i in range(5, 6):\u001b[0m\u001b[1;33m\u001b[0m\u001b[1;33m\u001b[0m\u001b[0m\n\u001b[1;32m     24\u001b[0m         \u001b[1;31m#testedLinks[links[i]] = school.WebsiteData(links[i], nodeParams, keyValues).createJsonNode()\u001b[0m\u001b[1;33m\u001b[0m\u001b[1;33m\u001b[0m\u001b[0m\n",
      "\u001b[0;31mNameError\u001b[0m: name 'school' is not defined"
     ]
    }
   ],
   "source": [
    "#(self, url, nodeParams, keyValues)\n",
    "\n",
    "\n",
    "#creating a list of all the keyword lists\n",
    "#keyValues = [mission, curriculum, philosophy, history, target, resources, orgfactor]\n",
    "keyValues = [mission, curriculum, philosophy, history, general]\n",
    "\n",
    "#creating a list of key names for the JSON node that correspond to the keyValues list\n",
    "#nodeParams = ['mission', 'curriculum', 'philosophy', 'history', 'target', 'resources' , 'organizational_factors']\n",
    "nodeParams = ['mission', 'curriculum', 'philosophy', 'history', 'general']\n",
    "testedLinks = {}\n",
    "\n",
    "#print(links[0])\n",
    "\n",
    "\n",
    "\n",
    "#constructor = school.WebsiteData('https://www.richland2.org/charterhigh/', nodeParams, keyValues)\n",
    "#constructor.createJsonNode()\n",
    "#print(constructor.URL)\n",
    "\n",
    "def tester(links, keyValues, nodeParams):\n",
    "    testedLinks[links[5]] = school.WebsiteData(links[5], nodeParams, keyValues).createJsonNode()\n",
    "    #for i in range(5, 6):\n",
    "        #testedLinks[links[i]] = school.WebsiteData(links[i], nodeParams, keyValues).createJsonNode()\n",
    "tester(links, keyValues, nodeParams)"
   ]
  },
  {
   "cell_type": "markdown",
   "metadata": {},
   "source": [
    "## TESTING (from EncapsulatedSchoolObject.ipynb)"
   ]
  },
  {
   "cell_type": "code",
   "execution_count": 34,
   "metadata": {
    "collapsed": true
   },
   "outputs": [],
   "source": [
    "#Finds all tags within a BeautifulSoup object that's text contains a certain keyword and returns a list of these tags.\n",
    "def findTags(soup, keyWord):\n",
    "    tagList = []\n",
    "        \n",
    "    for elem in soup(text=re.compile(keyWord)):\n",
    "        tagList.append(elem.parent)\n",
    "            \n",
    "    return tagList"
   ]
  },
  {
   "cell_type": "code",
   "execution_count": 59,
   "metadata": {
    "collapsed": true
   },
   "outputs": [],
   "source": [
    "#Utilizes a BeautifulSoup object (soup) to scrape all text that contains the given keyword. Filters for certain tags and does\n",
    "#not take text from solely header (h) tags, instead takes text from next filtered tag after the header.  \n",
    "def keyWordScraper(soup, keyWord):\n",
    "    searchTxt = ''\n",
    "    correctName = ['p', 'li', 'table', 'ul', 'ol']\n",
    "    tagList = findTags(soup, keyWord)\n",
    "    #print(tagList)\n",
    "    \n",
    "    #This loop goes through each tag and rips the text from that tag. If that tag is a header, then the text from the next \n",
    "    #useful tag is ripped instead. All text is saved in searchTxt\n",
    "    for tag in tagList:\n",
    "        #print(tag, \"\\n\")\n",
    "        if 'h' in tag.name:\n",
    "            typeTag = type(soup.find('li'))\n",
    "            current = tag.next_sibling\n",
    "            while current != None and  not isinstance(current, typeTag) and current.name not in correctName:\n",
    "                current = current.next_sibling\n",
    "            if current != None:\n",
    "                if 'ul' in current.name or 'ol' in current.name:\n",
    "                    for li in current.findAll('li'):\n",
    "                        searchTxt = searchTxt + li.text\n",
    "                else:\n",
    "                    searchTxt = searchTxt + current.text\n",
    "        #elif url extension includes the keyWord, grab all the text?\n",
    "        else:\n",
    "            if(tag.name in correctName):\n",
    "                    searchTxt = searchTxt + tag.text\n",
    "                \n",
    "        return searchTxt"
   ]
  },
  {
   "cell_type": "code",
   "execution_count": 63,
   "metadata": {
    "collapsed": true
   },
   "outputs": [],
   "source": [
    "#Applies the keyWordScraper function to a BeautifulSoup object(soup) for a list of keywords. Returns the text found.\n",
    "def mapKeywordScraper(soup, keyWords):\n",
    "    foundTxt = ''\n",
    "    \n",
    "    for keyWord in keyWords:\n",
    "        foundTxt = foundTxt + str(keyWordScraper(soup, keyWord))\n",
    "    #print(foundTxt)\n",
    "    return foundTxt"
   ]
  },
  {
   "cell_type": "code",
   "execution_count": 61,
   "metadata": {
    "collapsed": true
   },
   "outputs": [],
   "source": [
    "def createJsonNode():\n",
    "    JSONNode = {}\n",
    "    \n",
    "    for x in range(0, len(keyValues)):\n",
    "        print(keyValues[x], \"\\n\")\n",
    "        JSONNode[nodeParams[x]] = [mapKeywordScraper(soup, keyValues[x])]\n",
    "        print(JSONNode)\n",
    "    return JSONNode"
   ]
  },
  {
   "cell_type": "code",
   "execution_count": 62,
   "metadata": {},
   "outputs": [
    {
     "name": "stdout",
     "output_type": "stream",
     "text": [
      "['mission', ' vision ', 'vision:', 'mission:', 'our purpose', 'our ideals', 'ideals:', 'our cause', 'cause:', 'goals', 'objective'] \n",
      "\n",
      "NoneNoneNoneNoneNoneNoneNoneNoneNoneNoneNone\n",
      "{'mission': ['NoneNoneNoneNoneNoneNoneNoneNoneNoneNoneNone']}\n",
      "['curriculum', 'curricular', 'program', 'method', 'pedagogy', 'pedagogical', 'approach', 'model', 'system', 'structure'] \n",
      "\n",
      "NoneNoneNoneNoneNoneNoneNoneNoneNoneNone\n",
      "{'mission': ['NoneNoneNoneNoneNoneNoneNoneNoneNoneNoneNone'], 'curriculum': ['NoneNoneNoneNoneNoneNoneNoneNoneNoneNone']}\n",
      "['philosophy', 'philosophical', 'beliefs', 'believe', 'principles', 'creed', 'credo', 'value', 'moral', 'Values'] \n",
      "\n",
      "NoneNoneNoneNoneNoneNoneNoneNoneNone\n",
      "{'mission': ['NoneNoneNoneNoneNoneNoneNoneNoneNoneNoneNone'], 'curriculum': ['NoneNoneNoneNoneNoneNoneNoneNoneNoneNone'], 'philosophy': ['NoneNoneNoneNoneNoneNoneNoneNoneNone']}\n",
      "['history', 'our story', 'the story', 'school story', 'background', 'founding', 'founded', 'established', 'establishment', 'our school began', 'we began', 'doors opened', 'school opened'] \n",
      "\n",
      "NoneNoneNoneNoneNoneNoneNoneNoneNoneNoneNoneNone\n",
      "{'mission': ['NoneNoneNoneNoneNoneNoneNoneNoneNoneNoneNone'], 'curriculum': ['NoneNoneNoneNoneNoneNoneNoneNoneNoneNone'], 'philosophy': ['NoneNoneNoneNoneNoneNoneNoneNoneNone'], 'history': ['NoneNoneNoneNoneNoneNoneNoneNoneNoneNoneNoneNone']}\n",
      "['about us', 'our school', 'who we are', 'overview', 'general information', 'our identity', 'profile', 'highlights'] \n",
      "\n",
      "NoneNoneNoneNoneNoneNoneNoneNone\n",
      "{'mission': ['NoneNoneNoneNoneNoneNoneNoneNoneNoneNoneNone'], 'curriculum': ['NoneNoneNoneNoneNoneNoneNoneNoneNoneNone'], 'philosophy': ['NoneNoneNoneNoneNoneNoneNoneNoneNone'], 'history': ['NoneNoneNoneNoneNoneNoneNoneNoneNoneNoneNoneNone'], 'general': ['NoneNoneNoneNoneNoneNoneNoneNone']}\n"
     ]
    },
    {
     "data": {
      "text/plain": [
       "{'curriculum': ['NoneNoneNoneNoneNoneNoneNoneNoneNoneNone'],\n",
       " 'general': ['NoneNoneNoneNoneNoneNoneNoneNone'],\n",
       " 'history': ['NoneNoneNoneNoneNoneNoneNoneNoneNoneNoneNoneNone'],\n",
       " 'mission': ['NoneNoneNoneNoneNoneNoneNoneNoneNoneNoneNone'],\n",
       " 'philosophy': ['NoneNoneNoneNoneNoneNoneNoneNoneNone']}"
      ]
     },
     "execution_count": 62,
     "metadata": {},
     "output_type": "execute_result"
    }
   ],
   "source": [
    "createJsonNode()"
   ]
  },
  {
   "cell_type": "markdown",
   "metadata": {
    "collapsed": true
   },
   "source": [
    "## CHUNKS OF CODE"
   ]
  },
  {
   "cell_type": "code",
   "execution_count": 13,
   "metadata": {},
   "outputs": [
    {
     "data": {
      "text/plain": [
       "'https://www.richland2.org/charterhigh/'"
      ]
     },
     "execution_count": 13,
     "metadata": {},
     "output_type": "execute_result"
    }
   ],
   "source": [
    "# Input test URL here\n",
    "url = links[0]\n",
    "url"
   ]
  },
  {
   "cell_type": "code",
   "execution_count": 29,
   "metadata": {
    "collapsed": true
   },
   "outputs": [],
   "source": [
    "html_page = urllib.request.urlopen(url)\n",
    "soup = BeautifulSoup(html_page, \"lxml\")"
   ]
  },
  {
   "cell_type": "code",
   "execution_count": 30,
   "metadata": {
    "collapsed": true
   },
   "outputs": [],
   "source": [
    "def findTags(soup, keyWord):\n",
    "    tagList = []\n",
    "        \n",
    "    for elem in soup(text=re.compile(keyWord)):\n",
    "        tagList.append(elem.parent)\n",
    "            \n",
    "    return tagList"
   ]
  },
  {
   "cell_type": "code",
   "execution_count": 32,
   "metadata": {},
   "outputs": [
    {
     "ename": "TypeError",
     "evalue": "unhashable type: 'list'",
     "output_type": "error",
     "traceback": [
      "\u001b[0;31m---------------------------------------------------------------------------\u001b[0m",
      "\u001b[0;31mTypeError\u001b[0m                                 Traceback (most recent call last)",
      "\u001b[0;32m<ipython-input-32-1f8966b3d18d>\u001b[0m in \u001b[0;36m<module>\u001b[0;34m()\u001b[0m\n\u001b[0;32m----> 1\u001b[0;31m \u001b[0mtagList\u001b[0m \u001b[1;33m=\u001b[0m \u001b[0mfindTags\u001b[0m\u001b[1;33m(\u001b[0m\u001b[0msoup\u001b[0m\u001b[1;33m,\u001b[0m \u001b[0mkeyValues\u001b[0m\u001b[1;33m)\u001b[0m\u001b[1;33m\u001b[0m\u001b[0m\n\u001b[0m",
      "\u001b[0;32m<ipython-input-30-f7b26a6cb648>\u001b[0m in \u001b[0;36mfindTags\u001b[0;34m(soup, keyWord)\u001b[0m\n\u001b[1;32m      2\u001b[0m     \u001b[0mtagList\u001b[0m \u001b[1;33m=\u001b[0m \u001b[1;33m[\u001b[0m\u001b[1;33m]\u001b[0m\u001b[1;33m\u001b[0m\u001b[0m\n\u001b[1;32m      3\u001b[0m \u001b[1;33m\u001b[0m\u001b[0m\n\u001b[0;32m----> 4\u001b[0;31m     \u001b[1;32mfor\u001b[0m \u001b[0melem\u001b[0m \u001b[1;32min\u001b[0m \u001b[0msoup\u001b[0m\u001b[1;33m(\u001b[0m\u001b[0mtext\u001b[0m\u001b[1;33m=\u001b[0m\u001b[0mre\u001b[0m\u001b[1;33m.\u001b[0m\u001b[0mcompile\u001b[0m\u001b[1;33m(\u001b[0m\u001b[0mkeyWord\u001b[0m\u001b[1;33m)\u001b[0m\u001b[1;33m)\u001b[0m\u001b[1;33m:\u001b[0m\u001b[1;33m\u001b[0m\u001b[0m\n\u001b[0m\u001b[1;32m      5\u001b[0m         \u001b[0mtagList\u001b[0m\u001b[1;33m.\u001b[0m\u001b[0mappend\u001b[0m\u001b[1;33m(\u001b[0m\u001b[0melem\u001b[0m\u001b[1;33m.\u001b[0m\u001b[0mparent\u001b[0m\u001b[1;33m)\u001b[0m\u001b[1;33m\u001b[0m\u001b[0m\n\u001b[1;32m      6\u001b[0m \u001b[1;33m\u001b[0m\u001b[0m\n",
      "\u001b[0;32mC:\\ProgramData\\Anaconda3\\lib\\re.py\u001b[0m in \u001b[0;36mcompile\u001b[0;34m(pattern, flags)\u001b[0m\n\u001b[1;32m    231\u001b[0m \u001b[1;32mdef\u001b[0m \u001b[0mcompile\u001b[0m\u001b[1;33m(\u001b[0m\u001b[0mpattern\u001b[0m\u001b[1;33m,\u001b[0m \u001b[0mflags\u001b[0m\u001b[1;33m=\u001b[0m\u001b[1;36m0\u001b[0m\u001b[1;33m)\u001b[0m\u001b[1;33m:\u001b[0m\u001b[1;33m\u001b[0m\u001b[0m\n\u001b[1;32m    232\u001b[0m     \u001b[1;34m\"Compile a regular expression pattern, returning a pattern object.\"\u001b[0m\u001b[1;33m\u001b[0m\u001b[0m\n\u001b[0;32m--> 233\u001b[0;31m     \u001b[1;32mreturn\u001b[0m \u001b[0m_compile\u001b[0m\u001b[1;33m(\u001b[0m\u001b[0mpattern\u001b[0m\u001b[1;33m,\u001b[0m \u001b[0mflags\u001b[0m\u001b[1;33m)\u001b[0m\u001b[1;33m\u001b[0m\u001b[0m\n\u001b[0m\u001b[1;32m    234\u001b[0m \u001b[1;33m\u001b[0m\u001b[0m\n\u001b[1;32m    235\u001b[0m \u001b[1;32mdef\u001b[0m \u001b[0mpurge\u001b[0m\u001b[1;33m(\u001b[0m\u001b[1;33m)\u001b[0m\u001b[1;33m:\u001b[0m\u001b[1;33m\u001b[0m\u001b[0m\n",
      "\u001b[0;32mC:\\ProgramData\\Anaconda3\\lib\\re.py\u001b[0m in \u001b[0;36m_compile\u001b[0;34m(pattern, flags)\u001b[0m\n\u001b[1;32m    287\u001b[0m     \u001b[1;31m# internal: compile pattern\u001b[0m\u001b[1;33m\u001b[0m\u001b[1;33m\u001b[0m\u001b[0m\n\u001b[1;32m    288\u001b[0m     \u001b[1;32mtry\u001b[0m\u001b[1;33m:\u001b[0m\u001b[1;33m\u001b[0m\u001b[0m\n\u001b[0;32m--> 289\u001b[0;31m         \u001b[0mp\u001b[0m\u001b[1;33m,\u001b[0m \u001b[0mloc\u001b[0m \u001b[1;33m=\u001b[0m \u001b[0m_cache\u001b[0m\u001b[1;33m[\u001b[0m\u001b[0mtype\u001b[0m\u001b[1;33m(\u001b[0m\u001b[0mpattern\u001b[0m\u001b[1;33m)\u001b[0m\u001b[1;33m,\u001b[0m \u001b[0mpattern\u001b[0m\u001b[1;33m,\u001b[0m \u001b[0mflags\u001b[0m\u001b[1;33m]\u001b[0m\u001b[1;33m\u001b[0m\u001b[0m\n\u001b[0m\u001b[1;32m    290\u001b[0m         \u001b[1;32mif\u001b[0m \u001b[0mloc\u001b[0m \u001b[1;32mis\u001b[0m \u001b[1;32mNone\u001b[0m \u001b[1;32mor\u001b[0m \u001b[0mloc\u001b[0m \u001b[1;33m==\u001b[0m \u001b[0m_locale\u001b[0m\u001b[1;33m.\u001b[0m\u001b[0msetlocale\u001b[0m\u001b[1;33m(\u001b[0m\u001b[0m_locale\u001b[0m\u001b[1;33m.\u001b[0m\u001b[0mLC_CTYPE\u001b[0m\u001b[1;33m)\u001b[0m\u001b[1;33m:\u001b[0m\u001b[1;33m\u001b[0m\u001b[0m\n\u001b[1;32m    291\u001b[0m             \u001b[1;32mreturn\u001b[0m \u001b[0mp\u001b[0m\u001b[1;33m\u001b[0m\u001b[0m\n",
      "\u001b[0;31mTypeError\u001b[0m: unhashable type: 'list'"
     ]
    }
   ],
   "source": [
    "tagList = findTags(soup, keyWord)"
   ]
  },
  {
   "cell_type": "code",
   "execution_count": null,
   "metadata": {
    "collapsed": true
   },
   "outputs": [],
   "source": [
    "searchTxt = ''\n",
    "correctName = ['p', 'li', 'table', 'ul', 'ol']\n",
    "tagList = findTags(soup, keyWord)\n",
    "    \n",
    "#This loop goes through each tag and rips the text from that tag. If that tag is a header, then the text from the next \n",
    " #useful tag is ripped instead. All text is saved in searchTxt\n",
    "for tag in tagList:\n",
    "    if 'h' in tag.name:\n",
    "        typeTag = type(soup.find('li'))\n",
    "        current = tag.next_sibling\n",
    "        while current != None and  not isinstance(current, typeTag) and current.name not in correctName:\n",
    "            current = current.next_sibling\n",
    "        if current != None:\n",
    "            if 'ul' in current.name or 'ol' in current.name:\n",
    "                for li in current.findAll('li'):\n",
    "                    searchTxt = searchTxt + li.text\n",
    "            else:\n",
    "                searchTxt = searchTxt + current.text\n",
    "    #elif url extension includes the keyWord, grab all the text?\n",
    "    else:\n",
    "        if(tag.name in correctName):\n",
    "            searchTxt = searchTxt + tag.text\n",
    "                \n",
    "return searchTxt"
   ]
  }
 ],
 "metadata": {
  "kernelspec": {
   "display_name": "Python 3",
   "language": "python",
   "name": "python3"
  },
  "language_info": {
   "codemirror_mode": {
    "name": "ipython",
    "version": 3
   },
   "file_extension": ".py",
   "mimetype": "text/x-python",
   "name": "python",
   "nbconvert_exporter": "python",
   "pygments_lexer": "ipython3",
   "version": "3.5.2"
  }
 },
 "nbformat": 4,
 "nbformat_minor": 2
}
