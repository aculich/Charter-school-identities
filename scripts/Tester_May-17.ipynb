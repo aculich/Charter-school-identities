{
 "cells": [
  {
   "cell_type": "code",
   "execution_count": 116,
   "metadata": {
    "collapsed": true
   },
   "outputs": [],
   "source": [
    "from bs4 import BeautifulSoup\n",
    "import pandas\n",
    "import urllib, requests\n",
    "import os, re\n",
    "import glob\n",
    "\n",
    "#from lxml import html, etree\n",
    "# from requests.auth import HTTPBasicAuth, HTTPDigestAuth\n",
    "# import nbimporter #need to pip install this\n",
    "# import EncapsulatedSchoolObject as school"
   ]
  },
  {
   "cell_type": "markdown",
   "metadata": {},
   "source": [
    "## Keyword lists"
   ]
  },
  {
   "cell_type": "code",
   "execution_count": 4,
   "metadata": {
    "collapsed": true
   },
   "outputs": [],
   "source": [
    "# Define lists of keywords for each category of interest, used to group the text\n",
    "mission = ['mission',' vision ', 'vision:', 'mission:', 'our purpose', 'our ideals', 'ideals:', 'our cause', 'cause:', 'goals', 'objective']\n",
    "curriculum = ['curriculum', 'curricular', 'program', 'method', 'pedagogy', 'pedagogical', 'approach', 'model', 'system', 'structure']\n",
    "philosophy = ['philosophy', 'philosophical', 'beliefs', 'believe', 'principles', 'creed', 'credo', 'value',  'moral', 'Values']\n",
    "history = ['history', 'our story', 'the story', 'school story', 'background', 'founding', 'founded', 'established', 'establishment', 'our school began', 'we began', 'doors opened', 'school opened']\n",
    "general =  ['about us', 'our school', 'who we are', 'overview', 'general information', 'our identity', 'profile', 'highlights']\n",
    "\n",
    "keyValues = [mission, curriculum, philosophy, history, general]\n",
    "nodeParams = ['mission', 'curriculum', 'philosophy', 'history', 'general']"
   ]
  },
  {
   "cell_type": "code",
   "execution_count": 6,
   "metadata": {},
   "outputs": [
    {
     "data": {
      "text/plain": [
       "\"# read in data\\ndf = pandas.read_excel('micro-sample_MANUAL_Apr17_rev3.xlsx')\\n\\n#get the values from the URL column (stored as list)\\nlinks = df['URL'].values\\n\\n# Input test URL\\nurl = links[0]\\nurl\\n\""
      ]
     },
     "execution_count": 6,
     "metadata": {},
     "output_type": "execute_result"
    }
   ],
   "source": [
    "'''# read in data\n",
    "df = pandas.read_excel('micro-sample_MANUAL_Apr17_rev3.xlsx')\n",
    "\n",
    "#get the values from the URL column (stored as list)\n",
    "links = df['URL'].values\n",
    "\n",
    "# Input test URL\n",
    "url = links[0]\n",
    "url\n",
    "'''"
   ]
  },
  {
   "cell_type": "code",
   "execution_count": 7,
   "metadata": {
    "collapsed": true
   },
   "outputs": [],
   "source": [
    "# Point to where HTML has been captured\n",
    "data_loc = \"/home/jovyan/work/mirror/\""
   ]
  },
  {
   "cell_type": "code",
   "execution_count": 8,
   "metadata": {
    "collapsed": true
   },
   "outputs": [],
   "source": [
    "# Change directory to where data is\n",
    "os.chdir(data_loc)\n",
    "\n",
    "# Create list of all the folders we grabbed\n",
    "folder_list = os.listdir(data_loc)"
   ]
  },
  {
   "cell_type": "code",
   "execution_count": 46,
   "metadata": {},
   "outputs": [
    {
     "ename": "NotADirectoryError",
     "evalue": "[Errno 20] Not a directory: '/home/jovyan/work/mirror/laetx.org.cdx'",
     "output_type": "error",
     "traceback": [
      "\u001b[0;31m---------------------------------------------------------------------------\u001b[0m",
      "\u001b[0;31mNotADirectoryError\u001b[0m                        Traceback (most recent call last)",
      "\u001b[0;32m<ipython-input-46-6cea21ca7312>\u001b[0m in \u001b[0;36m<module>\u001b[0;34m()\u001b[0m\n\u001b[1;32m      2\u001b[0m \u001b[0;34m\u001b[0m\u001b[0m\n\u001b[1;32m      3\u001b[0m \u001b[0;32mfor\u001b[0m \u001b[0mfolder\u001b[0m \u001b[0;32min\u001b[0m \u001b[0mfolder_list\u001b[0m\u001b[0;34m:\u001b[0m\u001b[0;34m\u001b[0m\u001b[0m\n\u001b[0;32m----> 4\u001b[0;31m     \u001b[0;32mif\u001b[0m \u001b[0;34m(\u001b[0m\u001b[0mos\u001b[0m\u001b[0;34m.\u001b[0m\u001b[0mlistdir\u001b[0m\u001b[0;34m(\u001b[0m\u001b[0mdata_loc\u001b[0m \u001b[0;34m+\u001b[0m \u001b[0mfolder\u001b[0m\u001b[0;34m)\u001b[0m \u001b[0;34m>\u001b[0m \u001b[0;36m1\u001b[0m\u001b[0;34m)\u001b[0m\u001b[0;34m:\u001b[0m\u001b[0;34m\u001b[0m\u001b[0m\n\u001b[0m\u001b[1;32m      5\u001b[0m         \u001b[0mi\u001b[0m \u001b[0;34m+=\u001b[0m \u001b[0;36m1\u001b[0m\u001b[0;34m\u001b[0m\u001b[0m\n\u001b[1;32m      6\u001b[0m \u001b[0;34m\u001b[0m\u001b[0m\n",
      "\u001b[0;31mNotADirectoryError\u001b[0m: [Errno 20] Not a directory: '/home/jovyan/work/mirror/laetx.org.cdx'"
     ]
    }
   ],
   "source": [
    "i = 0\n",
    "\n",
    "for folder in folder_list:\n",
    "    if (os.listdir(data_loc + folder) > 1):\n",
    "        i += 1\n",
    "\n",
    "print(i)"
   ]
  },
  {
   "cell_type": "code",
   "execution_count": 47,
   "metadata": {},
   "outputs": [
    {
     "ename": "SyntaxError",
     "evalue": "invalid syntax (<ipython-input-47-ba1cd80f1cf2>, line 1)",
     "output_type": "error",
     "traceback": [
      "\u001b[0;36m  File \u001b[0;32m\"<ipython-input-47-ba1cd80f1cf2>\"\u001b[0;36m, line \u001b[0;32m1\u001b[0m\n\u001b[0;31m    for i in $(find -maxdepth 1 -type d); do echo -n \"$i \"; find $i -type f | wc -l; done  | grep ' 1$'  | wc -l\u001b[0m\n\u001b[0m             ^\u001b[0m\n\u001b[0;31mSyntaxError\u001b[0m\u001b[0;31m:\u001b[0m invalid syntax\n"
     ]
    }
   ],
   "source": [
    "for i in $(find -maxdepth 1 -type d); do echo -n \"$i \"; find $i -type f | wc -l; done  | grep ' 1$'  | wc -l\n",
    "'''55  find www.polk.edu/\n",
    "   56  find | head\n",
    "   57  find | head -n 100\n",
    "   58  find\n",
    "   59  find www.hustonacademy.com/\n",
    "   60  find www.hustonacademy.com/ -type d\n",
    "   61  find www.hustonacademy.com/ -maxdepth 1 -type d\n",
    "   62  find www.hustonacademy.com/ -maxdepth 0 -type d\n",
    "   63  find www.hustonacademy.com/ -maxdepth 1 -type d\n",
    "   64  find www.hustonacademy.com/ -maxdepth 2 -type d\n",
    "   65  find www.hustonacademy.com/ -maxdepth 3 -type d\n",
    "   66  find -maxdepth 1 -type d\n",
    "   67  l s-la\n",
    "   68  ls -la\n",
    "   69  for i in $(find -maxdepth 1 -type d); do echo -n \"$i \"; find $i -type f | wc -l; done  | grep ' 1$'  | wc -l\n",
    "   70  for i in $(find -maxdepth 1 -type d); do echo -n \"$i \"; find $i -type f | wc -l; done  | grep ' 1$'  \n",
    "   71  for i in $(find -maxdepth 1 -type d); do echo -n \"$i \"; find $i -type f | wc -l; done  | grep -v ' 1$'  '''"
   ]
  },
  {
   "cell_type": "code",
   "execution_count": 56,
   "metadata": {},
   "outputs": [
    {
     "name": "stdout",
     "output_type": "stream",
     "text": [
      "277\r\n"
     ]
    }
   ],
   "source": [
    "!find .  -maxdepth 1 -type d | wc -l"
   ]
  },
  {
   "cell_type": "code",
   "execution_count": 57,
   "metadata": {},
   "outputs": [
    {
     "name": "stdout",
     "output_type": "stream",
     "text": [
      "2\r\n"
     ]
    }
   ],
   "source": [
    "!find /tmp  -maxdepth 1 -type d | wc -l"
   ]
  },
  {
   "cell_type": "code",
   "execution_count": 60,
   "metadata": {},
   "outputs": [
    {
     "data": {
      "text/plain": [
       "[\"/bin/bash: -c: line 0: syntax error near unexpected token `done'\",\n",
       " '/bin/bash: -c: line 0: `!for i in $(find -maxdepth 1 -type d): do echo -n \"0 \"; find 0 -type f | wc -l; done  | grep \\' 1$\\'  | wc -l\\'']"
      ]
     },
     "execution_count": 60,
     "metadata": {},
     "output_type": "execute_result"
    }
   ],
   "source": [
    "!for i in $(find -maxdepth 1 -type d): do echo -n \"$i \"; find $i -type f | wc -l; done  | grep ' 1$'  | wc -l"
   ]
  },
  {
   "cell_type": "code",
   "execution_count": 49,
   "metadata": {
    "scrolled": true
   },
   "outputs": [
    {
     "name": "stdout",
     "output_type": "stream",
     "text": [
      "www.hustonacademy.com/\r\n",
      "www.hustonacademy.com/apps\r\n"
     ]
    }
   ],
   "source": [
    "!find www.hustonacademy.com/ -maxdepth 1 -type d"
   ]
  },
  {
   "cell_type": "markdown",
   "metadata": {},
   "source": [
    "## Parsing soup for text"
   ]
  },
  {
   "cell_type": "code",
   "execution_count": 9,
   "metadata": {
    "collapsed": true
   },
   "outputs": [],
   "source": [
    "# Use for-loop with HTML in directories to create list of tuples, where first element is school name\n",
    "# and second element is a list of strings, each string being the text extracted from each school's site. \n",
    "# Step 1: loop through directories\n",
    "# Step 2: locate HTML files\n",
    "# Step 3: use BS (or XPATH?) to extract text from HTML\n",
    "# Step 4: append the text to the dict(??)\n",
    "# Step 5: Use directory name as first element of tuple, text as second element"
   ]
  },
  {
   "cell_type": "code",
   "execution_count": 150,
   "metadata": {
    "collapsed": true
   },
   "outputs": [],
   "source": [
    "testfile = \"/home/jovyan/work/mirror/acaciamiddle.org/about/our-mission-and-philosophy.html\"\n",
    "testfolder = \"/home/jovyan/work/mirror/acaciamiddle.org/\"\n",
    "testurl = \"https://acaciamiddle.org/about/our-mission-and-philosophy\"\n",
    "\n",
    "soup = BeautifulSoup(open(testfile), \"lxml\")"
   ]
  },
  {
   "cell_type": "code",
   "execution_count": 6,
   "metadata": {
    "collapsed": true
   },
   "outputs": [],
   "source": [
    "# This helper function creates a list of tags (with text) for a given keyWord:\n",
    "def findTags(soup, keyWord):\n",
    "    tagList = []\n",
    "        \n",
    "    for elem in soup(text=re.compile(keyWord)):\n",
    "        tagList.append(elem.parent)\n",
    "            \n",
    "    return tagList"
   ]
  },
  {
   "cell_type": "code",
   "execution_count": 28,
   "metadata": {},
   "outputs": [
    {
     "data": {
      "text/plain": [
       "[<p>The mission of Acacia Middle Charter School is to provide a nurturing and challenging learning community to the greater Stockton area. Students will experience learning in ways that will allow them to both understand and improve their world. Our exceptional teachers inspire students to seek deep, meaningful understanding; to develop strong academic skills; and to become creative and independent thinkers. A rapidly changing global environment requires that Acacia students acquire knowledge and develop 21<sup>st</sup> century skills, while learning to define and solve problems creatively. Acacia Middle cultivates compassion, fairness, respect, and individuality within a community that celebrates diversity, authenticity, and service.</p>]"
      ]
     },
     "execution_count": 28,
     "metadata": {},
     "output_type": "execute_result"
    }
   ],
   "source": [
    "mission_tags = findTags(soup, \"mission\")\n",
    "mission_tags"
   ]
  },
  {
   "cell_type": "code",
   "execution_count": 82,
   "metadata": {
    "collapsed": true
   },
   "outputs": [],
   "source": [
    "'''# This gives only the VISIBLE text on the web page:\n",
    "\n",
    "from bs4.element import Comment\n",
    "data = soup.findAll(text=True) \n",
    "\n",
    "def visible(element):\n",
    "    if element.parent.name in ['style', 'script', '[document]', 'head', 'title', 'meta']:\n",
    "        return False\n",
    "    elif isinstance(element, Comment):\n",
    "        return False\n",
    "    return True\n",
    "\n",
    "# Alternative way of ripping out comments (line 3 of \"visible\" function above):\n",
    "# elif re.match('<!--.*-->', str(element.encode('utf-8'))):\n",
    "\n",
    "visible_texts = list(filter(visible, data))\n",
    "visible_texts'''"
   ]
  },
  {
   "cell_type": "code",
   "execution_count": 26,
   "metadata": {
    "scrolled": true
   },
   "outputs": [
    {
     "data": {
      "text/plain": [
       "<html dir=\"ltr\" version=\"XHTML+RDFa 1.0\" xml:lang=\"en\" xmlns=\"http://www.w3.org/1999/xhtml\" xmlns:fb=\"http://www.facebook.com/2008/fbml\">\n",
       "\n",
       "<body class=\"html not-front not-logged-in no-sidebars page-node page-node- page-node-11 node-type-page i18n-en domain-acaciamiddle-org role-anonymous-user\">\n",
       "<div id=\"skip-link\">\n",
       "\n",
       "</div>\n",
       "<div id=\"page-wrapper\"><div id=\"page\">\n",
       "<div id=\"header-wrapper\">\n",
       "<div id=\"header\"><div class=\"section clearfix\">\n",
       "<div class=\"navigation section\">\n",
       "<div class=\"header-left\">\n",
       "<div id=\"logo\">\n",
       "\n",
       "</div>\n",
       "</div>\n",
       "<div class=\"header-right\">\n",
       "<div class=\"region region-header-top\">\n",
       "<div class=\"block block-superfish odd\" id=\"block-superfish-2\">\n",
       "<div class=\"content\"> <ul class=\"menu sf-menu sf-menu-top-menu sf-horizontal sf-style-none sf-total-items-3 sf-parent-items-1 sf-single-items-2\" id=\"superfish-2\"><li class=\"first odd sf-item-1 sf-depth-1 sf-no-children\" id=\"menu-1688-2\"></li><li class=\"middle even sf-item-2 sf-depth-1 sf-no-children\" id=\"menu-569-2\"></li><li class=\"last odd sf-item-3 sf-depth-1 sf-total-children-1 sf-parent-children-0 sf-single-children-1 menuparent\" id=\"menu-1687-2\"><ul><li class=\"firstandlast odd sf-item-1 sf-depth-2 sf-no-children\" id=\"menu-2043-2\"></li></ul></li></ul> </div>\n",
       "</div> </div>\n",
       "</div>\n",
       "<div class=\"region region-header-navigation\">\n",
       "<div class=\"block block-superfish odd\" id=\"block-superfish-1\">\n",
       "<h2>Main menu</h2>\n",
       "<div class=\"content\"> <ul class=\"menu sf-menu sf-main-menu sf-horizontal sf-style-none sf-total-items-8 sf-parent-items-6 sf-single-items-2\" id=\"superfish-1\"><li class=\"first odd sf-item-1 sf-depth-1 sf-no-children\" id=\"menu-1419-1\"></li><li class=\"active-trail middle even sf-item-2 sf-depth-1 sf-total-children-9 sf-parent-children-0 sf-single-children-9 menuparent\" id=\"menu-544-1\"><ul><li class=\"first odd sf-item-1 sf-depth-2 sf-no-children\" id=\"menu-546-1\"></li><li class=\"middle even sf-item-2 sf-depth-2 sf-no-children\" id=\"menu-2004-1\"></li><li class=\"active-trail middle odd sf-item-3 sf-depth-2 sf-no-children\" id=\"menu-549-1\"></li><li class=\"middle even sf-item-4 sf-depth-2 sf-no-children\" id=\"menu-1377-1\"></li><li class=\"middle odd sf-item-5 sf-depth-2 sf-no-children\" id=\"menu-582-1\"></li><li class=\"middle even sf-item-6 sf-depth-2 sf-no-children\" id=\"menu-587-1\"></li><li class=\"middle odd sf-item-7 sf-depth-2 sf-no-children\" id=\"menu-2159-1\"></li><li class=\"middle even sf-item-8 sf-depth-2 sf-no-children\" id=\"menu-2331-1\"></li><li class=\"last odd sf-item-9 sf-depth-2 sf-no-children\" id=\"menu-2300-1\"></li></ul></li><li class=\"middle odd sf-item-3 sf-depth-1 sf-total-children-5 sf-parent-children-0 sf-single-children-5 menuparent\" id=\"menu-1084-1\"><ul><li class=\"first odd sf-item-1 sf-depth-2 sf-no-children\" id=\"menu-2314-1\"></li><li class=\"middle even sf-item-2 sf-depth-2 sf-no-children\" id=\"menu-2315-1\"></li><li class=\"middle odd sf-item-3 sf-depth-2 sf-no-children\" id=\"menu-2316-1\"></li><li class=\"middle even sf-item-4 sf-depth-2 sf-no-children\" id=\"menu-2317-1\"></li><li class=\"last odd sf-item-5 sf-depth-2 sf-no-children\" id=\"menu-2318-1\"></li></ul></li><li class=\"middle even sf-item-4 sf-depth-1 sf-total-children-2 sf-parent-children-1 sf-single-children-1 menuparent\" id=\"menu-1081-1\"><ul><li class=\"first odd sf-item-1 sf-depth-2 sf-no-children\" id=\"menu-555-1\"></li><li class=\"last even sf-item-2 sf-depth-2\" id=\"menu-792-1\"></li></ul></li><li class=\"middle odd sf-item-5 sf-depth-1 sf-total-children-9 sf-parent-children-0 sf-single-children-9 menuparent\" id=\"menu-2321-1\"><ul><li class=\"first odd sf-item-1 sf-depth-2 sf-no-children\" id=\"menu-2322-1\"></li><li class=\"middle even sf-item-2 sf-depth-2 sf-no-children\" id=\"menu-2329-1\"></li><li class=\"middle odd sf-item-3 sf-depth-2 sf-no-children\" id=\"menu-2326-1\"></li><li class=\"middle even sf-item-4 sf-depth-2 sf-no-children\" id=\"menu-2324-1\"></li><li class=\"middle odd sf-item-5 sf-depth-2 sf-no-children\" id=\"menu-2328-1\"></li><li class=\"middle even sf-item-6 sf-depth-2 sf-no-children\" id=\"menu-2325-1\"></li><li class=\"middle odd sf-item-7 sf-depth-2 sf-no-children\" id=\"menu-2327-1\"></li><li class=\"middle even sf-item-8 sf-depth-2 sf-no-children\" id=\"menu-2330-1\"></li><li class=\"last odd sf-item-9 sf-depth-2 sf-no-children\" id=\"menu-2544-1\"></li></ul></li><li class=\"middle even sf-item-6 sf-depth-1 sf-total-children-3 sf-parent-children-0 sf-single-children-3 menuparent\" id=\"menu-186-1\"><ul><li class=\"first odd sf-item-1 sf-depth-2 sf-no-children\" id=\"menu-1044-1\"></li><li class=\"middle even sf-item-2 sf-depth-2 sf-no-children\" id=\"menu-1105-1\"></li><li class=\"last odd sf-item-3 sf-depth-2 sf-no-children\" id=\"menu-1968-1\"></li></ul></li><li class=\"middle odd sf-item-7 sf-depth-1 sf-total-children-3 sf-parent-children-0 sf-single-children-3 menuparent\" id=\"menu-556-1\"><ul><li class=\"first odd sf-item-1 sf-depth-2 sf-no-children\" id=\"menu-797-1\"></li><li class=\"middle even sf-item-2 sf-depth-2 sf-no-children\" id=\"menu-1098-1\"></li><li class=\"last odd sf-item-3 sf-depth-2 sf-no-children\" id=\"menu-1565-1\"></li></ul></li><li class=\"last even sf-item-8 sf-depth-1 sf-no-children\" id=\"menu-589-1\"></li></ul> </div>\n",
       "</div> </div>\n",
       "</div> <!-- /.section, /#navigation -->\n",
       "</div></div> <!-- /.section, /#header -->\n",
       "</div> <!--  /#header-wrapper -->\n",
       "<div id=\"main-wrapper\"><div class=\"clearfix\" id=\"main\">\n",
       "<div class=\"column\" id=\"content\">\n",
       "\n",
       "<h1 class=\"title\" id=\"page-title\">Our Mission and Philosophy</h1>\n",
       "<div class=\"tabs\"></div> <div class=\"region region-content\">\n",
       "<div class=\"block block-system odd\" id=\"block-system-main\">\n",
       "<div class=\"content\">\n",
       "<div class=\"node node-page view-mode-full clearfix\" id=\"node-11\">\n",
       "<div class=\"content\">\n",
       "<div class=\"form-item form-type-item\">\n",
       "\n",
       " English\n",
       "</div>\n",
       "<div class=\"field field-name-body field-type-text-with-summary field-label-hidden\"><div class=\"field-items\"><div class=\"field-item even\"><h2>Our Mission:</h2>\n",
       "<p>The mission of Acacia Middle Charter School is to provide a nurturing and challenging learning community to the greater Stockton area. Students will experience learning in ways that will allow them to both understand and improve their world. Our exceptional teachers inspire students to seek deep, meaningful understanding; to develop strong academic skills; and to become creative and independent thinkers. A rapidly changing global environment requires that Acacia students acquire knowledge and develop 21<sup>st</sup> century skills, while learning to define and solve problems creatively. Acacia Middle cultivates compassion, fairness, respect, and individuality within a community that celebrates diversity, authenticity, and service.</p>\n",
       "<h2>Our Philosophy:</h2>\n",
       "<p>Acacia Middle embodies the following key assumptions in philosophy and daily practice:</p>\n",
       "<ul><li><em><span style=\"line-height: 1.538em;\">learning is the young person’s pathway to personal growth</span></em></li>\n",
       "<li><em><span style=\"line-height: 1.538em;\">school should be both challenging and joyous</span></em></li>\n",
       "<li><em><span style=\"line-height: 1.538em;\">school is a community through which students, teachers, and parents develop trust, demonstrate cooperation, show respect, and acquire an understanding of the needs of others</span></em></li>\n",
       "<li><em><span style=\"line-height: 1.538em;\">diversity brings quality and strength to our welcoming and inclusive school</span></em></li>\n",
       "</ul><p> </p>\n",
       "<p> </p>\n",
       "<p> </p>\n",
       "</div></div></div> </div>\n",
       "<div class=\"callout\">\n",
       "</div>\n",
       "<div class=\"node-links\">\n",
       "<ul class=\"links inline\"><li class=\"translation_es first last\"></li>\n",
       "</ul> </div>\n",
       "</div>\n",
       "</div>\n",
       "</div> </div>\n",
       "<div class=\"feed-icons-wrapper\"></div>\n",
       "</div> <!-- /#content -->\n",
       "<div class=\"column sidebar\" id=\"sidebar-first\">\n",
       "</div> <!-- /.section, /#sidebar-first -->\n",
       "<div class=\"section\" id=\"content-bottom\">\n",
       "</div> <!-- /.section, /#sidebar-first -->\n",
       "</div></div> <!-- /#main, /#main-wrapper -->\n",
       "<div class=\"section\" id=\"footer-wrapper\">\n",
       "<div id=\"footer\">\n",
       "<div class=\"region region-footer-blocks-1\">\n",
       "<div class=\"block block-block odd\" id=\"block-block-4\">\n",
       "<h2>School Office - hablamos español</h2>\n",
       "<div class=\"content\"> <h6 class=\"icon-twitter\">Acacia Middle Charter School</h6>\n",
       "<h6 class=\"icon-twitter\">1605 E. March Ln</h6>\n",
       "<h6 class=\"icon-twitter\">Stockton, CA  95210</h6>\n",
       "<h6 class=\"icon-twitter\">(209) 477-7014 Main Office</h6>\n",
       "<p><span style=\"font-size:14px;\"><strong>(209) 956-2182 Fax</strong></span></p>\n",
       "</div>\n",
       "</div> </div>\n",
       "<div class=\"region region-footer-blocks-2\">\n",
       "<div class=\"block block-block odd\" id=\"block-block-3\">\n",
       "<h2>Connect With Us</h2>\n",
       "<div class=\"content\"> <ul>\n",
       "<li class=\"icon-facebook\"><l>\n",
       "<li class=\"icon-twitter\"></li>\n",
       "\n",
       "</l></li></ul> </div>\n",
       "</div> </div>\n",
       "<div class=\"region region-footer-bottom\">\n",
       "<div class=\"block block-block odd\" id=\"block-block-1\">\n",
       "<div class=\"content\"> <p>©Tri Valley Learning Corporation - All Rights Reserved </p>\n",
       "<p>TVLC and the charter schools it operates, Livermore Valley Charter Preparatory High School, Livermore Valley Charter School, Acacia Elementary Charter School. and Acacia Middle Charter School have no affiliations, partnerships or sister-school relationships with any educational programs located in China. </p>\n",
       "<p>This disclaimer is for the sole purpose of clarifying for the TVLC community and the general public at-large of the misinformation found or discovered on the internet or domestic and international websites. </p>\n",
       "<p>TVLC does not sanction any use of its logos, likenesses, or intellectual property used or disseminated by non-licensed individuals or entities whether domestic or international.</p>\n",
       "</div>\n",
       "</div> </div>\n",
       "</div><!-- /#footer -->\n",
       "</div> <!-- /#footer-wrapper, /.section -->\n",
       "</div></div> <!-- /#page, /#page-wrapper -->\n",
       "</body>\n",
       "</html>"
      ]
     },
     "execution_count": 26,
     "metadata": {},
     "output_type": "execute_result"
    }
   ],
   "source": [
    "soup.html"
   ]
  },
  {
   "cell_type": "code",
   "execution_count": 5,
   "metadata": {
    "collapsed": true
   },
   "outputs": [],
   "source": [
    "# For different ways of parsing the text, identify elements we know we DON'T want:\n",
    "junkName = ['style', 'script', '[document]', 'head', 'title', 'meta', 'a', 'label', 'footer']\n",
    "# And also elements we know we DO want:\n",
    "correctName = ['p', 'li', 'table', 'ul', 'ol', 'h1', 'h2', 'h3', 'h4', 'h5', 'h6', 'h7', 'h8', 'h9', 'h10']"
   ]
  },
  {
   "cell_type": "code",
   "execution_count": 49,
   "metadata": {
    "collapsed": true
   },
   "outputs": [],
   "source": [
    "correctName = ['li']"
   ]
  },
  {
   "cell_type": "code",
   "execution_count": 90,
   "metadata": {},
   "outputs": [],
   "source": [
    "def rip_text(fname, junkName_list):\n",
    "\n",
    "    '''This method of grabbing the visible text from a .html file first converts the HTML to a BeautifulSoup object, \n",
    "    then it rips out all script and style elements with tags identified through junkName_list. \n",
    "    It finishes by taking out the newlines and outputting a single string of all the visible text from the .html file.'''\n",
    "\n",
    "    soup = BeautifulSoup(open(fname), \"lxml\")\n",
    "\n",
    "    for script in soup(junkName_list):   # loop through every junk tag in soup\n",
    "        script.extract()    # rip out all script and style elements\n",
    "\n",
    "    ripped_text = soup.get_text() # get text\n",
    "    # print(ripped_text.encode('utf-8'))   # for checking work\n",
    "\n",
    "    # break into lines and remove leading and trailing space on each:\n",
    "    lines = (line.strip() for line in ripped_text.splitlines())\n",
    "    # break multi-headlines into a line each:\n",
    "    chunks = (phrase.strip() for line in lines for phrase in line.split(\"  \"))\n",
    "    # drop blank lines\n",
    "    ripped_textc = ' '.join(chunk for chunk in chunks if chunk)\n",
    "\n",
    "    print(\"\\n\", ripped_textc.encode('utf-8'))   # print output"
   ]
  },
  {
   "cell_type": "code",
   "execution_count": 91,
   "metadata": {
    "scrolled": true
   },
   "outputs": [
    {
     "name": "stdout",
     "output_type": "stream",
     "text": [
      "\n",
      " b'Main menu Our Mission and Philosophy English Our Mission: The mission of Acacia Middle Charter School is to provide a nurturing and challenging learning community to the greater Stockton area. Students will experience learning in ways that will allow them to both understand and improve their world.\\xc2\\xa0Our exceptional teachers inspire students to seek deep, meaningful understanding; to develop strong academic skills; and to become creative and independent thinkers. A rapidly changing global environment requires that Acacia students acquire knowledge and develop 21st century skills, while learning to define and solve problems creatively. Acacia Middle cultivates compassion, fairness, respect, and individuality within a community that celebrates diversity, authenticity, and service. Our Philosophy: Acacia Middle embodies the following key assumptions in philosophy and daily practice: learning is the young person\\xe2\\x80\\x99s pathway to personal growth school should be both challenging and joyous school is a community through which students, teachers, and parents develop trust, demonstrate cooperation, show respect, and acquire an understanding of the needs of others diversity brings quality and strength to our welcoming and inclusive school School Office - hablamos espa\\xc3\\xb1ol Acacia Middle Charter School 1605 E. March Ln Stockton, CA\\xc2\\xa0 95210 (209) 477-7014 Main Office (209) 956-2182 Fax Connect With Us \\xc2\\xa9Tri Valley Learning Corporation - All Rights Reserved TVLC and the charter schools it operates, Livermore Valley Charter Preparatory High School, Livermore Valley Charter School, Acacia Elementary Charter School. and Acacia Middle Charter School have no affiliations, partnerships or sister-school relationships with any educational programs located in China. This disclaimer is for the sole purpose of clarifying for the TVLC community and the general public at-large of the misinformation found or discovered on the internet or domestic and international websites. TVLC does not sanction any use of its logos, likenesses, or intellectual property used or disseminated by non-licensed individuals or entities whether domestic or international.'\n"
     ]
    }
   ],
   "source": [
    "rip_text(testfile, junkName)"
   ]
  },
  {
   "cell_type": "code",
   "execution_count": 113,
   "metadata": {},
   "outputs": [],
   "source": [
    "def keep_text(fname, correctName_list):\n",
    "\n",
    "    '''This method of grabbing the visible text from a .html file first converts the HTML to a BeautifulSoup object, \n",
    "    then it keeps only those elements with tags identified through correctName_list. \n",
    "    It finishes by taking out the newlines and outputting a single string of all the visible text from the .html file.'''\n",
    "\n",
    "    soup = BeautifulSoup(open(fname), \"lxml\")\n",
    "\n",
    "    for script in soup:   # loop through every tag in the soup object\n",
    "        if script not in correctName_list:\n",
    "            script.extract()    # keep only the good tags\n",
    "        \n",
    "    good_text = soup.get_text() # get text\n",
    "    # print(ripped_text.encode('utf-8'))   # for checking work\n",
    "\n",
    "    # break into lines and remove leading and trailing space on each:\n",
    "    lines = (line.strip() for line in good_text.splitlines())\n",
    "    # break multi-headlines into a line each:\n",
    "    chunks = (phrase.strip() for line in lines for phrase in line.split(\"  \"))\n",
    "    # drop blank lines\n",
    "    good_textc = ' '.join(chunk for chunk in chunks if chunk)\n",
    "\n",
    "    print(\"\\n\", good_textc.encode('utf-8'))   # print output"
   ]
  },
  {
   "cell_type": "code",
   "execution_count": 114,
   "metadata": {},
   "outputs": [
    {
     "name": "stdout",
     "output_type": "stream",
     "text": [
      "\n",
      " b'Our Mission and Philosophy | Acacia Middle Charter School <!--//--><![CDATA[//><!-- jQuery.extend(Drupal.settings, {\"basePath\":\"\\\\/\",\"pathPrefix\":\"\",\"ajaxPageState\":{\"theme\":\"lvcp\",\"theme_token\":\"Vg8IZ5kokc7eZAY3hPUqB-Td53PVSK-EF5s11P2_Jdg\",\"js\":{\"misc\\\\/jquery.js\":1,\"misc\\\\/jquery.once.js\":1,\"misc\\\\/drupal.js\":1,\"sites\\\\/all\\\\/libraries\\\\/colorbox\\\\/jquery.colorbox-min.js\":1,\"sites\\\\/all\\\\/modules\\\\/colorbox\\\\/js\\\\/colorbox.js\":1,\"sites\\\\/all\\\\/modules\\\\/colorbox\\\\/styles\\\\/default\\\\/colorbox_style.js\":1,\"sites\\\\/all\\\\/modules\\\\/field_group\\\\/field_group.js\":1,\"sites\\\\/all\\\\/themes\\\\/noodle\\\\/base\\\\/noodle.js\":1,\"sites\\\\/all\\\\/libraries\\\\/superfish\\\\/superfish.js\":1,\"sites\\\\/all\\\\/libraries\\\\/superfish\\\\/jquery.hoverIntent.minified.js\":1,\"sites\\\\/all\\\\/libraries\\\\/superfish\\\\/supersubs.js\":1,\"sites\\\\/all\\\\/modules\\\\/superfish\\\\/superfish.js\":1},\"css\":{\"modules\\\\/system\\\\/system.base.css\":1,\"modules\\\\/system\\\\/system.menus.css\":1,\"modules\\\\/system\\\\/system.messages.css\":1,\"modules\\\\/system\\\\/system.theme.css\":1,\"sites\\\\/all\\\\/modules\\\\/date\\\\/date_api\\\\/date.css\":1,\"modules\\\\/field\\\\/theme\\\\/field.css\":1,\"modules\\\\/node\\\\/node.css\":1,\"modules\\\\/search\\\\/search.css\":1,\"modules\\\\/user\\\\/user.css\":1,\"sites\\\\/all\\\\/modules\\\\/calendar\\\\/css\\\\/calendar_multiday.css\":1,\"sites\\\\/all\\\\/modules\\\\/views\\\\/css\\\\/views.css\":1,\"sites\\\\/all\\\\/modules\\\\/colorbox\\\\/styles\\\\/default\\\\/colorbox_style.css\":1,\"sites\\\\/all\\\\/modules\\\\/ctools\\\\/css\\\\/ctools.css\":1,\"sites\\\\/all\\\\/libraries\\\\/superfish\\\\/css\\\\/superfish.css\":1,\"sites\\\\/all\\\\/themes\\\\/noodle\\\\/base\\\\/reset.css\":1,\"sites\\\\/all\\\\/themes\\\\/noodle\\\\/base\\\\/base.css\":1,\"sites\\\\/all\\\\/themes\\\\/noodle\\\\/client\\\\/lvcp\\\\/style.css\":1}},\"colorbox\":{\"opacity\":\"0.85\",\"current\":\"{current} of {total}\",\"previous\":\"\\\\u00ab Prev\",\"next\":\"Next \\\\u00bb\",\"close\":\"Close\",\"maxWidth\":\"98%\",\"maxHeight\":\"98%\",\"fixed\":true,\"mobiledetect\":true,\"mobiledevicewidth\":\"480px\"},\"superfish\":[{\"id\":\"2\",\"sf\":{\"animation\":{\"opacity\":\"show\"},\"speed\":\"\\\\u0027fast\\\\u0027\",\"autoArrows\":false,\"dropShadows\":false,\"disableHI\":false},\"plugins\":{\"supposition\":false,\"bgiframe\":false,\"supersubs\":{\"minWidth\":\"12\",\"maxWidth\":\"27\",\"extraWidth\":1}}},{\"id\":\"1\",\"sf\":{\"animation\":{\"opacity\":\"show\"},\"speed\":\"\\\\u0027fast\\\\u0027\",\"autoArrows\":false,\"dropShadows\":false,\"disableHI\":false},\"plugins\":{\"supposition\":false,\"bgiframe\":false,\"supersubs\":{\"minWidth\":\"12\",\"maxWidth\":\"27\",\"extraWidth\":1}}}],\"field_group\":{\"div\":\"full\"}}); //--><!]]> Skip to main content EnglishEspa\\xc3\\xb1olStaffTech Support Main menu HomeAboutWelcomePrincipal\\'s MessageMission & PhilosophyOur TeamFAQsDirectionsSchool Wellness PolicyTitle III LEP PlanLCAPAcademicsMoby MaxMath 180Read 180Typing ClubCAASPP - California AssessmentStudent LifeStudent LifeCommunity ServiceFor ParentsSELPA UpdateSARCAttendance PolicyUniform PolicyPowerSchoolSchool Site CouncilVolunteer OpportunitiesFamily HandbookCommon CoreSchoolsLVCS (K-8)LVCPAECSSupport UsSupport OverviewPTCEmployer MatchingContact Us Our Mission and Philosophy Language English Our Mission: The mission of Acacia Middle Charter School is to provide a nurturing and challenging learning community to the greater Stockton area. Students will experience learning in ways that will allow them to both understand and improve their world.\\xc2\\xa0Our exceptional teachers inspire students to seek deep, meaningful understanding; to develop strong academic skills; and to become creative and independent thinkers. A rapidly changing global environment requires that Acacia students acquire knowledge and develop 21st century skills, while learning to define and solve problems creatively. Acacia Middle cultivates compassion, fairness, respect, and individuality within a community that celebrates diversity, authenticity, and service. Our Philosophy: Acacia Middle embodies the following key assumptions in philosophy and daily practice: learning is the young person\\xe2\\x80\\x99s pathway to personal growth school should be both challenging and joyous school is a community through which students, teachers, and parents develop trust, demonstrate cooperation, show respect, and acquire an understanding of the needs of others diversity brings quality and strength to our welcoming and inclusive school Espa\\xc3\\xb1ol School Office - hablamos espa\\xc3\\xb1ol Acacia Middle Charter School 1605 E. March Ln Stockton, CA\\xc2\\xa0 95210 (209) 477-7014 Main Office (209) 956-2182 Fax Connect With Us \\xc2\\xa9Tri Valley Learning Corporation - All Rights Reserved TVLC and the charter schools it operates, Livermore Valley Charter Preparatory High School, Livermore Valley Charter School, Acacia Elementary Charter School. and Acacia Middle Charter School have no affiliations, partnerships or sister-school relationships with any educational programs located in China. This disclaimer is for the sole purpose of clarifying for the TVLC community and the general public at-large of the misinformation found or discovered on the internet or domestic and international websites. TVLC does not sanction any use of its logos, likenesses, or intellectual property used or disseminated by non-licensed individuals or entities whether domestic or international.'\n"
     ]
    }
   ],
   "source": [
    "keep_text(testfile, correctName)"
   ]
  },
  {
   "cell_type": "code",
   "execution_count": 41,
   "metadata": {},
   "outputs": [
    {
     "name": "stdout",
     "output_type": "stream",
     "text": [
      "\n",
      " b'Our Mission and Philosophy | Acacia Middle Charter School <!--//--><![CDATA[//><!-- jQuery.extend(Drupal.settings, {\"basePath\":\"\\\\/\",\"pathPrefix\":\"\",\"ajaxPageState\":{\"theme\":\"lvcp\",\"theme_token\":\"Vg8IZ5kokc7eZAY3hPUqB-Td53PVSK-EF5s11P2_Jdg\",\"js\":{\"misc\\\\/jquery.js\":1,\"misc\\\\/jquery.once.js\":1,\"misc\\\\/drupal.js\":1,\"sites\\\\/all\\\\/libraries\\\\/colorbox\\\\/jquery.colorbox-min.js\":1,\"sites\\\\/all\\\\/modules\\\\/colorbox\\\\/js\\\\/colorbox.js\":1,\"sites\\\\/all\\\\/modules\\\\/colorbox\\\\/styles\\\\/default\\\\/colorbox_style.js\":1,\"sites\\\\/all\\\\/modules\\\\/field_group\\\\/field_group.js\":1,\"sites\\\\/all\\\\/themes\\\\/noodle\\\\/base\\\\/noodle.js\":1,\"sites\\\\/all\\\\/libraries\\\\/superfish\\\\/superfish.js\":1,\"sites\\\\/all\\\\/libraries\\\\/superfish\\\\/jquery.hoverIntent.minified.js\":1,\"sites\\\\/all\\\\/libraries\\\\/superfish\\\\/supersubs.js\":1,\"sites\\\\/all\\\\/modules\\\\/superfish\\\\/superfish.js\":1},\"css\":{\"modules\\\\/system\\\\/system.base.css\":1,\"modules\\\\/system\\\\/system.menus.css\":1,\"modules\\\\/system\\\\/system.messages.css\":1,\"modules\\\\/system\\\\/system.theme.css\":1,\"sites\\\\/all\\\\/modules\\\\/date\\\\/date_api\\\\/date.css\":1,\"modules\\\\/field\\\\/theme\\\\/field.css\":1,\"modules\\\\/node\\\\/node.css\":1,\"modules\\\\/search\\\\/search.css\":1,\"modules\\\\/user\\\\/user.css\":1,\"sites\\\\/all\\\\/modules\\\\/calendar\\\\/css\\\\/calendar_multiday.css\":1,\"sites\\\\/all\\\\/modules\\\\/views\\\\/css\\\\/views.css\":1,\"sites\\\\/all\\\\/modules\\\\/colorbox\\\\/styles\\\\/default\\\\/colorbox_style.css\":1,\"sites\\\\/all\\\\/modules\\\\/ctools\\\\/css\\\\/ctools.css\":1,\"sites\\\\/all\\\\/libraries\\\\/superfish\\\\/css\\\\/superfish.css\":1,\"sites\\\\/all\\\\/themes\\\\/noodle\\\\/base\\\\/reset.css\":1,\"sites\\\\/all\\\\/themes\\\\/noodle\\\\/base\\\\/base.css\":1,\"sites\\\\/all\\\\/themes\\\\/noodle\\\\/client\\\\/lvcp\\\\/style.css\":1}},\"colorbox\":{\"opacity\":\"0.85\",\"current\":\"{current} of {total}\",\"previous\":\"\\\\u00ab Prev\",\"next\":\"Next \\\\u00bb\",\"close\":\"Close\",\"maxWidth\":\"98%\",\"maxHeight\":\"98%\",\"fixed\":true,\"mobiledetect\":true,\"mobiledevicewidth\":\"480px\"},\"superfish\":[{\"id\":\"2\",\"sf\":{\"animation\":{\"opacity\":\"show\"},\"speed\":\"\\\\u0027fast\\\\u0027\",\"autoArrows\":false,\"dropShadows\":false,\"disableHI\":false},\"plugins\":{\"supposition\":false,\"bgiframe\":false,\"supersubs\":{\"minWidth\":\"12\",\"maxWidth\":\"27\",\"extraWidth\":1}}},{\"id\":\"1\",\"sf\":{\"animation\":{\"opacity\":\"show\"},\"speed\":\"\\\\u0027fast\\\\u0027\",\"autoArrows\":false,\"dropShadows\":false,\"disableHI\":false},\"plugins\":{\"supposition\":false,\"bgiframe\":false,\"supersubs\":{\"minWidth\":\"12\",\"maxWidth\":\"27\",\"extraWidth\":1}}}],\"field_group\":{\"div\":\"full\"}}); //--><!]]> Skip to main content EnglishEspa\\xc3\\xb1olStaffTech Support Main menu HomeAboutWelcomePrincipal\\'s MessageMission & PhilosophyOur TeamFAQsDirectionsSchool Wellness PolicyTitle III LEP PlanLCAPAcademicsMoby MaxMath 180Read 180Typing ClubCAASPP - California AssessmentStudent LifeStudent LifeCommunity ServiceFor ParentsSELPA UpdateSARCAttendance PolicyUniform PolicyPowerSchoolSchool Site CouncilVolunteer OpportunitiesFamily HandbookCommon CoreSchoolsLVCS (K-8)LVCPAECSSupport UsSupport OverviewPTCEmployer MatchingContact Us Our Mission and Philosophy Language English Our Mission: The mission of Acacia Middle Charter School is to provide a nurturing and challenging learning community to the greater Stockton area. Students will experience learning in ways that will allow them to both understand and improve their world.\\xc2\\xa0Our exceptional teachers inspire students to seek deep, meaningful understanding; to develop strong academic skills; and to become creative and independent thinkers. A rapidly changing global environment requires that Acacia students acquire knowledge and develop 21st century skills, while learning to define and solve problems creatively. Acacia Middle cultivates compassion, fairness, respect, and individuality within a community that celebrates diversity, authenticity, and service. Our Philosophy: Acacia Middle embodies the following key assumptions in philosophy and daily practice: learning is the young person\\xe2\\x80\\x99s pathway to personal growth school should be both challenging and joyous school is a community through which students, teachers, and parents develop trust, demonstrate cooperation, show respect, and acquire an understanding of the needs of others diversity brings quality and strength to our welcoming and inclusive school Espa\\xc3\\xb1ol School Office - hablamos espa\\xc3\\xb1ol Acacia Middle Charter School 1605 E. March Ln Stockton, CA\\xc2\\xa0 95210 (209) 477-7014 Main Office (209) 956-2182 Fax Connect With Us \\xc2\\xa9Tri Valley Learning Corporation - All Rights Reserved TVLC and the charter schools it operates, Livermore Valley Charter Preparatory High School, Livermore Valley Charter School, Acacia Elementary Charter School. and Acacia Middle Charter School have no affiliations, partnerships or sister-school relationships with any educational programs located in China. This disclaimer is for the sole purpose of clarifying for the TVLC community and the general public at-large of the misinformation found or discovered on the internet or domestic and international websites. TVLC does not sanction any use of its logos, likenesses, or intellectual property used or disseminated by non-licensed individuals or entities whether domestic or international.'\n"
     ]
    }
   ],
   "source": [
    "# Here's a different way: Instead of removing not-useful HTML, keep only useful HTML--\n",
    "# by removing script that's not in the useful names list!\n",
    "good_soup = soup\n",
    "\n",
    "for script in soup:\n",
    "    if script not in correctName:\n",
    "        script.extract()\n",
    "\n",
    "# get text\n",
    "good_text = good_soup.get_text()\n",
    "# print(good_text.encode('utf-8'))\n",
    "\n",
    "# break into lines and remove leading and trailing space on each\n",
    "good_lines = (line.strip() for line in good_text.splitlines())\n",
    "# break multi-headlines into a line each\n",
    "good_chunks = (phrase.strip() for line in good_lines for phrase in line.split(\"  \"))\n",
    "# drop blank lines\n",
    "good_textc = ' '.join(chunk for chunk in good_chunks if chunk)\n",
    "\n",
    "print(\"\\n\", good_textc.encode('utf-8'))"
   ]
  },
  {
   "cell_type": "code",
   "execution_count": 130,
   "metadata": {},
   "outputs": [],
   "source": [
    "glob.glob?"
   ]
  },
  {
   "cell_type": "code",
   "execution_count": 164,
   "metadata": {},
   "outputs": [
    {
     "ename": "IsADirectoryError",
     "evalue": "[Errno 21] Is a directory: '/home/jovyan/work/mirror/acaciamiddle.org/'",
     "output_type": "error",
     "traceback": [
      "\u001b[0;31m---------------------------------------------------------------------------\u001b[0m",
      "\u001b[0;31mIsADirectoryError\u001b[0m                         Traceback (most recent call last)",
      "\u001b[0;32m<ipython-input-164-8f24e61347ee>\u001b[0m in \u001b[0;36m<module>\u001b[0;34m()\u001b[0m\n\u001b[0;32m----> 1\u001b[0;31m \u001b[0mbool\u001b[0m\u001b[0;34m(\u001b[0m\u001b[0mBeautifulSoup\u001b[0m\u001b[0;34m(\u001b[0m\u001b[0mopen\u001b[0m\u001b[0;34m(\u001b[0m\u001b[0mtestfolder\u001b[0m\u001b[0;34m)\u001b[0m\u001b[0;34m,\u001b[0m \u001b[0;34m\"html.parser\"\u001b[0m\u001b[0;34m)\u001b[0m\u001b[0;34m.\u001b[0m\u001b[0mfind\u001b[0m\u001b[0;34m(\u001b[0m\u001b[0;34m)\u001b[0m\u001b[0;34m)\u001b[0m\u001b[0;34m==\u001b[0m\u001b[0;32mTrue\u001b[0m\u001b[0;34m\u001b[0m\u001b[0m\n\u001b[0m",
      "\u001b[0;31mIsADirectoryError\u001b[0m: [Errno 21] Is a directory: '/home/jovyan/work/mirror/acaciamiddle.org/'"
     ]
    }
   ],
   "source": [
    "bool(BeautifulSoup(open(testfolder), \"html.parser\").find())==True"
   ]
  },
  {
   "cell_type": "code",
   "execution_count": 173,
   "metadata": {},
   "outputs": [
    {
     "name": "stdout",
     "output_type": "stream",
     "text": [
      "Parsing HTML in /home/jovyan/work/mirror/acaciamiddle.org/project-based-learning.html...\n",
      "Parsing HTML in /home/jovyan/work/mirror/acaciamiddle.org/academics/moby-max.html...\n",
      "Parsing HTML in /home/jovyan/work/mirror/acaciamiddle.org/academics/caaspp-california-assessment.html...\n",
      "Parsing HTML in /home/jovyan/work/mirror/acaciamiddle.org/academics/typing-club.html...\n",
      "Parsing HTML in /home/jovyan/work/mirror/acaciamiddle.org/academics/read-180.html...\n",
      "Parsing HTML in /home/jovyan/work/mirror/acaciamiddle.org/academics/academic-program-overview.html...\n",
      "Parsing HTML in /home/jovyan/work/mirror/acaciamiddle.org/academics/math-180.html...\n",
      "Parsing HTML in /home/jovyan/work/mirror/acaciamiddle.org/student-life/community-service.html...\n",
      "Parsing HTML in /home/jovyan/work/mirror/acaciamiddle.org/student-life/student-life-overview.html...\n",
      "Parsing HTML in /home/jovyan/work/mirror/acaciamiddle.org/es/empleador-que-empareja.html...\n",
      "Parsing HTML in /home/jovyan/work/mirror/acaciamiddle.org/es/apoyo-acacia-elementary-charter-school.html...\n",
      "Parsing HTML in /home/jovyan/work/mirror/acaciamiddle.org/es/contacte-aecs.html...\n",
      "Parsing HTML in /home/jovyan/work/mirror/acaciamiddle.org/es/acerca/bienvenida-del-director.html...\n",
      "Parsing HTML in /home/jovyan/work/mirror/acaciamiddle.org/es/acerca/preguntas-más-frecuentes.html...\n",
      "Parsing HTML in /home/jovyan/work/mirror/acaciamiddle.org/es/acerca/nuestra-misión.html...\n",
      "Parsing HTML in /home/jovyan/work/mirror/acaciamiddle.org/es/acerca/nuestro-equipo.html...\n",
      "Parsing HTML in /home/jovyan/work/mirror/acaciamiddle.org/es/acerca/programas.html...\n",
      "Parsing HTML in /home/jovyan/work/mirror/acaciamiddle.org/es/resumen-de-la-vida-de-estudiante.html...\n",
      "Parsing HTML in /home/jovyan/work/mirror/acaciamiddle.org/es/gallery.xml...\n",
      "Parsing HTML in /home/jovyan/work/mirror/acaciamiddle.org/es/gallery.html...\n",
      "Parsing HTML in /home/jovyan/work/mirror/acaciamiddle.org/es/¡-bienvenido-acacia-community-charter-school.html...\n",
      "Parsing HTML in /home/jovyan/work/mirror/acaciamiddle.org/es/vida-estudiantil/servicio-la-comunidad.html...\n",
      "Parsing HTML in /home/jovyan/work/mirror/acaciamiddle.org/es/tags/community.html...\n",
      "Parsing HTML in /home/jovyan/work/mirror/acaciamiddle.org/es/tags/forum.html...\n",
      "Parsing HTML in /home/jovyan/work/mirror/acaciamiddle.org/es/tags/charter.html...\n",
      "Parsing HTML in /home/jovyan/work/mirror/acaciamiddle.org/es/tags/tk.html...\n",
      "Parsing HTML in /home/jovyan/work/mirror/acaciamiddle.org/es/tags/school.html...\n",
      "Parsing HTML in /home/jovyan/work/mirror/acaciamiddle.org/es/tags/kinder.html...\n",
      "Parsing HTML in /home/jovyan/work/mirror/acaciamiddle.org/es/tags/orientation.html...\n",
      "Parsing HTML in /home/jovyan/work/mirror/acaciamiddle.org/es/tags/uniform.html...\n",
      "Parsing HTML in /home/jovyan/work/mirror/acaciamiddle.org/es/tags/acacia.html...\n",
      "Parsing HTML in /home/jovyan/work/mirror/acaciamiddle.org/es/cuerpo-de-maestros-padres-ptc.html...\n",
      "Parsing HTML in /home/jovyan/work/mirror/acaciamiddle.org/es/node/304.html...\n",
      "Parsing HTML in /home/jovyan/work/mirror/acaciamiddle.org/es/node/16.html...\n",
      "Parsing HTML in /home/jovyan/work/mirror/acaciamiddle.org/es/node/382.html...\n",
      "Parsing HTML in /home/jovyan/work/mirror/acaciamiddle.org/es/stories/foro-uniforme.html...\n",
      "Parsing HTML in /home/jovyan/work/mirror/acaciamiddle.org/es/stories/el-martes-3-de-marzo-jornada-de-puertas-abiertas.html...\n",
      "Parsing HTML in /home/jovyan/work/mirror/acaciamiddle.org/es/stories/acacia-elemental-automatrícula.html...\n",
      "Parsing HTML in /home/jovyan/work/mirror/acaciamiddle.org/es/stories/nuevo-hogar-para-acacia-elementary-charter-school.html...\n",
      "Parsing HTML in /home/jovyan/work/mirror/acaciamiddle.org/es/stories/una-nueva-ubicación-para-la-escuela-elemental-acacia.html...\n",
      "Parsing HTML in /home/jovyan/work/mirror/acaciamiddle.org/es/stories/inscribirse-ahora.html...\n",
      "Parsing HTML in /home/jovyan/work/mirror/acaciamiddle.org/es/taxonomy/term/39/all/feed...\n",
      "Parsing HTML in /home/jovyan/work/mirror/acaciamiddle.org/es/taxonomy/term/43/all/feed...\n",
      "Parsing HTML in /home/jovyan/work/mirror/acaciamiddle.org/es/taxonomy/term/36/all/feed...\n",
      "Parsing HTML in /home/jovyan/work/mirror/acaciamiddle.org/es/taxonomy/term/37/all/feed...\n",
      "Parsing HTML in /home/jovyan/work/mirror/acaciamiddle.org/es/taxonomy/term/38/all/feed...\n",
      "Parsing HTML in /home/jovyan/work/mirror/acaciamiddle.org/es/taxonomy/term/42/all/feed...\n",
      "Parsing HTML in /home/jovyan/work/mirror/acaciamiddle.org/es/taxonomy/term/41/all/feed...\n",
      "Parsing HTML in /home/jovyan/work/mirror/acaciamiddle.org/es/taxonomy/term/35/all/feed...\n",
      "Parsing HTML in /home/jovyan/work/mirror/acaciamiddle.org/es/taxonomy/term/40/all/feed...\n",
      "Parsing HTML in /home/jovyan/work/mirror/acaciamiddle.org/es/stories.1.html...\n",
      "Parsing HTML in /home/jovyan/work/mirror/acaciamiddle.org/year-book-orders.html...\n",
      "Parsing HTML in /home/jovyan/work/mirror/acaciamiddle.org/gallery.xml.1...\n",
      "Parsing HTML in /home/jovyan/work/mirror/acaciamiddle.org/contact-us.html...\n",
      "Parsing HTML in /home/jovyan/work/mirror/acaciamiddle.org/sarc.html...\n",
      "Parsing HTML in /home/jovyan/work/mirror/acaciamiddle.org/volunteers-opportunities.html...\n",
      "Parsing HTML in /home/jovyan/work/mirror/acaciamiddle.org/es.1.html...\n",
      "Parsing HTML in /home/jovyan/work/mirror/acaciamiddle.org/student-clubs.html...\n",
      "Parsing HTML in /home/jovyan/work/mirror/acaciamiddle.org/gallery.xml/jaguar-memories...\n",
      "Parsing HTML in /home/jovyan/work/mirror/acaciamiddle.org/stories?page=1.html...\n",
      "Parsing HTML in /home/jovyan/work/mirror/acaciamiddle.org/lunch-menu.html...\n",
      "Parsing HTML in /home/jovyan/work/mirror/acaciamiddle.org/acerca-de/welcome-acacia-community-charter-school.html...\n",
      "Parsing HTML in /home/jovyan/work/mirror/acaciamiddle.org/gallery.1.html...\n",
      "Parsing HTML in /home/jovyan/work/mirror/acaciamiddle.org/powerschool.html...\n",
      "Parsing HTML in /home/jovyan/work/mirror/acaciamiddle.org/attendance-policy-0.html...\n",
      "Parsing HTML in /home/jovyan/work/mirror/acaciamiddle.org/family-handbook.html...\n",
      "Parsing HTML in /home/jovyan/work/mirror/acaciamiddle.org/gallery/jaguar-memories.html...\n",
      "Parsing HTML in /home/jovyan/work/mirror/acaciamiddle.org/gallery/jaguar-photo-gallery.html...\n",
      "Parsing HTML in /home/jovyan/work/mirror/acaciamiddle.org/common-core.html...\n",
      "Parsing HTML in /home/jovyan/work/mirror/acaciamiddle.org/jag-student-store.html...\n",
      "Parsing HTML in /home/jovyan/work/mirror/acaciamiddle.org/tags/community.html...\n",
      "Parsing HTML in /home/jovyan/work/mirror/acaciamiddle.org/tags/forum.html...\n",
      "Parsing HTML in /home/jovyan/work/mirror/acaciamiddle.org/tags/charter.html...\n",
      "Parsing HTML in /home/jovyan/work/mirror/acaciamiddle.org/tags/tk.html...\n",
      "Parsing HTML in /home/jovyan/work/mirror/acaciamiddle.org/tags/school.html...\n",
      "Parsing HTML in /home/jovyan/work/mirror/acaciamiddle.org/tags/kinder.html...\n",
      "Parsing HTML in /home/jovyan/work/mirror/acaciamiddle.org/tags/orientation.html...\n",
      "Parsing HTML in /home/jovyan/work/mirror/acaciamiddle.org/tags/uniform.html...\n",
      "Parsing HTML in /home/jovyan/work/mirror/acaciamiddle.org/tags/acacia.html...\n",
      "Parsing HTML in /home/jovyan/work/mirror/acaciamiddle.org/ptsg.html...\n",
      "Parsing HTML in /home/jovyan/work/mirror/acaciamiddle.org/uniform-policy.html...\n",
      "Parsing HTML in /home/jovyan/work/mirror/acaciamiddle.org/calendar.html...\n",
      "Parsing HTML in /home/jovyan/work/mirror/acaciamiddle.org/stories?page=3.html...\n",
      "Parsing HTML in /home/jovyan/work/mirror/acaciamiddle.org/tech-support.html...\n",
      "Parsing HTML in /home/jovyan/work/mirror/acaciamiddle.org/2016-2017-school-calendar.html...\n",
      "Parsing HTML in /home/jovyan/work/mirror/acaciamiddle.org/node/326.html...\n",
      "Parsing HTML in /home/jovyan/work/mirror/acaciamiddle.org/node/327.html...\n",
      "Parsing HTML in /home/jovyan/work/mirror/acaciamiddle.org/parents/selpa-update.html...\n",
      "Parsing HTML in /home/jovyan/work/mirror/acaciamiddle.org/stories?page=2.html...\n",
      "Parsing HTML in /home/jovyan/work/mirror/acaciamiddle.org/index.html...\n",
      "Parsing HTML in /home/jovyan/work/mirror/acaciamiddle.org/donate.html...\n",
      "Parsing HTML in /home/jovyan/work/mirror/acaciamiddle.org/ssc-agendasminutes.html...\n",
      "Parsing HTML in /home/jovyan/work/mirror/acaciamiddle.org/support-us/support-acacia-community-charter-school.html...\n",
      "Parsing HTML in /home/jovyan/work/mirror/acaciamiddle.org/support-us/employer-matching.html...\n",
      "Parsing HTML in /home/jovyan/work/mirror/acaciamiddle.org/stories/parent-tips-october.html...\n",
      "Parsing HTML in /home/jovyan/work/mirror/acaciamiddle.org/stories/acacia-spaghetti-feed-fundraiser.html...\n",
      "Parsing HTML in /home/jovyan/work/mirror/acaciamiddle.org/stories/ssc-meeting.html...\n",
      "Parsing HTML in /home/jovyan/work/mirror/acaciamiddle.org/stories/8th-grade-great-america-field-trip.html...\n",
      "Parsing HTML in /home/jovyan/work/mirror/acaciamiddle.org/stories/&quot;/ssl.gstatic.com/ui/v1/icons/mail/ellipsis.png&quot;.html...\n",
      "Parsing HTML in /home/jovyan/work/mirror/acaciamiddle.org/stories/wear-your-uniform-everyday.html...\n",
      "Parsing HTML in /home/jovyan/work/mirror/acaciamiddle.org/stories/aecs-5th-graders-visit-acacia-middle.html...\n",
      "Parsing HTML in /home/jovyan/work/mirror/acaciamiddle.org/stories/back-school-night.html...\n",
      "Parsing HTML in /home/jovyan/work/mirror/acaciamiddle.org/stories/labor-day-no-school.html...\n",
      "Parsing HTML in /home/jovyan/work/mirror/acaciamiddle.org/stories/amcs-ssc-meeting.html...\n",
      "Parsing HTML in /home/jovyan/work/mirror/acaciamiddle.org/stories/no-school-fall-break.html...\n",
      "Parsing HTML in /home/jovyan/work/mirror/acaciamiddle.org/stories/amcs-bbq-fundraiser.html...\n",
      "Parsing HTML in /home/jovyan/work/mirror/acaciamiddle.org/stories/amcs-scholastic-book-fair.html...\n",
      "Parsing HTML in /home/jovyan/work/mirror/acaciamiddle.org/stories/parents-survival-guide-online-safety.html...\n",
      "Parsing HTML in /home/jovyan/work/mirror/acaciamiddle.org/stories/school-attendance.html...\n",
      "Parsing HTML in /home/jovyan/work/mirror/acaciamiddle.org/stories/free-family-movie-night.html...\n",
      "Parsing HTML in /home/jovyan/work/mirror/acaciamiddle.org/stories/now-enrolling-2016-2017-school-year.html...\n"
     ]
    },
    {
     "name": "stdout",
     "output_type": "stream",
     "text": [
      "Parsing HTML in /home/jovyan/work/mirror/acaciamiddle.org/stories/sign-our-online-petition.html...\n",
      "Parsing HTML in /home/jovyan/work/mirror/acaciamiddle.org/stories/message-acacia-middle-charter.html...\n",
      "Parsing HTML in /home/jovyan/work/mirror/acaciamiddle.org/stories/coffee-principal-1.html...\n",
      "Parsing HTML in /home/jovyan/work/mirror/acaciamiddle.org/stories/national-school-choice-week.html...\n",
      "Parsing HTML in /home/jovyan/work/mirror/acaciamiddle.org/stories/coffee-principal-0.html...\n",
      "Parsing HTML in /home/jovyan/work/mirror/acaciamiddle.org/stories/tvlc-board-agenda-62316.html...\n",
      "Parsing HTML in /home/jovyan/work/mirror/acaciamiddle.org/stories/sees-candy-fundraiser.html...\n",
      "Parsing HTML in /home/jovyan/work/mirror/acaciamiddle.org/stories/hot-chocolate-sale.html...\n",
      "Parsing HTML in /home/jovyan/work/mirror/acaciamiddle.org/stories/jag-student-store.html...\n",
      "Parsing HTML in /home/jovyan/work/mirror/acaciamiddle.org/stories/school-site-council-meeting.html...\n",
      "Parsing HTML in /home/jovyan/work/mirror/acaciamiddle.org/stories/mlk-day-no-school.html...\n",
      "Parsing HTML in /home/jovyan/work/mirror/acaciamiddle.org/stories/stockton-unified-school-district-authorize-acacia-schools.html...\n",
      "Parsing HTML in /home/jovyan/work/mirror/acaciamiddle.org/stories/parent-volunteer-application.html...\n",
      "Parsing HTML in /home/jovyan/work/mirror/acaciamiddle.org/stories/spring-break.html...\n",
      "Parsing HTML in /home/jovyan/work/mirror/acaciamiddle.org/stories/acacia-middle-featured-latino-times.html...\n",
      "Parsing HTML in /home/jovyan/work/mirror/acaciamiddle.org/stories/stockton-unified-school-district-agrees-consider-acacia-charter.html...\n",
      "Parsing HTML in /home/jovyan/work/mirror/acaciamiddle.org/stories/fall-bash.html...\n",
      "Parsing HTML in /home/jovyan/work/mirror/acaciamiddle.org/stories/coffee-principal.html...\n",
      "Parsing HTML in /home/jovyan/work/mirror/acaciamiddle.org/stories/family-literacy-night.html...\n",
      "Parsing HTML in /home/jovyan/work/mirror/acaciamiddle.org/stories/8th-grade-promotion-ceremony.html...\n",
      "Parsing HTML in /home/jovyan/work/mirror/acaciamiddle.org/stories/yearbooks-sale.html...\n",
      "Parsing HTML in /home/jovyan/work/mirror/acaciamiddle.org/stories/acacia-schools-spaghetti-feed-save-date.html...\n",
      "Parsing HTML in /home/jovyan/work/mirror/acaciamiddle.org/taxonomy/term/39/all/feed...\n",
      "Parsing HTML in /home/jovyan/work/mirror/acaciamiddle.org/taxonomy/term/43/all/feed...\n",
      "Parsing HTML in /home/jovyan/work/mirror/acaciamiddle.org/taxonomy/term/36/all/feed...\n",
      "Parsing HTML in /home/jovyan/work/mirror/acaciamiddle.org/taxonomy/term/37/all/feed...\n",
      "Parsing HTML in /home/jovyan/work/mirror/acaciamiddle.org/taxonomy/term/38/all/feed...\n",
      "Parsing HTML in /home/jovyan/work/mirror/acaciamiddle.org/taxonomy/term/42/all/feed...\n",
      "Parsing HTML in /home/jovyan/work/mirror/acaciamiddle.org/taxonomy/term/41/all/feed...\n",
      "Parsing HTML in /home/jovyan/work/mirror/acaciamiddle.org/taxonomy/term/35/all/feed...\n",
      "Parsing HTML in /home/jovyan/work/mirror/acaciamiddle.org/taxonomy/term/40/all/feed...\n",
      "Parsing HTML in /home/jovyan/work/mirror/acaciamiddle.org/about/principals-message.html...\n",
      "Parsing HTML in /home/jovyan/work/mirror/acaciamiddle.org/about/our-team.html...\n",
      "Parsing HTML in /home/jovyan/work/mirror/acaciamiddle.org/about/our-mission-and-philosophy.html...\n",
      "Parsing HTML in /home/jovyan/work/mirror/acaciamiddle.org/about/title-iii-lep-plan.html...\n",
      "Parsing HTML in /home/jovyan/work/mirror/acaciamiddle.org/about/school-wellness-policy.html...\n",
      "Parsing HTML in /home/jovyan/work/mirror/acaciamiddle.org/about/lcap.html...\n",
      "Parsing HTML in /home/jovyan/work/mirror/acaciamiddle.org/about/frequently-asked-questions.html...\n",
      "Parsing HTML in /home/jovyan/work/mirror/acaciamiddle.org/school-site-council.html...\n",
      "Parsing HTML in /home/jovyan/work/mirror/acaciamiddle.org/stories.1.html...\n",
      "Parsing HTML in /home/jovyan/work/mirror/acaciamiddle.org/free-reduced-meal-pricing-letter-2016-17.html...\n",
      "Parsing HTML in /home/jovyan/work/mirror/acaciamiddle.org/amcs-pto.html...\n",
      "Parsing HTML in /home/jovyan/work/mirror/acaciamiddle.org/about.1.html...\n"
     ]
    }
   ],
   "source": [
    "def parse_text(list_of_dicts, data_location): \n",
    "    \n",
    "    # Note: Need to sort folders (in data_location) and schools (in list_of_dicts) on SAME LIST of URLs!\n",
    "    \n",
    "    for fname in glob.glob(data_location + \"**\", recursive=True):\n",
    "        try:\n",
    "            if bool(BeautifulSoup(open(fname), \"html.parser\").find())==True:\n",
    "                print(\"Parsing HTML in \" + fname + \"...\")\n",
    "                soup = BeautifulSoup(open(fname), \"lxml\")\n",
    "                textvar = rip_text(fname, junkName)\n",
    "        except:\n",
    "            pass\n",
    "        \n",
    "        \n",
    "        # look in each folder for .html, read in the text, sub ' for b' if needed at start string\n",
    "        # join together all the text strings, add that as value to school dict, analyze as before.\n",
    "        # keep out all sites with only ONE HTML file"
   ]
  },
  {
   "cell_type": "code",
   "execution_count": null,
   "metadata": {
    "collapsed": true
   },
   "outputs": [],
   "source": [
    "parse_text(sample, data_loc)"
   ]
  },
  {
   "cell_type": "code",
   "execution_count": 115,
   "metadata": {
    "collapsed": true
   },
   "outputs": [
    {
     "name": "stdout",
     "output_type": "stream",
     "text": [
      "[<p>The mission of Acacia Middle Charter School is to provide a nurturing and challenging learning community to the greater Stockton area. Students will experience learning in ways that will allow them to both understand and improve their world. Our exceptional teachers inspire students to seek deep, meaningful understanding; to develop strong academic skills; and to become creative and independent thinkers. A rapidly changing global environment requires that Acacia students acquire knowledge and develop 21<sup>st</sup> century skills, while learning to define and solve problems creatively. Acacia Middle cultivates compassion, fairness, respect, and individuality within a community that celebrates diversity, authenticity, and service.</p>, <p>Acacia Middle embodies the following key assumptions in philosophy and daily practice:</p>, <p> </p>, <p> </p>, <p> </p>, <p><span style=\"font-size:14px;\"><strong>(209) 956-2182 Fax</strong></span></p>, <p>©Tri Valley Learning Corporation - All Rights Reserved </p>, <p>TVLC and the charter schools it operates, Livermore Valley Charter Preparatory High School, Livermore Valley Charter School, Acacia Elementary Charter School. and Acacia Middle Charter School have no affiliations, partnerships or sister-school relationships with any educational programs located in China. </p>, <p>This disclaimer is for the sole purpose of clarifying for the TVLC community and the general public at-large of the misinformation found or discovered on the internet or domestic and international websites. </p>, <p>TVLC does not sanction any use of its logos, likenesses, or intellectual property used or disseminated by non-licensed individuals or entities whether domestic or international.</p>]\n"
     ]
    }
   ],
   "source": [
    "ptags = soup.find_all(\"p\")\n",
    "print(ptags)"
   ]
  },
  {
   "cell_type": "code",
   "execution_count": null,
   "metadata": {
    "collapsed": true
   },
   "outputs": [],
   "source": [
    "# BETTER WAY needs to use HTML tags (see below) to \n",
    "# identify worthwhile text vs. not worthwhile, then string those together..."
   ]
  },
  {
   "cell_type": "markdown",
   "metadata": {},
   "source": [
    "## BETA/ FOR REFERENCE (mostly from this notebook)"
   ]
  },
  {
   "cell_type": "code",
   "execution_count": 22,
   "metadata": {
    "collapsed": true
   },
   "outputs": [],
   "source": [
    "## Create HTML soup\n",
    "# AKCAN'S VERSION:\n",
    "html_page = urllib.request.urlopen(url)\n",
    "soup = BeautifulSoup(html_page, \"lxml\")\n",
    "\n",
    "# THAO'S VERSION:\n",
    "html_page = requests.get(url, auth=HTTPDigestAuth('user', 'pass'), headers= {'User-Agent':\"Mozilla/5.0 (Macintosh; Intel Mac OS X 10_11_5) AppleWebKit/537.36 (KHTML, like Gecko) Chrome/56.0.2924.87 Safari/537.36\"})\n",
    "soup = BeautifulSoup(html_page.text, \"lxml\")"
   ]
  },
  {
   "cell_type": "code",
   "execution_count": 9,
   "metadata": {
    "scrolled": true
   },
   "outputs": [
    {
     "ename": "NameError",
     "evalue": "name 'school' is not defined",
     "output_type": "error",
     "traceback": [
      "\u001b[0;31m---------------------------------------------------------------------------\u001b[0m",
      "\u001b[0;31mNameError\u001b[0m                                 Traceback (most recent call last)",
      "\u001b[0;32m<ipython-input-9-036d8ea104a4>\u001b[0m in \u001b[0;36m<module>\u001b[0;34m()\u001b[0m\n\u001b[1;32m     23\u001b[0m     \u001b[1;31m#for i in range(5, 6):\u001b[0m\u001b[1;33m\u001b[0m\u001b[1;33m\u001b[0m\u001b[0m\n\u001b[1;32m     24\u001b[0m         \u001b[1;31m#testedLinks[links[i]] = school.WebsiteData(links[i], nodeParams, keyValues).createJsonNode()\u001b[0m\u001b[1;33m\u001b[0m\u001b[1;33m\u001b[0m\u001b[0m\n\u001b[0;32m---> 25\u001b[0;31m \u001b[0mtester\u001b[0m\u001b[1;33m(\u001b[0m\u001b[0mlinks\u001b[0m\u001b[1;33m,\u001b[0m \u001b[0mkeyValues\u001b[0m\u001b[1;33m,\u001b[0m \u001b[0mnodeParams\u001b[0m\u001b[1;33m)\u001b[0m\u001b[1;33m\u001b[0m\u001b[0m\n\u001b[0m",
      "\u001b[0;32m<ipython-input-9-036d8ea104a4>\u001b[0m in \u001b[0;36mtester\u001b[0;34m(links, keyValues, nodeParams)\u001b[0m\n\u001b[1;32m     20\u001b[0m \u001b[1;33m\u001b[0m\u001b[0m\n\u001b[1;32m     21\u001b[0m \u001b[1;32mdef\u001b[0m \u001b[0mtester\u001b[0m\u001b[1;33m(\u001b[0m\u001b[0mlinks\u001b[0m\u001b[1;33m,\u001b[0m \u001b[0mkeyValues\u001b[0m\u001b[1;33m,\u001b[0m \u001b[0mnodeParams\u001b[0m\u001b[1;33m)\u001b[0m\u001b[1;33m:\u001b[0m\u001b[1;33m\u001b[0m\u001b[0m\n\u001b[0;32m---> 22\u001b[0;31m     \u001b[0mtestedLinks\u001b[0m\u001b[1;33m[\u001b[0m\u001b[0mlinks\u001b[0m\u001b[1;33m[\u001b[0m\u001b[1;36m5\u001b[0m\u001b[1;33m]\u001b[0m\u001b[1;33m]\u001b[0m \u001b[1;33m=\u001b[0m \u001b[0mschool\u001b[0m\u001b[1;33m.\u001b[0m\u001b[0mWebsiteData\u001b[0m\u001b[1;33m(\u001b[0m\u001b[0mlinks\u001b[0m\u001b[1;33m[\u001b[0m\u001b[1;36m5\u001b[0m\u001b[1;33m]\u001b[0m\u001b[1;33m,\u001b[0m \u001b[0mnodeParams\u001b[0m\u001b[1;33m,\u001b[0m \u001b[0mkeyValues\u001b[0m\u001b[1;33m)\u001b[0m\u001b[1;33m.\u001b[0m\u001b[0mcreateJsonNode\u001b[0m\u001b[1;33m(\u001b[0m\u001b[1;33m)\u001b[0m\u001b[1;33m\u001b[0m\u001b[0m\n\u001b[0m\u001b[1;32m     23\u001b[0m     \u001b[1;31m#for i in range(5, 6):\u001b[0m\u001b[1;33m\u001b[0m\u001b[1;33m\u001b[0m\u001b[0m\n\u001b[1;32m     24\u001b[0m         \u001b[1;31m#testedLinks[links[i]] = school.WebsiteData(links[i], nodeParams, keyValues).createJsonNode()\u001b[0m\u001b[1;33m\u001b[0m\u001b[1;33m\u001b[0m\u001b[0m\n",
      "\u001b[0;31mNameError\u001b[0m: name 'school' is not defined"
     ]
    }
   ],
   "source": [
    "#(self, url, nodeParams, keyValues)\n",
    "\n",
    "\n",
    "#creating a list of all the keyword lists\n",
    "#keyValues = [mission, curriculum, philosophy, history, target, resources, orgfactor]\n",
    "keyValues = [mission, curriculum, philosophy, history, general]\n",
    "\n",
    "#creating a list of key names for the JSON node that correspond to the keyValues list\n",
    "#nodeParams = ['mission', 'curriculum', 'philosophy', 'history', 'target', 'resources' , 'organizational_factors']\n",
    "nodeParams = ['mission', 'curriculum', 'philosophy', 'history', 'general']\n",
    "testedLinks = {}\n",
    "\n",
    "#print(links[0])\n",
    "\n",
    "\n",
    "\n",
    "#constructor = school.WebsiteData('https://www.richland2.org/charterhigh/', nodeParams, keyValues)\n",
    "#constructor.createJsonNode()\n",
    "#print(constructor.URL)\n",
    "\n",
    "def tester(links, keyValues, nodeParams):\n",
    "    testedLinks[links[5]] = school.WebsiteData(links[5], nodeParams, keyValues).createJsonNode()\n",
    "    #for i in range(5, 6):\n",
    "        #testedLinks[links[i]] = school.WebsiteData(links[i], nodeParams, keyValues).createJsonNode()\n",
    "tester(links, keyValues, nodeParams)"
   ]
  },
  {
   "cell_type": "markdown",
   "metadata": {},
   "source": [
    "## TESTING (from EncapsulatedSchoolObject.ipynb)"
   ]
  },
  {
   "cell_type": "code",
   "execution_count": 34,
   "metadata": {
    "collapsed": true
   },
   "outputs": [],
   "source": [
    "#Finds all tags within a BeautifulSoup object that's text contains a certain keyword and returns a list of these tags.\n",
    "def findTags(soup, keyWord):\n",
    "    tagList = []\n",
    "        \n",
    "    for elem in soup(text=re.compile(keyWord)):\n",
    "        tagList.append(elem.parent)\n",
    "            \n",
    "    return tagList"
   ]
  },
  {
   "cell_type": "code",
   "execution_count": 59,
   "metadata": {
    "collapsed": true
   },
   "outputs": [],
   "source": [
    "#Utilizes a BeautifulSoup object (soup) to scrape all text that contains the given keyword. Filters for certain tags and does\n",
    "#not take text from solely header (h) tags, instead takes text from next filtered tag after the header.  \n",
    "def keyWordScraper(soup, keyWord):\n",
    "    searchTxt = ''\n",
    "    correctName = ['p', 'li', 'table', 'ul', 'ol']\n",
    "    tagList = findTags(soup, keyWord)\n",
    "    #print(tagList)\n",
    "    \n",
    "    #This loop goes through each tag and rips the text from that tag. If that tag is a header, then the text from the next \n",
    "    #useful tag is ripped instead. All text is saved in searchTxt\n",
    "    for tag in tagList:\n",
    "        #print(tag, \"\\n\")\n",
    "        if 'h' in tag.name:\n",
    "            typeTag = type(soup.find('li'))\n",
    "            current = tag.next_sibling\n",
    "            while current != None and  not isinstance(current, typeTag) and current.name not in correctName:\n",
    "                current = current.next_sibling\n",
    "            if current != None:\n",
    "                if 'ul' in current.name or 'ol' in current.name:\n",
    "                    for li in current.findAll('li'):\n",
    "                        searchTxt = searchTxt + li.text\n",
    "                else:\n",
    "                    searchTxt = searchTxt + current.text\n",
    "        #elif url extension includes the keyWord, grab all the text?\n",
    "        else:\n",
    "            if(tag.name in correctName):\n",
    "                    searchTxt = searchTxt + tag.text\n",
    "                \n",
    "        return searchTxt"
   ]
  },
  {
   "cell_type": "code",
   "execution_count": 63,
   "metadata": {
    "collapsed": true
   },
   "outputs": [],
   "source": [
    "#Applies the keyWordScraper function to a BeautifulSoup object(soup) for a list of keywords. Returns the text found.\n",
    "def mapKeywordScraper(soup, keyWords):\n",
    "    foundTxt = ''\n",
    "    \n",
    "    for keyWord in keyWords:\n",
    "        foundTxt = foundTxt + str(keyWordScraper(soup, keyWord))\n",
    "    #print(foundTxt)\n",
    "    return foundTxt"
   ]
  },
  {
   "cell_type": "code",
   "execution_count": 61,
   "metadata": {
    "collapsed": true
   },
   "outputs": [],
   "source": [
    "def createJsonNode():\n",
    "    JSONNode = {}\n",
    "    \n",
    "    for x in range(0, len(keyValues)):\n",
    "        print(keyValues[x], \"\\n\")\n",
    "        JSONNode[nodeParams[x]] = [mapKeywordScraper(soup, keyValues[x])]\n",
    "        print(JSONNode)\n",
    "    return JSONNode"
   ]
  },
  {
   "cell_type": "code",
   "execution_count": 62,
   "metadata": {},
   "outputs": [
    {
     "name": "stdout",
     "output_type": "stream",
     "text": [
      "['mission', ' vision ', 'vision:', 'mission:', 'our purpose', 'our ideals', 'ideals:', 'our cause', 'cause:', 'goals', 'objective'] \n",
      "\n",
      "NoneNoneNoneNoneNoneNoneNoneNoneNoneNoneNone\n",
      "{'mission': ['NoneNoneNoneNoneNoneNoneNoneNoneNoneNoneNone']}\n",
      "['curriculum', 'curricular', 'program', 'method', 'pedagogy', 'pedagogical', 'approach', 'model', 'system', 'structure'] \n",
      "\n",
      "NoneNoneNoneNoneNoneNoneNoneNoneNoneNone\n",
      "{'mission': ['NoneNoneNoneNoneNoneNoneNoneNoneNoneNoneNone'], 'curriculum': ['NoneNoneNoneNoneNoneNoneNoneNoneNoneNone']}\n",
      "['philosophy', 'philosophical', 'beliefs', 'believe', 'principles', 'creed', 'credo', 'value', 'moral', 'Values'] \n",
      "\n",
      "NoneNoneNoneNoneNoneNoneNoneNoneNone\n",
      "{'mission': ['NoneNoneNoneNoneNoneNoneNoneNoneNoneNoneNone'], 'curriculum': ['NoneNoneNoneNoneNoneNoneNoneNoneNoneNone'], 'philosophy': ['NoneNoneNoneNoneNoneNoneNoneNoneNone']}\n",
      "['history', 'our story', 'the story', 'school story', 'background', 'founding', 'founded', 'established', 'establishment', 'our school began', 'we began', 'doors opened', 'school opened'] \n",
      "\n",
      "NoneNoneNoneNoneNoneNoneNoneNoneNoneNoneNoneNone\n",
      "{'mission': ['NoneNoneNoneNoneNoneNoneNoneNoneNoneNoneNone'], 'curriculum': ['NoneNoneNoneNoneNoneNoneNoneNoneNoneNone'], 'philosophy': ['NoneNoneNoneNoneNoneNoneNoneNoneNone'], 'history': ['NoneNoneNoneNoneNoneNoneNoneNoneNoneNoneNoneNone']}\n",
      "['about us', 'our school', 'who we are', 'overview', 'general information', 'our identity', 'profile', 'highlights'] \n",
      "\n",
      "NoneNoneNoneNoneNoneNoneNoneNone\n",
      "{'mission': ['NoneNoneNoneNoneNoneNoneNoneNoneNoneNoneNone'], 'curriculum': ['NoneNoneNoneNoneNoneNoneNoneNoneNoneNone'], 'philosophy': ['NoneNoneNoneNoneNoneNoneNoneNoneNone'], 'history': ['NoneNoneNoneNoneNoneNoneNoneNoneNoneNoneNoneNone'], 'general': ['NoneNoneNoneNoneNoneNoneNoneNone']}\n"
     ]
    },
    {
     "data": {
      "text/plain": [
       "{'curriculum': ['NoneNoneNoneNoneNoneNoneNoneNoneNoneNone'],\n",
       " 'general': ['NoneNoneNoneNoneNoneNoneNoneNone'],\n",
       " 'history': ['NoneNoneNoneNoneNoneNoneNoneNoneNoneNoneNoneNone'],\n",
       " 'mission': ['NoneNoneNoneNoneNoneNoneNoneNoneNoneNoneNone'],\n",
       " 'philosophy': ['NoneNoneNoneNoneNoneNoneNoneNoneNone']}"
      ]
     },
     "execution_count": 62,
     "metadata": {},
     "output_type": "execute_result"
    }
   ],
   "source": [
    "createJsonNode()"
   ]
  },
  {
   "cell_type": "markdown",
   "metadata": {
    "collapsed": true
   },
   "source": [
    "## CHUNKS OF CODE"
   ]
  },
  {
   "cell_type": "code",
   "execution_count": 13,
   "metadata": {},
   "outputs": [
    {
     "data": {
      "text/plain": [
       "'https://www.richland2.org/charterhigh/'"
      ]
     },
     "execution_count": 13,
     "metadata": {},
     "output_type": "execute_result"
    }
   ],
   "source": [
    "# Input test URL here\n",
    "url = links[0]\n",
    "url"
   ]
  },
  {
   "cell_type": "code",
   "execution_count": 29,
   "metadata": {
    "collapsed": true
   },
   "outputs": [],
   "source": [
    "html_page = urllib.request.urlopen(url)\n",
    "soup = BeautifulSoup(html_page, \"lxml\")"
   ]
  },
  {
   "cell_type": "code",
   "execution_count": 30,
   "metadata": {
    "collapsed": true
   },
   "outputs": [],
   "source": [
    "def findTags(soup, keyWord):\n",
    "    tagList = []\n",
    "        \n",
    "    for elem in soup(text=re.compile(keyWord)):\n",
    "        tagList.append(elem.parent)\n",
    "            \n",
    "    return tagList"
   ]
  },
  {
   "cell_type": "code",
   "execution_count": 32,
   "metadata": {},
   "outputs": [
    {
     "ename": "TypeError",
     "evalue": "unhashable type: 'list'",
     "output_type": "error",
     "traceback": [
      "\u001b[0;31m---------------------------------------------------------------------------\u001b[0m",
      "\u001b[0;31mTypeError\u001b[0m                                 Traceback (most recent call last)",
      "\u001b[0;32m<ipython-input-32-1f8966b3d18d>\u001b[0m in \u001b[0;36m<module>\u001b[0;34m()\u001b[0m\n\u001b[0;32m----> 1\u001b[0;31m \u001b[0mtagList\u001b[0m \u001b[1;33m=\u001b[0m \u001b[0mfindTags\u001b[0m\u001b[1;33m(\u001b[0m\u001b[0msoup\u001b[0m\u001b[1;33m,\u001b[0m \u001b[0mkeyValues\u001b[0m\u001b[1;33m)\u001b[0m\u001b[1;33m\u001b[0m\u001b[0m\n\u001b[0m",
      "\u001b[0;32m<ipython-input-30-f7b26a6cb648>\u001b[0m in \u001b[0;36mfindTags\u001b[0;34m(soup, keyWord)\u001b[0m\n\u001b[1;32m      2\u001b[0m     \u001b[0mtagList\u001b[0m \u001b[1;33m=\u001b[0m \u001b[1;33m[\u001b[0m\u001b[1;33m]\u001b[0m\u001b[1;33m\u001b[0m\u001b[0m\n\u001b[1;32m      3\u001b[0m \u001b[1;33m\u001b[0m\u001b[0m\n\u001b[0;32m----> 4\u001b[0;31m     \u001b[1;32mfor\u001b[0m \u001b[0melem\u001b[0m \u001b[1;32min\u001b[0m \u001b[0msoup\u001b[0m\u001b[1;33m(\u001b[0m\u001b[0mtext\u001b[0m\u001b[1;33m=\u001b[0m\u001b[0mre\u001b[0m\u001b[1;33m.\u001b[0m\u001b[0mcompile\u001b[0m\u001b[1;33m(\u001b[0m\u001b[0mkeyWord\u001b[0m\u001b[1;33m)\u001b[0m\u001b[1;33m)\u001b[0m\u001b[1;33m:\u001b[0m\u001b[1;33m\u001b[0m\u001b[0m\n\u001b[0m\u001b[1;32m      5\u001b[0m         \u001b[0mtagList\u001b[0m\u001b[1;33m.\u001b[0m\u001b[0mappend\u001b[0m\u001b[1;33m(\u001b[0m\u001b[0melem\u001b[0m\u001b[1;33m.\u001b[0m\u001b[0mparent\u001b[0m\u001b[1;33m)\u001b[0m\u001b[1;33m\u001b[0m\u001b[0m\n\u001b[1;32m      6\u001b[0m \u001b[1;33m\u001b[0m\u001b[0m\n",
      "\u001b[0;32mC:\\ProgramData\\Anaconda3\\lib\\re.py\u001b[0m in \u001b[0;36mcompile\u001b[0;34m(pattern, flags)\u001b[0m\n\u001b[1;32m    231\u001b[0m \u001b[1;32mdef\u001b[0m \u001b[0mcompile\u001b[0m\u001b[1;33m(\u001b[0m\u001b[0mpattern\u001b[0m\u001b[1;33m,\u001b[0m \u001b[0mflags\u001b[0m\u001b[1;33m=\u001b[0m\u001b[1;36m0\u001b[0m\u001b[1;33m)\u001b[0m\u001b[1;33m:\u001b[0m\u001b[1;33m\u001b[0m\u001b[0m\n\u001b[1;32m    232\u001b[0m     \u001b[1;34m\"Compile a regular expression pattern, returning a pattern object.\"\u001b[0m\u001b[1;33m\u001b[0m\u001b[0m\n\u001b[0;32m--> 233\u001b[0;31m     \u001b[1;32mreturn\u001b[0m \u001b[0m_compile\u001b[0m\u001b[1;33m(\u001b[0m\u001b[0mpattern\u001b[0m\u001b[1;33m,\u001b[0m \u001b[0mflags\u001b[0m\u001b[1;33m)\u001b[0m\u001b[1;33m\u001b[0m\u001b[0m\n\u001b[0m\u001b[1;32m    234\u001b[0m \u001b[1;33m\u001b[0m\u001b[0m\n\u001b[1;32m    235\u001b[0m \u001b[1;32mdef\u001b[0m \u001b[0mpurge\u001b[0m\u001b[1;33m(\u001b[0m\u001b[1;33m)\u001b[0m\u001b[1;33m:\u001b[0m\u001b[1;33m\u001b[0m\u001b[0m\n",
      "\u001b[0;32mC:\\ProgramData\\Anaconda3\\lib\\re.py\u001b[0m in \u001b[0;36m_compile\u001b[0;34m(pattern, flags)\u001b[0m\n\u001b[1;32m    287\u001b[0m     \u001b[1;31m# internal: compile pattern\u001b[0m\u001b[1;33m\u001b[0m\u001b[1;33m\u001b[0m\u001b[0m\n\u001b[1;32m    288\u001b[0m     \u001b[1;32mtry\u001b[0m\u001b[1;33m:\u001b[0m\u001b[1;33m\u001b[0m\u001b[0m\n\u001b[0;32m--> 289\u001b[0;31m         \u001b[0mp\u001b[0m\u001b[1;33m,\u001b[0m \u001b[0mloc\u001b[0m \u001b[1;33m=\u001b[0m \u001b[0m_cache\u001b[0m\u001b[1;33m[\u001b[0m\u001b[0mtype\u001b[0m\u001b[1;33m(\u001b[0m\u001b[0mpattern\u001b[0m\u001b[1;33m)\u001b[0m\u001b[1;33m,\u001b[0m \u001b[0mpattern\u001b[0m\u001b[1;33m,\u001b[0m \u001b[0mflags\u001b[0m\u001b[1;33m]\u001b[0m\u001b[1;33m\u001b[0m\u001b[0m\n\u001b[0m\u001b[1;32m    290\u001b[0m         \u001b[1;32mif\u001b[0m \u001b[0mloc\u001b[0m \u001b[1;32mis\u001b[0m \u001b[1;32mNone\u001b[0m \u001b[1;32mor\u001b[0m \u001b[0mloc\u001b[0m \u001b[1;33m==\u001b[0m \u001b[0m_locale\u001b[0m\u001b[1;33m.\u001b[0m\u001b[0msetlocale\u001b[0m\u001b[1;33m(\u001b[0m\u001b[0m_locale\u001b[0m\u001b[1;33m.\u001b[0m\u001b[0mLC_CTYPE\u001b[0m\u001b[1;33m)\u001b[0m\u001b[1;33m:\u001b[0m\u001b[1;33m\u001b[0m\u001b[0m\n\u001b[1;32m    291\u001b[0m             \u001b[1;32mreturn\u001b[0m \u001b[0mp\u001b[0m\u001b[1;33m\u001b[0m\u001b[0m\n",
      "\u001b[0;31mTypeError\u001b[0m: unhashable type: 'list'"
     ]
    }
   ],
   "source": [
    "tagList = findTags(soup, keyWord)"
   ]
  },
  {
   "cell_type": "code",
   "execution_count": null,
   "metadata": {
    "collapsed": true
   },
   "outputs": [],
   "source": [
    "searchTxt = ''\n",
    "correctName = ['p', 'li', 'table', 'ul', 'ol']\n",
    "tagList = findTags(soup, keyWord)\n",
    "    \n",
    "#This loop goes through each tag and rips the text from that tag. If that tag is a header, then the text from the next \n",
    " #useful tag is ripped instead. All text is saved in searchTxt\n",
    "for tag in tagList:\n",
    "    if 'h' in tag.name:\n",
    "        typeTag = type(soup.find('li'))\n",
    "        current = tag.next_sibling\n",
    "        while current != None and  not isinstance(current, typeTag) and current.name not in correctName:\n",
    "            current = current.next_sibling\n",
    "        if current != None:\n",
    "            if 'ul' in current.name or 'ol' in current.name:\n",
    "                for li in current.findAll('li'):\n",
    "                    searchTxt = searchTxt + li.text\n",
    "            else:\n",
    "                searchTxt = searchTxt + current.text\n",
    "    #elif url extension includes the keyWord, grab all the text?\n",
    "    else:\n",
    "        if(tag.name in correctName):\n",
    "            searchTxt = searchTxt + tag.text\n",
    "                \n",
    "return searchTxt"
   ]
  }
 ],
 "metadata": {
  "kernelspec": {
   "display_name": "Python 3",
   "language": "python",
   "name": "python3"
  },
  "language_info": {
   "codemirror_mode": {
    "name": "ipython",
    "version": 3
   },
   "file_extension": ".py",
   "mimetype": "text/x-python",
   "name": "python",
   "nbconvert_exporter": "python",
   "pygments_lexer": "ipython3",
   "version": "3.5.2"
  }
 },
 "nbformat": 4,
 "nbformat_minor": 2
}
