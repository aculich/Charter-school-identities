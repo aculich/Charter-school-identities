{
 "cells": [
  {
   "cell_type": "code",
   "execution_count": null,
   "metadata": {},
   "outputs": [],
   "source": [
    "#!/usr/bin/env python\n",
    "# -*- coding: UTF-8"
   ]
  },
  {
   "cell_type": "markdown",
   "metadata": {},
   "source": [
    "# Parsing HTML from `wget` run!"
   ]
  },
  {
   "cell_type": "markdown",
   "metadata": {},
   "source": [
    "## Initializing"
   ]
  },
  {
   "cell_type": "code",
   "execution_count": null,
   "metadata": {},
   "outputs": [],
   "source": [
    "#import necessary libraries\n",
    "from bs4 import BeautifulSoup\n",
    "from bs4.element import Comment\n",
    "import urllib, urllib.request\n",
    "import lxml\n",
    "import re, os\n",
    "from glob import glob\n",
    "from nltk.stem.porter import *\n",
    "stemmer = PorterStemmer()"
   ]
  },
  {
   "cell_type": "code",
   "execution_count": null,
   "metadata": {},
   "outputs": [],
   "source": [
    "#set directories and parsing keywords\n",
    "data_loc = \"/vol_b/data/wget/parll_wget/\" #location of downloaded website data\n",
    "\n",
    "example_page = \"https://westlakecharter.com/about/\"\n",
    "\n",
    "keywords = [\"values\", \"academics\", \"skills\", \"perseverance\", 'purpose',\n",
    "                       'direction', 'mission', 'vision', 'vision', 'mission', 'our purpose',\n",
    "                       'our ideals', 'ideals', 'our cause', 'curriculum','curricular',\n",
    "                       'method', 'pedagogy', 'pedagogical', 'approach', 'model', 'system',\n",
    "                       'structure','philosophy', 'philosophical', 'beliefs', 'believe',\n",
    "                       'principles', 'creed', 'credo', 'values','moral', 'history', 'our story',\n",
    "                       'the story', 'school story', 'background', 'founding', 'founded',\n",
    "                       'established','establishment', 'our school began', 'we began',\n",
    "                       'doors opened', 'school opened']\n",
    "keywords = [x.lower() for x in keywords]\n",
    "\n",
    "mission_keywords = ['mission',' vision ', 'vision:', 'mission:', 'our purpose', 'our ideals', 'ideals:', 'our cause', 'cause:', 'goals', 'objective']\n",
    "curriculum_keywords = ['curriculum', 'curricular', 'program', 'method', 'pedagogy', 'pedagogical', 'approach', 'model', 'system', 'structure']\n",
    "philosophy_keywords = ['philosophy', 'philosophical', 'beliefs', 'believe', 'principles', 'creed', 'credo', 'value',  'moral', 'respect', 'excellence', 'responsibility', 'perseverance', 'inquisitive', 'joyful', 'learning', 'gratitude']\n",
    "history_keywords = ['history', 'story','our story', 'the story', 'school story', 'background', 'founding', 'founded', 'established', 'establishment', 'our school began', 'we began', 'doors opened', 'school opened']\n",
    "\n",
    "mission_keywords = set(stemmer.stem(word) for word in mission_keywords)\n",
    "curriculum_keywords = set(stemmer.stem(word) for word in curriculum_keywords)\n",
    "philosophy_keywords = set(stemmer.stem(word) for word in philosophy_keywords)\n",
    "history_keywords = set(stemmer.stem(word) for word in history_keywords)"
   ]
  },
  {
   "cell_type": "code",
   "execution_count": 1,
   "metadata": {
    "collapsed": true
   },
   "outputs": [],
   "source": [
    "#define helper functions\n",
    "def tag_visible(element):\n",
    "    if element.parent.name in ['style', 'script', 'head', 'title', 'meta', '[document]']:\n",
    "        return False\n",
    "    if isinstance(element, Comment):\n",
    "        return False\n",
    "    return True\n",
    "\n",
    "\n",
    "def text_from_html(body):\n",
    "    soup = BeautifulSoup(body, 'lxml')\n",
    "    texts = soup.findAll(text=True)\n",
    "    visible_texts = filter(tag_visible, texts)  \n",
    "    return u\" \".join(t.strip() for t in visible_texts)\n",
    "\n",
    "\n",
    "def rawwebsitetext(urlstring):\n",
    "    with urllib.request.urlopen(urlstring) as url:\n",
    "        s = url.read()\n",
    "    string = (text_from_html(s))\n",
    "    print(string)\n",
    "    return re.split(r'\\s{3,}', string)\n",
    "\n",
    "\n",
    "def website_all_text(datalocation):\n",
    "    string = \"\"\n",
    "    for root, dirs, files in os.walk(datalocation):\n",
    "        for file in files:\n",
    "            if file.endswith(\".txt\"):\n",
    "                fileloc = open(data_loc+file, \"r\")\n",
    "                string = string + (fileloc.read())\n",
    "    return string\n",
    "\n",
    "\n",
    "def filterwebsite(string):\n",
    "    stringList = re.split(r'\\s{3,}', string)\n",
    "    validcharacters = [' ', '.', '?']\n",
    "    filteredtext = []  \n",
    "    \n",
    "    for string in stringList:\n",
    "        lowercasestring = string.lower()\n",
    "        for key in keywords:\n",
    "            if key in lowercasestring:\n",
    "                if key in lowercasestring.split(' '): #check that the word is the whole word not part of another one\n",
    "                    filteredtext.extend([string.lower()])\n",
    "\n",
    "    filteredtext = list(set(filteredtext))\n",
    "    finaltext = []\n",
    "    for x in filteredtext:\n",
    "        finaltext.append(x.replace('\\xa0', \" \"))\n",
    "    return finaltext"
   ]
  },
  {
   "cell_type": "code",
   "execution_count": 90,
   "metadata": {
    "collapsed": true
   },
   "outputs": [],
   "source": [
    "def score_and_categorize(pagetext_list): \n",
    "    \"\"\"Takes in a list of all the relevant (filtered) text from a given webpage. \n",
    "    Uses already defined keyword lists to categorize each block of text.\"\"\"\n",
    "    mission_list = []\n",
    "    curriculum_list = []\n",
    "    philosophy_list = []\n",
    "    history_list = []\n",
    "    general_list = []\n",
    "    \n",
    "    for string in pagetext_list:\n",
    "        mission_score, curriculum_score, philosophy_score, history_score = 0, 0, 0, 0\n",
    "        for word in mission_keywords:\n",
    "            mission_score+=string.count(word)\n",
    "            if 'mission' in string:\n",
    "                mission_score = 2\n",
    "                \n",
    "        for word in curriculum_keywords:\n",
    "            curriculum_score+=string.count(word)\n",
    "            if 'curriculum' in string:\n",
    "                curriculum_score = 2\n",
    "                \n",
    "        for word in philosophy_keywords:\n",
    "            philosophy_score+=string.count(word)\n",
    "            if 'philosophy' in string or 'value' in string:\n",
    "                philosophy_score = 2\n",
    "        \n",
    "        for word in history_keywords:\n",
    "            history_score+=string.count(word)\n",
    "            if 'history' in string:\n",
    "                history_score = 2\n",
    "        \n",
    "        if mission_score>=2:\n",
    "            mission_list.append(string)\n",
    "        if curriculum_score>=2:\n",
    "            curriculum_list.append(string)\n",
    "        if philosophy_score>=2:\n",
    "            philosophy_list.append(string)\n",
    "        if history_score>=2:\n",
    "            history_list.append(string)\n",
    "        if mission_score + curriculum_score + philosophy_score + history_score <=3:\n",
    "            general_list.append(string)\n",
    "        \n",
    "    return {'mission': mission_list, 'curriculum' : curriculum_list, 'philosophy': philosophy_list, 'general': general_list}"
   ]
  },
  {
   "cell_type": "code",
   "execution_count": 32,
   "metadata": {
    "scrolled": true
   },
   "outputs": [
    {
     "name": "stdout",
     "output_type": "stream",
     "text": [
      "                                                               Contact Us: 2680 Mabry Dr. 95835 (916) 567-5760 | admin@westlakecharter.com      Staff Login                  About   Administration & Support Staff  Employment Opportunities  Business Services  Admission & Enrollment Information  Supply Donations  Hot Lunch Payments  Hot Lunch Menu    Board   Board Policies  Board Committees  Board Documents    WCS   Infinite Campus Login  School Dismissal Manager  Ways to Westlake    Teachers  BASE  WAVE   Meetings  Contact Us  Volunteer Opportunities  Volunteer Hours  Log Volunteer Hours  Spirit Store    Calendars   17/18 School Calendar                           About          About  Aimee Wells  2013-09-18T18:36:35+00:00   About Westlake Charter Schools  Key School Features   International Focus  Thematic Curriculum  Artistic Development  Foreign Language Instruction  School-Wide Enrichment Model   Core Values   Respect  Excellence  Responsibility  Reflective  Global Perspective  Stewardship  Perseverance  Inquisitive  Joyful Learning  Gratitude    Calendars, Schedules, Handbooks and More   Family Handbook  2017/18 School Calendar  2017/18 Bell Schedule  WCS Charter  Strategic Plan      Westlake Charter School is a K-8th grade public elementary school created by parents and educators in Natomas. We opened our doors in 2005 and continue to grow serving more and more students each year. WCS’s primary mission is to demonstrate what is possible when school and community collaborate to create inspiring adults with the academic and social-emotional readiness to lead as Global Citizens.  Westlake Charter School students are EXPLORERS! Our curriculum focuses on diversity and appreciation of different cultures, while promoting academic excellence and foreign language acquisition. We offer various specialty classes to all of our students including Art, Physical Education, and Spanish. Our middle school program focuses on Math, Science and Technology and is executed through the use of technology. Westlake Charter School has small class sizes of approximately 22-24 students in K-3rd grade and 29 students in 4th-8th grade.  First time visitors to Westlake Charter School often remark, “What a warm and inviting school!” Creating a school that is caring and open is absolutely critical in working successfully with our children and families. Students who feel safe, secure, and appreciated gain a love of learning and will be successful scholars.  Westlake Charter School’s professional staff is relentless in seeking and trying research-based best practices that engage every student. Our lessons are hands-on and differentiated to meet the diverse needs of all students. Our teachers display a never-ending commitment to improving their own expertise. Furthermore, we would not be as successful without the support and involvement of our parents. Our parent group is outstanding in helping us achieve our goals by volunteering their time in class, fundraising for our unique programs, and providing endless words of encouragement and support. Our school team is second to none!         Recent        Westlake Weekly – November 9, 2017  November 9th, 2017      Westlake Weekly – November 3, 2017  November 3rd, 2017      Westlake Weekly – October 27, 2017  October 27th, 2017      Westlake Weekly – October 20, 2017  October 20th, 2017      Westlake Weekly – October 6th, 2017  October 6th, 2017      Westlake Weekly – September 29, 2017  September 29th, 2017                     Contact Info   2680 Mabry Dr. 95835  Phone: (916) 567-5760  Fax: (916) 567-5769  Email: admin@westlakecharter.com         Copyright 2015 Westlake Charter | All Rights Reserved | Contact Us   \n"
     ]
    },
    {
     "data": {
      "text/plain": [
       "['',\n",
       " 'Contact Us: 2680 Mabry Dr. 95835 (916) 567-5760 | admin@westlakecharter.com',\n",
       " 'Staff Login',\n",
       " 'About',\n",
       " 'Administration & Support Staff  Employment Opportunities  Business Services  Admission & Enrollment Information  Supply Donations  Hot Lunch Payments  Hot Lunch Menu',\n",
       " 'Board',\n",
       " 'Board Policies  Board Committees  Board Documents',\n",
       " 'WCS',\n",
       " 'Infinite Campus Login  School Dismissal Manager  Ways to Westlake',\n",
       " 'Teachers  BASE  WAVE',\n",
       " 'Meetings  Contact Us  Volunteer Opportunities  Volunteer Hours  Log Volunteer Hours  Spirit Store',\n",
       " 'Calendars',\n",
       " '17/18 School Calendar',\n",
       " 'About',\n",
       " 'About  Aimee Wells  2013-09-18T18:36:35+00:00',\n",
       " 'About Westlake Charter Schools  Key School Features',\n",
       " 'International Focus  Thematic Curriculum  Artistic Development  Foreign Language Instruction  School-Wide Enrichment Model',\n",
       " 'Core Values',\n",
       " 'Respect  Excellence  Responsibility  Reflective  Global Perspective  Stewardship  Perseverance  Inquisitive  Joyful Learning  Gratitude',\n",
       " 'Calendars, Schedules, Handbooks and More',\n",
       " 'Family Handbook  2017/18 School Calendar  2017/18 Bell Schedule  WCS Charter  Strategic Plan',\n",
       " 'Westlake Charter School is a K-8th grade public elementary school created by parents and educators in Natomas. We opened our doors in 2005 and continue to grow serving more and more students each year. WCS’s primary mission is to demonstrate what is possible when school and community collaborate to create inspiring adults with the academic and social-emotional readiness to lead as Global Citizens.  Westlake Charter School students are EXPLORERS! Our curriculum focuses on diversity and appreciation of different cultures, while promoting academic excellence and foreign language acquisition. We offer various specialty classes to all of our students including Art, Physical Education, and Spanish. Our middle school program focuses on Math, Science and Technology and is executed through the use of technology. Westlake Charter School has small class sizes of approximately 22-24 students in K-3rd grade and 29 students in 4th-8th grade.  First time visitors to Westlake Charter School often remark, “What a warm and inviting school!” Creating a school that is caring and open is absolutely critical in working successfully with our children and families. Students who feel safe, secure, and appreciated gain a love of learning and will be successful scholars.  Westlake Charter School’s professional staff is relentless in seeking and trying research-based best practices that engage every student. Our lessons are hands-on and differentiated to meet the diverse needs of all students. Our teachers display a never-ending commitment to improving their own expertise. Furthermore, we would not be as successful without the support and involvement of our parents. Our parent group is outstanding in helping us achieve our goals by volunteering their time in class, fundraising for our unique programs, and providing endless words of encouragement and support. Our school team is second to none!',\n",
       " 'Recent',\n",
       " 'Westlake Weekly – November 9, 2017  November 9th, 2017',\n",
       " 'Westlake Weekly – November 3, 2017  November 3rd, 2017',\n",
       " 'Westlake Weekly – October 27, 2017  October 27th, 2017',\n",
       " 'Westlake Weekly – October 20, 2017  October 20th, 2017',\n",
       " 'Westlake Weekly – October 6th, 2017  October 6th, 2017',\n",
       " 'Westlake Weekly – September 29, 2017  September 29th, 2017',\n",
       " 'Contact Info',\n",
       " '2680 Mabry Dr. 95835  Phone: (916) 567-5760  Fax: (916) 567-5769  Email: admin@westlakecharter.com',\n",
       " 'Copyright 2015 Westlake Charter | All Rights Reserved | Contact Us',\n",
       " '']"
      ]
     },
     "execution_count": 32,
     "metadata": {},
     "output_type": "execute_result"
    }
   ],
   "source": [
    "rawwebsitetext(example_page)"
   ]
  },
  {
   "cell_type": "code",
   "execution_count": 29,
   "metadata": {},
   "outputs": [
    {
     "name": "stdout",
     "output_type": "stream",
     "text": [
      "                                    Explore       x:          Home    About Us    School Information    Lab Hours    Calendar    Frequently Asked Questions    Directions    Student Handbook    School Board    School Improvement Council      Contact Us    Leadership    News    Careers    Register Your Student     Follow Us      Traducciones ~ Translations ~ 번역      Richland Two Charter High School      From the News Room View All News       Fall Break Hours On November 20th and 21st, we'll close at 3 PM.\n",
      "No school November 22nd through the 24th.        R2i2 is offering Dual Credit courses for the 2017-2018 School Year Earn college credit while you complete high school!        Welcome to Our New Website! Sleek. Shiny. Built for the future. Just like us.       Upcoming Events View Calendar      Connected          Richland Two Charter High School  7900 Brookmont Lane  |  Columbia, SC 29203  |  Phone: (803)-419-1348 |  Fax: (803)-935-1212  Accessibility | © 2017 Richland School District Two          Original text Contribute a better translation                                     Explore       x:          Home    About Us    School Information    Lab Hours    Calendar    Frequently Asked Questions    Directions    Student Handbook    School Board    School Improvement Council      Contact Us    Leadership    News    Careers    Register Your Student     Follow Us      Traducciones ~ Translations ~ 번역      Richland Two Charter High School      From the News Room View All News       Fall Break Hours On November 20th and 21st, we'll close at 3 PM.\n",
      "No school November 22nd through the 24th.        R2i2 is offering Dual Credit courses for the 2017-2018 School Year Earn college credit while you complete high school!        Welcome to Our New Website! Sleek. Shiny. Built for the future. Just like us.       Upcoming Events View Calendar      Connected          Richland Two Charter High School  7900 Brookmont Lane  |  Columbia, SC 29203  |  Phone: (803)-419-1348 |  Fax: (803)-935-1212  Accessibility | © 2017 Richland School District Two          Original text Contribute a better translation                                      Explore       x:          Home    About Us    School Information    Lab Hours    Calendar    Frequently Asked Questions    Directions    Student Handbook    School Board    School Improvement Council      Contact Us    Leadership    News    Careers    Register Your Student     Follow Us      Traducciones ~ Translations ~ 번역      Richland Two Charter High School     Home  Contact Us  Contact Us  Call us at 803.419.1348     Geri McLeod | Administrative Assistant - Main Office  Extension 0    Dr. Perry Mills, Sr | Principal  Extension 1    Allen Upchurch | Assistant Principal - Math Teacher  Extension 8    Sabrina Parilla | Lab Specialist  Extension 3    Angela Bright | Guidance  Extension 4    Ann Holland | Work-based Learning Coordinator  Extension 5    Kathy Nowak | Special Education  Extension 6    Brian Stiles | English Teacher - Testing Coordinator  Extension 7             Or use the form below:        Your Name:            Your Email:             Phone Number:            What can we assist you with?:                           Richland Two Charter High School  7900 Brookmont Lane  |  Columbia, SC 29203  |  Phone: (803)-419-1348 |  Fax: (803)-935-1212  Accessibility | © 2017 Richland School District Two            Original text Contribute a better translation                                     Explore       x:          Home    About Us    School Information    Lab Hours    Calendar    Frequently Asked Questions    Directions    Student Handbook    School Board    School Improvement Council      Contact Us    Leadership    News    Careers    Register Your Student     Follow Us      Traducciones ~ Translations ~ 번역      Richland Two Charter High School     Home  News  News    10/31/2017 - Fall Break Hours On November 20th and 21st, we'll close at 3 PM.\n",
      "No school November 22nd through the 24th.   8/30/2017 - R2i2 is offering Dual Credit courses for the 2017-2018 School Year Earn college credit while you complete high school!   3/1/2017 - Welcome to Our New Website! Sleek. Shiny. Built for the future. Just like us.         Richland Two Charter High School  7900 Brookmont Lane  |  Columbia, SC 29203  |  Phone: (803)-419-1348 |  Fax: (803)-935-1212  Accessibility | © 2017 Richland School District Two          Original text Contribute a better translation                                     Explore       x:          Home    About Us    School Information    Lab Hours    Calendar    Frequently Asked Questions    Directions    Student Handbook    School Board    School Improvement Council      Contact Us    Leadership    News    Careers    Register Your Student     Follow Us      Traducciones ~ Translations ~ 번역      Richland Two Charter High School     Home  Careers  Careers  Special Education Resource (LD certification required) Part-time  Employees of the Richland Two Charter High School will be members of the South Carolina State Retirement System and are eligible for South Carolina Employee Insurance Program benefits. All interested applicants should complete the forms at the bold green links below and return them to:   Dr. Perry D. Mills Sr. 7900 Brookmont Lane Columbia, SC 29203 phone: 803-419-1348 pmills@richland2.org   Application  References  Criminal History  Previous Address  Employee Handbook  Richland Two Charter High School is an equal opportunity employer and does not discriminate on the basis of race, color, creed, national origin, sex, age, handicap or disability in admission to access to, treatment in or employment in its programs and activities. Inquiries regarding the nondiscrimination policies should be made to: Chief Human Resources Officer; 763 Fashion Drive | Columbia, SC 29229; shwilliams@richland2.org; 803.738.3216         Richland Two Charter High School  7900 Brookmont Lane  |  Columbia, SC 29203  |  Phone: (803)-419-1348 |  Fax: (803)-935-1212  Accessibility | © 2017 Richland School District Two          Original text Contribute a better translation                                     Explore       x:          Home    About Us    School Information    Lab Hours    Calendar    Frequently Asked Questions    Directions    Student Handbook    School Board    School Improvement Council      Contact Us    Leadership    News    Careers    Register Your Student     Follow Us      Traducciones ~ Translations ~ 번역      Richland Two Charter High School     Home  Register Your Student  Register Your Student Registration is easy. Please check the links below, as the registration process differs depending on whether your student is coming from outside the district or not.  All students who are new to the district must register online . Please click the button below to register online.   If you were previously enrolled in a Richland Two school...   OR  If you are currently enrolled at a Richland Two school and would like to transfer to the Charter School...  Please download the Student Application by clicking the \"Student Application\" button. You'll need to print the application, complete it, and return it to the school.​ Please see our contact page for location information.           Richland Two Charter High School  7900 Brookmont Lane  |  Columbia, SC 29203  |  Phone: (803)-419-1348 |  Fax: (803)-935-1212  Accessibility | © 2017 Richland School District Two          Original text Contribute a better translation                                     Explore       x:          Home    About Us    School Information    Lab Hours    Calendar    Frequently Asked Questions    Directions    Student Handbook    School Board    School Improvement Council      Contact Us    Leadership    News    Careers    Register Your Student     Follow Us      Traducciones ~ Translations ~ 번역      Richland Two Charter High School     Home  Site Translations  Site Translations  Site Translations  The official language used for the content of the Richland School District Two website is English. A free translation service provided by Google is available through the links provided that offer immediate translation of our web pages using Google's software.  To translate the site please select a language from the dropdown box:       Select Language ​ ▼    Computerized translations are only an approximation of the website's original content. The translation should not be considered exact and in some cases may include incorrect or confusing language. In addition, some applications, files or items cannot be translated including graphs, photos or portable document formats (pdf). Richland Two cannot guarantee the accuracy, reliability or timeliness of any information translated by this system.  El idioma oficial utilizado para el contenido de la página web del Distrito Escolar Dos de Richland es Inglés. Un servicio de traducción gratuito proporcionado por Google está disponible a través de los enlaces proporcionados que ofrecen la traducción inmediata de nuestras páginas web utilizando el software de Google.  Traducciones automatizadas son solamente una aproximación del contenido original del sitio web. La traducción no se debe considerar exacta y en algunos casos puede incluir palabras incorrectas o frases confusas. Además, algunas aplicaciones, archivos o elementos no se pueden traducir incluyendo gráficos, fotos o formatos de documento portátil (PDF). Richland Dos no puede garantizar la exactitud, la fiabilidad o la puntualidad de cualquier información traducida por este sistema.         Richland Two Charter High School  7900 Brookmont Lane  |  Columbia, SC 29203  |  Phone: (803)-419-1348 |  Fax: (803)-935-1212  Accessibility | © 2017 Richland School District Two          Original text Contribute a better translation                                     Explore       x:          Home    About Us    School Information    Lab Hours    Calendar    Frequently Asked Questions    Directions    Student Handbook    School Board    School Improvement Council      Contact Us    Leadership    News    Careers    Register Your Student     Follow Us      Traducciones ~ Translations ~ 번역      Richland Two Charter High School     Home  News  News    10/31/2017 - Fall Break Hours On November 20th and 21st, we'll close at 3 PM.\n",
      "No school November 22nd through the 24th.   8/30/2017 - R2i2 is offering Dual Credit courses for the 2017-2018 School Year Earn college credit while you complete high school!   3/1/2017 - Welcome to Our New Website! Sleek. Shiny. Built for the future. Just like us.         Richland Two Charter High School  7900 Brookmont Lane  |  Columbia, SC 29203  |  Phone: (803)-419-1348 |  Fax: (803)-935-1212  Accessibility | © 2017 Richland School District Two          Original text Contribute a better translation                                     Explore       x:          Home    About Us    School Information    Lab Hours    Calendar    Frequently Asked Questions    Directions    Student Handbook    School Board    School Improvement Council      Contact Us    Leadership    News    Careers    Register Your Student     Follow Us      Traducciones ~ Translations ~ 번역      Richland Two Charter High School     Home  News  Fall Break Hours  Fall Break Hours  10/31/2017 Our hours will change for the Fall Break Holiday:  Monday, November 20th - Close at 3 PM Tuesday, November 21st - Close at 3 PM Wednesday, November 22nd - Closed Thursday, November 23rd - Closed Friday, November 24th - Closed        Richland Two Charter High School  7900 Brookmont Lane  |  Columbia, SC 29203  |  Phone: (803)-419-1348 |  Fax: (803)-935-1212  Accessibility | © 2017 Richland School District Two          Original text Contribute a better translation                                     Explore       x:          Home    About Us    School Information    Lab Hours    Calendar    Frequently Asked Questions    Directions    Student Handbook    School Board    School Improvement Council      Contact Us    Leadership    News    Careers    Register Your Student     Follow Us      Traducciones ~ Translations ~ 번역      Richland Two Charter High School     Home  News  R2i2 is offering Dual Credit courses for the 2017-2018 School Year  R2i2 is offering Dual Credit courses for the 2017-2018 School Year  8/30/2017  See below for lots more information about how you can get a head start on your post-high school experience!      What is Dual Enrollment?   Dual Enrollment is taking college classes while you are still in high school. Sometimes these classes can also count toward high school credits.  These courses can save you thousands of dollars in tuition costs;  And shorten the time it takes to earn a college degree.   Each year, hundreds of dedicated high school students take these courses through MTC’s Dual Enrollment program, and get a jump-start on their college education!  There are a few different options:   Work with your school to get approval to come to MTC and take Dual Enrollment classes on one of our six regional campuses.  Find out if you’re in a district where MTC faculty are already teaching courses in your high school.  Take Dual Enrollment courses that are available online.   Please see your high school guidance counselor to find out which option is best for you.  Who is Eligible?  If you are currently a high school junior or senior in the Midlands, then you are eligible to enroll in Dual Enrollment courses as long as you meet placement testing requirements. To be accepted into the Dual Enrollment program:   Apply to MTC using the Dual Enrollment Online Application .  Complete the Placement Test and place into the courses you wish to take.  Receive permission from high school principal/guidance counselor and parents.   Tuition and Fees  Students enrolled in MTC Dual Enrollment classes held at their high schools are responsible for the cost of their books. The cost of tuition and fees for MTC classes held on high school campuses is coordinated between the college and school district.  Students who enroll in courses held on MTC campuses are responsible for the cost of tuition, fees, and books.  *** If you take at least six college credit hours during a semester, that may reduce your tuition greatly by receiving South Carolina Lottery Tuition Assistance. ***  We’ll help you through the financial aid process, and you can find more information on the Lottery Tuition Assistance form .  What are the Advantages of Dual Enrollment courses?   Save money on college courses  Get exposure to a college atmosphere before graduating high school  Gain a wider range of course options for high school  Experience challenging coursework in a comfortable environment  Work closely with expert faculty   How to Become a Dual Enrollment Student  It only takes a few simple steps to enroll in the Dual Enrollment program and kick-start your college education!  If your high school hosts MTC courses on the high school campus, ask your guidance counselor how to proceed.  If your high school does not host MTC courses, complete the following steps:   Receive permission from your high school principal/counselor and parent/guardian.  Complete the online application .  Complete assessment testing to determine course placement. (Don’t worry – we’ll help you through this step!)  Schedule appointment with an MTC counselor for advisement and registration.   You have the opportunity to potentially graduate high school with a high school diploma AND an associate degree. Why not take advantage today?  Source: https://www.midlandstech.edu/learn/academics/middle-school-and-high-school/early-college           Richland Two Charter High School  7900 Brookmont Lane  |  Columbia, SC 29203  |  Phone: (803)-419-1348 |  Fax: (803)-935-1212  Accessibility | © 2017 Richland School District Two          Original text Contribute a better translation                                     Explore       x:          Home    About Us    School Information    Lab Hours    Calendar    Frequently Asked Questions    Directions    Student Handbook    School Board    School Improvement Council      Contact Us    Leadership    News    Careers    Register Your Student     Follow Us      Traducciones ~ Translations ~ 번역      Richland Two Charter High School     Home  News  Welcome to Our New Website!  Welcome to Our New Website!  3/1/2017 Find what you need to know--easier. After 7 years, we've updated to bring you a web presense that matches our modern educational ideals and meets the needs of mobile and desktop computing alike. Explore. We think you'll find the information you need in just a few clicks. If you don't, let us know at ch-info@richland2.org .        Richland Two Charter High School  7900 Brookmont Lane  |  Columbia, SC 29203  |  Phone: (803)-419-1348 |  Fax: (803)-935-1212  Accessibility | © 2017 Richland School District Two          Original text Contribute a better translation                                     Explore       x:          Home    About Us    School Information    Lab Hours    Calendar    Frequently Asked Questions    Directions    Student Handbook    School Board    School Improvement Council      Contact Us    Leadership    News    Careers    Register Your Student     Follow Us      Traducciones ~ Translations ~ 번역      Richland Two Charter High School     Home  School Information  Calendar  Calendar          Richland Two Charter High School  7900 Brookmont Lane  |  Columbia, SC 29203  |  Phone: (803)-419-1348 |  Fax: (803)-935-1212  Accessibility | © 2017 Richland School District Two          Original text Contribute a better translation                                     Explore       x:          Home    About Us    School Information    Lab Hours    Calendar    Frequently Asked Questions    Directions    Student Handbook    School Board    School Improvement Council      Contact Us    Leadership    News    Careers    Register Your Student     Follow Us      Traducciones ~ Translations ~ 번역      Richland Two Charter High School     Home  About Us  About Us    The Richland Two Charter High School was founded in 2010 for students looking for a modern approach to their high school learning experience. Students at the Charter School customize their education using our virtual curriculum and design a flexible attendance schedule to meet their individual needs. In 2013, the Charter School opened its doors to students in the 9th through 12th grade. Our extended hours of operation allow students the flexibility to work during the day and complete their coursework by taking advantage of our nighttime hours.  Our major advantage over other online schools is our faculty and staff. By employing a full time school counselor, English teacher, Math teacher, Work Based Learning Coordinator and Lab Specialist, students can ask questions and receive individualized attention.   Your Future Starts Now!      Blended Virtual High School Environment    9 th through 12 th Grades    Flexible School Day    Small School Experience    SC High School Diploma    Extra-Curricular Activities available at Home School    Exposure to Real World Careers    21st Century Learning Opportunities    Support from Local Business Partners            Richland Two Charter High School  7900 Brookmont Lane  |  Columbia, SC 29203  |  Phone: (803)-419-1348 |  Fax: (803)-935-1212  Accessibility | © 2017 Richland School District Two          Original text Contribute a better translation                                   Home  Page Not Found  Page Not Found  Oops, this page either doesn't exist or has gone missing.               Explore  Our Schools       x:          Home    I'm a Richland Two...    Student or Parent    Employee    Future Family    Community Member/Local Business    Prospective Employee      About Richland Two    About Us    Richland Two AdvancED Process    State of the District    District Awards    Calendar    Contact Us      Superintendent    Superintendent's Welcome    About Dr. Baron R. Davis    Assistant Superintendents for Schools    Board and Superintendent Goals    Priorities      School Board    Agenda    Board Policies    Boardsmanship    Meeting Schedule & Highlights    Members    Public Participation      Departments    Accountability and Grant Initiatives    Administrative Services    Registrar (Enrollment & Registration)    Business Services    Communications & Strategic Partnerships    Diversity & Multicultural Inclusion    Human Resources    Information Technology    Instructional Support Services    Operations    Planning    Teaching & Learning      News     Follow Us   Traducciones ~ Translations ~ 번역       Elementary Schools    Bethel-Hanberry    Bookman Road    Bridge Creek    Catawba Trail    Forest Lake Elementary    Jackson Creek    Joseph Keels    Killian    L.W. Conder Arts Integrated Magnet    Lake Carolina - Lower Campus    Lake Carolina - Upper Campus    Langford    Lonnie B. Nelson    North Springs    Polo Road    Pontiac    Rice Creek    Round Top    Sandlapper    Windsor      Middle Schools    Blythewood Middle    Dent Middle    E.L. Wright Middle    Kelly Mill Middle    Longleaf Middle    Muller Road Middle    Summit Parkway Middle      High Schools    Blythewood High    Richland Northeast High    Ridge View High    Spring Valley High    Westwood High      Magnet Schools and Centers    Blythewood Academy    Center for Child Development    Richland Two Institute of Innovation    Richland Two Charter High School    W.R. Rogers Center          About Two       Contact Us    Accessibility | © 2017 Richland School District Two          Original text Contribute a better translation                                     Home  Accessibility  Accessibility  Accessibility Policy  Richland School District Two is fully committed to providing information and services to the community that meet a variety of communication needs.  The district is continuously engaged in making improvements to this site to ensure everyone in our community has equal access to the tools and information provided on this site.  If you encounter accessibility issues with our site please contact us by phone at 803-787-1910 or by emailing webmaster@richland2.org . You may also use the following form to submit your issue. Please provide as much detail as possible about your issue.          Your Name:            Email:             Phone number:            Please describe the issue, being as detailed as possible to include the site and page you encountered the issue on:                                     Explore  Our Schools       x:          Home    I'm a Richland Two...    Student or Parent    Employee    Future Family    Community Member/Local Business    Prospective Employee      About Richland Two    About Us    Richland Two AdvancED Process    State of the District    District Awards    Calendar    Contact Us      Superintendent    Superintendent's Welcome    About Dr. Baron R. Davis    Assistant Superintendents for Schools    Board and Superintendent Goals    Priorities      School Board    Agenda    Board Policies    Boardsmanship    Meeting Schedule & Highlights    Members    Public Participation      Departments    Accountability and Grant Initiatives    Administrative Services    Registrar (Enrollment & Registration)    Business Services    Communications & Strategic Partnerships    Diversity & Multicultural Inclusion    Human Resources    Information Technology    Instructional Support Services    Operations    Planning    Teaching & Learning      News     Follow Us   Traducciones ~ Translations ~ 번역       Elementary Schools    Bethel-Hanberry    Bookman Road    Bridge Creek    Catawba Trail    Forest Lake Elementary    Jackson Creek    Joseph Keels    Killian    L.W. Conder Arts Integrated Magnet    Lake Carolina - Lower Campus    Lake Carolina - Upper Campus    Langford    Lonnie B. Nelson    North Springs    Polo Road    Pontiac    Rice Creek    Round Top    Sandlapper    Windsor      Middle Schools    Blythewood Middle    Dent Middle    E.L. Wright Middle    Kelly Mill Middle    Longleaf Middle    Muller Road Middle    Summit Parkway Middle      High Schools    Blythewood High    Richland Northeast High    Ridge View High    Spring Valley High    Westwood High      Magnet Schools and Centers    Blythewood Academy    Center for Child Development    Richland Two Institute of Innovation    Richland Two Charter High School    W.R. Rogers Center          About Two       Contact Us    Accessibility | © 2017 Richland School District Two             Original text Contribute a better translation                                  Inspiring Success  Learning | Character | Community | Joy Learn about the four squares to success      From the News Room View All News       R2 Parent Institute for Learning and Engagement Theme:  Connect. Learn. Grow. Richland Two is hosting its second Parent Institute for Learning and Engagement on November 8.        Connie May named principal of Sandlapper Elementary Ms. May becomes principal of Sandlapper Elementary effective January 1, 2018.        Sparkleberry Country Fair donated $25,000 for teacher grants Grant monies will help Richland Two teachers implement 40 projects on their wish lists.          Choice I Opens December 18, 2017 Learn more about the Choice Program, as well find information on upcoming Choice dates.   Click here for more info!     Connect. Learn. Grow with R2 Parent Institute Keeping young minds stimulated and actively engaged throughout the school year is critical. As a result, Richland School District Two is hosting its second Parent Institute for Learning and Engagement on Wednesday, November 8, from 6– 8 PM.  This event is designed to offer strategies and tips to support student growth and achievement. Click here for more info!     Upcoming Events View Calendar     15  NOV    School Board Meeting      22  NOV    Thanksgiving Break      28  NOV    Choice Fair      30  NOV    Navigating Special Education - Parent University      1  DEC    Early Dismissal for Elementary/Middle Schools      6  DEC    School Board Meeting       In partnership with our community, we develop global citizens of tomorrow — citizens who are prepared to lead and excel in their chosen pathways.       Explore  Our Schools       x:          Home    I'm a Richland Two...    Student or Parent    Employee    Future Family    Community Member/Local Business    Prospective Employee      About Richland Two    About Us    Richland Two AdvancED Process    State of the District    District Awards    Calendar    Contact Us      Superintendent    Superintendent's Welcome    About Dr. Baron R. Davis    Assistant Superintendents for Schools    Board and Superintendent Goals    Priorities      School Board    Agenda    Board Policies    Boardsmanship    Meeting Schedule & Highlights    Members    Public Participation      Departments    Accountability and Grant Initiatives    Administrative Services    Registrar (Enrollment & Registration)    Business Services    Communications & Strategic Partnerships    Diversity & Multicultural Inclusion    Human Resources    Information Technology    Instructional Support Services    Operations    Planning    Teaching & Learning      News     Follow Us   Traducciones ~ Translations ~ 번역       Elementary Schools    Bethel-Hanberry    Bookman Road    Bridge Creek    Catawba Trail    Forest Lake Elementary    Jackson Creek    Joseph Keels    Killian    L.W. Conder Arts Integrated Magnet    Lake Carolina - Lower Campus    Lake Carolina - Upper Campus    Langford    Lonnie B. Nelson    North Springs    Polo Road    Pontiac    Rice Creek    Round Top    Sandlapper    Windsor      Middle Schools    Blythewood Middle    Dent Middle    E.L. Wright Middle    Kelly Mill Middle    Longleaf Middle    Muller Road Middle    Summit Parkway Middle      High Schools    Blythewood High    Richland Northeast High    Ridge View High    Spring Valley High    Westwood High      Magnet Schools and Centers    Blythewood Academy    Center for Child Development    Richland Two Institute of Innovation    Richland Two Charter High School    W.R. Rogers Center          About Two       Contact Us    Accessibility | © 2017 Richland School District Two           Original text Contribute a better translation                                     Explore       x:          Home    About Us    School Information    Lab Hours    Calendar    Frequently Asked Questions    Directions    Student Handbook    School Board    School Improvement Council      Contact Us    Leadership    News    Careers    Register Your Student     Follow Us      Traducciones ~ Translations ~ 번역      Richland Two Charter High School     Home  School Information  School Information         Richland Two Charter High School  7900 Brookmont Lane  |  Columbia, SC 29203  |  Phone: (803)-419-1348 |  Fax: (803)-935-1212  Accessibility | © 2017 Richland School District Two          Original text Contribute a better translation                                     Explore       x:          Home    About Us    School Information    Lab Hours    Calendar    Frequently Asked Questions    Directions    Student Handbook    School Board    School Improvement Council      Contact Us    Leadership    News    Careers    Register Your Student     Follow Us      Traducciones ~ Translations ~ 번역      Richland Two Charter High School     Home  School Information  Lab Hours  Lab Hours  The Richland Two Charter High School is open for student use Monday through Thursday, 8:00 AM to 8:00 PM and Friday until 3:00 PM.  During Evening Hours, please keep in mind :    The lab will close at 7:10 PM if no students have arrived by that time.  Please arrive no later than 6:00 PM to take quizzes and tests.  Students will not be permitted to log on to a computer after 7:10 PM (this allows at least thirty 30 minutes to complete any work before having to log out by 7:45 PM).  The latest start time for a course exam is 6:45 PM (this allows a one-hour minimum per exam session as the length of exams varies from course to course).  Monday through Thursday, all computers must be shut down by 7:45 PM.  Fridays, all computers must be shut down by 2:45 PM.  Students working from home and have questions are encouraged call the computer lab at 803-419-1348. Please note that the lab in use may differ from night to night according to which staffer is attending. See the list below.      Evening Computer Lab Hours by Staff (4:00 PM to Close)​ ​ ​ ​      Monday    Tuesday    Wednesday    Thursday     Dr. Perry Mills, Sr. - Principal  Ann Holland - Work-Based Learning Coordinator​  Brian Stiles - English Teacher | Testing Coordinator​  Angela Bright - School Counselor    Dr. Mills available at 12 noon.  Ann Holland available at 12 noon.  Brian Stiles available at 12 noon.  Allen Upchurch - Math Teacher          Angela Bright and Allen Upchurch available at 12 noon.     ​         Richland Two Charter High School  7900 Brookmont Lane  |  Columbia, SC 29203  |  Phone: (803)-419-1348 |  Fax: (803)-935-1212  Accessibility | © 2017 Richland School District Two          Original text Contribute a better translation                                     Explore       x:          Home    About Us    School Information    Lab Hours    Calendar    Frequently Asked Questions    Directions    Student Handbook    School Board    School Improvement Council      Contact Us    Leadership    News    Careers    Register Your Student     Follow Us      Traducciones ~ Translations ~ 번역      Richland Two Charter High School     Home  School Information  Calendar  Calendar          Richland Two Charter High School  7900 Brookmont Lane  |  Columbia, SC 29203  |  Phone: (803)-419-1348 |  Fax: (803)-935-1212  Accessibility | © 2017 Richland School District Two          Original text Contribute a better translation                                     Explore       x:          Home    About Us    School Information    Lab Hours    Calendar    Frequently Asked Questions    Directions    Student Handbook    School Board    School Improvement Council      Contact Us    Leadership    News    Careers    Register Your Student     Follow Us      Traducciones ~ Translations ~ 번역      Richland Two Charter High School     Home  School Information  Frequently Asked Questions  Frequently Asked Questions  Where do I take my classes?  Classes are offered through the internet. We have partnered with Richland School District Two to provide your classes via the Virtual High School already established within the district. Students have access to our full-time English teacher, math tutor, and lab specialist.   Can I finish one subject area before starting another?  Your core classes will be tailored to your learning style with help from our highly certified teachers and staff to meet your learning needs. If that is how you learn best, then you can complete one class before taking the next.   How many students are you accepting?  We can enroll a maximum of 20 freshman, 20 sophomores, 40 juniors, and 40 seniors. (120 students maximum.) If there are more than 120 applicants then students will be chosen by lottery.   Do I pay tuition to attend the Richland Two Charter High School?  There is absolutely no tuition for attending Richland Two Charter High School.   What are the graduation requirements at the Richland Two Charter High School?  In addition to the South Carolina graduation requirements, all students must complete the entire sequence of the \"Leadership and Development\" courses, which are designed to provide soft skills training and offer internship opportunities. This course sequence must be completed in order to be eligible to graduate from the Richland Two Charter High School.   Will I get paid for my internship programs?  Some programs may have a salary associated with them, however, we do not guarantee that you will be paid for your internships.   Will I graduate with my class at my old high school?  You will be awarded a South Carolina High School Diploma upon your graduation and will graduate with the students at the Richland Two Charter High School, not at the high school that you were previously zoned for.         Richland Two Charter High School  7900 Brookmont Lane  |  Columbia, SC 29203  |  Phone: (803)-419-1348 |  Fax: (803)-935-1212  Accessibility | © 2017 Richland School District Two          Original text Contribute a better translation                                     Explore       x:          Home    About Us    School Information    Lab Hours    Calendar    Frequently Asked Questions    Directions    Student Handbook    School Board    School Improvement Council      Contact Us    Leadership    News    Careers    Register Your Student     Follow Us      Traducciones ~ Translations ~ 번역      Richland Two Charter High School     Home  School Information  Directions  Directions          Richland Two Charter High School  7900 Brookmont Lane  |  Columbia, SC 29203  |  Phone: (803)-419-1348 |  Fax: (803)-935-1212  Accessibility | © 2017 Richland School District Two          Original text Contribute a better translation                                     Explore       x:          Home    About Us    School Information    Lab Hours    Calendar    Frequently Asked Questions    Directions    Student Handbook    School Board    School Improvement Council      Contact Us    Leadership    News    Careers    Register Your Student     Follow Us      Traducciones ~ Translations ~ 번역      Richland Two Charter High School     Home  School Information  School Board  School Board  Richland Two Charter High School Board Information  2017-2018 Election Procedures:  If you're interested in joining the Richland Two Charter High School Board, please read our Board Responsibilities Document and Complete an Application . Applications should be completed and returned to CHS by October 6, 2017 at 5:00pm.   2016-2017 Election Results:  Sue Dillon, Audrey Ratchford, and Margaret Walden have been elected to serve two-year terms. Brenda Mack-Foxworth was appointed to serve a 2-year term. Ballots were due Tuesday, October 18 @ 4pm.   School Board Meeting Dates  Richland Two Charter High School 2016-2017 School Board Meeting Dates  Board meetings are usually the 3rd Monday evening of each month at 6:00 PM at the Richland Two Charter High School at Anna Boyd. A few of the dates have been changed from the 3rd Monday of the month due to conflicts with holidays. December, January, February and June meetings will be held on the 2nd Monday due to national/district holidays.   August 28, 2017  September 18, 2017  October 16, 2017  November 20, 2017  December 11, 2017 (2nd Monday; 3rd Monday is Winter Break)  January 8, 2018 (2nd Monday; 3rd Monday is a holiday)  February 12, 2018 (2nd Monday; 3rd Monday is a holiday)  March 19, 2018  April 16, 2018  May 21, 2018  June 11, 2018 (2nd Monday; 3rd Monday is Admin Professional Development)  July 16, 2018    Current Richland Two Charter High School Board Members   Sue Dillon  Wendi Griffith  Dr. Brenda Mack-Foxworth  Sherry Jackson  Dr. Sherrill \"Marty\" Martin  Audrey Ratchford  Margaret Walden   Non Voting Member:   Dr. Perry D. Mills, Sr., Principal    If you have questions, please contact Henry Lovett at 803-419-1348 or via email at hlovett@richland2.org .         Richland Two Charter High School  7900 Brookmont Lane  |  Columbia, SC 29203  |  Phone: (803)-419-1348 |  Fax: (803)-935-1212  Accessibility | © 2017 Richland School District Two          Original text Contribute a better translation                                     Explore       x:          Home    About Us    School Information    Lab Hours    Calendar    Frequently Asked Questions    Directions    Student Handbook    School Board    School Improvement Council      Contact Us    Leadership    News    Careers    Register Your Student     Follow Us      Traducciones ~ Translations ~ 번역      Richland Two Charter High School     Home  School Information  School Improvement Council  School Improvement Council We need your help! The School Improvement Council is a great way for parents to get involved in your child’s education!  We are currently looking for parents who are interested in joining the School Improvement Council for Richland Two Charter High School. If you are interested, please contact Henry Lovett at 419-1348, or via email at hlovett@richland2.org as soon as possible.        Richland Two Charter High School  7900 Brookmont Lane  |  Columbia, SC 29203  |  Phone: (803)-419-1348 |  Fax: (803)-935-1212  Accessibility | © 2017 Richland School District Two          Original text Contribute a better translation \n"
     ]
    }
   ],
   "source": [
    "website_all_text(data_loc)\n",
    "arjuntext = website_all_text(data_loc) #Example of Arjun's scraped text - all into one block\n",
    "print(arjuntext) "
   ]
  },
  {
   "cell_type": "code",
   "execution_count": 44,
   "metadata": {},
   "outputs": [
    {
     "name": "stdout",
     "output_type": "stream",
     "text": [
      "['international focus  thematic curriculum  artistic development  foreign language instruction  school-wide enrichment model', 'westlake charter school is a k-8th grade public elementary school created by parents and educators in natomas. we opened our doors in 2005 and continue to grow serving more and more students each year. wcs’s primary mission is to demonstrate what is possible when school and community collaborate to create inspiring adults with the academic and social-emotional readiness to lead as global citizens.  westlake charter school students are explorers! our curriculum focuses on diversity and appreciation of different cultures, while promoting academic excellence and foreign language acquisition. we offer various specialty classes to all of our students including art, physical education, and spanish. our middle school program focuses on math, science and technology and is executed through the use of technology. westlake charter school has small class sizes of approximately 22-24 students in k-3rd grade and 29 students in 4th-8th grade.  first time visitors to westlake charter school often remark, “what a warm and inviting school!” creating a school that is caring and open is absolutely critical in working successfully with our children and families. students who feel safe, secure, and appreciated gain a love of learning and will be successful scholars.  westlake charter school’s professional staff is relentless in seeking and trying research-based best practices that engage every student. our lessons are hands-on and differentiated to meet the diverse needs of all students. our teachers display a never-ending commitment to improving their own expertise. furthermore, we would not be as successful without the support and involvement of our parents. our parent group is outstanding in helping us achieve our goals by volunteering their time in class, fundraising for our unique programs, and providing endless words of encouragement and support. our school team is second to none!', 'core values', 'respect  excellence  responsibility  reflective  global perspective  stewardship  perseverance  inquisitive  joyful learning  gratitude']\n"
     ]
    }
   ],
   "source": [
    "westlaketext = \"Contact Us: 2680 Mabry Dr. 95835 (916) 567-5760 | admin@westlakecharter.com      Staff Login                  About   Administration & Support Staff  Employment Opportunities  Business Services  Admission & Enrollment Information  Supply Donations  Hot Lunch Payments  Hot Lunch Menu    Board   Board Policies  Board Committees  Board Documents    WCS   Infinite Campus Login  School Dismissal Manager  Ways to Westlake    Teachers  BASE  WAVE   Meetings  Contact Us  Volunteer Opportunities  Volunteer Hours  Log Volunteer Hours  Spirit Store    Calendars   17/18 School Calendar                           About          About  Aimee Wells  2013-09-18T18:36:35+00:00   About Westlake Charter Schools  Key School Features   International Focus  Thematic Curriculum  Artistic Development  Foreign Language Instruction  School-Wide Enrichment Model   Core Values   Respect  Excellence  Responsibility  Reflective  Global Perspective  Stewardship  Perseverance  Inquisitive  Joyful Learning  Gratitude    Calendars, Schedules, Handbooks and More   Family Handbook  2017/18 School Calendar  2017/18 Bell Schedule  WCS Charter  Strategic Plan      Westlake Charter School is a K-8th grade public elementary school created by parents and educators in Natomas. We opened our doors in 2005 and continue to grow serving more and more students each year. WCS’s primary mission is to demonstrate what is possible when school and community collaborate to create inspiring adults with the academic and social-emotional readiness to lead as Global Citizens.  Westlake Charter School students are EXPLORERS! Our curriculum focuses on diversity and appreciation of different cultures, while promoting academic excellence and foreign language acquisition. We offer various specialty classes to all of our students including Art, Physical Education, and Spanish. Our middle school program focuses on Math, Science and Technology and is executed through the use of technology. Westlake Charter School has small class sizes of approximately 22-24 students in K-3rd grade and 29 students in 4th-8th grade.  First time visitors to Westlake Charter School often remark, “What a warm and inviting school!” Creating a school that is caring and open is absolutely critical in working successfully with our children and families. Students who feel safe, secure, and appreciated gain a love of learning and will be successful scholars.  Westlake Charter School’s professional staff is relentless in seeking and trying research-based best practices that engage every student. Our lessons are hands-on and differentiated to meet the diverse needs of all students. Our teachers display a never-ending commitment to improving their own expertise. Furthermore, we would not be as successful without the support and involvement of our parents. Our parent group is outstanding in helping us achieve our goals by volunteering their time in class, fundraising for our unique programs, and providing endless words of encouragement and support. Our school team is second to none!         Recent        Westlake Weekly – November 9, 2017  November 9th, 2017      Westlake Weekly – November 3, 2017  November 3rd, 2017      Westlake Weekly – October 27, 2017  October 27th, 2017      Westlake Weekly – October 20, 2017  October 20th, 2017      Westlake Weekly – October 6th, 2017  October 6th, 2017      Westlake Weekly – September 29, 2017  September 29th, 2017                     Contact Info   2680 Mabry Dr. 95835  Phone: (916) 567-5760  Fax: (916) 567-5769  Email: admin@westlakecharter.com         Copyright 2015 Westlake Charter | All Rights Reserved | Contact Us \"\n",
    "westlakelist = filterwebsite(westlaketext)\n",
    "print(westlakelist)"
   ]
  },
  {
   "cell_type": "code",
   "execution_count": 92,
   "metadata": {},
   "outputs": [
    {
     "data": {
      "text/plain": [
       "['westlake charter school is a k-8th grade public elementary school created by parents and educators in natomas. we opened our doors in 2005 and continue to grow serving more and more students each year. wcs’s primary mission is to demonstrate what is possible when school and community collaborate to create inspiring adults with the academic and social-emotional readiness to lead as global citizens.  westlake charter school students are explorers! our curriculum focuses on diversity and appreciation of different cultures, while promoting academic excellence and foreign language acquisition. we offer various specialty classes to all of our students including art, physical education, and spanish. our middle school program focuses on math, science and technology and is executed through the use of technology. westlake charter school has small class sizes of approximately 22-24 students in k-3rd grade and 29 students in 4th-8th grade.  first time visitors to westlake charter school often remark, “what a warm and inviting school!” creating a school that is caring and open is absolutely critical in working successfully with our children and families. students who feel safe, secure, and appreciated gain a love of learning and will be successful scholars.  westlake charter school’s professional staff is relentless in seeking and trying research-based best practices that engage every student. our lessons are hands-on and differentiated to meet the diverse needs of all students. our teachers display a never-ending commitment to improving their own expertise. furthermore, we would not be as successful without the support and involvement of our parents. our parent group is outstanding in helping us achieve our goals by volunteering their time in class, fundraising for our unique programs, and providing endless words of encouragement and support. our school team is second to none!',\n",
       " 'core values',\n",
       " 'respect  excellence  responsibility  reflective  global perspective  stewardship  perseverance  inquisitive  joyful learning  gratitude']"
      ]
     },
     "execution_count": 92,
     "metadata": {},
     "output_type": "execute_result"
    }
   ],
   "source": [
    "school_dict = score_and_categorize(westlakelist)\n",
    "school_dict['philosophy']"
   ]
  },
  {
   "cell_type": "markdown",
   "metadata": {},
   "source": []
  }
 ],
 "metadata": {
  "kernelspec": {
   "display_name": "Python 3",
   "language": "python",
   "name": "python3"
  },
  "language_info": {
   "codemirror_mode": {
    "name": "ipython",
    "version": 3
   },
   "file_extension": ".py",
   "mimetype": "text/x-python",
   "name": "python",
   "nbconvert_exporter": "python",
   "pygments_lexer": "ipython3",
   "version": "3.6.2"
  }
 },
 "nbformat": 4,
 "nbformat_minor": 2
}
