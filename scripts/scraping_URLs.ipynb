{
 "cells": [
  {
   "cell_type": "code",
   "execution_count": 10,
   "metadata": {
    "collapsed": true
   },
   "outputs": [],
   "source": [
    "#!/usr/bin/env python\n",
    "# -*- coding: UTF-8"
   ]
  },
  {
   "cell_type": "markdown",
   "metadata": {},
   "source": [
    "# Google search using Python\n",
    "> See [here](http://pythonhosted.org/google/) for documentation and [here](https://pypi.python.org/pypi/google) for source code."
   ]
  },
  {
   "cell_type": "markdown",
   "metadata": {},
   "source": [
    "## Initializing the Python environment"
   ]
  },
  {
   "cell_type": "code",
   "execution_count": 11,
   "metadata": {
    "collapsed": true
   },
   "outputs": [],
   "source": [
    "# IMPORTING KEY PACKAGES\n",
    "from google import search\n",
    "import csv, re, os"
   ]
  },
  {
   "cell_type": "markdown",
   "metadata": {},
   "source": [
    "## Testing out the search function"
   ]
  },
  {
   "cell_type": "code",
   "execution_count": 3,
   "metadata": {
    "collapsed": false,
    "scrolled": true
   },
   "outputs": [
    {
     "name": "stdout",
     "output_type": "stream",
     "text": [
      "Help on function search in module google:\n",
      "\n",
      "search(query, tld='com', lang='en', tbs='0', safe='off', num=10, start=0, stop=None, pause=2.0, only_standard=False, extra_params={}, tpe='', user_agent=None)\n",
      "    Search the given query string using Google.\n",
      "    \n",
      "    @type  query: str\n",
      "    @param query: Query string. Must NOT be url-encoded.\n",
      "    \n",
      "    @type  tld: str\n",
      "    @param tld: Top level domain.\n",
      "    \n",
      "    @type  lang: str\n",
      "    @param lang: Languaje.\n",
      "    \n",
      "    @type  tbs: str\n",
      "    @param tbs: Time limits (i.e \"qdr:h\" => last hour, \"qdr:d\" => last 24 hours, \"qdr:m\" => last month).\n",
      "    \n",
      "    @type  safe: str\n",
      "    @param safe: Safe search.\n",
      "    \n",
      "    @type  num: int\n",
      "    @param num: Number of results per page.\n",
      "    \n",
      "    @type  start: int\n",
      "    @param start: First result to retrieve.\n",
      "    \n",
      "    @type  stop: int\n",
      "    @param stop: Last result to retrieve.\n",
      "        Use C{None} to keep searching forever.\n",
      "    \n",
      "    @type  pause: float\n",
      "    @param pause: Lapse to wait between HTTP requests.\n",
      "        A lapse too long will make the search slow, but a lapse too short may\n",
      "        cause Google to block your IP. Your mileage may vary!\n",
      "    \n",
      "    @type  only_standard: bool\n",
      "    @param only_standard: If C{True}, only returns the standard results from\n",
      "        each page. If C{False}, it returns every possible link from each page,\n",
      "        except for those that point back to Google itself. Defaults to C{False}\n",
      "        for backwards compatibility with older versions of this module.\n",
      "    \n",
      "    @type  extra_params: dict\n",
      "    @param extra_params: A dictionary of extra HTTP GET parameters, which must be URL encoded.\n",
      "        For example if you don't want google to filter similar results you can set the extra_params to\n",
      "        {'filter': '0'} which will append '&filter=0' to every query.\n",
      "    \n",
      "    @type  tpe: str\n",
      "    @param tpe: Search type (images, videos, news, shopping, books, apps)\n",
      "            Use the following values {videos: 'vid', images: 'isch', news: 'nws',\n",
      "                                      shopping: 'shop', books: 'bks', applications: 'app'}\n",
      "    \n",
      "    @type  user_agent: str\n",
      "    @param user_agent: User agent for the HTTP requests. Use C{None} for the default.\n",
      "    \n",
      "    @rtype:  generator\n",
      "    @return: Generator (iterator) that yields found URLs. If the C{stop}\n",
      "        parameter is C{None} the iterator will loop forever.\n",
      "\n"
     ]
    }
   ],
   "source": [
    "help(search)"
   ]
  },
  {
   "cell_type": "code",
   "execution_count": 4,
   "metadata": {
    "collapsed": false,
    "scrolled": true
   },
   "outputs": [
    {
     "name": "stdout",
     "output_type": "stream",
     "text": [
      "https://www.trulia.com/schools/AZ-Mesa/Benjamin_Franklin_Charter_School_-_Mesa/\n",
      "http://www.ade.az.gov/edd/NewDetails.asp?EntityID=5536&RefTypeID=1035\n",
      "http://www.ratemyteachers.com/benjamin-franklin-charter-school-mesa/500425-s\n",
      "https://www.schooldigger.com/go/AZ/schools/0006500821/school.aspx\n",
      "https://www.spellingcity.com/benjamin-franklin-charter-school-mesa-mesa-az.html\n",
      "https://www.mapquest.com/us/arizona/schools-mesa/franklin-benjamin-charter-school-345471093\n",
      "https://www.yelp.com/biz/franklin-benjamin-charter-school-mesa\n",
      "https://www.publicschoolreview.com/benjamin-franklin-charter-school-mesa-profile\n",
      "https://www.noodle.com/schools/az-benjamin-franklin-charter-school_district\n",
      "https://www.neighborhoodscout.com/az/mesa/schools/040006500821\n"
     ]
    }
   ],
   "source": [
    "# Example of using the function:\n",
    "for url in search('BENJAMIN FRANKLIN CHARTER SCHOOL MESA 2345 NORTH HORNE, MESA, AZ', \\\n",
    "                  stop=5, pause=1):\n",
    "    print(url)"
   ]
  },
  {
   "cell_type": "markdown",
   "metadata": {},
   "source": [
    "## Configuring search environment"
   ]
  },
  {
   "cell_type": "code",
   "execution_count": 5,
   "metadata": {
    "collapsed": false,
    "scrolled": true
   },
   "outputs": [
    {
     "name": "stdout",
     "output_type": "stream",
     "text": [
      "['high-schools.com', 'yelp.com', 'har.com', 'trulia.com', 'redfin.com', 'practutor.com', 'startclass.com', 'greatschools.org', 'greatschools.com', 'greatschools.net', 'paschoolperformance.org', 'worldcontactinfo.com', 'kula.com', 'mapquest.com', 'maps.net', 'google.com', 'facebook.com', 'zillow.com', 'manta.com', 'yellowpages.com', 'usnews.com', 'publicschoolreview.com', 'publicschoolreview.org', 'schooldigger.com', 'niche.com', 'privateschoolreview.com', 'cappex.com', 'collegeconfidential.com', 'tripsadvisor.com', 'groupon.com', 'school-ratings.com', 'superpages.com', 'onsaleph.com', 'psk12.com', 'schoolmatters.com', 'neighborhoodscout.com', 'localschooldirectory.com', 'publicschoolsk12.com', 'schooldatadirect.org', 'nces.ed.gov', 'cityrating.com', 'blogspot.com', 'public-schools.findthebest.com', 'twitter.com', 'zoominfo.com', 'jigsaw.com', 'hoovers.com', 'corporateinformation.com', 'doe.k12.ga.us', 'gradeschools.net', 'charterschoolratings.net', 'schools.net', 'insiderpages.com', 'parentstown.com', 'freepreschools.org', 'fresno.schools.net', 'baldwin.school.org', 'illinoisschools.com', 'seattleprogressiveschools.org', 'schoolchoiceintl.com', 'ratemyteachers.com']\n"
     ]
    }
   ],
   "source": [
    "# Here's a list of sites we DON'T want to spider, \n",
    "# but that an automated Google search might return...\n",
    "# and we might thus accidentally spider unless we filter them out (as below)!\n",
    "\n",
    "bad_sites = []\n",
    "with open(\"../bad_sites.csv\", \"r\", encoding = \"utf-8\") as csvfile:\n",
    "    for row in csvfile:\n",
    "        bad_sites.append(re.sub(\"\\n\", \"\", row))\n",
    "\n",
    "print(bad_sites)"
   ]
  },
  {
   "cell_type": "markdown",
   "metadata": {},
   "source": [
    "## Helpful bash-fu"
   ]
  },
  {
   "cell_type": "code",
   "execution_count": 3,
   "metadata": {
    "collapsed": false
   },
   "outputs": [
    {
     "name": "stdout",
     "output_type": "stream",
     "text": [
      "^C\r\n"
     ]
    }
   ],
   "source": [
    "!cat > bad_sites"
   ]
  },
  {
   "cell_type": "code",
   "execution_count": null,
   "metadata": {
    "collapsed": true
   },
   "outputs": [],
   "source": [
    "  114  cat > testlist.txt\n",
    "  115  cat testlist.txt \n",
    "  116  for i in $(cat testlist.txt | head -n 4); do echo $i; done\n",
    "  117  for i in $(cat testlist.txt | head -n 4); do echo wget --exclude-domains=$(echo $(cat ../Charter-school-identities/bad_sites.txt  ) | tr ' ' ,) $i; done\n",
    "  118  for i in $(cat testlist.txt | head -n 4); do echo wget --exclude-domains=$(echo $(cat ../Charter-school-identities/bad_sites.txt  ) | tr ' ' ,) $i; echo; echo; done\n",
    "  119  for i in $(cat testlist.txt | head -n 4); do wget --exclude-domains=$(echo $(cat ../Charter-school-identities/bad_sites.txt  ) | tr ' ' ,) $i; done\n",
    "  120  ls -la\n",
    "  121  rm -f 500425-s 55362003.pdf franklin-benjamin-charter-school-mesa index.html \n",
    "  122* for i in $(cat testlist.txt | head -n 4); do wget --mirror --exclude-domains=$(echo $(cat ../Charter-school-identities/bad_sites.txt  ) | tr ' ' ,) $i; done"
   ]
  },
  {
   "cell_type": "markdown",
   "metadata": {},
   "source": [
    "## Reading in data"
   ]
  },
  {
   "cell_type": "code",
   "execution_count": 6,
   "metadata": {
    "collapsed": true
   },
   "outputs": [],
   "source": [
    "sample = [] # make empty list to store the dictionaries in\n",
    "with open('../charter_URLs_Apr17.csv', 'r', encoding = 'Latin-1')\\\n",
    "as csvfile: # open file                      \n",
    "    reader = csv.DictReader(csvfile) # create a reader\n",
    "    for row in reader: # loop through rows\n",
    "        sample.append(row) # append each row to the list"
   ]
  },
  {
   "cell_type": "code",
   "execution_count": 7,
   "metadata": {
    "collapsed": false,
    "scrolled": false
   },
   "outputs": [
    {
     "name": "stdout",
     "output_type": "stream",
     "text": [
      "POLK STATE COLLEGE COLLEGIATE HIGH SCHOOL 3425 WINTER LK RD LAC1200, WINTER HAVEN, FL 33881 \n",
      " https://www.polk.edu/charter-high-schools/ \n",
      "\n",
      "dict_keys(['STABR', 'NCESSCH', 'OLD_URL', 'SCH_NAME', 'SEARCH', 'ADDRESS', 'MANUAL_URL'])\n"
     ]
    }
   ],
   "source": [
    "# Take a look at the first entry's contents and the variables list in our sample (a list of dictionaries)\n",
    "print(sample[1]['SEARCH'], \"\\n\", sample[1][\"OLD_URL\"], \"\\n\")\n",
    "print(sample[1].keys())"
   ]
  },
  {
   "cell_type": "markdown",
   "metadata": {},
   "source": [
    "## Getting URLs"
   ]
  },
  {
   "cell_type": "code",
   "execution_count": 70,
   "metadata": {
    "collapsed": true
   },
   "outputs": [],
   "source": [
    "def getURL(search_terms, bad_sites_list, manual_url, known_urls):\n",
    "    \n",
    "    '''This function finds the one best URL for a school\n",
    "    using a Google search of the school's name and address (stored in the SEARCH variable).\n",
    "    It excludes URLs with any of the 61 bad_sites defined above, e.g. trulia.com, \n",
    "    greatschools.org, mapquest. It returns the number of excluded URLs and the first non-bad \n",
    "    URL discovered--or the already-collected manual_URL, which has already been documented.'''\n",
    "    \n",
    "    new_urls = []   # start with empty list\n",
    "    k = 0 # initialize counter\n",
    "    print(\"\\nGetting URL for\", search_terms)  # show school name & address\n",
    "    \n",
    "    new_urls = list(search(search_terms, num=10, pause=1, stop=10)) # grab first 10 Google results (URLs)\n",
    "    \n",
    "    '''for url in new_urls:\n",
    "        new_urls.remove(url) if url==badsite for badsite in badsites_list\n",
    "        if url = new_urls[0]:\n",
    "            k += 1'''\n",
    "    \n",
    "    for badsite in bad_sites_list: # loop through bad sites list\n",
    "        \n",
    "        '''while badsite in new_urls[0]:\n",
    "            k += 1\n",
    "            new_urls.remove(new_urls[0])\n",
    "            pass'''\n",
    "            \n",
    "        for url in new_urls: # loop through 10 search results\n",
    "            if badsite in url:\n",
    "                new_urls.remove(url) # Remove any search results that have a bad site url in them\n",
    "                k+=1\n",
    "    \n",
    "    \n",
    "    #if k>2: # Print this warning if any bad sites have been detected (and deleted)\n",
    "    #    print(\"WARNING!! CHECK THIS URL!: \" + new_urls[0] + \\\n",
    "    #          \"\\n\" + str(k) + \" bad Google results have been omitted.\")\n",
    "\n",
    "    if k>1:\n",
    "        print(str(k) + \" bad Google results have been omitted.\")\n",
    "        \n",
    "    elif k>0:\n",
    "        print(str(k) + \" bad Google result has been omitted.\")\n",
    "    \n",
    "    else: \n",
    "        print(\"No bad sites detected.\")\n",
    "\n",
    "        \n",
    "    if manual_url != \"\":\n",
    "        print(\"VALIDITY CHECK: Is the discovered URL of \" + new_urls[0] + \\\n",
    "              \" consistent with the known URL of \" + manual_url + \" ?\")\n",
    "        known_urls.append(manual_url)\n",
    "        return(k, manual_url)\n",
    "    \n",
    "    else:\n",
    "        known_urls.append(new_urls[0])\n",
    "        return(k, new_urls[0])"
   ]
  },
  {
   "cell_type": "code",
   "execution_count": 71,
   "metadata": {
    "collapsed": false
   },
   "outputs": [
    {
     "name": "stdout",
     "output_type": "stream",
     "text": [
      "\n",
      "Getting URL for Richland Two Charter High 750 Old Clemson Road, Columbia, SC 29229\n",
      "7 bad Google results have been omitted.\n",
      "VALIDITY CHECK: Is the discovered URL of https://www.richland2.org/aec consistent with the known URL of https://www.richland2.org/charterhigh/ ?\n",
      "\n",
      "Getting URL for POLK STATE COLLEGE COLLEGIATE HIGH SCHOOL 3425 WINTER LK RD LAC1200, WINTER HAVEN, FL 33881\n",
      "4 bad Google results have been omitted.\n",
      "VALIDITY CHECK: Is the discovered URL of http://www.ncsasports.org/football-recruiting/florida/winter-haven/polk-state-college-collegiate-high-school consistent with the known URL of https://www.polk.edu/lakeland-gateway-to-college-high-school/ ?\n",
      "\n",
      "Getting URL for River City Scholars Charter Academy 944 Evergreen Street, Grand Rapids, MI 49507\n",
      "7 bad Google results have been omitted.\n",
      "VALIDITY CHECK: Is the discovered URL of https://www.nhaschools.com/schools/rivercity consistent with the known URL of https://www.nhaschools.com/schools/rivercity/Pages/default.aspx ?\n",
      "\n",
      "Getting URL for Detroit Enterprise Academy 11224 KERCHEVAL ST, DETROIT, MI 48214\n",
      "6 bad Google results have been omitted.\n",
      "VALIDITY CHECK: Is the discovered URL of https://www.nhaschools.com/schools/detroitenterprise consistent with the known URL of https://www.nhaschools.com/schools/detroitenterprise ?\n",
      "\n",
      "Getting URL for MINISINAAKWAANG LEADERSHIP ACADEMY 20930 367TH LN, MCGREGOR, MN 55760\n",
      "4 bad Google results have been omitted.\n",
      "VALIDITY CHECK: Is the discovered URL of https://www.trulia.com/school-district/MN-Aitkin_County/Minisinaakwaang_Leadership_Academy/ consistent with the known URL of https://www.minisacademy.org ?\n",
      "\n",
      "Getting URL for Lighthouse Community Sch Inc 6100 Desmond St, Cincinnati, OH 45227\n",
      "7 bad Google results have been omitted.\n",
      "VALIDITY CHECK: Is the discovered URL of https://www.lys.org/services/lighthouse-community-school/ consistent with the known URL of https://www.lys.org/services/lighthouse-community-school/ ?\n",
      "\n",
      "Getting URL for Westlake Charter Middle 1985 Pebblewood Dr., Sacramento, CA 95834\n",
      "2 bad Google results have been omitted.\n",
      "VALIDITY CHECK: Is the discovered URL of https://westlakecharter.com/ consistent with the known URL of https://westlakecharter.com ?\n",
      "\n",
      "Getting URL for Van Gogh Charter 17160 Van Gogh St., Granada Hills, CA 91344\n",
      "6 bad Google results have been omitted.\n",
      "VALIDITY CHECK: Is the discovered URL of https://vangoghcs-lausd-ca.schoolloop.com/ consistent with the known URL of https://vangoghcs-lausd-ca.schoolloop.com/ ?\n",
      "\n",
      "Getting URL for Summit Academy Transition High School Dayton 251 Erdiel Dr, Dayton, OH 45415\n",
      "5 bad Google results have been omitted.\n",
      "VALIDITY CHECK: Is the discovered URL of https://summitacademies.org/schools/dayton-high/ consistent with the known URL of https://summitacademies.org/schools/dayton-high/ ?\n",
      "\n",
      "Getting URL for WESTCHESTER ACADEMY FOR INTERNATIONAL STUDIES 901 YORKCHESTER, HOUSTON, TX 77079\n",
      "7 bad Google results have been omitted.\n",
      "VALIDITY CHECK: Is the discovered URL of https://cms.springbranchisd.com/wais/ consistent with the known URL of https://cms.springbranchisd.com/wais/ ?\n",
      "\n",
      "\n",
      "URLs discovered for 10 schools.\n"
     ]
    }
   ],
   "source": [
    "numschools = 0 # initialize school counter\n",
    "known_URLs = [] # initialize list of known URLs\n",
    "\n",
    "for school in sample[:10]: # loop through list of schools\n",
    "    numschools += 1\n",
    "    school[\"BAD_URLS\"], school[\"URL\"] = \"\", \"\" # start with empty strings\n",
    "    school[\"BAD_URLS\"], school[\"URL\"] = getURL(school[\"SEARCH\"], bad_sites, school[\"MANUAL_URL\"], known_URLs)\n",
    "\n",
    "print(\"\\n\\nURLs discovered for \" + str(numschools) + \" schools.\")\n",
    "\n",
    "print(\"\\nThe list of known URLs is now: \\n\" + str(known_URLs))"
   ]
  },
  {
   "cell_type": "code",
   "execution_count": null,
   "metadata": {
    "collapsed": true
   },
   "outputs": [],
   "source": [
    "# SAVE IT"
   ]
  }
 ],
 "metadata": {
  "kernelspec": {
   "display_name": "Python 3",
   "language": "python",
   "name": "python3"
  },
  "language_info": {
   "codemirror_mode": {
    "name": "ipython",
    "version": 3
   },
   "file_extension": ".py",
   "mimetype": "text/x-python",
   "name": "python",
   "nbconvert_exporter": "python",
   "pygments_lexer": "ipython3",
   "version": "3.5.2"
  }
 },
 "nbformat": 4,
 "nbformat_minor": 2
}
