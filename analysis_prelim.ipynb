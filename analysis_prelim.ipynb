{
 "cells": [
  {
   "cell_type": "markdown",
   "metadata": {},
   "source": [
    "## Initializing the Python environment"
   ]
  },
  {
   "cell_type": "code",
   "execution_count": 1,
   "metadata": {
    "collapsed": true
   },
   "outputs": [],
   "source": [
    "#!/usr/bin/env python\n",
    "# -*- coding: UTF-8"
   ]
  },
  {
   "cell_type": "code",
   "execution_count": 2,
   "metadata": {
    "collapsed": true
   },
   "outputs": [],
   "source": [
    "# IMPORTING KEY PACKAGES\n",
    "import csv # for reading in CSVs and turning them into dictionaries\n",
    "import nltk # for natural language processing tools\n",
    "import pandas # for working with dataframes\n",
    "import numpy as np # for working with numbers\n",
    "import matplotlib.pyplot as plt # for visualizations"
   ]
  },
  {
   "cell_type": "code",
   "execution_count": 3,
   "metadata": {
    "collapsed": false
   },
   "outputs": [],
   "source": [
    "# FOR CLEANING THE TEXT\n",
    "from nltk.corpus import stopwords # for one method of eliminating stop words, to clean the text\n",
    "stopenglish = list(stopwords.words(\"english\")) # assign the string of english stopwords to a variable and turn it into a list\n",
    "import string # for one method of eliminating punctuation\n",
    "punctuations = list(string.punctuation) # assign the string of common punctuation symbols to a variable and turn it into a list\n",
    "from nltk import word_tokenize # for tokenizing the text"
   ]
  },
  {
   "cell_type": "markdown",
   "metadata": {},
   "source": [
    "## Reading in data two ways: list of dictionaries and pandas dataframe"
   ]
  },
  {
   "cell_type": "markdown",
   "metadata": {},
   "source": [
    "In order to work with different kinds of analyses, I'll read in the preliminary data set (currently a CSV file) so it's available as both a list dictionaries and a dataframe.\n",
    "\n",
    "It's worth noting that out of the 196 schools for which this data has web text, only about half were randomly selected. The other half I tracked down because they were missing URLs--and some of these were even closed, so I could only find website self-descriptions by using the Internet Archive. In other words, closed schools are over-represented in this early stage sample, so these results should be taken lightly."
   ]
  },
  {
   "cell_type": "code",
   "execution_count": 4,
   "metadata": {
    "collapsed": false
   },
   "outputs": [],
   "source": [
    "sample = [] # make empty list\n",
    "with open('../data/mission_data_prelim.csv', 'r', encoding = 'Latin-1')\\\n",
    "as csvfile: # open file                      \n",
    "    reader = csv.DictReader(csvfile) # create a reader\n",
    "    for row in reader: # loop through rows\n",
    "        sample.append(row) # append each row to the list"
   ]
  },
  {
   "cell_type": "code",
   "execution_count": 5,
   "metadata": {
    "collapsed": false,
    "scrolled": true
   },
   "outputs": [
    {
     "name": "stdout",
     "output_type": "stream",
     "text": [
      "THE ACADEMIES AT JONESBORO HIGH SCHOOL \n",
      " http://www.jonesboroschools.net/schools/academies_at_jonesboro_high_school \n",
      " The mission of the Academies at Jonesboro High School is to provide a high quality, research-based education for all students in order to equip them with the essential skills necessary to be successful in todayÕs changing global community. Through strong partnerships with business and community stakeholders, the Academies at Jonesboro High School will ensure high achievement in all subjects through an expanded curriculum and the use of data-driven methods to evaluate and implement proven instructional strategies. The Academies at JHS will foster respect for global diversity and maintain a commitment to create exceptional opportunities for the educational growth of every child.  Excellence is our Standard, not our Goal, for All Students   \n",
      "\n",
      "dict_keys(['AM05M', 'BL10M', 'LEVEL', 'HP09M', 'HP05F', 'HIUGM', 'SPFEMALE', 'WEBTEXT', 'BL06F', 'TR11M', 'AS11F', 'WH01M', 'WH04M', 'LZIP4', 'TR07F', 'AM08M', 'HI05M', 'AM03F', 'AM', 'HPUGM', 'WHUGM', 'BIES', 'WH04F', 'WH08M', 'BLPKM', 'MZIP4', 'WH03F', 'WH05M', 'PK', 'HP07M', 'HI01F', 'AM12M', 'G07', 'AMALF', 'TR04F', 'G03', 'SCHNAM', 'G07OFFRD', 'HI10M', 'AM08F', 'MCITY', 'HI09F', 'TR01F', 'G04', 'WH06M', 'AM11M', 'G09OFFRD', 'ASUGF', 'G12OFFRD', 'TR05F', 'TRALF', 'HP12F', 'ISFTEPUP', 'UGOFFRD', 'MEMBER', 'WH08F', 'G08', 'AS11M', 'HP09F', 'CHARTAUTH1', 'BL04F', 'FRELCH', 'TYPE', 'BL09F', 'HI07F', 'REDLCH', 'GSLO', 'BLUGM', 'HI06F', 'TR06F', 'G01OFFRD', 'BL11M', 'TRUGF', 'WH07F', 'TR04M', 'AMKGM', 'AM01F', 'TR06M', 'LEANM', 'AMPKM', 'NSLPSTATUS', 'AS04F', 'AM09F', 'AM07F', 'SPELM', 'TR03M', 'BL08F', 'WH06F', 'HP04F', 'WHKGF', 'G04OFFRD', 'BLALM', 'ADDRESS', 'HI03M', 'AMALM', 'BLACK', 'BLALF', 'GSHI', 'BL08M', 'WH12M', 'G12', 'RECONSTF', 'HP03F', 'BL11F', 'TR', 'AMUGM', 'HI02M', 'WHKGM', 'AS03F', 'AM04F', 'WH12F', 'WH02M', 'VIRTUALSTAT', 'G05OFFRD', 'ASPKM', 'WH09F', 'SFTEPUP', 'G02', 'WH01F', 'TR07M', 'WH10M', 'AM06F', 'BL07M', 'SEARCH', 'TRPKF', 'AS10F', 'G10OFFRD', 'WHPKM', 'LSTREE', 'MZIP', 'CHARTR', 'AS01M', 'TR01M', 'HP06F', 'WH10F', 'HP10M', 'AS06F', 'G10', 'TRUGM', 'WH07M', 'AM12F', 'BLUGF', 'SMEMPUP', 'BL05F', 'WHITE', 'TRKGF', 'HP01M', 'TR08M', 'AM05F', 'URL', 'KGOFFRD', 'TR09F', 'AS05F', 'HP07F', 'PKOFFRD', 'UG', 'AS09F', 'G11', 'HP08F', 'CDCODE', 'HI07M', 'G11OFFRD', 'HP02M', 'TRALM', 'LSTATE', 'WH02F', 'HP04M', 'HI04M', 'HPPKF', 'HPUGF', 'G02OFFRD', 'TOTETH', 'AS01F', 'HIPKM', 'WH11M', 'HPKGM', 'AS08M', 'AM09M', 'AS06M', 'HPALF', 'HP11F', 'TR12M', 'BL10F', 'HIALM', 'HI03F', 'AS02F', 'HP01F', 'BLKGM', 'HIPKF', 'BLKGF', 'HIALF', 'HP12M', 'HP03M', 'FTE', 'AS08F', 'BL01M', 'HI09M', 'AS12F', 'SHARED', 'TR10F', 'WHPKF', 'HI08M', 'KG', 'BL05M', 'ASKGF', 'HP08M', 'BL04M', 'AMUGF', 'AM02F', 'SCHNO', 'TRPKM', 'AM02M', 'HP10F', 'NCESSCH', 'BL01F', 'AS03M', 'G08OFFRD', 'WHALM', 'MSTREE', 'HPPKM', 'HP06M', 'G09', 'HI12M', 'HI05F', 'TR11F', 'BL07F', 'HIKGM', 'SFLE', 'TR09M', 'BL02F', 'ASALF', 'SPWHITE', 'AS12M', 'PHONE', 'G01', 'CONAME', 'CUSTOMID', 'FIPST', 'AMPKF', 'HI10F', 'AS09M', 'HI11F', 'TR03F', 'HISP', 'HI12F', 'BLPKF', 'AS07M', 'AM11F', 'TR05M', 'ASALM', 'TR08F', 'LEAID', 'HI02F', 'BL06M', 'HP05M', 'MAGNET', 'G05', 'ASPKF', 'ASIAN', 'TITLEI', 'HI11M', 'TR12F', 'ASKGM', 'AS07F', 'HPKGF', 'ISPFEMALE', 'WH03M', 'TRKGM', 'AM03M', 'BL02M', 'ISPELM', 'AS10M', 'BL09M', 'LATCOD', 'STITLI', 'BL03F', 'WHALF', 'CONUM', 'BL03M', 'HI04F', 'HIUGF', 'WH05F', 'ASUGM', 'BL12F', 'AS02M', 'AM01M', 'AS05M', 'LONCOD', 'STATUS', 'MSTATE', 'UNION', 'SEASCH', 'WH11F', 'ISPWHITE', 'G03OFFRD', 'TR02M', 'BL12M', 'HIKGF', 'SURVYEAR', 'AMKGF', 'TITLEISTAT', 'G06', 'AM10F', 'HPALM', 'HI01M', 'ULOCAL', 'AM04M', 'PACIFIC', 'WHUGF', 'AM07M', 'ISFLE', 'ISMEMPUP', 'AM10M', 'AM06M', 'STID', 'TOTFRL', 'LZIP', 'HP11M', 'G06OFFRD', 'HI06M', 'RECONSTY', 'AS04M', 'HP02F', 'CHARTAUTH2', 'WH09M', 'TR02F', 'TR10M', 'HI08F', 'LCITY'])\n"
     ]
    }
   ],
   "source": [
    "# Take a look at the most important contents and the variables list\n",
    "# in our sample (a list of dictionaries)--let's look at just the first entry\n",
    "print(sample[1][\"SCHNAM\"], \"\\n\", sample[1][\"URL\"], \"\\n\", sample[1][\"WEBTEXT\"], \"\\n\")\n",
    "print(sample[1].keys())"
   ]
  },
  {
   "cell_type": "markdown",
   "metadata": {},
   "source": [
    "### Now to read the data in as a pandas dataframe!"
   ]
  },
  {
   "cell_type": "code",
   "execution_count": 6,
   "metadata": {
    "collapsed": false
   },
   "outputs": [],
   "source": [
    "df = pandas.read_csv(\"../data/mission_data_prelim.csv\", encoding = 'Latin-1')\n",
    "df = df.dropna(subset=[\"WEBTEXT\"]) # drop any schools with no webtext that might have snuck in (none currently)"
   ]
  },
  {
   "cell_type": "code",
   "execution_count": 7,
   "metadata": {
    "collapsed": false,
    "scrolled": false
   },
   "outputs": [
    {
     "name": "stdout",
     "output_type": "stream",
     "text": [
      "Quest Middle Schools¨ are schools focused on high expectations for behavior and academics. Students must work hard to meet their goals. To fully succeed in a Quest Middle School, students must consistently show leadership skills, good behavior, and a work ethic to meet expectations. Beyond this, Quest Schools provides curriculum designed to teach wisdom. Knowledge is crucial, but wisdom is a vital part of a middle school studentÕs growth and maturity. Character education is taught at all levels. Students are taught leadership skills through our 7 Habits of Highly Effective Teens* environment.\r",
      "Our administrators and teachers care about students and have a passion to see them reach their full potential. While providing quality education for all students, Quest educators collaborate to make sure each child receives the attention necessary to be successful. Quest provides a safe environment committed to learning. Educators work with students and parents to meet the rigorous academic standards. Quest Combines the Teaching of Knowledge and Wisdom.\r",
      "Quest Middle Schools use a variety of curriculum to ensure that middle school students have a solid foundation of content learning above traditional curriculum.\r",
      "Beyond this, Quest Middle Schools provide curriculum designed to teach wisdom. Knowledge is crucial, but wisdom is a vital part of a middle school studentÕs growth and maturity. Character education is taught at all levels. Students are taught leadership skills through our 7 Habits of Highly Effective Teens* environment.\r",
      "Quest has a Private School Atmosphere Without the Tuition Cost.\r",
      "The campus is dedicated to the idea that education can have a great connection with the home and family. Though the atmosphere feels like a private school, there is no tuition to attend a Quest Middle School.\r",
      "Quest is a public school chartered by the State Board of Education. As a public school, the campus has the responsibility to ensure all students meet the standards created by the Texas Education Agency. \n"
     ]
    }
   ],
   "source": [
    "## Print the webtext from the first school in the dataframe\n",
    "print(df.iloc[0, 5])"
   ]
  },
  {
   "cell_type": "code",
   "execution_count": 8,
   "metadata": {
    "collapsed": true
   },
   "outputs": [],
   "source": [
    "# Add additional variables for analysis:\n",
    "# PCTETH = percentage of enrolled students belonging to a racial minority\n",
    "# this includes American Indian, Asian, Hispanic, Black, Hawaiian, or Pacific Islander\n",
    "df[\"PCTETH\"] = (df[\"AM\"] + df[\"ASIAN\"] + df[\"HISP\"] + df[\"BLACK\"] + df[\"PACIFIC\"]) / df[\"MEMBER\"]\n",
    "\n",
    "df[\"STR\"] = df[\"MEMBER\"] / df[\"FTE\"] # Student/teacher ratio\n",
    "df[\"PCTFRPL\"] = df[\"TOTFRL\"] / df[\"MEMBER\"] # Percent of students receiving FRPL\n",
    "\n",
    "# To add a word count to the data frame:\n",
    "df['webtext_lc'] = df['WEBTEXT'].str.lower()\n",
    "df['webtext_split'] = df['webtext_lc'].str.split()\n",
    "df['word_count'] = df['webtext_split'].apply(len)"
   ]
  },
  {
   "cell_type": "code",
   "execution_count": 9,
   "metadata": {
    "collapsed": false,
    "scrolled": true
   },
   "outputs": [],
   "source": [
    "# for later analysis, create a pandas objects that is a groupby dataframe, grouped on each school's state\n",
    "grouped_state = df.groupby(\"LSTATE\")\n",
    "# print(grouped_state.count())"
   ]
  },
  {
   "cell_type": "markdown",
   "metadata": {},
   "source": [
    "## Descriptive statistics"
   ]
  },
  {
   "cell_type": "code",
   "execution_count": 10,
   "metadata": {
    "collapsed": false,
    "scrolled": true
   },
   "outputs": [
    {
     "name": "stdout",
     "output_type": "stream",
     "text": [
      "\n",
      "11    78\n",
      "21    36\n",
      "13    21\n",
      "12    19\n",
      "41    11\n",
      "42     9\n",
      "33     6\n",
      "32     6\n",
      "23     4\n",
      "31     3\n",
      "22     3\n",
      "Name: ULOCAL, dtype: int64\n",
      "\n",
      "1    82\n",
      "3    46\n",
      "4    41\n",
      "2    26\n",
      "N     1\n",
      "Name: LEVEL, dtype: int64\n",
      "\n",
      "0    CA\n",
      "dtype: object\n",
      "0    11\n",
      "dtype: int64\n"
     ]
    }
   ],
   "source": [
    "#print(df.describe()) # get descriptive statistics for all numerical columns\n",
    "print()\n",
    "print(df['ULOCAL'].value_counts()) # frequency counts for categorical data\n",
    "print()\n",
    "print(df['LEVEL'].value_counts()) # treat grade range served as categorical\n",
    "# Codes for level/ grade range served: 3 = High school, 2 = Middle school, 1 = Elementary, 4 = Other)\n",
    "print()\n",
    "print(df['LSTATE'].mode()) # find the most common state represented in these data\n",
    "print(df['ULOCAL'].mode()) # find the most urbanicity represented in these data"
   ]
  },
  {
   "cell_type": "markdown",
   "metadata": {},
   "source": [
    "So most common areas for these charters is large city, then large suburb, then medium and small city, and then rural."
   ]
  },
  {
   "cell_type": "markdown",
   "metadata": {},
   "source": [
    "## Cleaning and tokenizing the text"
   ]
  },
  {
   "cell_type": "code",
   "execution_count": 11,
   "metadata": {
    "collapsed": false
   },
   "outputs": [
    {
     "name": "stdout",
     "output_type": "stream",
     "text": [
      "['The', 'mission', 'of', 'the', 'Academies', 'at', 'Jonesboro', 'High', 'School', 'is', 'to', 'provide', 'a', 'high', 'quality', ',', 'research-based', 'education', 'for', 'all', 'students', 'in', 'order', 'to', 'equip', 'them', 'with', 'the', 'essential', 'skills', 'necessary', 'to', 'be', 'successful', 'in', 'todayÕs', 'changing', 'global', 'community', '.', 'Through', 'strong', 'partnerships', 'with', 'business', 'and', 'community', 'stakeholders', ',', 'the', 'Academies', 'at', 'Jonesboro', 'High', 'School', 'will', 'ensure', 'high', 'achievement', 'in', 'all', 'subjects', 'through', 'an', 'expanded', 'curriculum', 'and', 'the', 'use', 'of', 'data-driven', 'methods', 'to', 'evaluate', 'and', 'implement', 'proven', 'instructional', 'strategies', '.', 'The', 'Academies', 'at', 'JHS', 'will', 'foster', 'respect', 'for', 'global', 'diversity', 'and', 'maintain', 'a', 'commitment', 'to', 'create', 'exceptional', 'opportunities', 'for', 'the', 'educational', 'growth', 'of', 'every', 'child', '.', 'Excellence', 'is', 'our', 'Standard', ',', 'not', 'our', 'Goal', ',', 'for', 'All', 'Students']\n"
     ]
    }
   ],
   "source": [
    "#create new variable that applies the word_tokenize function to our sentence.\n",
    "for school in sample:\n",
    "    school[\"webtext_tokens\"] = []\n",
    "    school[\"webtext_tokens\"] = word_tokenize(school[\"WEBTEXT\"])\n",
    "\n",
    "#This new variable contains the tokenized text.\n",
    "print(sample[1][\"webtext_tokens\"])"
   ]
  },
  {
   "cell_type": "code",
   "execution_count": 12,
   "metadata": {
    "collapsed": false,
    "scrolled": true
   },
   "outputs": [
    {
     "name": "stdout",
     "output_type": "stream",
     "text": [
      "Here's a school's webtext WITH stopwords:\n",
      " ['the', 'mission', 'of', 'the', 'academies', 'at', 'jonesboro', 'high', 'school', 'is', 'to', 'provide', 'a', 'high', 'quality', 'research-based', 'education', 'for', 'all', 'students', 'in', 'order', 'to', 'equip', 'them', 'with', 'the', 'essential', 'skills', 'necessary', 'to', 'be', 'successful', 'in', 'todayõs', 'changing', 'global', 'community', 'through', 'strong', 'partnerships', 'with', 'business', 'and', 'community', 'stakeholders', 'the', 'academies', 'at', 'jonesboro', 'high', 'school', 'will', 'ensure', 'high', 'achievement', 'in', 'all', 'subjects', 'through', 'an', 'expanded', 'curriculum', 'and', 'the', 'use', 'of', 'data-driven', 'methods', 'to', 'evaluate', 'and', 'implement', 'proven', 'instructional', 'strategies', 'the', 'academies', 'at', 'jhs', 'will', 'foster', 'respect', 'for', 'global', 'diversity', 'and', 'maintain', 'a', 'commitment', 'to', 'create', 'exceptional', 'opportunities', 'for', 'the', 'educational', 'growth', 'of', 'every', 'child', 'excellence', 'is', 'our', 'standard', 'not', 'our', 'goal', 'for', 'all', 'students']\n",
      "\n",
      "And here's that same school's webtext WITHOUT stopwords:\n",
      " ['mission', 'academies', 'jonesboro', 'high', 'school', 'provide', 'high', 'quality', 'research-based', 'education', 'students', 'order', 'equip', 'essential', 'skills', 'necessary', 'successful', 'todayõs', 'changing', 'global', 'community', 'strong', 'partnerships', 'business', 'community', 'stakeholders', 'academies', 'jonesboro', 'high', 'school', 'ensure', 'high', 'achievement', 'subjects', 'expanded', 'curriculum', 'use', 'data-driven', 'methods', 'evaluate', 'implement', 'proven', 'instructional', 'strategies', 'academies', 'jhs', 'foster', 'respect', 'global', 'diversity', 'maintain', 'commitment', 'create', 'exceptional', 'opportunities', 'educational', 'growth', 'every', 'child', 'excellence', 'standard', 'goal', 'students']\n"
     ]
    }
   ],
   "source": [
    "# Now we clean the webtext by removing punctuation and stopwords and rendering each word lower-case\n",
    "# Let's keep a list of tokens both with and without stopwords to see how it changes things:\n",
    "for school in sample:\n",
    "    school[\"webstop_tokens\"] = [] # to initialize, create an empty list for each new list\n",
    "    school[\"webclean_tokens\"] = [] \n",
    "    school[\"webstop_tokens\"] = [word.lower() for word in school[\"webtext_tokens\"] if (word not in punctuations)] # make each word lower-case and remove punctuations\n",
    "    school[\"webclean_tokens\"] = [word.lower() for word in school[\"webstop_tokens\"] if (word not in stopenglish)] # then remove stopwords\n",
    "\n",
    "print(\"Here's a school's webtext WITH stopwords:\\n\", sample[1][\"webstop_tokens\"])\n",
    "print(\"\\nAnd here's that same school's webtext WITHOUT stopwords:\\n\", sample[1][\"webclean_tokens\"])"
   ]
  },
  {
   "cell_type": "markdown",
   "metadata": {},
   "source": [
    "## Text lengths and type-token ratios (TTRs)"
   ]
  },
  {
   "cell_type": "code",
   "execution_count": 13,
   "metadata": {
    "collapsed": false
   },
   "outputs": [
    {
     "name": "stdout",
     "output_type": "stream",
     "text": [
      "For example, consider the first school: \n",
      "    Uncleaned length: 118 \n",
      "          VERSUS \n",
      "    Cleaned length: 63\n"
     ]
    }
   ],
   "source": [
    "# Now calculate length of cleaned webtext by finding the number of words in webclean_tokens, \n",
    "# and compare with # words in unclean webtext. Also generate number of types (unique words) used:\n",
    "for school in sample:\n",
    "    school[\"webtext_nowords\"] = len(school[\"webtext_tokens\"])\n",
    "    school[\"webstop_nowords\"] = len(school[\"webstop_tokens\"])\n",
    "    school[\"webclean_nowords\"] = len(school[\"webclean_tokens\"])\n",
    "    school[\"webstop_numtypes\"] = len(set(school[\"webstop_tokens\"]))\n",
    "    school[\"webclean_numtypes\"] = len(set(school[\"webclean_tokens\"]))\n",
    "\n",
    "print(\"For example, consider the first school: \\n\", \"   Uncleaned length:\", \\\n",
    "      sample[1][\"webtext_nowords\"], \"\\n          VERSUS\", \\\n",
    "      \"\\n    Cleaned length:\", sample[1][\"webclean_nowords\"])"
   ]
  },
  {
   "cell_type": "code",
   "execution_count": 14,
   "metadata": {
    "collapsed": false,
    "scrolled": true
   },
   "outputs": [
    {
     "name": "stdout",
     "output_type": "stream",
     "text": [
      "Here's the TTR for each school first with and then without stopwords:\n",
      "\n",
      "AR QUEST MIDDLE SCHOOL OF PINE BLUFF: \n",
      " 0.4426751592356688 vs. 0.535 \n",
      "\n",
      "AR THE ACADEMIES AT JONESBORO HIGH SCHOOL: \n",
      " 0.6396396396396397 vs. 0.8412698412698413 \n",
      "\n",
      "AZ A CHILD'S VIEW SCHOOL: \n",
      " 0.7922077922077922 vs. 0.8947368421052632 \n",
      "\n",
      "AZ AAEC - PARADISE VALLEY: \n",
      " 0.8444444444444444 vs. 0.8709677419354839 \n",
      "\n",
      "AZ ABRAHAM LINCOLN TRADITIONAL SCHOOL: \n",
      " 0.6698113207547169 vs. 0.76 \n",
      "\n",
      "AZ ACADEMY DEL SOL: \n",
      " 0.6194690265486725 vs. 0.7278911564625851 \n",
      "\n",
      "AZ ACADEMY OF TUCSON ELEMENTARY SCHOOL: \n",
      " 0.4483870967741935 vs. 0.6404494382022472 \n",
      "\n",
      "AZ DESERT MOSAIC SCHOOL: \n",
      " 0.6434782608695652 vs. 0.8208955223880597 \n",
      "\n",
      "AZ KAIZEN EDUCATION FOUNDATION DBA SUMMIT HIGH SCHOOL: \n",
      " 0.47413793103448276 vs. 0.6363636363636364 \n",
      "\n",
      "AZ OASIS HIGH SCHOOL: \n",
      " 0.6199095022624435 vs. 0.8195488721804511 \n",
      "\n",
      "AZ SAGE ACADEMY: \n",
      " 0.5425219941348973 vs. 0.7427184466019418 \n",
      "\n",
      "AZ SCHOOL FOR INTEGRATED ACADEMICS AND TECHNOLOGIES: \n",
      " 0.42953929539295393 vs. 0.5902489626556017 \n",
      "\n",
      "AZ SEQUOIA VILLAGE SCHOOL: \n",
      " 0.6349809885931559 vs. 0.7553191489361702 \n",
      "\n",
      "AZ SOUTH POINTE HIGH SCHOOL: \n",
      " 0.6068376068376068 vs. 0.8307692307692308 \n",
      "\n",
      "AZ SOUTH POINTE HIGH SCHOOL: \n",
      " 0.5 vs. 0.7396226415094339 \n",
      "\n",
      "AZ SOUTH POINTE JUNIOR HIGH SCHOOL: \n",
      " 0.7708333333333334 vs. 0.9642857142857143 \n",
      "\n",
      "AZ SOUTHSIDE COMMUNITY SCHOOL: \n",
      " 0.8048780487804879 vs. 0.896551724137931 \n",
      "\n",
      "AZ SUN VALLEY CHARTER SCHOOL: \n",
      " 0.38843813387423937 vs. 0.512012012012012 \n",
      "\n",
      "AZ TANQUE VERDE ELEMENTARY SCHOOL: \n",
      " 0.7124183006535948 vs. 0.883495145631068 \n",
      "\n",
      "AZ TARTESSO ELEMENTARY SCHOOL: \n",
      " 0.6068965517241379 vs. 0.7325581395348837 \n",
      "\n"
     ]
    }
   ],
   "source": [
    "# First analytic step: Calculate type-token ratios for each school, which compares \n",
    "# the number of types (unique words used) with the number of words (including repetitions of words).\n",
    "# Let's do this both with and without stop words, and then compare them:\n",
    "school[\"TTR_clean\"] = []\n",
    "school[\"TTR_withstop\"] = []\n",
    "print(\"Here's the TTR for each school first with and then without stopwords:\\n\")\n",
    "for school in sample:\n",
    "    school[\"TTR_clean\"] = school[\"webclean_numtypes\"] / school[\"webclean_nowords\"]\n",
    "    school[\"TTR_withstop\"] = school[\"webstop_numtypes\"] / school[\"webstop_nowords\"]\n",
    "for school in sample[:20]:\n",
    "    print(school[\"MSTATE\"], school[\"SCHNAM\"] + \":\", \"\\n\", school[\"TTR_withstop\"], \"vs.\", school[\"TTR_clean\"], \"\\n\")"
   ]
  },
  {
   "cell_type": "markdown",
   "metadata": {},
   "source": [
    "## Most frequent words"
   ]
  },
  {
   "cell_type": "code",
   "execution_count": 15,
   "metadata": {
    "collapsed": false,
    "scrolled": true
   },
   "outputs": [
    {
     "data": {
      "text/plain": [
       "['quest',\n",
       " 'middle',\n",
       " 'schools¨',\n",
       " 'schools',\n",
       " 'focused',\n",
       " 'high',\n",
       " 'expectations',\n",
       " 'behavior',\n",
       " 'academics',\n",
       " 'students',\n",
       " 'must',\n",
       " 'work',\n",
       " 'hard',\n",
       " 'meet',\n",
       " 'goals',\n",
       " 'fully',\n",
       " 'succeed',\n",
       " 'quest',\n",
       " 'middle',\n",
       " 'school',\n",
       " 'students',\n",
       " 'must',\n",
       " 'consistently',\n",
       " 'show',\n",
       " 'leadership',\n",
       " 'skills',\n",
       " 'good',\n",
       " 'behavior',\n",
       " 'work',\n",
       " 'ethic']"
      ]
     },
     "execution_count": 15,
     "metadata": {},
     "output_type": "execute_result"
    }
   ],
   "source": [
    "# First, aggregate all the cleaned webtext:\n",
    "webtext_all = []\n",
    "for school in sample:\n",
    "    for word in school[\"webclean_tokens\"]:\n",
    "        webtext_all.append(word)\n",
    "\n",
    "webtext_all[:30]"
   ]
  },
  {
   "cell_type": "code",
   "execution_count": 16,
   "metadata": {
    "collapsed": false
   },
   "outputs": [
    {
     "name": "stdout",
     "output_type": "stream",
     "text": [
      "[('students', 1739), ('school', 1661), ('learning', 736), ('education', 539), ('charter', 476), ('community', 470), ('student', 466), ('high', 415), ('program', 395), ('academic', 390), ('schools', 344), ('academy', 342), ('curriculum', 340), ('college', 328), ('skills', 320), ('teachers', 295), ('children', 280), ('grade', 267), ('environment', 241), ('provide', 238), ('success', 226), ('educational', 224), ('every', 217), ('work', 213), ('staff', 207), ('support', 207), ('year', 198), ('leadership', 198), ('arts', 190), ('development', 185), ('parents', 185), ('develop', 184), ('learn', 183), ('public', 182), ('state', 182), ('grades', 176), ('standards', 174), ('needs', 170), ('core', 169), ('instruction', 169), ('science', 168), ('world', 153), ('mission', 152), ('programs', 152), ('life', 151), ('new', 150), ('opportunities', 150), ('social', 148), ('one', 148), ('also', 146)]\n"
     ]
    }
   ],
   "source": [
    "# Now apply the nltk function FreqDist to count the number of times each token occurs.\n",
    "word_frequency = nltk.FreqDist(webtext_all)\n",
    "\n",
    "#print out the 10 most frequent words using the function most_common\n",
    "print(word_frequency.most_common(50))"
   ]
  },
  {
   "cell_type": "markdown",
   "metadata": {},
   "source": [
    "## Visualizations"
   ]
  },
  {
   "cell_type": "code",
   "execution_count": 19,
   "metadata": {
    "collapsed": true
   },
   "outputs": [],
   "source": [
    "%matplotlib inline"
   ]
  },
  {
   "cell_type": "code",
   "execution_count": 20,
   "metadata": {
    "collapsed": false
   },
   "outputs": [
    {
     "data": {
      "image/png": "[encoded data removed]",
      "text/plain": [
       "<matplotlib.figure.Figure at 0x7f0c79dee9e8>"
      ]
     },
     "metadata": {},
     "output_type": "display_data"
    }
   ],
   "source": [
    "# here's the number of schools from each state, in a graph:\n",
    "grouped_state['WEBTEXT'].count().sort_values(ascending=True).plot(kind = 'bar')\n",
    "plt.title(\"Number of charter schools from each state captured in prelim sample\")\n",
    "plt.show()"
   ]
  },
  {
   "cell_type": "code",
   "execution_count": 21,
   "metadata": {
    "collapsed": false
   },
   "outputs": [
    {
     "data": {
      "image/png": "[encoded data removed]",
      "text/plain": [
       "<matplotlib.figure.Figure at 0x7f0c79b42080>"
      ]
     },
     "metadata": {},
     "output_type": "display_data"
    }
   ],
   "source": [
    "# here's the mean website self-description word count for schools grouped by state:\n",
    "grouped_state['word_count'].mean().sort_values(ascending=True).plot(kind = 'bar', yerr = grouped_state[\"word_count\"].std())\n",
    "plt.title(\"Mean length of charter school website self-descriptions grouped by state\")\n",
    "plt.show()"
   ]
  },
  {
   "cell_type": "code",
   "execution_count": null,
   "metadata": {
    "collapsed": true
   },
   "outputs": [],
   "source": []
  }
 ],
 "metadata": {
  "kernelspec": {
   "display_name": "Python 3",
   "language": "python",
   "name": "python3"
  },
  "language_info": {
   "codemirror_mode": {
    "name": "ipython",
    "version": 3
   },
   "file_extension": ".py",
   "mimetype": "text/x-python",
   "name": "python",
   "nbconvert_exporter": "python",
   "pygments_lexer": "ipython3",
   "version": "3.5.2"
  }
 },
 "nbformat": 4,
 "nbformat_minor": 2
}
