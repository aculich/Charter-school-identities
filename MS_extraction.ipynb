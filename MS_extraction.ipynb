{
 "cells": [
  {
   "cell_type": "code",
   "execution_count": 1,
   "metadata": {
    "collapsed": false
   },
   "outputs": [],
   "source": [
    "# import necessary libraries\n",
    "import os, csv\n",
    "# other options:   import os.system(wget http)   OR   import urllib.urlretrieve (this is an alternative command)"
   ]
  },
  {
   "cell_type": "code",
   "execution_count": 3,
   "metadata": {
    "collapsed": false
   },
   "outputs": [],
   "source": [
    "sample = [] # make empty list\n",
    "with open('/hdir/0/jhaber/Dropbox/projects/Workshops_and_coding/charter_project/charters_microsam.csv', 'r', encoding = 'Windows-1252')\\\n",
    "as csvfile: # open file; the windows-1252 encoding looks weird but works for this\n",
    "    reader = csv.DictReader(csvfile) # create a reader\n",
    "    for row in reader: # loop through rows\n",
    "        sample.append(row) # append each row to the list"
   ]
  },
  {
   "cell_type": "code",
   "execution_count": 4,
   "metadata": {
    "collapsed": false
   },
   "outputs": [
    {
     "name": "stdout",
     "output_type": "stream",
     "text": [
      "POLK STATE COLLEGE COLLEGIATE HIGH SCHOOL 3425 WINTER LK RD LAC1200, WINTER HAVEN, FL \n",
      " https://www.polk.edu/lakeland-gateway-to-college-high-school/ \n",
      " {'TR04F': '-2', 'WH12M': '36', 'HI08M': '-2', 'AMALF': '0', 'ADDRESS': '3425 WINTER LK RD LAC1200, WINTER HAVEN, FL', 'HIPKM': '-2', 'HP03M': '-2', 'HP11M': '0', 'CMO/EMO NAME (if managed by a CMO/EMO)': '0', 'SPFEMALE': '2', 'TRUGM': '-2', 'G11OFFRD': '1', 'AM01M': '-2', 'G03OFFRD': '2', 'URL BRK': 'FALSE', 'AM07M': '-2', 'ISPWHITE': 'PS', 'FRELCH': '42', 'G05': '-2', 'MSTREE': '3425 WINTER LAKE RD', 'HPPKM': '-2', 'AM05M': '-2', 'WHUGM': '-2', 'WH08F': '-2', 'TR06F': '-2', 'AM10M': '-2', 'SCHNO': '4186', 'SMEMPUP': '2', 'G12OFFRD': '1', 'LZIP': '33881', 'WHPKF': '-2', 'G07': '-2', 'G07OFFRD': '2', 'MEMBER': '271', 'TR05M': '-2', 'HP10M': '-2', 'G10OFFRD': '2', 'TYPE': '1', 'AS09M': '-2', 'HP05M': '-2', 'WHITE': '164', 'FIPST': '12', 'ASPKM': '-2', 'BL08M': '-2', 'SCHNAM': 'POLK STATE COLLEGE COLLEGIATE HIGH SCHOOL', 'CONAME': 'POLK COUNTY', 'UGOFFRD': '2', 'AM04F': '-2', 'HIALF': '29', 'HP01M': '-2', 'HI03M': '-2', 'TRUGF': '-2', 'ASIAN': '8', 'UG': '-2', 'AM08M': '-2', 'WH10F': '-2', 'TRPKM': '-2', 'STITLI': 'N', 'HI10M': '-2', 'AS01M': '-2', 'HP11F': '0', 'AM07F': '-2', 'RECONSTF': '2', 'AS02M': '-2', 'LSTREE': '3425 WINTER LK RD LAC1200', 'PACIFIC': '0', 'TR': '6', 'TR06M': '-2', 'WH01F': '-2', 'BL12F': '24', 'HPPKF': '-2', 'BL06F': '-2', 'HP06M': '-2', 'RECONSTY': 'N', 'WH03M': '-2', 'KG': '-2', 'AM04M': '-2', 'AS10F': '-2', 'AS01F': '-2', 'ASUGF': '-2', 'SEASCH': '8131', 'BLALM': '9', 'KGOFFRD': '2', 'WH05F': '-2', 'WH08M': '-2', 'HI07F': '-2', 'AMALM': '0', 'AM03F': '-2', 'HI11M': '10', 'HPALF': '0', 'HI04M': '-2', 'BIES': '2', 'TR08M': '-2', 'HPKGF': '-2', 'WH05M': '-2', 'AS11F': '3', 'G06OFFRD': '2', 'ISFTEPUP': 'PS', 'G04OFFRD': '2', 'AS08F': '-2', 'WAYBACK URL': 'https://web.archive.org/web/*/https://www.polk.edu/charter-high-schools/', 'BLPKM': '-2', 'TR07M': '-2', 'G05OFFRD': '2', 'BL10F': '-2', 'WHPKM': '-2', 'BL06M': '-2', 'HI06F': '-2', 'HI12M': '9', 'ASKGF': '-2', 'WHALF': '101', 'PHONE': '8636692322', 'AS05F': '-2', 'BL11M': '3', 'TR04M': '-2', 'BL07F': '-2', 'WH07M': '-2', 'TOTFRL': '43', 'G01OFFRD': '2', 'SURVYEAR': '2013', 'BL03F': '-2', 'G11': '132', 'CHARTAUTH1': '1201590', 'AS10M': '-2', 'ISMEMPUP': 'PS', 'MAGNET': '2', 'LSTATE': 'FL', 'TR01M': '-2', 'WH11M': '27', 'WH06F': '-2', 'BL04M': '-2', 'BL01M': '-2', 'HIUGM': '-2', 'UNION': '0', 'AS06F': '-2', 'URL UPDATED': '9/6/16', 'ISPELM': 'PS', 'AS02F': '-2', 'BL10M': '-2', 'AM09F': '-2', 'LONCOD': '-81.8905', 'HIUGF': '-2', 'G08': '-2', 'AM10F': '-2', 'HI06M': '-2', 'NCESSCH': '1.20E+11', 'SEARCH: NAME ADDRESS': 'POLK STATE COLLEGE COLLEGIATE HIGH SCHOOL 3425 WINTER LK RD LAC1200, WINTER HAVEN, FL', 'YEAR CLOSED': '0', 'ASALF': '6', 'BL05F': '-2', 'HIKGF': '-2', 'AM02F': '-2', 'HI08F': '-2', 'ISFLE': 'PS', 'SPELM': '2', 'HI05F': '-2', 'CONUM': '12105', 'WH07F': '-2', 'URL': 'https://www.polk.edu/lakeland-gateway-to-college-high-school/', 'G09OFFRD': '2', 'AM06F': '-2', 'CHARTR': '1', 'AS12F': '3', 'HP02M': '-2', 'BLUGF': '-2', 'TR12F': '3', 'TR02F': '-2', 'HP08F': '-2', 'WHUGF': '-2', 'HISP': '48', 'AS08M': '-2', 'HP09M': '-2', 'G04': '-2', 'AM11F': '0', 'SFTEPUP': '2', 'BL12M': '6', 'HPUGM': '-2', 'BL08F': '-2', 'HP07M': '-2', 'WHALM': '63', 'AS11M': '2', 'AS09F': '-2', 'MS': '0', 'SHARED': '2', 'TR10M': '-2', 'BL03M': '-2', 'BL09M': '-2', 'BLACK': '45', 'HI04F': '-2', 'AM11M': '0', 'OTHER TEXT': '0', 'STATUS': '1', 'HP06F': '-2', 'WH09M': '-2', 'HI02M': '-2', 'AM03M': '-2', 'LEAID': '1201590', 'AMUGF': '-2', 'TOTETH': '271', 'TR03M': '-2', 'TR03F': '-2', 'WH06M': '-2', 'PKOFFRD': '2', 'LCITY': 'WINTER HAVEN', 'AM': '0', 'HI09F': '-2', 'TR08F': '-2', 'AM06M': '-2', 'ULOCAL': '41', 'HPUGF': '-2', 'HYPERLINK': 'POLK STATE COLLEGE COLLEGIATE HIGH SCHOOL', 'G12': '139', 'TRPKF': '-2', 'WH02F': '-2', 'BL05M': '-2', 'WAYBACK HYPER': 'POLK STATE COLLEGE COLLEGIATE HIGH SCHOOL', 'SFLE': '2', 'AS07F': '-2', 'HP07F': '-2', 'G01': '-2', 'FTE': '9', 'HI01M': '-2', 'LATCOD': '27.9974', 'LEANM': 'POLK', 'AM12M': '0', 'HP03F': '-2', 'BL11F': '12', 'AS06M': '-2', 'YEAR OPENED CER': '', 'G10': '-2', 'TITLEISTAT': '6', 'AMPKM': '-2', 'AS04M': '-2', 'ASPKF': '-2', 'PK': '-2', 'HP10F': '-2', 'LZIP4': '9765', 'TITLEI': '2', 'CHARTAUTH2': 'M', 'BL01F': '-2', 'TR11F': '3', 'WH12F': '43', 'TR09F': '-2', 'BLKGF': '-2', 'HP08M': '-2', 'AM02M': '-2', 'HI09M': '-2', 'USE NEW URL': '0', 'AS03F': '-2', 'RDM #': '0.014053368', 'G02': '-2', 'G02OFFRD': '2', 'CDCODE': '1215', 'AM12F': '0', 'G09': '-2', 'HP05F': '-2', 'HP12M': '0', 'CER MS 2012': '', 'G06': '-2', 'AS05M': '-2', 'OTHER NAME': 'Charter High Schools | Polk State College', 'ASALM': '2', 'BLUGM': '-2', 'GSHI': '12', 'TR07F': '-2', 'WH11F': '58', 'TR12M': '0', 'AMKGF': '-2', 'AM01F': '-2', 'TRKGM': '-2', 'HI12F': '15', 'SCHOOL ID': 'FL8131', 'BL07M': '-2', 'MCITY': 'LAKELAND', 'WH04F': '-2', 'BL09F': '-2', 'AMKGM': '-2', 'BLKGM': '-2', 'HI02F': '-2', 'TR01F': '-2', 'HISTORY': '0', 'HI07M': '-2', 'HP02F': '-2', 'AS07M': '-2', 'WH09F': '-2', 'ASKGM': '-2', 'HPALM': '0', 'WH10M': '-2', 'TR09M': '-2', 'AM09M': '-2', 'MSTATE': 'FL', 'TR05F': '-2', 'HP12F': '0', 'GSLO': '11', 'AM08F': '-2', 'BL02F': '-2', 'HI01F': '-2', 'AS03M': '-2', 'HI11F': '14', 'AMUGM': '-2', 'HI05M': '-2', 'AM05F': '-2', 'MZIP': '33803', 'BL04F': '-2', 'AS04F': '-2', 'TRKGF': '-2', 'HP04M': '-2', 'TRALF': '6', 'TR02M': '-2', 'DUPL URL': '0', 'TR10F': '-2', 'HIPKF': '-2', 'G08OFFRD': '2', 'NSLPSTATUS': 'NSLPWOPRO', 'BL02M': '-2', 'LEVEL': '3', 'WH04M': '-2', 'BLPKF': '-2', 'ASUGM': '-2', 'REDLCH': '1', 'ISPFEMALE': 'PS', 'HP04F': '-2', 'MZIP4': '9765', 'AMPKF': '-2', 'HIALM': '19', 'SPWHITE': '2', 'HIKGM': '-2', 'VIRTUALSTAT': 'VIRTUALNO', 'WHKGF': '-2', 'HP01F': '-2', 'HP09F': '-2', 'WH01M': '-2', 'WH02M': '-2', 'WHKGM': '-2', 'STID': '53', 'G03': '-2', 'VISION GOALS ETC': '0', 'HI03F': '-2', 'TRALM': '0', 'TR11M': '0', 'AS12M': '0', 'WH03F': '-2', 'HI10F': '-2', 'HPKGM': '-2', 'BLALF': '36'}\n"
     ]
    }
   ],
   "source": [
    "# Take a look at the contents of our list called sample--just the first entry\n",
    "print(sample[1][\"SEARCH: NAME ADDRESS\"], \"\\n\", sample[1][\"URL\"], \"\\n\", sample[1])"
   ]
  },
  {
   "cell_type": "code",
   "execution_count": 5,
   "metadata": {
    "collapsed": false
   },
   "outputs": [],
   "source": [
    "# turning this into tuples we can use with wget!\n",
    "# first, make some empty lists\n",
    "url_list = []\n",
    "name_list = []\n",
    "terms_list = []\n",
    "\n",
    "# now let's fill these lists with content from the sample\n",
    "for school in sample:\n",
    "    url_list.append(school[\"URL\"])\n",
    "    name_list.append(school[\"SCHNAM\"])\n",
    "    terms_list.append(school[\"SEARCH: NAME ADDRESS\"])"
   ]
  },
  {
   "cell_type": "code",
   "execution_count": 6,
   "metadata": {
    "collapsed": false,
    "scrolled": true
   },
   "outputs": [
    {
     "name": "stdout",
     "output_type": "stream",
     "text": [
      "['https://www.richland2.org/charterhigh/', 'https://www.polk.edu/lakeland-gateway-to-college-high-school/', 'https://www.nhaschools.com/schools/rivercity/Pages/default.aspx'] \n",
      " ['RICHLAND TWO CHARTER HIGH', 'POLK STATE COLLEGE COLLEGIATE HIGH SCHOOL', 'RIVER CITY SCHOLARS CHARTER ACADEMY'] \n",
      " ['RICHLAND TWO CHARTER HIGH 750 OLD CLEMSON RD, COLUMBIA, SC', 'POLK STATE COLLEGE COLLEGIATE HIGH SCHOOL 3425 WINTER LK RD LAC1200, WINTER HAVEN, FL', 'RIVER CITY SCHOLARS CHARTER ACADEMY 944 EVERGREEN ST, GRAND RAPIDS, MI']\n"
     ]
    }
   ],
   "source": [
    "# it's VERY important that these three lists be indexed the same, so let's check:\n",
    "print(url_list[:3], \"\\n\", name_list[:3], \"\\n\", terms_list[:3])"
   ]
  },
  {
   "cell_type": "markdown",
   "metadata": {},
   "source": [
    "Success! Looking at the above, the 3 lists with URLs, names, and search terms, respectively, seem to line up as we would expect: URL[0] corresponds to name[0] corresponds to terms[0], and so on. Now, let's turn these lists into tuples so we can use them for wget. To do this, we use the zip function, which ABSOLUTELY DEPENDS on the consistent indexing we have just established:"
   ]
  },
  {
   "cell_type": "code",
   "execution_count": 7,
   "metadata": {
    "collapsed": false
   },
   "outputs": [
    {
     "name": "stdout",
     "output_type": "stream",
     "text": [
      "[('https://www.richland2.org/charterhigh/', 'RICHLAND TWO CHARTER HIGH'), ('https://www.polk.edu/lakeland-gateway-to-college-high-school/', 'POLK STATE COLLEGE COLLEGIATE HIGH SCHOOL'), ('https://www.nhaschools.com/schools/rivercity/Pages/default.aspx', 'RIVER CITY SCHOLARS CHARTER ACADEMY')]\n",
      "\n",
      " Polk State College Collegiate High School\n"
     ]
    }
   ],
   "source": [
    "tuple_list = list(zip(url_list, name_list))\n",
    "# Let's check what these tuples look like:\n",
    "print(tuple_list[:3])\n",
    "print(\"\\n\", tuple_list[1][1].title())"
   ]
  },
  {
   "cell_type": "markdown",
   "metadata": {},
   "source": [
    "These look great! Now, to use the os library's wget function, we need to manually change directory just as we would in bash/ UNIX. We also need to track which directory we are in and create a folder in which to store the data for each charter.\n",
    "#### Students: be sure to change the directory listed in these commands to one that works for you! Otherwise it will throw an error, and the wget command below won't work. ####\n",
    "\n",
    "To start, we cd into the data directory, and then us getcwd (the equivalent of pwd in bash) to check if it worked:"
   ]
  },
  {
   "cell_type": "code",
   "execution_count": 8,
   "metadata": {
    "collapsed": false
   },
   "outputs": [
    {
     "data": {
      "text/plain": [
       "'/hdir/0/jhaber/Documents/projects/charter_project/urls_extracted'"
      ]
     },
     "execution_count": 8,
     "metadata": {},
     "output_type": "execute_result"
    }
   ],
   "source": [
    "os.chdir('/hdir/0/jhaber/Documents/projects/charter_data/wget_sept8')\n",
    "os.getcwd()"
   ]
  },
  {
   "cell_type": "markdown",
   "metadata": {},
   "source": [
    "Success! Now we've got tuples and we're in the right directory to start with. We are finally ready to run wget!"
   ]
  },
  {
   "cell_type": "code",
   "execution_count": 9,
   "metadata": {
    "collapsed": false
   },
   "outputs": [
    {
     "name": "stdout",
     "output_type": "stream",
     "text": [
      "Capturing website data for Richland Two Charter High, which is school #1 of 300...\n",
      "Capturing website data for Polk State College Collegiate High School, which is school #2 of 300...\n",
      "Capturing website data for River City Scholars Charter Academy, which is school #3 of 300...\n",
      "Capturing website data for Detroit Enterprise Academy, which is school #4 of 300...\n",
      "Capturing website data for Lighthouse Community Sch Inc, which is school #5 of 300...\n",
      "Capturing website data for Westlake Charter Middle, which is school #6 of 300...\n",
      "Capturing website data for Van Gogh Charter, which is school #7 of 300...\n",
      "Capturing website data for Summit Academy Transition High School Dayton, which is school #8 of 300...\n",
      "Capturing website data for Westchester Academy For International Studies, which is school #9 of 300...\n",
      "Capturing website data for City Academy, which is school #10 of 300...\n",
      "Capturing website data for Byrneville Elementary School, Inc., which is school #11 of 300...\n",
      "Capturing website data for Acacia Middle Charter, which is school #12 of 300...\n",
      "Capturing website data for Whittier Elementary, which is school #13 of 300...\n",
      "Capturing website data for Zoe Learning Acad - Ambassador Campus, which is school #14 of 300...\n",
      "Capturing website data for Young Womens Leadership Chartr Hs, which is school #15 of 300...\n",
      "Capturing website data for Yuba County Career Preparatory Charter, which is school #16 of 300...\n",
      "Capturing website data for Young Scholars Of Western Pennsylvania C, which is school #17 of 300...\n",
      "Capturing website data for West Phila. Achievement Ces, which is school #18 of 300...\n",
      "Capturing website data for John H Wood Jr Cs Granbury, which is school #19 of 300...\n",
      "Capturing website data for Willow Creek Charter School, which is school #20 of 300...\n",
      "Capturing website data for White Pine Academy, which is school #21 of 300...\n",
      "Capturing website data for West Ridge Academy, which is school #22 of 300...\n",
      "Capturing website data for Watts Learning Center Charter Middle, which is school #23 of 300...\n",
      "Capturing website data for Waterford Montessori Academy, which is school #24 of 300...\n",
      "Capturing website data for Valley Life Charter, which is school #25 of 300...\n",
      "Capturing website data for Valley Charter Elementary, which is school #26 of 300...\n",
      "Capturing website data for Virtual Academy Of Lafourche, which is school #27 of 300...\n",
      "Capturing website data for Urban Prep Chtr Acad Bronzeville Hs, which is school #28 of 300...\n",
      "Capturing website data for Two Rivers Community School, which is school #29 of 300...\n",
      "Capturing website data for Two Dimensions/Vickery, which is school #30 of 300...\n",
      "Capturing website data for Trinity School For Children, which is school #31 of 300...\n",
      "Capturing website data for Texas Leadership Of Midland, which is school #32 of 300...\n",
      "Capturing website data for Taos Integrated School Of Arts, which is school #33 of 300...\n",
      "Capturing website data for Cincinnati State Stem Academy, which is school #34 of 300...\n",
      "Capturing website data for Mana Academy Charter School, which is school #35 of 300...\n",
      "Capturing website data for The Green School, which is school #36 of 300...\n",
      "Capturing website data for The Education Center In Lewisville, which is school #37 of 300...\n",
      "Capturing website data for Thea Bowman Leadership Academy, which is school #38 of 300...\n",
      "Capturing website data for Fort Worth Can Academy - South, which is school #39 of 300...\n",
      "Capturing website data for Dallas Can Academy Charter, which is school #40 of 300...\n",
      "Capturing website data for Telesis Preparatory, which is school #41 of 300...\n",
      "Capturing website data for Ethical Community Charter School (The), which is school #42 of 300...\n",
      "Capturing website data for Tapestry Charter School, which is school #43 of 300...\n",
      "Capturing website data for Trinity Academy Performing Art, which is school #44 of 300...\n",
      "Capturing website data for Southwest Schools Mangum El Campus, which is school #45 of 300...\n",
      "Capturing website data for Southwest Preparatory School-Northwest, which is school #46 of 300...\n",
      "Capturing website data for Sun Valley Charter School, which is school #47 of 300...\n",
      "Capturing website data for Sunny Wolf Charter School, which is school #48 of 300...\n",
      "Capturing website data for Suncoast School For Innovative Studies, which is school #49 of 300...\n",
      "Capturing website data for Kaizen Education Foundation Dba Summit High School, which is school #50 of 300...\n",
      "Capturing website data for Strive Prep - Smart Academy, which is school #51 of 300...\n",
      "Capturing website data for St Hope Leadership Academy Charter School, which is school #52 of 300...\n",
      "Capturing website data for St Croix Preparatory Academy Middle, which is school #53 of 300...\n",
      "Capturing website data for Stony Point Academy, which is school #54 of 300...\n",
      "Capturing website data for Southside Academy, which is school #55 of 300...\n",
      "Capturing website data for South Pointe High School, which is school #56 of 300...\n",
      "Capturing website data for South Bronx Classical Charter School Ii, which is school #57 of 300...\n",
      "Capturing website data for Somerset Preparatory Academy Pcs, which is school #58 of 300...\n",
      "Capturing website data for Somerset Academy Charter High, which is school #59 of 300...\n",
      "Capturing website data for Southwest Leadership Academy Cs, which is school #60 of 300...\n",
      "Capturing website data for Alliance Cindy And Bill Simon Technology Academy H, which is school #61 of 300...\n",
      "Capturing website data for School For Integrated Academics And Technologies, which is school #62 of 300...\n",
      "Capturing website data for Shiloh Charter, which is school #63 of 300...\n",
      "Capturing website data for Leads Primary Charter School, which is school #64 of 300...\n",
      "Capturing website data for Sequoia Village School, which is school #65 of 300...\n",
      "Capturing website data for Seed Pcs Of Washington Dc, which is school #66 of 300...\n",
      "Capturing website data for San Diego Cooperative Charter, which is school #67 of 300...\n",
      "Capturing website data for Sauvie Island Academy, which is school #68 of 300...\n",
      "Capturing website data for Sanger Academy Charter, which is school #69 of 300...\n",
      "Capturing website data for Sage Academy, which is school #70 of 300...\n",
      "Capturing website data for River Valley Charter, which is school #71 of 300...\n",
      "Capturing website data for Riverside Academy, which is school #72 of 300...\n",
      "Capturing website data for River City Science Academy Innovation School, which is school #73 of 300...\n",
      "Capturing website data for Richard Allen Leadership Academy, which is school #74 of 300...\n",
      "Capturing website data for Renaissance Charter School At Tradition, which is school #75 of 300...\n",
      "Capturing website data for Relevant Academy Of Eaton County, which is school #76 of 300...\n",
      "Capturing website data for Rapoport Academy El - North Campus, which is school #77 of 300...\n",
      "Capturing website data for Quest Charter School Academy, which is school #78 of 300...\n",
      "Capturing website data for Pioneer Valley Chinese Immersion Charter School, which is school #79 of 300...\n",
      "Capturing website data for Putnam Academy Of Arts And Sciences, which is school #80 of 300...\n",
      "Capturing website data for Providence Hall, which is school #81 of 300...\n",
      "Capturing website data for Camden'S Pride Charter School, which is school #82 of 300...\n",
      "Capturing website data for Prestige Academy, which is school #83 of 300...\n",
      "Capturing website data for Portage Academy Of Achievement, which is school #84 of 300...\n",
      "Capturing website data for Berkley Accelerated Middle School, which is school #85 of 300...\n",
      "Capturing website data for Pickerington Community School, which is school #86 of 300...\n",
      "Capturing website data for Columbus Performance Academy, which is school #87 of 300...\n",
      "Capturing website data for The Peak School, which is school #88 of 300...\n",
      "Capturing website data for Vulture Peak Middle School, which is school #89 of 300...\n",
      "Capturing website data for Mighty River Academy Of Virtual Education, which is school #90 of 300...\n",
      "Capturing website data for Pasadena Rosebud Academy Middle, which is school #91 of 300...\n",
      "Capturing website data for Palmetto Charter School, which is school #92 of 300...\n",
      "Capturing website data for Pennsylvania Leadership Cs, which is school #93 of 300...\n",
      "Capturing website data for New York City Montessori Charter School, which is school #94 of 300...\n",
      "Capturing website data for North Star Academy, which is school #95 of 300...\n",
      "Capturing website data for Northwood Academy Cs, which is school #96 of 300...\n",
      "Capturing website data for North Lakes Academy, which is school #97 of 300...\n",
      "Capturing website data for North Oakland Community Charter, which is school #98 of 300...\n",
      "Capturing website data for Noble Academy, which is school #99 of 300...\n",
      "Capturing website data for New World Preparatory Charter School, which is school #100 of 300...\n",
      "Capturing website data for New Heights Charter, which is school #101 of 300...\n",
      "Capturing website data for Newcastle Charter, which is school #102 of 300...\n",
      "Capturing website data for Nevada City School Of The Arts, which is school #103 of 300...\n",
      "Capturing website data for Compass Academy Charter School, which is school #104 of 300...\n",
      "Capturing website data for Monument Charter Academy, which is school #105 of 300...\n",
      "Capturing website data for Monte Del Sol Charter, which is school #106 of 300...\n",
      "Capturing website data for Minnesota Online High School, which is school #107 of 300...\n",
      "Capturing website data for Mn International Middle Charter, which is school #108 of 300...\n",
      "Capturing website data for Maria Montessori Charter Academy, which is school #109 of 300...\n",
      "Capturing website data for Minisinaakwaang Leadership Academy, which is school #110 of 300...\n",
      "Capturing website data for Memphis College Preparatory, which is school #111 of 300...\n",
      "Capturing website data for Mckeel Elementary Academy, which is school #112 of 300...\n",
      "Capturing website data for Mater Academy Lakes High School, which is school #113 of 300...\n",
      "Capturing website data for Mater Brickell Preparatory Academy, which is school #114 of 300...\n",
      "Capturing website data for Match Charter Public School, which is school #115 of 300...\n",
      "Capturing website data for Marshall Academy, which is school #116 of 300...\n",
      "Capturing website data for Ricardo Flores Magon Academy, which is school #117 of 300...\n",
      "Capturing website data for Magellan Charter, which is school #118 of 300...\n",
      "Capturing website data for Lockhurst Drive Charter Elementary, which is school #119 of 300...\n",
      "Capturing website data for Live Oak Charter, which is school #120 of 300...\n",
      "Capturing website data for Lisa Academy North Middle, which is school #121 of 300...\n",
      "Capturing website data for Life Skills Center Of Toledo, which is school #122 of 300...\n",
      "Capturing website data for Kaizen Education Foundation Dba Maya High School, which is school #123 of 300...\n",
      "Capturing website data for Leading Edge Academy Queen Creek, which is school #124 of 300...\n",
      "Capturing website data for Natomas Pacific Pathways Prep, which is school #125 of 300...\n",
      "Capturing website data for Lawrence Academy, which is school #126 of 300...\n",
      "Capturing website data for Lakeview Academy, which is school #127 of 300...\n",
      "Capturing website data for Lake Country Academy - Charter, which is school #128 of 300...\n",
      "Capturing website data for Minneola Elementary School, which is school #129 of 300...\n",
      "Capturing website data for Lafayette Academy, which is school #130 of 300...\n",
      "Capturing website data for Lady Liberty Academy Charter School, which is school #131 of 300...\n",
      "Capturing website data for La Causa Charter School, which is school #132 of 300...\n",
      "Capturing website data for Kipp Reach College Preparatory, which is school #133 of 300...\n",
      "Capturing website data for Kipp West Atlanta Young Scholars Academy, which is school #134 of 300...\n",
      "Capturing website data for Kipp Vision Primary, which is school #135 of 300...\n",
      "Capturing website data for Kipp Memphis Middle Academy, which is school #136 of 300...\n",
      "Capturing website data for Kipp San Jose Collegiate, which is school #137 of 300...\n",
      "Capturing website data for Kipp San Francisco College Preparatory, which is school #138 of 300...\n",
      "Capturing website data for Kipp Heartwood Academy, which is school #139 of 300...\n",
      "Capturing website data for Kawaikini Ncpcs, which is school #140 of 300...\n",
      "Capturing website data for Star Of The North Secondary School, which is school #141 of 300...\n",
      "Capturing website data for Chinook Montessori Charter School, which is school #142 of 300...\n",
      "Capturing website data for Joseph K. Lumsden Bahweting Anishnabe Academy, which is school #143 of 300...\n",
      "Capturing website data for Jefferson Community School (Charter School), which is school #144 of 300...\n",
      "Capturing website data for Janesville Virtual Academy, which is school #145 of 300...\n",
      "Capturing website data for Ivy Preparatory Young Men'S Leadership Academy Sch, which is school #146 of 300...\n",
      "Capturing website data for City Honors College Preparatory Charter, which is school #147 of 300...\n",
      "Capturing website data for Ignite Public Sch And Comm Serv Ctr At Weslaco, which is school #148 of 300...\n",
      "Capturing website data for Invictus High School, which is school #149 of 300...\n",
      "Capturing website data for Florida Intercultural Academy, which is school #150 of 300...\n",
      "Capturing website data for Intelli-School - Paradise Valley, which is school #151 of 300...\n",
      "Capturing website data for Imagine Coolidge Elementary, which is school #152 of 300...\n",
      "Capturing website data for Igeneration Empowerment Academy, which is school #153 of 300...\n",
      "Capturing website data for Idea Quest Academy, which is school #154 of 300...\n",
      "Capturing website data for Lake Erie College Preparatory School, which is school #155 of 300...\n",
      "Capturing website data for Huston Academy, which is school #156 of 300...\n",
      "Capturing website data for Cooley Middle School, which is school #157 of 300...\n",
      "Capturing website data for Humes Preparatory Academy - Upper School, which is school #158 of 300...\n",
      "Capturing website data for Challenge Early College H S, which is school #159 of 300...\n",
      "Capturing website data for Hilltown Cooperative Charter Public School, which is school #160 of 300...\n",
      "Capturing website data for High Tech Middle Chula Vista, which is school #161 of 300...\n",
      "Capturing website data for Uplift Education - Heights Prep Pri, which is school #162 of 300...\n",
      "Capturing website data for Dr Richard Izquierdo Health And Science Charter Sc, which is school #163 of 300...\n",
      "Capturing website data for Green Woods Cs, which is school #164 of 300...\n",
      "Capturing website data for Animo Westside Charter Middle, which is school #165 of 300...\n",
      "Capturing website data for C.M. Grant Leadership Academy, which is school #166 of 300...\n",
      "Capturing website data for Golden Rule Southwest, which is school #167 of 300...\n",
      "Capturing website data for Global Learning Charter Public School, which is school #168 of 300...\n",
      "Capturing website data for Glass City Academy, which is school #169 of 300...\n",
      "Capturing website data for Girls Athletic Leadership School, which is school #170 of 300...\n",
      "Capturing website data for Smith Academy For Excellence, which is school #171 of 300...\n",
      "Capturing website data for Focus Academy, which is school #172 of 300...\n",
      "Capturing website data for Flagstaff Junior Academy, which is school #173 of 300...\n",
      "Capturing website data for Hope Of Detroit Academy Consortium High School, which is school #174 of 300...\n",
      "Capturing website data for Fallbrook College Preparatory Academy, which is school #175 of 300...\n",
      "Capturing website data for Everglades Preparatory Academy High School, which is school #176 of 300...\n",
      "Capturing website data for Eel River Charter, which is school #177 of 300...\n",
      "Capturing website data for Fort Myers Preparatory And Fitness Academy, which is school #178 of 300...\n",
      "Capturing website data for Vantage Point Charter, which is school #179 of 300...\n",
      "Capturing website data for E.C.H.O. Charter School, which is school #180 of 300...\n",
      "Capturing website data for East Preparatory Academy, which is school #181 of 300...\n",
      "Capturing website data for Eagle Academy, which is school #182 of 300...\n",
      "Capturing website data for Eagle Ridge Academy Charter School, which is school #183 of 300...\n",
      "Capturing website data for E-Institute At Surprise, which is school #184 of 300...\n",
      "Capturing website data for E-Institute At Grovers, which is school #185 of 300...\n",
      "Capturing website data for Detroit Leadership Academy Middle/High, which is school #186 of 300...\n",
      "Capturing website data for Xinaxcalmecac Academia Semillas Del Pueblo, which is school #187 of 300...\n",
      "Capturing website data for D C  Prep Benning Elementary Pcs, which is school #188 of 300...\n",
      "Capturing website data for David Ellis Academy, which is school #189 of 300...\n",
      "Capturing website data for Crossroads Charter High, which is school #190 of 300...\n",
      "Capturing website data for Crossnore Academy, which is school #191 of 300...\n",
      "Capturing website data for Central Pa Digital Lrng Foundation Cs, which is school #192 of 300...\n",
      "Capturing website data for Corvian Community School, which is school #193 of 300...\n",
      "Capturing website data for Core Butte Charter, which is school #194 of 300...\n",
      "Capturing website data for Coral Academy Charter School Secondary, which is school #195 of 300...\n",
      "Capturing website data for Nevada Connections Academy, which is school #196 of 300...\n",
      "Capturing website data for Walnut Park, which is school #197 of 300...\n",
      "Capturing website data for Compass Montessori - Wheat Ridge Charter School, which is school #198 of 300...\n",
      "Capturing website data for Oak Leadership Institute, which is school #199 of 300...\n",
      "Capturing website data for Coastal Academy, which is school #200 of 300...\n",
      "Capturing website data for City On A Hill Charter Public School Ii, which is school #201 of 300...\n",
      "Capturing website data for Circles Of Success Learning Academy, which is school #202 of 300...\n",
      "Capturing website data for Chicago Park Community Charter, which is school #203 of 300...\n",
      "Capturing website data for Chandler Park Academy - Elementary, which is school #204 of 300...\n",
      "Capturing website data for Cedar Tree Academy Pcs, which is school #205 of 300...\n",
      "Capturing website data for Capital City Lower Pcs, which is school #206 of 300...\n",
      "Capturing website data for Cardinal Community Academy Charter School, which is school #207 of 300...\n",
      "Capturing website data for Camino Nuevo Charter Academy No. 4, which is school #208 of 300...\n",
      "Capturing website data for Camarillo Academy Of Progressive Education, which is school #209 of 300...\n",
      "Capturing website data for Bridgewater Academy Charter, which is school #210 of 300...\n",
      "Capturing website data for The James And Grace Lee Boggs School, which is school #211 of 300...\n",
      "Capturing website data for Banning Lewis Ranch Academy, which is school #212 of 300...\n",
      "Capturing website data for The Bloomington Project School, which is school #213 of 300...\n",
      "Capturing website data for Bay Haven Charter Academy, which is school #214 of 300...\n",
      "Capturing website data for Ben Gamla Charter School South Broward, which is school #215 of 300...\n",
      "Capturing website data for Belle Creek Charter School, which is school #216 of 300...\n",
      "Capturing website data for Bucks County Montessori Cs, which is school #217 of 300...\n",
      "Capturing website data for Blackfoot Charter Community, which is school #218 of 300...\n",
      "Capturing website data for Bayshore Preparatory Charter, which is school #219 of 300...\n",
      "Capturing website data for Basis Tucson, which is school #220 of 300...\n",
      "Capturing website data for City Springs Elementary, which is school #221 of 300...\n",
      "Capturing website data for Academy For Science And Design Charter (M), which is school #222 of 300...\n",
      "Capturing website data for St. Johns Community Campus, which is school #223 of 300...\n",
      "Capturing website data for Appleton Public Montessori, which is school #224 of 300...\n",
      "Capturing website data for Academy For Math Engineering & Science (Ames), which is school #225 of 300...\n",
      "Capturing website data for Alta Vista Charter School, which is school #226 of 300...\n",
      "Capturing website data for Alpha International Academy, which is school #227 of 300...\n",
      "Capturing website data for All Tribes Charter, which is school #228 of 300...\n",
      "Capturing website data for Academic And Career Education Academy, which is school #229 of 300...\n",
      "Capturing website data for Academy Of Tucson Middle School, which is school #230 of 300...\n",
      "Capturing website data for Academy Charter High School, which is school #231 of 300...\n",
      "Capturing website data for La Academia De Estrellas, which is school #232 of 300...\n",
      "Capturing website data for Academy Of Arts And Sciences: Oxnard & Ventura, which is school #233 of 300...\n",
      "Capturing website data for Millennium Community School, which is school #234 of 300...\n",
      "Capturing website data for Westar Elementary School, which is school #235 of 300...\n",
      "Capturing website data for Walatowa Charter High, which is school #236 of 300...\n",
      "Capturing website data for Magnolia Science Academy 7, which is school #237 of 300...\n",
      "Capturing website data for Trio Wolf Creek Distance Learning, which is school #238 of 300...\n",
      "Capturing website data for Broadway Academy, which is school #239 of 300...\n",
      "Capturing website data for The Classical Academy High School, which is school #240 of 300...\n",
      "Capturing website data for Stamford Academy, which is school #241 of 300...\n",
      "Capturing website data for Somerset Academy-Middle, Eagle Campus, which is school #242 of 300...\n",
      "Capturing website data for Arroyo Vista Charter, which is school #243 of 300...\n",
      "Capturing website data for Rincon Vista Middle School, which is school #244 of 300...\n",
      "Capturing website data for Pittman Charter, which is school #245 of 300...\n",
      "Capturing website data for Premier H S Of Pharr, which is school #246 of 300...\n",
      "Capturing website data for Premier H S Of New Braunfels, which is school #247 of 300...\n",
      "Capturing website data for Vista Academy Of Huntsville, which is school #248 of 300...\n",
      "Capturing website data for Vista Academy Of Dallas, which is school #249 of 300...\n",
      "Capturing website data for Roosevelt Children'S Academy Charter School, which is school #250 of 300...\n",
      "Capturing website data for Sand Ridge Charter School, which is school #251 of 300...\n",
      "Capturing website data for Pacific Heritage Academy, which is school #252 of 300...\n",
      "Capturing website data for Reid Traditional Schools' Painted Rock Academy, which is school #253 of 300...\n",
      "Capturing website data for Legacy Traditional School - Northwest Tucson, which is school #254 of 300...\n",
      "Capturing website data for Mott Hall Charter School, which is school #255 of 300...\n",
      "Capturing website data for Mid-Michigan Leadership Academy, which is school #256 of 300...\n",
      "Capturing website data for Marshall Lane Elementary, which is school #257 of 300...\n",
      "Capturing website data for Manitowoc County Comprehensive Charter School, which is school #258 of 300...\n",
      "Capturing website data for Longleaf School Of The Arts, which is school #259 of 300...\n",
      "Capturing website data for Lighthouse Academy-St. Johns, which is school #260 of 300...\n",
      "Capturing website data for Life Charter School, which is school #261 of 300...\n",
      "Capturing website data for Leadership Preparatory Academy, which is school #262 of 300...\n",
      "Capturing website data for La School For Ag Science, which is school #263 of 300...\n",
      "Capturing website data for Kipp Aspire Academy, which is school #264 of 300...\n",
      "Capturing website data for Kipp Generations Collegiate, which is school #265 of 300...\n",
      "Capturing website data for Kanu O Ka Aina - New Century Pcs, which is school #266 of 300...\n",
      "Capturing website data for Jamaa Learning Center, which is school #267 of 300...\n",
      "Capturing website data for Isucceed Virtual High School, which is school #268 of 300...\n",
      "Capturing website data for Innovations Academy, which is school #269 of 300...\n",
      "Capturing website data for Idea Charter School, which is school #270 of 300...\n",
      "Capturing website data for Harmony School Of Science - Houston, which is school #271 of 300...\n",
      "Capturing website data for Highland Free School, which is school #272 of 300...\n",
      "Capturing website data for Animo South Los Angeles Charter, which is school #273 of 300...\n",
      "Capturing website data for Gowan Science Academy, which is school #274 of 300...\n",
      "Capturing website data for Girls Preparatory Charter School Of The Bronx, which is school #275 of 300...\n",
      "Capturing website data for Gillingham Charter School, which is school #276 of 300...\n",
      "Capturing website data for Frederick Classical Charter School, which is school #277 of 300...\n",
      "Capturing website data for Joseph S. Clark Preparatory High School, which is school #278 of 300...\n",
      "Capturing website data for Arthur Ashe Charter School, which is school #279 of 300...\n",
      "Capturing website data for Excellence Boys Charter School Of Bedford Stuyvesa, which is school #280 of 300...\n",
      "Capturing website data for Evolution Academy Charter School, which is school #281 of 300...\n",
      "Capturing website data for Enlace Academy, which is school #282 of 300...\n",
      "Capturing website data for Ascend, which is school #283 of 300...\n",
      "Capturing website data for Democracy Prep Harlem Charter School, which is school #284 of 300...\n",
      "Capturing website data for Discovery Charter Preparatory No. 2, which is school #285 of 300...\n",
      "Capturing website data for Detroit Community Schools-High School, which is school #286 of 300...\n",
      "Capturing website data for Deming Cesar Chavez, which is school #287 of 300...\n",
      "Capturing website data for The Community Roots School, which is school #288 of 300...\n",
      "Capturing website data for Clear Horizons Early College H S, which is school #289 of 300...\n",
      "Capturing website data for Athlos Traditional Academy, which is school #290 of 300...\n",
      "Capturing website data for Franklin Academy F, which is school #291 of 300...\n",
      "Capturing website data for Baker Web Academy, which is school #292 of 300...\n",
      "Capturing website data for Aspire Vanguard College Preparatory Academy, which is school #293 of 300...\n",
      "Capturing website data for Aspire Eres Academy, which is school #294 of 300...\n",
      "Capturing website data for Benton County School Of Arts/Elem./Mid, which is school #295 of 300...\n",
      "Capturing website data for Plc Arts Academy At Scottsdale  Inc., which is school #296 of 300...\n",
      "Capturing website data for Woodburn Arthur Academy, which is school #297 of 300...\n",
      "Capturing website data for Arroyo Elementary School, which is school #298 of 300...\n",
      "Capturing website data for Academy Of Educational Excellence, which is school #299 of 300...\n",
      "Capturing website data for Academy Of Arts And Sciences: Thousand Oaks & Simi, which is school #300 of 300...\n"
     ]
    }
   ],
   "source": [
    "k=0 # initialize this numerical variable k, which keeps track of which entry in the sample we are on.\n",
    "for tup in tuple_list:\n",
    "    k += 1 # Add one to k, so we start with 1 and increase by 1 all the way up to entry # 300\n",
    "    print(\"Capturing website data for\", (tup[1].title()) + \", which is school #\" + str(k), \"of 300...\")\n",
    "    # use the tuple to create a name for the folder\n",
    "    if k < 10: # Add two zeros to the folder name if k is less than 10 (for ease of organizing the output folders)\n",
    "        dirname = \"00\" + str(k) + \" \" + (tup[1].title())\n",
    "    elif k < 100: # Add one zero if k is less than 100\n",
    "        dirname = \"0\" + str(k) + \" \" + (tup[1].title())\n",
    "    else: # Add nothing if k>100\n",
    "        dirname = str(k) + \" \" + (tup[1].title())\n",
    "    os.chdir('/hdir/0/jhaber/Documents/projects/charter_data/wget_sept8')  # cd into data directory--this is a/\n",
    "    # key step because otherwise wget puts the output into whatever folder it was previously in, can get real messy.\n",
    "    os.makedirs(dirname) # create the folder using the dirname we just made, then change into that directory\n",
    "    os.chdir(dirname)  # other options to think about for wget: --page-requisites --retry-connrefused --convert-links --wait=3\n",
    "    os.system('wget --no-parent --show-progress --progress=dot --recursive --level=3 --convert-links --retry-connrefused \\\n",
    "        --random-wait --no-cookies --secure-protocol=auto --no-check-certificate --execute robots=off \\\n",
    "        --user-agent=\"Mozilla/5.0 (X11; Ubuntu; Linux x86_64; rv:11.0) Gecko/20100101 Firefox/11.0\" \\\n",
    "        --reject .mov,.MOV,.avi,.AVI,.mpg,.MPG,.mpeg,.MPEG,.mp3,.MP3,.mp4,.MP4,.png,.PNG,.gif,.GIF,.jpg,.JPG,\\\n",
    "        .jpeg,.JPEG,.pdf,.PDF,.pdf_,.PDF_,.doc,.DOC,.docx,.DOCX,.xls,.XLS,.xlsx,.XLSX,.csv,.CSV,.ppt,.PPT,.pptx,.PPTX'\\\n",
    "              + ' ' + (tup[0]))"
   ]
  },
  {
   "cell_type": "markdown",
   "metadata": {},
   "source": [
    "## Troubleshooting wget: what if there's no directory hierarchy?\n",
    "Although it's not common practice, some sites have no directory hierarchy, and this makes it difficult to scrape them automatically. For instance, Chinook Montessori Charter School's home URL is 'http://www.k12northstar.org/chinook', and if you go to this site you'll find links to other website pages with URLs that are NOT nested within this home URL, e.g. 'http://www.k12northstar.org/Page/2684' and 'http://www.k12northstar.org/Page/2685'. \n",
    "\n",
    "Our problem with directory-less URL structures is that the coding strategy used above really depends on wget's \"recursive\" option, which scrapes the site you give it as well as all sites included within that. For instance, it would scrape not only www.school.com/ but also www.school.com/cafeteria and www.school.com/about_us. This won't work for sites with no directory hierarchy. It may be impossible to separate out the site pages for only the school of interest if the site directory includes multiple schools at a \"flat\" level with no hierarchy... But we won't know until we try!\n",
    "\n",
    "Let's look at coding an automated solution to deal with this problem. Thus far, I've only thought up a painstaking solution that involves feeding wget each site manually. Below is an example of that approach."
   ]
  },
  {
   "cell_type": "code",
   "execution_count": null,
   "metadata": {
    "collapsed": true
   },
   "outputs": [],
   "source": [
    "# Grabbing #142--a school that has no directory hierarchy in its website:\u001f\u001f\n",
    "os.chdir('/Users/Jaren/Dropbox/projects/Workshops_and_coding/charter_project/\\\n",
    "urls_extracted/142 Chinook Montessori Charter School')\n",
    "\n",
    "for url in ['http://www.k12northstar.org/chinook', 'http://www.k12northstar.org/site/Default.aspx?PageID=2678', \\\n",
    "'http://www.k12northstar.org/Page/2684', 'http://www.k12northstar.org/Page/2685', \\\n",
    "'http://www.k12northstar.org/Page/2686', 'http://www.k12northstar.org/Page/2683', \\\n",
    "'http://www.k12northstar.org/Page/2704']:\n",
    "    os.system('wget --no-parent --show-progress --progress=dot --convert-links \\\n",
    "        --no-cookies --secure-protocol=auto --no-check-certificate --execute robots=off \\\n",
    "        --user-agent=\"Mozilla/5.0 (X11; Ubuntu; Linux x86_64; rv:11.0) Gecko/20100101 Firefox/11.0\" \\\n",
    "        --reject .mov,.mpg,.mpeg,.mp3,.png,.gif,.jpg,.jpeg,.pdf,.pdf_,.doc,.xls,.xlsx,.csv,.ppt,.pptx' + ' ' + url)"
   ]
  }
 ],
 "metadata": {
  "kernelspec": {
   "display_name": "Python 3",
   "language": "python",
   "name": "python3"
  },
  "language_info": {
   "codemirror_mode": {
    "name": "ipython",
    "version": 3
   },
   "file_extension": ".py",
   "mimetype": "text/x-python",
   "name": "python",
   "nbconvert_exporter": "python",
   "pygments_lexer": "ipython3",
   "version": "3.5.2"
  }
 },
 "nbformat": 4,
 "nbformat_minor": 0
}
